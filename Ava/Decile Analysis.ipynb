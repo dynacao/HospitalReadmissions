{
 "cells": [
  {
   "cell_type": "code",
   "execution_count": 1,
   "metadata": {},
   "outputs": [],
   "source": [
    "# import modules\n",
    "import pandas as pd\n",
    "import numpy as np\n",
    "import seaborn as sns\n",
    "import matplotlib.pyplot as plt\n",
    "import warnings\n",
    "warnings.filterwarnings(\"ignore\")\n",
    "\n",
    "from sklearn.model_selection import train_test_split\n",
    "from sklearn.svm import SVC\n",
    "from sklearn.metrics import confusion_matrix\n",
    "from sklearn.feature_selection import SelectKBest, chi2, SelectFromModel, f_classif, mutual_info_classif\n",
    "from sklearn.preprocessing import LabelEncoder, OneHotEncoder, MinMaxScaler\n",
    "from sklearn.ensemble import RandomForestClassifier\n",
    "from sklearn.linear_model import LogisticRegression\n",
    "from sklearn.tree import DecisionTreeClassifier \n",
    "from sklearn.metrics import roc_auc_score\n",
    "from sklearn.metrics import accuracy_score, precision_score, recall_score, f1_score, make_scorer"
   ]
  },
  {
   "cell_type": "markdown",
   "metadata": {},
   "source": [
    "### 1. Cleaned Data"
   ]
  },
  {
   "cell_type": "markdown",
   "metadata": {},
   "source": [
    "#### 1.1. Load data and display setting"
   ]
  },
  {
   "cell_type": "code",
   "execution_count": 2,
   "metadata": {},
   "outputs": [],
   "source": [
    "pd.set_option('display.max_columns', None)"
   ]
  },
  {
   "cell_type": "code",
   "execution_count": 3,
   "metadata": {},
   "outputs": [],
   "source": [
    "data = pd.read_csv('data_top.csv')"
   ]
  },
  {
   "cell_type": "code",
   "execution_count": 4,
   "metadata": {},
   "outputs": [
    {
     "data": {
      "text/plain": [
       "(69970, 44)"
      ]
     },
     "execution_count": 4,
     "metadata": {},
     "output_type": "execute_result"
    }
   ],
   "source": [
    "data.shape"
   ]
  },
  {
   "cell_type": "markdown",
   "metadata": {},
   "source": [
    "## 3. Modeling"
   ]
  },
  {
   "cell_type": "markdown",
   "metadata": {},
   "source": [
    "### 3.1 Train, Test set split"
   ]
  },
  {
   "cell_type": "code",
   "execution_count": 5,
   "metadata": {},
   "outputs": [],
   "source": [
    "X = data.drop (['readmit_30d'], axis=1)\n",
    "y = data['readmit_30d']"
   ]
  },
  {
   "cell_type": "code",
   "execution_count": 6,
   "metadata": {},
   "outputs": [],
   "source": [
    "X_train, X_test, y_train, y_test = train_test_split(X, y, test_size=0.2, random_state=1, stratify=y)"
   ]
  },
  {
   "cell_type": "code",
   "execution_count": 7,
   "metadata": {
    "scrolled": true
   },
   "outputs": [
    {
     "data": {
      "text/plain": [
       "0    91.028298\n",
       "1     8.971702\n",
       "Name: readmit_30d, dtype: float64"
      ]
     },
     "execution_count": 7,
     "metadata": {},
     "output_type": "execute_result"
    }
   ],
   "source": [
    "y_train.value_counts() / len(y_train) * 100"
   ]
  },
  {
   "cell_type": "code",
   "execution_count": 8,
   "metadata": {},
   "outputs": [],
   "source": [
    "# ## standard scaler:: \n",
    "# from sklearn.preprocessing import StandardScaler\n",
    "# scaler = StandardScaler()\n",
    "# scaler.fit(X_train)\n",
    "# X_train_scaled = scaler.transform(X_train)\n",
    "# X_test_scaled = scaler.transform(X_test)"
   ]
  },
  {
   "cell_type": "markdown",
   "metadata": {},
   "source": [
    "### 3.2 Logistic regression modeling"
   ]
  },
  {
   "cell_type": "markdown",
   "metadata": {},
   "source": [
    "### 3.2.1 Logistic Regression Model Fitting"
   ]
  },
  {
   "cell_type": "code",
   "execution_count": 9,
   "metadata": {},
   "outputs": [
    {
     "data": {
      "text/plain": [
       "LogisticRegression(C=0.01, class_weight='balanced', random_state=1,\n",
       "                   solver='liblinear')"
      ]
     },
     "execution_count": 9,
     "metadata": {},
     "output_type": "execute_result"
    }
   ],
   "source": [
    "logistic = LogisticRegression(solver='liblinear',\n",
    "                              penalty='l2',\n",
    "                              C=0.01,\n",
    "                              random_state=1,\n",
    "                             class_weight = 'balanced')\n",
    "\n",
    "logistic.fit(X_train, y_train)"
   ]
  },
  {
   "cell_type": "code",
   "execution_count": 10,
   "metadata": {},
   "outputs": [],
   "source": [
    "from sklearn.linear_model import LogisticRegression\n",
    "y_pred = logistic.predict(X_test)"
   ]
  },
  {
   "cell_type": "code",
   "execution_count": 11,
   "metadata": {},
   "outputs": [
    {
     "data": {
      "text/plain": [
       "array([0.70005511, 0.49009429, 0.42729962, ..., 0.45128439, 0.59226766,\n",
       "       0.45795198])"
      ]
     },
     "execution_count": 11,
     "metadata": {},
     "output_type": "execute_result"
    }
   ],
   "source": [
    "logistic.predict_proba(X_test)[:,1]"
   ]
  },
  {
   "cell_type": "code",
   "execution_count": 12,
   "metadata": {},
   "outputs": [
    {
     "name": "stdout",
     "output_type": "stream",
     "text": [
      "[0.03857142857142857, 0.06647605432451752, 0.05003573981415296, 0.06285714285714286, 0.07076483202287348, 0.08220157255182273, 0.08357142857142857, 0.1093638313080772, 0.13867047891350964, 0.19428571428571428]\n",
      "[0.43009447922595334, 0.7412477324440623, 0.5579284007643479, 0.7008947068867388, 0.7890701667952921, 0.9165966583985715, 0.9318713716562322, 1.2194720759563604, 1.546258710689764, 2.1664018212862834]\n"
     ]
    }
   ],
   "source": [
    "predicted_probs = pd.Series(logistic.predict_proba(X_test)[:,1],index=X_test.index)\n",
    "bins = pd.qcut(predicted_probs.sort_values(),q=10,labels=range(1,11))\n",
    "results = []\n",
    "for i in range(1,11):\n",
    "    results.append(y_test[bins[bins==i].index])\n",
    "overall = y_test.sum()/len(y_test)\n",
    "print([(i.sum())/(len(i)) for i in results])\n",
    "print([(i.sum())/(len(i))/overall for i in results])"
   ]
  },
  {
   "cell_type": "code",
   "execution_count": 13,
   "metadata": {},
   "outputs": [
    {
     "name": "stdout",
     "output_type": "stream",
     "text": [
      "0.6022650942283282\n",
      "0.6087038610609762\n"
     ]
    }
   ],
   "source": [
    "train_pred= logistic.predict(X_train)\n",
    "test_pred = logistic.predict(X_test)\n",
    "\n",
    "print(roc_auc_score(y_train,train_pred))\n",
    "print(roc_auc_score(y_test,test_pred))"
   ]
  },
  {
   "cell_type": "code",
   "execution_count": 14,
   "metadata": {},
   "outputs": [],
   "source": [
    "y_proba = logistic.predict_proba(X_test)"
   ]
  },
  {
   "cell_type": "code",
   "execution_count": 15,
   "metadata": {},
   "outputs": [
    {
     "data": {
      "text/plain": [
       "array([[0.29994489, 0.70005511],\n",
       "       [0.50990571, 0.49009429],\n",
       "       [0.57270038, 0.42729962],\n",
       "       ...,\n",
       "       [0.54871561, 0.45128439],\n",
       "       [0.40773234, 0.59226766],\n",
       "       [0.54204802, 0.45795198]])"
      ]
     },
     "execution_count": 15,
     "metadata": {},
     "output_type": "execute_result"
    }
   ],
   "source": [
    "y_proba"
   ]
  },
  {
   "cell_type": "code",
   "execution_count": 16,
   "metadata": {},
   "outputs": [],
   "source": [
    "y_proba_ = y_proba[:,1]"
   ]
  },
  {
   "cell_type": "code",
   "execution_count": 17,
   "metadata": {},
   "outputs": [],
   "source": [
    "test = pd.DataFrame({ 'actual' : y_test, 'pred':y_proba_ })"
   ]
  },
  {
   "cell_type": "code",
   "execution_count": 18,
   "metadata": {},
   "outputs": [],
   "source": [
    "test = test.sort_values('pred')"
   ]
  },
  {
   "cell_type": "code",
   "execution_count": 19,
   "metadata": {},
   "outputs": [],
   "source": [
    "test['quantile'] = pd.qcut(predicted_probs.sort_values(),q=10,labels=range(1,11))"
   ]
  },
  {
   "cell_type": "code",
   "execution_count": 20,
   "metadata": {},
   "outputs": [
    {
     "data": {
      "text/html": [
       "<div>\n",
       "<style scoped>\n",
       "    .dataframe tbody tr th:only-of-type {\n",
       "        vertical-align: middle;\n",
       "    }\n",
       "\n",
       "    .dataframe tbody tr th {\n",
       "        vertical-align: top;\n",
       "    }\n",
       "\n",
       "    .dataframe thead th {\n",
       "        text-align: right;\n",
       "    }\n",
       "</style>\n",
       "<table border=\"1\" class=\"dataframe\">\n",
       "  <thead>\n",
       "    <tr style=\"text-align: right;\">\n",
       "      <th></th>\n",
       "      <th>actual</th>\n",
       "      <th>pred</th>\n",
       "      <th>quantile</th>\n",
       "    </tr>\n",
       "  </thead>\n",
       "  <tbody>\n",
       "    <tr>\n",
       "      <th>18640</th>\n",
       "      <td>0</td>\n",
       "      <td>0.222927</td>\n",
       "      <td>1</td>\n",
       "    </tr>\n",
       "    <tr>\n",
       "      <th>39396</th>\n",
       "      <td>0</td>\n",
       "      <td>0.231428</td>\n",
       "      <td>1</td>\n",
       "    </tr>\n",
       "    <tr>\n",
       "      <th>35384</th>\n",
       "      <td>0</td>\n",
       "      <td>0.235238</td>\n",
       "      <td>1</td>\n",
       "    </tr>\n",
       "    <tr>\n",
       "      <th>30987</th>\n",
       "      <td>0</td>\n",
       "      <td>0.243864</td>\n",
       "      <td>1</td>\n",
       "    </tr>\n",
       "    <tr>\n",
       "      <th>12638</th>\n",
       "      <td>0</td>\n",
       "      <td>0.244129</td>\n",
       "      <td>1</td>\n",
       "    </tr>\n",
       "    <tr>\n",
       "      <th>...</th>\n",
       "      <td>...</td>\n",
       "      <td>...</td>\n",
       "      <td>...</td>\n",
       "    </tr>\n",
       "    <tr>\n",
       "      <th>8355</th>\n",
       "      <td>0</td>\n",
       "      <td>0.964788</td>\n",
       "      <td>10</td>\n",
       "    </tr>\n",
       "    <tr>\n",
       "      <th>44611</th>\n",
       "      <td>0</td>\n",
       "      <td>0.966060</td>\n",
       "      <td>10</td>\n",
       "    </tr>\n",
       "    <tr>\n",
       "      <th>26370</th>\n",
       "      <td>0</td>\n",
       "      <td>0.968043</td>\n",
       "      <td>10</td>\n",
       "    </tr>\n",
       "    <tr>\n",
       "      <th>28087</th>\n",
       "      <td>1</td>\n",
       "      <td>0.973587</td>\n",
       "      <td>10</td>\n",
       "    </tr>\n",
       "    <tr>\n",
       "      <th>53091</th>\n",
       "      <td>1</td>\n",
       "      <td>0.981256</td>\n",
       "      <td>10</td>\n",
       "    </tr>\n",
       "  </tbody>\n",
       "</table>\n",
       "<p>13994 rows × 3 columns</p>\n",
       "</div>"
      ],
      "text/plain": [
       "       actual      pred quantile\n",
       "18640       0  0.222927        1\n",
       "39396       0  0.231428        1\n",
       "35384       0  0.235238        1\n",
       "30987       0  0.243864        1\n",
       "12638       0  0.244129        1\n",
       "...       ...       ...      ...\n",
       "8355        0  0.964788       10\n",
       "44611       0  0.966060       10\n",
       "26370       0  0.968043       10\n",
       "28087       1  0.973587       10\n",
       "53091       1  0.981256       10\n",
       "\n",
       "[13994 rows x 3 columns]"
      ]
     },
     "execution_count": 20,
     "metadata": {},
     "output_type": "execute_result"
    }
   ],
   "source": [
    "test"
   ]
  },
  {
   "cell_type": "code",
   "execution_count": 21,
   "metadata": {},
   "outputs": [],
   "source": [
    "temp = test.groupby('quantile').count()['actual']"
   ]
  },
  {
   "cell_type": "code",
   "execution_count": 22,
   "metadata": {},
   "outputs": [],
   "source": [
    "temp2 = test.groupby('quantile').sum()['actual'] "
   ]
  },
  {
   "cell_type": "code",
   "execution_count": 23,
   "metadata": {},
   "outputs": [],
   "source": [
    "temp3 = test.groupby('quantile').min()['pred']\n",
    "temp4 = test.groupby('quantile').max()['pred']\n",
    "temp5 = test.groupby('quantile').mean()['pred']"
   ]
  },
  {
   "cell_type": "code",
   "execution_count": 24,
   "metadata": {},
   "outputs": [],
   "source": [
    "final = pd.concat([temp,temp2,temp3,temp4,temp5],axis = 1)"
   ]
  },
  {
   "cell_type": "code",
   "execution_count": 25,
   "metadata": {},
   "outputs": [],
   "source": [
    "final.columns=['unique_patients','actual','min_pred','max_pred','average_pred']"
   ]
  },
  {
   "cell_type": "code",
   "execution_count": 26,
   "metadata": {},
   "outputs": [],
   "source": [
    "final['pct_disenrolled']=final['actual']/final['unique_patients']"
   ]
  },
  {
   "cell_type": "code",
   "execution_count": 27,
   "metadata": {},
   "outputs": [
    {
     "data": {
      "text/plain": [
       "0.08968129198227812"
      ]
     },
     "execution_count": 27,
     "metadata": {},
     "output_type": "execute_result"
    }
   ],
   "source": [
    "y_test.mean()"
   ]
  },
  {
   "cell_type": "code",
   "execution_count": 28,
   "metadata": {},
   "outputs": [
    {
     "data": {
      "text/html": [
       "<div>\n",
       "<style scoped>\n",
       "    .dataframe tbody tr th:only-of-type {\n",
       "        vertical-align: middle;\n",
       "    }\n",
       "\n",
       "    .dataframe tbody tr th {\n",
       "        vertical-align: top;\n",
       "    }\n",
       "\n",
       "    .dataframe thead th {\n",
       "        text-align: right;\n",
       "    }\n",
       "</style>\n",
       "<table border=\"1\" class=\"dataframe\">\n",
       "  <thead>\n",
       "    <tr style=\"text-align: right;\">\n",
       "      <th></th>\n",
       "      <th>unique_patients</th>\n",
       "      <th>actual</th>\n",
       "      <th>min_pred</th>\n",
       "      <th>max_pred</th>\n",
       "      <th>average_pred</th>\n",
       "      <th>pct_disenrolled</th>\n",
       "    </tr>\n",
       "    <tr>\n",
       "      <th>quantile</th>\n",
       "      <th></th>\n",
       "      <th></th>\n",
       "      <th></th>\n",
       "      <th></th>\n",
       "      <th></th>\n",
       "      <th></th>\n",
       "    </tr>\n",
       "  </thead>\n",
       "  <tbody>\n",
       "    <tr>\n",
       "      <th>1</th>\n",
       "      <td>1400</td>\n",
       "      <td>54</td>\n",
       "      <td>0.222927</td>\n",
       "      <td>0.358939</td>\n",
       "      <td>0.327169</td>\n",
       "      <td>0.038571</td>\n",
       "    </tr>\n",
       "    <tr>\n",
       "      <th>2</th>\n",
       "      <td>1399</td>\n",
       "      <td>93</td>\n",
       "      <td>0.358957</td>\n",
       "      <td>0.390386</td>\n",
       "      <td>0.375692</td>\n",
       "      <td>0.066476</td>\n",
       "    </tr>\n",
       "    <tr>\n",
       "      <th>3</th>\n",
       "      <td>1399</td>\n",
       "      <td>70</td>\n",
       "      <td>0.390435</td>\n",
       "      <td>0.413276</td>\n",
       "      <td>0.401828</td>\n",
       "      <td>0.050036</td>\n",
       "    </tr>\n",
       "    <tr>\n",
       "      <th>4</th>\n",
       "      <td>1400</td>\n",
       "      <td>88</td>\n",
       "      <td>0.413276</td>\n",
       "      <td>0.434385</td>\n",
       "      <td>0.424081</td>\n",
       "      <td>0.062857</td>\n",
       "    </tr>\n",
       "    <tr>\n",
       "      <th>5</th>\n",
       "      <td>1399</td>\n",
       "      <td>99</td>\n",
       "      <td>0.434395</td>\n",
       "      <td>0.456811</td>\n",
       "      <td>0.445685</td>\n",
       "      <td>0.070765</td>\n",
       "    </tr>\n",
       "    <tr>\n",
       "      <th>6</th>\n",
       "      <td>1399</td>\n",
       "      <td>115</td>\n",
       "      <td>0.456836</td>\n",
       "      <td>0.482724</td>\n",
       "      <td>0.469037</td>\n",
       "      <td>0.082202</td>\n",
       "    </tr>\n",
       "    <tr>\n",
       "      <th>7</th>\n",
       "      <td>1400</td>\n",
       "      <td>117</td>\n",
       "      <td>0.482736</td>\n",
       "      <td>0.516179</td>\n",
       "      <td>0.498733</td>\n",
       "      <td>0.083571</td>\n",
       "    </tr>\n",
       "    <tr>\n",
       "      <th>8</th>\n",
       "      <td>1399</td>\n",
       "      <td>153</td>\n",
       "      <td>0.516250</td>\n",
       "      <td>0.559305</td>\n",
       "      <td>0.536701</td>\n",
       "      <td>0.109364</td>\n",
       "    </tr>\n",
       "    <tr>\n",
       "      <th>9</th>\n",
       "      <td>1399</td>\n",
       "      <td>194</td>\n",
       "      <td>0.559336</td>\n",
       "      <td>0.622208</td>\n",
       "      <td>0.587467</td>\n",
       "      <td>0.138670</td>\n",
       "    </tr>\n",
       "    <tr>\n",
       "      <th>10</th>\n",
       "      <td>1400</td>\n",
       "      <td>272</td>\n",
       "      <td>0.622219</td>\n",
       "      <td>0.981256</td>\n",
       "      <td>0.698689</td>\n",
       "      <td>0.194286</td>\n",
       "    </tr>\n",
       "  </tbody>\n",
       "</table>\n",
       "</div>"
      ],
      "text/plain": [
       "          unique_patients  actual  min_pred  max_pred  average_pred  \\\n",
       "quantile                                                              \n",
       "1                    1400      54  0.222927  0.358939      0.327169   \n",
       "2                    1399      93  0.358957  0.390386      0.375692   \n",
       "3                    1399      70  0.390435  0.413276      0.401828   \n",
       "4                    1400      88  0.413276  0.434385      0.424081   \n",
       "5                    1399      99  0.434395  0.456811      0.445685   \n",
       "6                    1399     115  0.456836  0.482724      0.469037   \n",
       "7                    1400     117  0.482736  0.516179      0.498733   \n",
       "8                    1399     153  0.516250  0.559305      0.536701   \n",
       "9                    1399     194  0.559336  0.622208      0.587467   \n",
       "10                   1400     272  0.622219  0.981256      0.698689   \n",
       "\n",
       "          pct_disenrolled  \n",
       "quantile                   \n",
       "1                0.038571  \n",
       "2                0.066476  \n",
       "3                0.050036  \n",
       "4                0.062857  \n",
       "5                0.070765  \n",
       "6                0.082202  \n",
       "7                0.083571  \n",
       "8                0.109364  \n",
       "9                0.138670  \n",
       "10               0.194286  "
      ]
     },
     "execution_count": 28,
     "metadata": {},
     "output_type": "execute_result"
    }
   ],
   "source": [
    "final"
   ]
  },
  {
   "cell_type": "code",
   "execution_count": 29,
   "metadata": {},
   "outputs": [],
   "source": [
    "predicted_probs = pd.Series(logistic.predict_proba(X_test)[:,1],index=X_test.index)\n",
    "bins = pd.qcut(predicted_probs.sort_values(),q=10,labels=range(1,11))\n",
    "results = []\n",
    "for i in range(1,11):\n",
    "    results.append(y_test[bins[bins==i].index])"
   ]
  },
  {
   "cell_type": "code",
   "execution_count": 30,
   "metadata": {},
   "outputs": [
    {
     "data": {
      "text/plain": [
       "0.08968129198227812"
      ]
     },
     "execution_count": 30,
     "metadata": {},
     "output_type": "execute_result"
    }
   ],
   "source": [
    "overall = y_test.sum()/len(y_test)\n",
    "overall"
   ]
  },
  {
   "cell_type": "code",
   "execution_count": 31,
   "metadata": {},
   "outputs": [
    {
     "name": "stdout",
     "output_type": "stream",
     "text": [
      "[0.03857142857142857, 0.06647605432451752, 0.05003573981415296, 0.06285714285714286, 0.07076483202287348, 0.08220157255182273, 0.08357142857142857, 0.1093638313080772, 0.13867047891350964, 0.19428571428571428]\n",
      "[0.43009447922595334, 0.7412477324440623, 0.5579284007643479, 0.7008947068867388, 0.7890701667952921, 0.9165966583985715, 0.9318713716562322, 1.2194720759563604, 1.546258710689764, 2.1664018212862834]\n"
     ]
    }
   ],
   "source": [
    "print([(i.sum())/(len(i)) for i in results])\n",
    "print([(i.sum())/(len(i))/overall for i in results])"
   ]
  },
  {
   "cell_type": "code",
   "execution_count": 32,
   "metadata": {},
   "outputs": [],
   "source": [
    "lift_logistic  =[(i.sum())/(len(i))/overall for i in results]"
   ]
  },
  {
   "cell_type": "code",
   "execution_count": 33,
   "metadata": {},
   "outputs": [],
   "source": [
    "final['lift'] = lift_logistic "
   ]
  },
  {
   "cell_type": "code",
   "execution_count": 34,
   "metadata": {},
   "outputs": [
    {
     "data": {
      "text/html": [
       "<div>\n",
       "<style scoped>\n",
       "    .dataframe tbody tr th:only-of-type {\n",
       "        vertical-align: middle;\n",
       "    }\n",
       "\n",
       "    .dataframe tbody tr th {\n",
       "        vertical-align: top;\n",
       "    }\n",
       "\n",
       "    .dataframe thead th {\n",
       "        text-align: right;\n",
       "    }\n",
       "</style>\n",
       "<table border=\"1\" class=\"dataframe\">\n",
       "  <thead>\n",
       "    <tr style=\"text-align: right;\">\n",
       "      <th></th>\n",
       "      <th>unique_patients</th>\n",
       "      <th>actual</th>\n",
       "      <th>min_pred</th>\n",
       "      <th>max_pred</th>\n",
       "      <th>average_pred</th>\n",
       "      <th>pct_disenrolled</th>\n",
       "      <th>lift</th>\n",
       "    </tr>\n",
       "    <tr>\n",
       "      <th>quantile</th>\n",
       "      <th></th>\n",
       "      <th></th>\n",
       "      <th></th>\n",
       "      <th></th>\n",
       "      <th></th>\n",
       "      <th></th>\n",
       "      <th></th>\n",
       "    </tr>\n",
       "  </thead>\n",
       "  <tbody>\n",
       "    <tr>\n",
       "      <th>1</th>\n",
       "      <td>1400</td>\n",
       "      <td>54</td>\n",
       "      <td>0.222927</td>\n",
       "      <td>0.358939</td>\n",
       "      <td>0.327169</td>\n",
       "      <td>0.038571</td>\n",
       "      <td>0.430094</td>\n",
       "    </tr>\n",
       "    <tr>\n",
       "      <th>2</th>\n",
       "      <td>1399</td>\n",
       "      <td>93</td>\n",
       "      <td>0.358957</td>\n",
       "      <td>0.390386</td>\n",
       "      <td>0.375692</td>\n",
       "      <td>0.066476</td>\n",
       "      <td>0.741248</td>\n",
       "    </tr>\n",
       "    <tr>\n",
       "      <th>3</th>\n",
       "      <td>1399</td>\n",
       "      <td>70</td>\n",
       "      <td>0.390435</td>\n",
       "      <td>0.413276</td>\n",
       "      <td>0.401828</td>\n",
       "      <td>0.050036</td>\n",
       "      <td>0.557928</td>\n",
       "    </tr>\n",
       "    <tr>\n",
       "      <th>4</th>\n",
       "      <td>1400</td>\n",
       "      <td>88</td>\n",
       "      <td>0.413276</td>\n",
       "      <td>0.434385</td>\n",
       "      <td>0.424081</td>\n",
       "      <td>0.062857</td>\n",
       "      <td>0.700895</td>\n",
       "    </tr>\n",
       "    <tr>\n",
       "      <th>5</th>\n",
       "      <td>1399</td>\n",
       "      <td>99</td>\n",
       "      <td>0.434395</td>\n",
       "      <td>0.456811</td>\n",
       "      <td>0.445685</td>\n",
       "      <td>0.070765</td>\n",
       "      <td>0.789070</td>\n",
       "    </tr>\n",
       "    <tr>\n",
       "      <th>6</th>\n",
       "      <td>1399</td>\n",
       "      <td>115</td>\n",
       "      <td>0.456836</td>\n",
       "      <td>0.482724</td>\n",
       "      <td>0.469037</td>\n",
       "      <td>0.082202</td>\n",
       "      <td>0.916597</td>\n",
       "    </tr>\n",
       "    <tr>\n",
       "      <th>7</th>\n",
       "      <td>1400</td>\n",
       "      <td>117</td>\n",
       "      <td>0.482736</td>\n",
       "      <td>0.516179</td>\n",
       "      <td>0.498733</td>\n",
       "      <td>0.083571</td>\n",
       "      <td>0.931871</td>\n",
       "    </tr>\n",
       "    <tr>\n",
       "      <th>8</th>\n",
       "      <td>1399</td>\n",
       "      <td>153</td>\n",
       "      <td>0.516250</td>\n",
       "      <td>0.559305</td>\n",
       "      <td>0.536701</td>\n",
       "      <td>0.109364</td>\n",
       "      <td>1.219472</td>\n",
       "    </tr>\n",
       "    <tr>\n",
       "      <th>9</th>\n",
       "      <td>1399</td>\n",
       "      <td>194</td>\n",
       "      <td>0.559336</td>\n",
       "      <td>0.622208</td>\n",
       "      <td>0.587467</td>\n",
       "      <td>0.138670</td>\n",
       "      <td>1.546259</td>\n",
       "    </tr>\n",
       "    <tr>\n",
       "      <th>10</th>\n",
       "      <td>1400</td>\n",
       "      <td>272</td>\n",
       "      <td>0.622219</td>\n",
       "      <td>0.981256</td>\n",
       "      <td>0.698689</td>\n",
       "      <td>0.194286</td>\n",
       "      <td>2.166402</td>\n",
       "    </tr>\n",
       "  </tbody>\n",
       "</table>\n",
       "</div>"
      ],
      "text/plain": [
       "          unique_patients  actual  min_pred  max_pred  average_pred  \\\n",
       "quantile                                                              \n",
       "1                    1400      54  0.222927  0.358939      0.327169   \n",
       "2                    1399      93  0.358957  0.390386      0.375692   \n",
       "3                    1399      70  0.390435  0.413276      0.401828   \n",
       "4                    1400      88  0.413276  0.434385      0.424081   \n",
       "5                    1399      99  0.434395  0.456811      0.445685   \n",
       "6                    1399     115  0.456836  0.482724      0.469037   \n",
       "7                    1400     117  0.482736  0.516179      0.498733   \n",
       "8                    1399     153  0.516250  0.559305      0.536701   \n",
       "9                    1399     194  0.559336  0.622208      0.587467   \n",
       "10                   1400     272  0.622219  0.981256      0.698689   \n",
       "\n",
       "          pct_disenrolled      lift  \n",
       "quantile                             \n",
       "1                0.038571  0.430094  \n",
       "2                0.066476  0.741248  \n",
       "3                0.050036  0.557928  \n",
       "4                0.062857  0.700895  \n",
       "5                0.070765  0.789070  \n",
       "6                0.082202  0.916597  \n",
       "7                0.083571  0.931871  \n",
       "8                0.109364  1.219472  \n",
       "9                0.138670  1.546259  \n",
       "10               0.194286  2.166402  "
      ]
     },
     "execution_count": 34,
     "metadata": {},
     "output_type": "execute_result"
    }
   ],
   "source": [
    "final"
   ]
  },
  {
   "cell_type": "markdown",
   "metadata": {},
   "source": [
    "### 3.2.2 Dicision Tree decile analysis"
   ]
  },
  {
   "cell_type": "code",
   "execution_count": 35,
   "metadata": {},
   "outputs": [],
   "source": [
    "X = data.drop (['readmit_30d'], axis=1)\n",
    "y = data['readmit_30d']\n",
    "\n",
    "X_train, X_test, y_train, y_test = train_test_split(X, y, test_size=0.2, random_state=42, stratify=y)"
   ]
  },
  {
   "cell_type": "code",
   "execution_count": 36,
   "metadata": {},
   "outputs": [
    {
     "data": {
      "text/plain": [
       "DecisionTreeClassifier(class_weight='balanced', max_depth=7,\n",
       "                       min_samples_split=3, random_state=42)"
      ]
     },
     "execution_count": 36,
     "metadata": {},
     "output_type": "execute_result"
    }
   ],
   "source": [
    "tree = DecisionTreeClassifier(criterion='gini',\n",
    "                              max_depth= 7,\n",
    "                              min_samples_split = 3,\n",
    "                              random_state=42,\n",
    "                              class_weight='balanced')\n",
    "tree.fit(X_train, y_train)"
   ]
  },
  {
   "cell_type": "code",
   "execution_count": 37,
   "metadata": {},
   "outputs": [],
   "source": [
    "from sklearn.linear_model import LogisticRegression\n",
    "y_pred = tree.predict(X_test)"
   ]
  },
  {
   "cell_type": "code",
   "execution_count": 38,
   "metadata": {},
   "outputs": [],
   "source": [
    "y_proba = tree.predict_proba(X_test)"
   ]
  },
  {
   "cell_type": "code",
   "execution_count": null,
   "metadata": {},
   "outputs": [],
   "source": [
    "predicted_probs = pd.Series(tree.predict_proba(X_test)[:,1],\n",
    "                            index=X_test.index)\n",
    "bins = pd.qcut(predicted_probs.sort_values(),q=10,labels=range(1,11))\n",
    "results = []\n",
    "for i in range(1,11):\n",
    "    results.append(y_test[bins[bins==i].index])\n",
    "overall = y_test.sum()/len(y_test)\n",
    "print([(i.sum())/(len(i)) for i in results])\n",
    "print([(i.sum())/(len(i))/overall for i in results])\n",
    "\n",
    "overall = y_test.sum()/len(y_test)\n",
    "#print([(i.sum())/(len(i)) for i in results])\n",
    "#print([(i.sum())/(len(i))/overall for i in results])\n",
    "final = pd.DataFrame([[(i.sum())/(len(i)) for i in results],[(i.sum())/(len(i))/overall for i in results]]).T\n",
    "final.columns = ['% Rehospitalized','Lift']\n",
    "final.index = ['Decile 1','Decile 2','Decile 3','Decile 4','Decile 5','Decile 6','Decile 7','Decile 8','Decile 9','Decile 10']\n",
    "final"
   ]
  }
 ],
 "metadata": {
  "kernelspec": {
   "display_name": "Python 3",
   "language": "python",
   "name": "python3"
  },
  "language_info": {
   "codemirror_mode": {
    "name": "ipython",
    "version": 3
   },
   "file_extension": ".py",
   "mimetype": "text/x-python",
   "name": "python",
   "nbconvert_exporter": "python",
   "pygments_lexer": "ipython3",
   "version": "3.8.3"
  }
 },
 "nbformat": 4,
 "nbformat_minor": 4
}
