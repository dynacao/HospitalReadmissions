{
 "cells": [
  {
   "cell_type": "code",
   "execution_count": 1,
   "metadata": {},
   "outputs": [],
   "source": [
    "# import modules\n",
    "import pandas as pd\n",
    "import numpy as np\n",
    "import seaborn as sns\n",
    "import matplotlib.pyplot as plt\n",
    "import warnings\n",
    "warnings.filterwarnings(\"ignore\")\n",
    "\n",
    "from sklearn.model_selection import train_test_split\n",
    "from sklearn.svm import SVC\n",
    "from sklearn.metrics import confusion_matrix\n",
    "from sklearn.feature_selection import SelectKBest, chi2, SelectFromModel, f_classif, mutual_info_classif\n",
    "from sklearn.preprocessing import LabelEncoder, OneHotEncoder, MinMaxScaler\n",
    "from sklearn.ensemble import RandomForestClassifier\n",
    "from sklearn.linear_model import LogisticRegression\n",
    "from sklearn.tree import DecisionTreeClassifier \n",
    "from sklearn.model_selection import cross_validate \n",
    "from sklearn.pipeline import make_pipeline \n",
    "from sklearn.model_selection import learning_curve, validation_curve\n",
    "from sklearn.model_selection import GridSearchCV \n",
    "from sklearn.metrics import roc_auc_score\n",
    "from sklearn.metrics import accuracy_score, precision_score, recall_score, f1_score, make_scorer"
   ]
  },
  {
   "cell_type": "markdown",
   "metadata": {},
   "source": [
    "### 1. Cleaned Data"
   ]
  },
  {
   "cell_type": "markdown",
   "metadata": {},
   "source": [
    "#### 1.1. Load data and display setting"
   ]
  },
  {
   "cell_type": "code",
   "execution_count": 2,
   "metadata": {},
   "outputs": [],
   "source": [
    "diabetic = pd.read_csv('data.csv')"
   ]
  },
  {
   "cell_type": "code",
   "execution_count": 3,
   "metadata": {
    "scrolled": true
   },
   "outputs": [
    {
     "data": {
      "text/plain": [
       "(101766, 50)"
      ]
     },
     "execution_count": 3,
     "metadata": {},
     "output_type": "execute_result"
    }
   ],
   "source": [
    "diabetic.shape"
   ]
  },
  {
   "cell_type": "code",
   "execution_count": 4,
   "metadata": {},
   "outputs": [],
   "source": [
    "pd.set_option('display.max_columns', None)\n",
    "pd.set_option('display.max_rows', None)"
   ]
  },
  {
   "cell_type": "code",
   "execution_count": 5,
   "metadata": {},
   "outputs": [],
   "source": [
    "diabetic_df = diabetic.replace('?', np.nan)"
   ]
  },
  {
   "cell_type": "code",
   "execution_count": 6,
   "metadata": {},
   "outputs": [],
   "source": [
    "# keep only first encounter for every unique patient\n",
    "diabetic_df = diabetic_df.sort_values('encounter_id')\n",
    "diabetic_df.drop_duplicates(subset = ['patient_nbr'], keep = 'first', inplace = True)"
   ]
  },
  {
   "cell_type": "code",
   "execution_count": 7,
   "metadata": {},
   "outputs": [
    {
     "data": {
      "text/plain": [
       "(71518, 50)"
      ]
     },
     "execution_count": 7,
     "metadata": {},
     "output_type": "execute_result"
    }
   ],
   "source": [
    "diabetic_df.shape"
   ]
  },
  {
   "cell_type": "markdown",
   "metadata": {},
   "source": [
    "#### 1.2 Remove rows and coluns"
   ]
  },
  {
   "cell_type": "code",
   "execution_count": 8,
   "metadata": {},
   "outputs": [],
   "source": [
    "# remove expired or hospice-bound patients\n",
    "diabetic_df = diabetic_df[~diabetic_df['discharge_disposition_id'].isin([11,13,14,19,20,21])]"
   ]
  },
  {
   "cell_type": "code",
   "execution_count": 9,
   "metadata": {},
   "outputs": [],
   "source": [
    "# remove unknown-gender patients\n",
    "diabetic_df.drop(diabetic_df.loc[diabetic_df.gender=='Unknown/Invalid'].index,inplace=True)"
   ]
  },
  {
   "cell_type": "code",
   "execution_count": 10,
   "metadata": {},
   "outputs": [],
   "source": [
    "# remove encounter ID, patient NBR, weight, medical specialty, and payer code\n",
    "diabetic_df.drop(['encounter_id','patient_nbr','weight','medical_specialty','payer_code'],\\\n",
    "                 axis = 1, inplace = True)"
   ]
  },
  {
   "cell_type": "code",
   "execution_count": 13,
   "metadata": {},
   "outputs": [],
   "source": [
    "# discretize ID columns\n",
    "diabetic_df['admission_type_id'] = diabetic_df['admission_type_id'].astype('str')\n",
    "diabetic_df['admission_source_id'] = diabetic_df['admission_source_id'].astype('str')\n",
    "diabetic_df['discharge_disposition_id'] = diabetic_df['discharge_disposition_id'].astype('str')"
   ]
  },
  {
   "cell_type": "code",
   "execution_count": 14,
   "metadata": {
    "scrolled": true
   },
   "outputs": [
    {
     "data": {
      "text/plain": [
       "(69970, 45)"
      ]
     },
     "execution_count": 14,
     "metadata": {},
     "output_type": "execute_result"
    }
   ],
   "source": [
    "diabetic_df.shape"
   ]
  },
  {
   "cell_type": "markdown",
   "metadata": {},
   "source": [
    "### 2. Feature Engineering"
   ]
  },
  {
   "cell_type": "markdown",
   "metadata": {},
   "source": [
    "#### 2.1 Categorical to Numeric"
   ]
  },
  {
   "cell_type": "code",
   "execution_count": 15,
   "metadata": {},
   "outputs": [],
   "source": [
    "# binarize target variable: readmitted < 30 days or other\n",
    "diabetic_df['readmit_30d'] = (diabetic_df['readmitted'] == '<30')"
   ]
  },
  {
   "cell_type": "code",
   "execution_count": 16,
   "metadata": {},
   "outputs": [],
   "source": [
    "# convert age to a continuous variable\n",
    "diabetic_df['age_num'] = diabetic_df['age'].replace(\n",
    "    ['[0-10)','[10-20)','[20-30)','[30-40)','[40-50)','[50-60)','[60-70)','[70-80)','[80-90)','[90-100)'],\n",
    "    [0,10,20,30,40,50,60,70,80,90])"
   ]
  },
  {
   "cell_type": "markdown",
   "metadata": {},
   "source": [
    "#### 2.2 Diagnose Features"
   ]
  },
  {
   "cell_type": "code",
   "execution_count": 17,
   "metadata": {},
   "outputs": [],
   "source": [
    "# keep main disease class only\n",
    "diabetic_df['diag_1'] = diabetic_df['diag_1'].str.split('.', expand = True).drop(1, axis = 1)\n",
    "diabetic_df['diag_2'] = diabetic_df['diag_2'].str.split('.', expand = True).drop(1, axis = 1)\n",
    "diabetic_df['diag_3'] = diabetic_df['diag_3'].str.split('.', expand = True).drop(1, axis = 1)"
   ]
  },
  {
   "cell_type": "code",
   "execution_count": 18,
   "metadata": {},
   "outputs": [],
   "source": [
    "# create a binary variable for each diagnosis in diag_1,2, or 3 that has sample size >500\n",
    "count_1 = diabetic_df['diag_1'].value_counts()\n",
    "index_1 = count_1[count_1>=500].index.tolist()\n",
    "\n",
    "count_2 = diabetic_df['diag_2'].value_counts()\n",
    "index_2 = count_2[count_2>=500].index.tolist()\n",
    "\n",
    "count_3 = diabetic_df['diag_3'].value_counts()\n",
    "index_3 = count_3[count_3>=500].index.tolist()\n",
    "\n",
    "diagnoses = set(index_1 + index_2 + index_3)\n",
    "\n",
    "for d in diagnoses:\n",
    "    diabetic_df[d+'_diag'] = ((diabetic_df['diag_1']==d)|\n",
    "                              (diabetic_df['diag_2']==d)|\n",
    "                              (diabetic_df['diag_3']==d))"
   ]
  },
  {
   "cell_type": "markdown",
   "metadata": {},
   "source": [
    "#### 2.3  Medication Features"
   ]
  },
  {
   "cell_type": "code",
   "execution_count": 19,
   "metadata": {},
   "outputs": [],
   "source": [
    "# binarize medication features with minority classes > 500 samples: used/not used\n",
    "for col in ['metformin','repaglinide','glimepiride','glipizide', 'glyburide','pioglitazone',\n",
    "            'rosiglitazone','insulin']:\n",
    "    diabetic_df[col+'_used'] = np.where(diabetic_df[col]=='No', False, True)"
   ]
  },
  {
   "cell_type": "code",
   "execution_count": 20,
   "metadata": {},
   "outputs": [],
   "source": [
    "### 2.4 removing columns <500"
   ]
  },
  {
   "cell_type": "markdown",
   "metadata": {},
   "source": [
    "#### 2.4 finalizing dataset and dummifying categorical variables"
   ]
  },
  {
   "cell_type": "code",
   "execution_count": 21,
   "metadata": {},
   "outputs": [],
   "source": [
    "# remove features used to engineer new features\n",
    "diabetic_final = diabetic_df.drop(['age',\n",
    "                                   'diag_1','diag_2','diag_3',\n",
    "                                   'metformin','repaglinide','nateglinide','chlorpropamide','glimepiride',\n",
    "                                   'acetohexamide','glipizide','glyburide','tolbutamide','pioglitazone',\n",
    "                                   'rosiglitazone','acarbose','miglitol','troglitazone','tolazamide','examide',\n",
    "                                   'citoglipton','insulin','glyburide-metformin','glipizide-metformin',\n",
    "                                   'glimepiride-pioglitazone','metformin-rosiglitazone','metformin-pioglitazone',\n",
    "                                   'readmitted'],\n",
    "                                 axis = 1)"
   ]
  },
  {
   "cell_type": "markdown",
   "metadata": {},
   "source": [
    "#### 2.5 Export dataset"
   ]
  },
  {
   "cell_type": "code",
   "execution_count": 22,
   "metadata": {},
   "outputs": [
    {
     "data": {
      "text/plain": [
       "(69970, 119)"
      ]
     },
     "execution_count": 22,
     "metadata": {},
     "output_type": "execute_result"
    }
   ],
   "source": [
    "# dummify features\n",
    "diabetic_final = pd.get_dummies(diabetic_final, drop_first = True)\n",
    "diabetic_final.shape"
   ]
  },
  {
   "cell_type": "code",
   "execution_count": 25,
   "metadata": {},
   "outputs": [],
   "source": [
    "diabetic_final.to_csv('diabetic_model_set.csv',  index = False)"
   ]
  },
  {
   "cell_type": "markdown",
   "metadata": {},
   "source": [
    " _____________________________________________________________________________________\n"
   ]
  },
  {
   "cell_type": "code",
   "execution_count": 26,
   "metadata": {},
   "outputs": [],
   "source": [
    "data = pd.read_csv('diabetic_model_set.csv')"
   ]
  },
  {
   "cell_type": "code",
   "execution_count": 27,
   "metadata": {},
   "outputs": [],
   "source": [
    "data.drop(['admission_type_id_4',\n",
    " 'admission_type_id_7',\n",
    " 'admission_type_id_8',\n",
    " 'discharge_disposition_id_10',\n",
    " 'discharge_disposition_id_12',\n",
    " 'discharge_disposition_id_15',\n",
    " 'discharge_disposition_id_16',\n",
    " 'discharge_disposition_id_17',\n",
    " 'discharge_disposition_id_23',\n",
    " 'discharge_disposition_id_24',\n",
    " 'discharge_disposition_id_27',\n",
    " 'discharge_disposition_id_28',\n",
    " 'discharge_disposition_id_7',\n",
    " 'discharge_disposition_id_8',\n",
    " 'discharge_disposition_id_9',\n",
    " 'admission_source_id_10',\n",
    " 'admission_source_id_11',\n",
    " 'admission_source_id_13',\n",
    " 'admission_source_id_14',\n",
    " 'admission_source_id_20',\n",
    " 'admission_source_id_22',\n",
    " 'admission_source_id_25',\n",
    " 'admission_source_id_3',\n",
    " 'admission_source_id_8',\n",
    " 'admission_source_id_9'], axis = 1, inplace = True)"
   ]
  },
  {
   "cell_type": "code",
   "execution_count": 28,
   "metadata": {},
   "outputs": [],
   "source": [
    "diag_variables = ['996_diag', '820_diag',\n",
    "       '585_diag', '599_diag', '682_diag', '413_diag', '433_diag', '574_diag',\n",
    "       '296_diag', '411_diag', '584_diag', '486_diag', '496_diag', '440_diag',\n",
    "       '562_diag', '305_diag', '285_diag', 'V45_diag', '577_diag', '410_diag',\n",
    "       '414_diag', '560_diag', '780_diag', '278_diag', '722_diag', '38_diag',\n",
    "       '403_diag', '250_diag', '786_diag', '401_diag', '424_diag', 'V57_diag',\n",
    "       '276_diag', '435_diag', '427_diag', '715_diag', '518_diag', '272_diag',\n",
    "       '434_diag', '425_diag', '428_diag', '491_diag', '707_diag', '41_diag',\n",
    "       '493_diag']"
   ]
  },
  {
   "cell_type": "code",
   "execution_count": 29,
   "metadata": {},
   "outputs": [],
   "source": [
    "diag_dict = {False : 0, True:1}\n",
    "for diag_col in diag_variables:\n",
    "    data[diag_col].replace(diag_dict, inplace = True)"
   ]
  },
  {
   "cell_type": "code",
   "execution_count": 30,
   "metadata": {},
   "outputs": [],
   "source": [
    "med_variables = ['metformin_used', 'repaglinide_used', 'glimepiride_used',\n",
    "       'glipizide_used', 'glyburide_used', 'pioglitazone_used',\n",
    "       'rosiglitazone_used', 'insulin_used']\n",
    "med_dict = {False : 0, True:1}\n",
    "for med_col in med_variables:\n",
    "    data[med_col].replace(med_dict, inplace = True)"
   ]
  },
  {
   "cell_type": "code",
   "execution_count": 31,
   "metadata": {},
   "outputs": [],
   "source": [
    "readmitted_dict = {True : 1, False: 0}\n",
    "data.readmit_30d.replace(readmitted_dict, inplace = True)"
   ]
  },
  {
   "cell_type": "code",
   "execution_count": 32,
   "metadata": {},
   "outputs": [],
   "source": [
    "top_43_features = ['number_inpatient', 'discharge_disposition_id_22', 'time_in_hospital',\n",
    "       'discharge_disposition_id_3', 'age_num', 'num_medications',\n",
    "       'number_diagnoses', 'discharge_disposition_id_5', 'num_lab_procedures',\n",
    "       '434_diag', '786_diag', '403_diag', 'diabetesMed_Yes',\n",
    "       'number_emergency', '401_diag', 'discharge_disposition_id_2',\n",
    "       '428_diag', 'insulin_used', 'num_procedures', '440_diag', '707_diag',\n",
    "       '272_diag', 'number_outpatient', '820_diag', 'admission_type_id_3',\n",
    "       '278_diag', 'discharge_disposition_id_6', 'change_No', '414_diag',\n",
    "       'admission_source_id_7', 'race_Other', 'admission_type_id_6',\n",
    "       '250_diag', '305_diag', 'metformin_used', 'gender_Male', '722_diag',\n",
    "       'race_Caucasian', 'glipizide_used', 'admission_type_id_5',\n",
    "       'A1Cresult_None', '574_diag', 'pioglitazone_used']"
   ]
  },
  {
   "cell_type": "markdown",
   "metadata": {},
   "source": [
    "## 3. Modeling"
   ]
  },
  {
   "cell_type": "markdown",
   "metadata": {},
   "source": [
    "### 3.1 Train, Test set split"
   ]
  },
  {
   "cell_type": "code",
   "execution_count": 33,
   "metadata": {},
   "outputs": [],
   "source": [
    "X = data.drop (['readmit_30d'], axis=1)\n",
    "y = data['readmit_30d']"
   ]
  },
  {
   "cell_type": "code",
   "execution_count": 34,
   "metadata": {},
   "outputs": [],
   "source": [
    "X_train, X_test, y_train, y_test = train_test_split(X, y, test_size=0.2, random_state=42, stratify=y)"
   ]
  },
  {
   "cell_type": "code",
   "execution_count": 35,
   "metadata": {
    "scrolled": true
   },
   "outputs": [
    {
     "data": {
      "text/plain": [
       "0    91.028298\n",
       "1     8.971702\n",
       "Name: readmit_30d, dtype: float64"
      ]
     },
     "execution_count": 35,
     "metadata": {},
     "output_type": "execute_result"
    }
   ],
   "source": [
    "y_train.value_counts() / len(y_train) * 100"
   ]
  },
  {
   "cell_type": "code",
   "execution_count": null,
   "metadata": {},
   "outputs": [],
   "source": [
    "# ## standard scaler:: \n",
    "# from sklearn.preprocessing import StandardScaler\n",
    "# scaler = StandardScaler()\n",
    "# scaler.fit(X_train)\n",
    "# X_train_scaled = scaler.transform(X_train)\n",
    "# X_test_scaled = scaler.transform(X_test)"
   ]
  },
  {
   "cell_type": "markdown",
   "metadata": {},
   "source": [
    "### 3.2 Logistic regression modeling"
   ]
  },
  {
   "cell_type": "markdown",
   "metadata": {},
   "source": [
    "### 3.2.1 Logistic Regression Model Fitting"
   ]
  },
  {
   "cell_type": "code",
   "execution_count": 36,
   "metadata": {},
   "outputs": [],
   "source": [
    "feature_names = X_train.columns"
   ]
  },
  {
   "cell_type": "code",
   "execution_count": 37,
   "metadata": {},
   "outputs": [
    {
     "data": {
      "text/plain": [
       "LogisticRegression(C=0.01, class_weight='balanced', random_state=42,\n",
       "                   solver='liblinear')"
      ]
     },
     "execution_count": 37,
     "metadata": {},
     "output_type": "execute_result"
    }
   ],
   "source": [
    "logistic = LogisticRegression(solver='liblinear',\n",
    "                              penalty='l2',\n",
    "                              C=0.01,\n",
    "                              random_state=42,\n",
    "                             class_weight = 'balanced')\n",
    "\n",
    "logistic.fit(X_train, y_train)"
   ]
  },
  {
   "cell_type": "code",
   "execution_count": 38,
   "metadata": {},
   "outputs": [],
   "source": [
    "from sklearn.linear_model import LogisticRegression\n",
    "y_pred = logistic.predict(X_test)"
   ]
  },
  {
   "cell_type": "markdown",
   "metadata": {},
   "source": [
    "### 3.2.4 Grid Search"
   ]
  },
  {
   "cell_type": "code",
   "execution_count": 39,
   "metadata": {},
   "outputs": [
    {
     "name": "stdout",
     "output_type": "stream",
     "text": [
      "0.6270854760721004\n",
      "{'logisticregression__C': 0.1}\n"
     ]
    }
   ],
   "source": [
    "from sklearn.model_selection import cross_validate \n",
    "from sklearn.pipeline import make_pipeline \n",
    "from sklearn.model_selection import learning_curve, validation_curve\n",
    "from sklearn.model_selection import GridSearchCV \n",
    "pipe_logistic = make_pipeline(LogisticRegression(random_state=42))\n",
    "param_range = [0.01, 0.1, 1.0, 10, 100, 200] \n",
    "\n",
    "param_grid = [{'logisticregression__C': param_range}] \n",
    "\n",
    "gs = GridSearchCV(estimator=pipe_logistic,\n",
    "                  param_grid=param_grid, \n",
    "                  scoring='roc_auc', \n",
    "                  cv=5,\n",
    "                  n_jobs=-1)\n",
    "\n",
    "gs = gs.fit(X_train, y_train)\n",
    "\n",
    "print(gs.best_score_)\n",
    "print(gs.best_params_)"
   ]
  },
  {
   "cell_type": "code",
   "execution_count": 44,
   "metadata": {},
   "outputs": [],
   "source": [
    "from sklearn.metrics import roc_auc_score"
   ]
  },
  {
   "cell_type": "code",
   "execution_count": 45,
   "metadata": {},
   "outputs": [
    {
     "data": {
      "text/plain": [
       "0.6034815444243905"
      ]
     },
     "execution_count": 45,
     "metadata": {},
     "output_type": "execute_result"
    }
   ],
   "source": [
    "roc_auc_score(y_test, y_pred)"
   ]
  },
  {
   "cell_type": "code",
   "execution_count": 47,
   "metadata": {},
   "outputs": [
    {
     "name": "stdout",
     "output_type": "stream",
     "text": [
      "0.6331904760162949\n",
      "0.6138082101298863\n"
     ]
    }
   ],
   "source": [
    "print(gs.score(X_train, y_train)) \n",
    "print(gs.score(X_test, y_test)) "
   ]
  },
  {
   "cell_type": "markdown",
   "metadata": {},
   "source": [
    "### 3.2.2 Confusion Matrix"
   ]
  },
  {
   "cell_type": "code",
   "execution_count": 48,
   "metadata": {},
   "outputs": [
    {
     "data": {
      "text/html": [
       "<div>\n",
       "<style scoped>\n",
       "    .dataframe tbody tr th:only-of-type {\n",
       "        vertical-align: middle;\n",
       "    }\n",
       "\n",
       "    .dataframe tbody tr th {\n",
       "        vertical-align: top;\n",
       "    }\n",
       "\n",
       "    .dataframe thead th {\n",
       "        text-align: right;\n",
       "    }\n",
       "</style>\n",
       "<table border=\"1\" class=\"dataframe\">\n",
       "  <thead>\n",
       "    <tr style=\"text-align: right;\">\n",
       "      <th></th>\n",
       "      <th>Predict[0]</th>\n",
       "      <th>Predict[1]</th>\n",
       "    </tr>\n",
       "  </thead>\n",
       "  <tbody>\n",
       "    <tr>\n",
       "      <th>True[0]</th>\n",
       "      <td>8534</td>\n",
       "      <td>4205</td>\n",
       "    </tr>\n",
       "    <tr>\n",
       "      <th>True[1]</th>\n",
       "      <td>581</td>\n",
       "      <td>674</td>\n",
       "    </tr>\n",
       "  </tbody>\n",
       "</table>\n",
       "</div>"
      ],
      "text/plain": [
       "         Predict[0]  Predict[1]\n",
       "True[0]        8534        4205\n",
       "True[1]         581         674"
      ]
     },
     "execution_count": 48,
     "metadata": {},
     "output_type": "execute_result"
    }
   ],
   "source": [
    "from sklearn.metrics import accuracy_score, precision_score, recall_score, f1_score, make_scorer\n",
    "confmat = pd.DataFrame(confusion_matrix(y_test, y_pred),\n",
    "                      index=['True[0]','True[1]'],\n",
    "                      columns=['Predict[0]', 'Predict[1]'])\n",
    "confmat"
   ]
  },
  {
   "cell_type": "code",
   "execution_count": 49,
   "metadata": {},
   "outputs": [
    {
     "name": "stdout",
     "output_type": "stream",
     "text": [
      "accuracy_score: 0.658\n",
      "precision_score: 0.138\n",
      "recall_score: 0.537\n",
      "f1_score: 0.220\n"
     ]
    }
   ],
   "source": [
    "# from sklearn.metrics import classification_report\n",
    "# print(classification_report(y_test, y_pred))\n",
    "print('accuracy_score: %.3f' % accuracy_score(y_test, y_pred))\n",
    "print('precision_score: %.3f' % precision_score(y_true=y_test, y_pred=y_pred))\n",
    "print('recall_score: %.3f' % recall_score(y_true=y_test, y_pred=y_pred))\n",
    "print('f1_score: %.3f' % f1_score(y_true=y_test, y_pred=y_pred))"
   ]
  },
  {
   "cell_type": "markdown",
   "metadata": {},
   "source": [
    "### 3.2.3 precision - recall curve"
   ]
  },
  {
   "cell_type": "code",
   "execution_count": 50,
   "metadata": {},
   "outputs": [
    {
     "data": {
      "image/png": "[encoded data removed]",
      "text/plain": [
       "<Figure size 432x288 with 1 Axes>"
      ]
     },
     "metadata": {
      "needs_background": "light"
     },
     "output_type": "display_data"
    }
   ],
   "source": [
    "from sklearn.metrics import precision_recall_curve\n",
    "precision, recall, _ = precision_recall_curve(y_test, y_pred)\n",
    "\n",
    "plt.figure()\n",
    "plt.step(recall, precision, color = \"pink\", alpha = 0.3, where = 'post')\n",
    "plt.fill_between(recall, precision, step = 'post', alpha=0.5, color = \"pink\")\n",
    "plt.xlabel('recall')\n",
    "plt.ylabel('precision')\n",
    "plt.title('Precision-Recall curve');"
   ]
  },
  {
   "cell_type": "markdown",
   "metadata": {},
   "source": [
    "### 3.2.5  Logistic Regression — Feature Selection(RFECV)"
   ]
  },
  {
   "cell_type": "code",
   "execution_count": 51,
   "metadata": {},
   "outputs": [
    {
     "data": {
      "text/plain": [
       "RFECV(cv=5,\n",
       "      estimator=LogisticRegression(C=0.01, class_weight='balanced',\n",
       "                                   random_state=42, solver='liblinear'),\n",
       "      scoring='roc_auc')"
      ]
     },
     "execution_count": 51,
     "metadata": {},
     "output_type": "execute_result"
    }
   ],
   "source": [
    "from sklearn.feature_selection import RFECV\n",
    "rfecv = RFECV(estimator=logistic, step=1, cv= 5, scoring='roc_auc')\n",
    "rfecv.fit(X_train, y_train)"
   ]
  },
  {
   "cell_type": "code",
   "execution_count": 52,
   "metadata": {},
   "outputs": [
    {
     "data": {
      "image/png": "[encoded data removed]",
      "text/plain": [
       "<Figure size 432x288 with 1 Axes>"
      ]
     },
     "metadata": {
      "needs_background": "light"
     },
     "output_type": "display_data"
    }
   ],
   "source": [
    "# check  number of features which gives the maximum accuracy\n",
    "plt.figure()\n",
    "plt.title('Logistic Regression CV score vs Number of Features')\n",
    "plt.xlabel(\"Number of features selected\")\n",
    "plt.ylabel(\"Cross validation score (nb of correct classifications)\")\n",
    "plt.plot(range(1, len(rfecv.grid_scores_) + 1), rfecv.grid_scores_)\n",
    "plt.show()"
   ]
  },
  {
   "cell_type": "code",
   "execution_count": 53,
   "metadata": {},
   "outputs": [
    {
     "name": "stdout",
     "output_type": "stream",
     "text": [
      "Feature : time_in_hospital, Score 0.022\n",
      "Feature : num_lab_procedures, Score 0.002\n",
      "Feature : num_procedures, Score 0.002\n",
      "Feature : num_medications, Score -0.000\n",
      "Feature : number_outpatient, Score 0.001\n",
      "Feature : number_emergency, Score 0.142\n",
      "Feature : number_inpatient, Score 0.332\n",
      "Feature : number_diagnoses, Score 0.028\n",
      "Feature : age_num, Score 0.004\n",
      "Feature : 305_diag, Score -0.117\n",
      "Feature : 722_diag, Score -0.290\n",
      "Feature : 413_diag, Score -0.123\n",
      "Feature : 296_diag, Score 0.074\n",
      "Feature : 486_diag, Score -0.177\n",
      "Feature : 493_diag, Score -0.119\n",
      "Feature : 440_diag, Score 0.281\n",
      "Feature : 278_diag, Score -0.192\n",
      "Feature : 411_diag, Score 0.027\n",
      "Feature : 574_diag, Score -0.152\n",
      "Feature : 491_diag, Score -0.040\n",
      "Feature : 425_diag, Score 0.020\n",
      "Feature : 577_diag, Score 0.120\n",
      "Feature : 250_diag, Score 0.035\n",
      "Feature : 41_diag, Score -0.135\n",
      "Feature : 427_diag, Score -0.058\n",
      "Feature : 560_diag, Score 0.005\n",
      "Feature : 276_diag, Score -0.036\n",
      "Feature : 272_diag, Score -0.210\n",
      "Feature : 496_diag, Score 0.075\n",
      "Feature : 414_diag, Score -0.048\n",
      "Feature : 434_diag, Score 0.329\n",
      "Feature : 403_diag, Score 0.319\n",
      "Feature : V45_diag, Score -0.116\n",
      "Feature : 599_diag, Score -0.090\n",
      "Feature : V57_diag, Score -0.056\n",
      "Feature : 780_diag, Score -0.123\n",
      "Feature : 428_diag, Score 0.130\n",
      "Feature : 584_diag, Score 0.005\n",
      "Feature : 285_diag, Score -0.112\n",
      "Feature : 715_diag, Score -0.099\n",
      "Feature : 585_diag, Score -0.038\n",
      "Feature : 996_diag, Score 0.070\n",
      "Feature : 562_diag, Score 0.046\n",
      "Feature : 682_diag, Score -0.146\n",
      "Feature : 707_diag, Score 0.221\n",
      "Feature : 433_diag, Score 0.002\n",
      "Feature : 424_diag, Score -0.065\n",
      "Feature : 38_diag, Score -0.133\n",
      "Feature : 435_diag, Score -0.145\n",
      "Feature : 401_diag, Score -0.137\n",
      "Feature : 820_diag, Score 0.100\n",
      "Feature : 786_diag, Score -0.351\n",
      "Feature : 410_diag, Score 0.013\n",
      "Feature : 518_diag, Score -0.118\n",
      "Feature : metformin_used, Score -0.103\n",
      "Feature : repaglinide_used, Score 0.155\n",
      "Feature : glimepiride_used, Score -0.045\n",
      "Feature : glipizide_used, Score 0.069\n",
      "Feature : glyburide_used, Score -0.021\n",
      "Feature : pioglitazone_used, Score -0.127\n",
      "Feature : rosiglitazone_used, Score -0.015\n",
      "Feature : insulin_used, Score -0.012\n",
      "Feature : race_Asian, Score -0.006\n",
      "Feature : race_Caucasian, Score -0.002\n",
      "Feature : race_Hispanic, Score -0.093\n",
      "Feature : race_Other, Score -0.111\n",
      "Feature : gender_Male, Score 0.017\n",
      "Feature : admission_type_id_2, Score -0.048\n",
      "Feature : admission_type_id_3, Score -0.123\n",
      "Feature : admission_type_id_5, Score -0.041\n",
      "Feature : admission_type_id_6, Score 0.071\n",
      "Feature : discharge_disposition_id_18, Score 0.371\n",
      "Feature : discharge_disposition_id_2, Score 0.483\n",
      "Feature : discharge_disposition_id_22, Score 1.068\n",
      "Feature : discharge_disposition_id_25, Score -0.197\n",
      "Feature : discharge_disposition_id_3, Score 0.467\n",
      "Feature : discharge_disposition_id_4, Score 0.225\n",
      "Feature : discharge_disposition_id_5, Score 0.773\n",
      "Feature : discharge_disposition_id_6, Score 0.161\n",
      "Feature : admission_source_id_17, Score -0.231\n",
      "Feature : admission_source_id_2, Score -0.119\n",
      "Feature : admission_source_id_4, Score -0.218\n",
      "Feature : admission_source_id_5, Score -0.197\n",
      "Feature : admission_source_id_6, Score -0.097\n",
      "Feature : admission_source_id_7, Score -0.102\n",
      "Feature : max_glu_serum_>300, Score -0.045\n",
      "Feature : max_glu_serum_None, Score -0.316\n",
      "Feature : max_glu_serum_Norm, Score -0.064\n",
      "Feature : A1Cresult_>8, Score -0.084\n",
      "Feature : A1Cresult_None, Score 0.017\n",
      "Feature : A1Cresult_Norm, Score -0.023\n",
      "Feature : change_No, Score -0.060\n",
      "Feature : diabetesMed_Yes, Score 0.202\n"
     ]
    }
   ],
   "source": [
    "coef = logistic.coef_[0]\n",
    "for n,v in zip(feature_names, coef):\n",
    "    print('Feature : %s, Score %.3f' % (n,v))"
   ]
  },
  {
   "cell_type": "code",
   "execution_count": 54,
   "metadata": {},
   "outputs": [
    {
     "data": {
      "text/plain": [
       "<matplotlib.axes._subplots.AxesSubplot at 0x1684eedc2b0>"
      ]
     },
     "execution_count": 54,
     "metadata": {},
     "output_type": "execute_result"
    },
    {
     "data": {
      "image/png": "[encoded data removed]",
      "text/plain": [
       "<Figure size 720x1440 with 1 Axes>"
      ]
     },
     "metadata": {
      "needs_background": "light"
     },
     "output_type": "display_data"
    }
   ],
   "source": [
    "feature_coef = pd.DataFrame({'feature':feature_names,'coef':coef}).sort_values(by='coef')\n",
    "feature_coef.plot.barh(x= 'feature', y='coef',figsize = (10,20))"
   ]
  },
  {
   "cell_type": "markdown",
   "metadata": {},
   "source": [
    "### 3.3 Decision Tree modeling"
   ]
  },
  {
   "cell_type": "markdown",
   "metadata": {},
   "source": [
    "### 3.3.1 Decision Tree model Fitting"
   ]
  },
  {
   "cell_type": "code",
   "execution_count": 55,
   "metadata": {},
   "outputs": [],
   "source": [
    "X = data.drop (['readmit_30d'], axis=1)\n",
    "y = data['readmit_30d']\n",
    "X_train, X_test, y_train, y_test = train_test_split(X, y, test_size=0.2, random_state=42, stratify=y)"
   ]
  },
  {
   "cell_type": "code",
   "execution_count": 56,
   "metadata": {},
   "outputs": [
    {
     "data": {
      "text/plain": [
       "DecisionTreeClassifier(class_weight='balanced', max_depth=5, random_state=42)"
      ]
     },
     "execution_count": 56,
     "metadata": {},
     "output_type": "execute_result"
    }
   ],
   "source": [
    "tree = DecisionTreeClassifier(criterion='gini',\n",
    "                              max_depth= 5, \n",
    "                              random_state=42, \n",
    "                              class_weight='balanced')\n",
    "tree.fit(X_train, y_train)"
   ]
  },
  {
   "cell_type": "code",
   "execution_count": 57,
   "metadata": {},
   "outputs": [],
   "source": [
    "y_pred = tree.predict(X_test)"
   ]
  },
  {
   "cell_type": "markdown",
   "metadata": {},
   "source": [
    "#### 3.3.1.2  Grid Search"
   ]
  },
  {
   "cell_type": "code",
   "execution_count": 67,
   "metadata": {},
   "outputs": [
    {
     "name": "stdout",
     "output_type": "stream",
     "text": [
      "Best: 0.622579 using {'max_depth': 7, 'min_samples_leaf': 2, 'min_samples_split': 3}\n",
      "0.592972 (0.005163) with: {'max_depth': 3, 'min_samples_leaf': 1, 'min_samples_split': 3}\n",
      "0.592972 (0.005163) with: {'max_depth': 3, 'min_samples_leaf': 1, 'min_samples_split': 5}\n",
      "0.592972 (0.005163) with: {'max_depth': 3, 'min_samples_leaf': 1, 'min_samples_split': 10}\n",
      "0.592972 (0.005163) with: {'max_depth': 3, 'min_samples_leaf': 1, 'min_samples_split': 15}\n",
      "0.592972 (0.005163) with: {'max_depth': 3, 'min_samples_leaf': 2, 'min_samples_split': 3}\n",
      "0.592972 (0.005163) with: {'max_depth': 3, 'min_samples_leaf': 2, 'min_samples_split': 5}\n",
      "0.592972 (0.005163) with: {'max_depth': 3, 'min_samples_leaf': 2, 'min_samples_split': 10}\n",
      "0.592972 (0.005163) with: {'max_depth': 3, 'min_samples_leaf': 2, 'min_samples_split': 15}\n",
      "0.592972 (0.005163) with: {'max_depth': 3, 'min_samples_leaf': 5, 'min_samples_split': 3}\n",
      "0.592972 (0.005163) with: {'max_depth': 3, 'min_samples_leaf': 5, 'min_samples_split': 5}\n",
      "0.592972 (0.005163) with: {'max_depth': 3, 'min_samples_leaf': 5, 'min_samples_split': 10}\n",
      "0.592972 (0.005163) with: {'max_depth': 3, 'min_samples_leaf': 5, 'min_samples_split': 15}\n",
      "0.592962 (0.005063) with: {'max_depth': 3, 'min_samples_leaf': 10, 'min_samples_split': 3}\n",
      "0.592962 (0.005063) with: {'max_depth': 3, 'min_samples_leaf': 10, 'min_samples_split': 5}\n",
      "0.592962 (0.005063) with: {'max_depth': 3, 'min_samples_leaf': 10, 'min_samples_split': 10}\n",
      "0.592962 (0.005063) with: {'max_depth': 3, 'min_samples_leaf': 10, 'min_samples_split': 15}\n",
      "0.613610 (0.007475) with: {'max_depth': 5, 'min_samples_leaf': 1, 'min_samples_split': 3}\n",
      "0.613610 (0.007475) with: {'max_depth': 5, 'min_samples_leaf': 1, 'min_samples_split': 5}\n",
      "0.613610 (0.007475) with: {'max_depth': 5, 'min_samples_leaf': 1, 'min_samples_split': 10}\n",
      "0.613610 (0.007475) with: {'max_depth': 5, 'min_samples_leaf': 1, 'min_samples_split': 15}\n",
      "0.613610 (0.007475) with: {'max_depth': 5, 'min_samples_leaf': 2, 'min_samples_split': 3}\n",
      "0.613610 (0.007475) with: {'max_depth': 5, 'min_samples_leaf': 2, 'min_samples_split': 5}\n",
      "0.613610 (0.007475) with: {'max_depth': 5, 'min_samples_leaf': 2, 'min_samples_split': 10}\n",
      "0.613610 (0.007475) with: {'max_depth': 5, 'min_samples_leaf': 2, 'min_samples_split': 15}\n",
      "0.613774 (0.007739) with: {'max_depth': 5, 'min_samples_leaf': 5, 'min_samples_split': 3}\n",
      "0.613774 (0.007739) with: {'max_depth': 5, 'min_samples_leaf': 5, 'min_samples_split': 5}\n",
      "0.613774 (0.007739) with: {'max_depth': 5, 'min_samples_leaf': 5, 'min_samples_split': 10}\n",
      "0.613774 (0.007739) with: {'max_depth': 5, 'min_samples_leaf': 5, 'min_samples_split': 15}\n",
      "0.613095 (0.007398) with: {'max_depth': 5, 'min_samples_leaf': 10, 'min_samples_split': 3}\n",
      "0.613095 (0.007398) with: {'max_depth': 5, 'min_samples_leaf': 10, 'min_samples_split': 5}\n",
      "0.613095 (0.007398) with: {'max_depth': 5, 'min_samples_leaf': 10, 'min_samples_split': 10}\n",
      "0.613095 (0.007398) with: {'max_depth': 5, 'min_samples_leaf': 10, 'min_samples_split': 15}\n",
      "0.622442 (0.008026) with: {'max_depth': 7, 'min_samples_leaf': 1, 'min_samples_split': 3}\n",
      "0.622442 (0.008026) with: {'max_depth': 7, 'min_samples_leaf': 1, 'min_samples_split': 5}\n",
      "0.622033 (0.007954) with: {'max_depth': 7, 'min_samples_leaf': 1, 'min_samples_split': 10}\n",
      "0.622175 (0.007847) with: {'max_depth': 7, 'min_samples_leaf': 1, 'min_samples_split': 15}\n",
      "0.622579 (0.007829) with: {'max_depth': 7, 'min_samples_leaf': 2, 'min_samples_split': 3}\n",
      "0.622579 (0.007829) with: {'max_depth': 7, 'min_samples_leaf': 2, 'min_samples_split': 5}\n",
      "0.622209 (0.007750) with: {'max_depth': 7, 'min_samples_leaf': 2, 'min_samples_split': 10}\n",
      "0.622171 (0.007827) with: {'max_depth': 7, 'min_samples_leaf': 2, 'min_samples_split': 15}\n",
      "0.621935 (0.007454) with: {'max_depth': 7, 'min_samples_leaf': 5, 'min_samples_split': 3}\n",
      "0.621935 (0.007454) with: {'max_depth': 7, 'min_samples_leaf': 5, 'min_samples_split': 5}\n",
      "0.621935 (0.007454) with: {'max_depth': 7, 'min_samples_leaf': 5, 'min_samples_split': 10}\n",
      "0.621973 (0.007379) with: {'max_depth': 7, 'min_samples_leaf': 5, 'min_samples_split': 15}\n",
      "0.621895 (0.004296) with: {'max_depth': 7, 'min_samples_leaf': 10, 'min_samples_split': 3}\n",
      "0.621895 (0.004296) with: {'max_depth': 7, 'min_samples_leaf': 10, 'min_samples_split': 5}\n",
      "0.621895 (0.004296) with: {'max_depth': 7, 'min_samples_leaf': 10, 'min_samples_split': 10}\n",
      "0.621895 (0.004296) with: {'max_depth': 7, 'min_samples_leaf': 10, 'min_samples_split': 15}\n",
      "0.612232 (0.006136) with: {'max_depth': 9, 'min_samples_leaf': 1, 'min_samples_split': 3}\n",
      "0.612594 (0.006276) with: {'max_depth': 9, 'min_samples_leaf': 1, 'min_samples_split': 5}\n",
      "0.612926 (0.004745) with: {'max_depth': 9, 'min_samples_leaf': 1, 'min_samples_split': 10}\n",
      "0.613861 (0.005303) with: {'max_depth': 9, 'min_samples_leaf': 1, 'min_samples_split': 15}\n",
      "0.612272 (0.005579) with: {'max_depth': 9, 'min_samples_leaf': 2, 'min_samples_split': 3}\n",
      "0.612150 (0.005401) with: {'max_depth': 9, 'min_samples_leaf': 2, 'min_samples_split': 5}\n",
      "0.612328 (0.004680) with: {'max_depth': 9, 'min_samples_leaf': 2, 'min_samples_split': 10}\n",
      "0.613438 (0.005360) with: {'max_depth': 9, 'min_samples_leaf': 2, 'min_samples_split': 15}\n",
      "0.614249 (0.007159) with: {'max_depth': 9, 'min_samples_leaf': 5, 'min_samples_split': 3}\n",
      "0.614249 (0.007159) with: {'max_depth': 9, 'min_samples_leaf': 5, 'min_samples_split': 5}\n",
      "0.614249 (0.007159) with: {'max_depth': 9, 'min_samples_leaf': 5, 'min_samples_split': 10}\n",
      "0.615555 (0.007621) with: {'max_depth': 9, 'min_samples_leaf': 5, 'min_samples_split': 15}\n",
      "0.615631 (0.009956) with: {'max_depth': 9, 'min_samples_leaf': 10, 'min_samples_split': 3}\n",
      "0.615631 (0.009956) with: {'max_depth': 9, 'min_samples_leaf': 10, 'min_samples_split': 5}\n",
      "0.615631 (0.009956) with: {'max_depth': 9, 'min_samples_leaf': 10, 'min_samples_split': 10}\n",
      "0.615631 (0.009956) with: {'max_depth': 9, 'min_samples_leaf': 10, 'min_samples_split': 15}\n"
     ]
    }
   ],
   "source": [
    "from numpy import mean\n",
    "from sklearn.model_selection import RepeatedStratifiedKFold\n",
    "from sklearn.tree import DecisionTreeClassifier\n",
    "    \n",
    "params = {'max_depth': [3, 5, 7,9],\n",
    "          'min_samples_split' : [3, 5, 10, 15],\n",
    "          'min_samples_leaf' : [1, 2, 5, 10]}\n",
    "\n",
    "grid = GridSearchCV(estimator=tree, \n",
    "                    param_grid=params, \n",
    "                    n_jobs=1, \n",
    "                    cv= 5, \n",
    "                    scoring='roc_auc')\n",
    "grid_result = grid.fit(X_train, y_train)\n",
    "\n",
    "# report the best configuration\n",
    "print(\"Best: %f using %s\" % (grid_result.best_score_, grid_result.best_params_))\n",
    "\n",
    "# report all configurations\n",
    "means = grid_result.cv_results_['mean_test_score']\n",
    "stds = grid_result.cv_results_['std_test_score']\n",
    "params = grid_result.cv_results_['params']\n",
    "for mean, stdev, param in zip(means, stds, params):\n",
    "    print(\"%f (%f) with: %r\" % (mean, stdev, param))"
   ]
  },
  {
   "cell_type": "code",
   "execution_count": 69,
   "metadata": {},
   "outputs": [
    {
     "name": "stdout",
     "output_type": "stream",
     "text": [
      "0.6467207766613493\n",
      "0.6231590788897163\n"
     ]
    }
   ],
   "source": [
    "print(grid_result.score(X_train, y_train)) \n",
    "print(grid_result.score(X_test, y_test)) "
   ]
  },
  {
   "cell_type": "code",
   "execution_count": 70,
   "metadata": {},
   "outputs": [],
   "source": [
    "y_train_pred = grid_result.predict(X_train)"
   ]
  },
  {
   "cell_type": "code",
   "execution_count": 71,
   "metadata": {},
   "outputs": [],
   "source": [
    "y_test_pred = grid_result.predict(X_test)"
   ]
  },
  {
   "cell_type": "code",
   "execution_count": 72,
   "metadata": {},
   "outputs": [
    {
     "data": {
      "text/plain": [
       "0.6467207766613493"
      ]
     },
     "execution_count": 72,
     "metadata": {},
     "output_type": "execute_result"
    }
   ],
   "source": [
    "grid_result.score(X_train, y_train)"
   ]
  },
  {
   "cell_type": "code",
   "execution_count": 73,
   "metadata": {},
   "outputs": [
    {
     "data": {
      "text/plain": [
       "0.6231590788897163"
      ]
     },
     "execution_count": 73,
     "metadata": {},
     "output_type": "execute_result"
    }
   ],
   "source": [
    "grid_result.score(X_test, y_test)"
   ]
  },
  {
   "cell_type": "code",
   "execution_count": 74,
   "metadata": {},
   "outputs": [
    {
     "name": "stdout",
     "output_type": "stream",
     "text": [
      "0.604958088637338\n",
      "0.592885604923113\n"
     ]
    }
   ],
   "source": [
    "print(roc_auc_score(y_train, y_train_pred))\n",
    "print(roc_auc_score(y_test, y_test_pred))"
   ]
  },
  {
   "cell_type": "markdown",
   "metadata": {},
   "source": [
    "#### 3.3.1.3  Confusion Matrix"
   ]
  },
  {
   "cell_type": "code",
   "execution_count": 75,
   "metadata": {},
   "outputs": [
    {
     "data": {
      "text/html": [
       "<div>\n",
       "<style scoped>\n",
       "    .dataframe tbody tr th:only-of-type {\n",
       "        vertical-align: middle;\n",
       "    }\n",
       "\n",
       "    .dataframe tbody tr th {\n",
       "        vertical-align: top;\n",
       "    }\n",
       "\n",
       "    .dataframe thead th {\n",
       "        text-align: right;\n",
       "    }\n",
       "</style>\n",
       "<table border=\"1\" class=\"dataframe\">\n",
       "  <thead>\n",
       "    <tr style=\"text-align: right;\">\n",
       "      <th></th>\n",
       "      <th>Predict[0]</th>\n",
       "      <th>Predict[1]</th>\n",
       "    </tr>\n",
       "  </thead>\n",
       "  <tbody>\n",
       "    <tr>\n",
       "      <th>True[0]</th>\n",
       "      <td>9340</td>\n",
       "      <td>3399</td>\n",
       "    </tr>\n",
       "    <tr>\n",
       "      <th>True[1]</th>\n",
       "      <td>687</td>\n",
       "      <td>568</td>\n",
       "    </tr>\n",
       "  </tbody>\n",
       "</table>\n",
       "</div>"
      ],
      "text/plain": [
       "         Predict[0]  Predict[1]\n",
       "True[0]        9340        3399\n",
       "True[1]         687         568"
      ]
     },
     "execution_count": 75,
     "metadata": {},
     "output_type": "execute_result"
    }
   ],
   "source": [
    "confmat = pd.DataFrame(confusion_matrix(y_test, y_test_pred),\n",
    "                      index=['True[0]','True[1]'],\n",
    "                      columns=['Predict[0]', 'Predict[1]'])\n",
    "confmat"
   ]
  },
  {
   "cell_type": "code",
   "execution_count": 76,
   "metadata": {},
   "outputs": [
    {
     "name": "stdout",
     "output_type": "stream",
     "text": [
      "precision_score: 0.143\n",
      "recall_score: 0.453\n",
      "f1_score: 0.218\n",
      "roc_auc_score: 0.592885604923113\n"
     ]
    }
   ],
   "source": [
    "from sklearn.metrics import accuracy_score, precision_score, recall_score, f1_score, make_scorer\n",
    "print('precision_score: %.3f' % precision_score(y_true=y_test, y_pred=y_test_pred))\n",
    "print('recall_score: %.3f' % recall_score(y_true=y_test, y_pred=y_test_pred))\n",
    "print('f1_score: %.3f' % f1_score(y_true=y_test, y_pred=y_test_pred))\n",
    "print('roc_auc_score:',roc_auc_score(y_test, y_test_pred))"
   ]
  },
  {
   "cell_type": "markdown",
   "metadata": {},
   "source": [
    "### 3.3.1.4 precision recall curve"
   ]
  },
  {
   "cell_type": "code",
   "execution_count": 77,
   "metadata": {},
   "outputs": [
    {
     "data": {
      "image/png": "[encoded data removed]",
      "text/plain": [
       "<Figure size 432x288 with 1 Axes>"
      ]
     },
     "metadata": {
      "needs_background": "light"
     },
     "output_type": "display_data"
    }
   ],
   "source": [
    "from sklearn.metrics import precision_recall_curve\n",
    "precision, recall, _ = precision_recall_curve(y_test, y_test_pred)\n",
    "plt.figure()\n",
    "plt.step(recall, precision, color = \"pink\", alpha = 0.3, where = 'post')\n",
    "plt.fill_between(recall, precision, step = 'post', alpha=0.5, color = \"pink\")\n",
    "plt.xlabel('recall')\n",
    "plt.ylabel('precision')\n",
    "plt.title('Precision-Recall curve');"
   ]
  },
  {
   "cell_type": "markdown",
   "metadata": {},
   "source": [
    "### 3.3.1.5 featrre importance"
   ]
  },
  {
   "cell_type": "code",
   "execution_count": 78,
   "metadata": {},
   "outputs": [
    {
     "data": {
      "text/plain": [
       "array([2.46846411e-01, 1.69268591e-01, 8.10061222e-02, 2.93033998e-02,\n",
       "       2.62129726e-02, 5.11443736e-02, 1.43537549e-01, 2.72167792e-02,\n",
       "       6.96568695e-02, 2.21945844e-02, 1.94564849e-03, 1.65091166e-03,\n",
       "       8.77859597e-04, 0.00000000e+00, 2.57939678e-03, 3.22364906e-02,\n",
       "       9.78640099e-03, 3.00648256e-02, 9.22588559e-04, 0.00000000e+00,\n",
       "       3.03383333e-03, 6.67994456e-03, 1.12442096e-02, 0.00000000e+00,\n",
       "       7.44160024e-05, 4.59305504e-03, 0.00000000e+00, 0.00000000e+00,\n",
       "       0.00000000e+00, 0.00000000e+00, 0.00000000e+00, 0.00000000e+00,\n",
       "       3.61546961e-03, 1.93006378e-03, 1.12911175e-02, 0.00000000e+00,\n",
       "       0.00000000e+00, 0.00000000e+00, 0.00000000e+00, 5.25835735e-03,\n",
       "       5.82775824e-03, 0.00000000e+00, 0.00000000e+00])"
      ]
     },
     "execution_count": 78,
     "metadata": {},
     "output_type": "execute_result"
    }
   ],
   "source": [
    "grid.best_estimator_.feature_importances_"
   ]
  },
  {
   "cell_type": "code",
   "execution_count": 79,
   "metadata": {},
   "outputs": [
    {
     "data": {
      "image/png": "[encoded data removed]",
      "text/plain": [
       "<Figure size 720x576 with 1 Axes>"
      ]
     },
     "metadata": {
      "needs_background": "light"
     },
     "output_type": "display_data"
    }
   ],
   "source": [
    "ftr_importances_values = grid.best_estimator_.feature_importances_\n",
    "ftr_importances = pd.Series(ftr_importances_values, index=X_train.columns)\n",
    "ftr_sort = ftr_importances.sort_values(ascending=False)\n",
    "plt.figure(figsize=(10,8))\n",
    "plt.title('Feature importances Top 20')\n",
    "sns.barplot(x=ftr_sort , y = ftr_sort.index)\n",
    "plt.show()"
   ]
  },
  {
   "cell_type": "code",
   "execution_count": 82,
   "metadata": {},
   "outputs": [],
   "source": [
    "feature_importances = pd.DataFrame(grid.best_estimator_.feature_importances_,\n",
    "                                   index = X_train.columns,\n",
    "                                    columns=['importance']).sort_values('importance', ascending=False)"
   ]
  },
  {
   "cell_type": "code",
   "execution_count": 81,
   "metadata": {},
   "outputs": [
    {
     "data": {
      "text/html": [
       "<div>\n",
       "<style scoped>\n",
       "    .dataframe tbody tr th:only-of-type {\n",
       "        vertical-align: middle;\n",
       "    }\n",
       "\n",
       "    .dataframe tbody tr th {\n",
       "        vertical-align: top;\n",
       "    }\n",
       "\n",
       "    .dataframe thead th {\n",
       "        text-align: right;\n",
       "    }\n",
       "</style>\n",
       "<table border=\"1\" class=\"dataframe\">\n",
       "  <thead>\n",
       "    <tr style=\"text-align: right;\">\n",
       "      <th></th>\n",
       "      <th>importance</th>\n",
       "    </tr>\n",
       "  </thead>\n",
       "  <tbody>\n",
       "    <tr>\n",
       "      <th>number_inpatient</th>\n",
       "      <td>0.246846</td>\n",
       "    </tr>\n",
       "    <tr>\n",
       "      <th>discharge_disposition_id_22</th>\n",
       "      <td>0.169269</td>\n",
       "    </tr>\n",
       "    <tr>\n",
       "      <th>discharge_disposition_id_3</th>\n",
       "      <td>0.143538</td>\n",
       "    </tr>\n",
       "    <tr>\n",
       "      <th>time_in_hospital</th>\n",
       "      <td>0.081006</td>\n",
       "    </tr>\n",
       "    <tr>\n",
       "      <th>discharge_disposition_id_5</th>\n",
       "      <td>0.069657</td>\n",
       "    </tr>\n",
       "    <tr>\n",
       "      <th>age_num</th>\n",
       "      <td>0.051144</td>\n",
       "    </tr>\n",
       "    <tr>\n",
       "      <th>diabetesMed_Yes</th>\n",
       "      <td>0.032236</td>\n",
       "    </tr>\n",
       "    <tr>\n",
       "      <th>discharge_disposition_id_2</th>\n",
       "      <td>0.030065</td>\n",
       "    </tr>\n",
       "    <tr>\n",
       "      <th>num_lab_procedures</th>\n",
       "      <td>0.029303</td>\n",
       "    </tr>\n",
       "    <tr>\n",
       "      <th>number_diagnoses</th>\n",
       "      <td>0.027217</td>\n",
       "    </tr>\n",
       "    <tr>\n",
       "      <th>num_medications</th>\n",
       "      <td>0.026213</td>\n",
       "    </tr>\n",
       "    <tr>\n",
       "      <th>num_procedures</th>\n",
       "      <td>0.022195</td>\n",
       "    </tr>\n",
       "    <tr>\n",
       "      <th>admission_type_id_6</th>\n",
       "      <td>0.011291</td>\n",
       "    </tr>\n",
       "    <tr>\n",
       "      <th>race_Caucasian</th>\n",
       "      <td>0.011244</td>\n",
       "    </tr>\n",
       "    <tr>\n",
       "      <th>403_diag</th>\n",
       "      <td>0.009786</td>\n",
       "    </tr>\n",
       "    <tr>\n",
       "      <th>250_diag</th>\n",
       "      <td>0.006680</td>\n",
       "    </tr>\n",
       "    <tr>\n",
       "      <th>427_diag</th>\n",
       "      <td>0.005828</td>\n",
       "    </tr>\n",
       "    <tr>\n",
       "      <th>max_glu_serum_None</th>\n",
       "      <td>0.005258</td>\n",
       "    </tr>\n",
       "    <tr>\n",
       "      <th>414_diag</th>\n",
       "      <td>0.004593</td>\n",
       "    </tr>\n",
       "    <tr>\n",
       "      <th>admission_type_id_2</th>\n",
       "      <td>0.003615</td>\n",
       "    </tr>\n",
       "    <tr>\n",
       "      <th>admission_source_id_7</th>\n",
       "      <td>0.003034</td>\n",
       "    </tr>\n",
       "    <tr>\n",
       "      <th>number_outpatient</th>\n",
       "      <td>0.002579</td>\n",
       "    </tr>\n",
       "    <tr>\n",
       "      <th>number_emergency</th>\n",
       "      <td>0.001946</td>\n",
       "    </tr>\n",
       "    <tr>\n",
       "      <th>A1Cresult_None</th>\n",
       "      <td>0.001930</td>\n",
       "    </tr>\n",
       "    <tr>\n",
       "      <th>786_diag</th>\n",
       "      <td>0.001651</td>\n",
       "    </tr>\n",
       "    <tr>\n",
       "      <th>401_diag</th>\n",
       "      <td>0.000923</td>\n",
       "    </tr>\n",
       "    <tr>\n",
       "      <th>434_diag</th>\n",
       "      <td>0.000878</td>\n",
       "    </tr>\n",
       "    <tr>\n",
       "      <th>change_No</th>\n",
       "      <td>0.000074</td>\n",
       "    </tr>\n",
       "    <tr>\n",
       "      <th>A1Cresult_&gt;8</th>\n",
       "      <td>0.000000</td>\n",
       "    </tr>\n",
       "    <tr>\n",
       "      <th>glyburide_used</th>\n",
       "      <td>0.000000</td>\n",
       "    </tr>\n",
       "    <tr>\n",
       "      <th>admission_type_id_5</th>\n",
       "      <td>0.000000</td>\n",
       "    </tr>\n",
       "    <tr>\n",
       "      <th>440_diag</th>\n",
       "      <td>0.000000</td>\n",
       "    </tr>\n",
       "    <tr>\n",
       "      <th>276_diag</th>\n",
       "      <td>0.000000</td>\n",
       "    </tr>\n",
       "    <tr>\n",
       "      <th>820_diag</th>\n",
       "      <td>0.000000</td>\n",
       "    </tr>\n",
       "    <tr>\n",
       "      <th>707_diag</th>\n",
       "      <td>0.000000</td>\n",
       "    </tr>\n",
       "    <tr>\n",
       "      <th>metformin_used</th>\n",
       "      <td>0.000000</td>\n",
       "    </tr>\n",
       "    <tr>\n",
       "      <th>428_diag</th>\n",
       "      <td>0.000000</td>\n",
       "    </tr>\n",
       "    <tr>\n",
       "      <th>discharge_disposition_id_6</th>\n",
       "      <td>0.000000</td>\n",
       "    </tr>\n",
       "    <tr>\n",
       "      <th>glipizide_used</th>\n",
       "      <td>0.000000</td>\n",
       "    </tr>\n",
       "    <tr>\n",
       "      <th>admission_type_id_3</th>\n",
       "      <td>0.000000</td>\n",
       "    </tr>\n",
       "    <tr>\n",
       "      <th>gender_Male</th>\n",
       "      <td>0.000000</td>\n",
       "    </tr>\n",
       "    <tr>\n",
       "      <th>insulin_used</th>\n",
       "      <td>0.000000</td>\n",
       "    </tr>\n",
       "    <tr>\n",
       "      <th>599_diag</th>\n",
       "      <td>0.000000</td>\n",
       "    </tr>\n",
       "  </tbody>\n",
       "</table>\n",
       "</div>"
      ],
      "text/plain": [
       "                             importance\n",
       "number_inpatient               0.246846\n",
       "discharge_disposition_id_22    0.169269\n",
       "discharge_disposition_id_3     0.143538\n",
       "time_in_hospital               0.081006\n",
       "discharge_disposition_id_5     0.069657\n",
       "age_num                        0.051144\n",
       "diabetesMed_Yes                0.032236\n",
       "discharge_disposition_id_2     0.030065\n",
       "num_lab_procedures             0.029303\n",
       "number_diagnoses               0.027217\n",
       "num_medications                0.026213\n",
       "num_procedures                 0.022195\n",
       "admission_type_id_6            0.011291\n",
       "race_Caucasian                 0.011244\n",
       "403_diag                       0.009786\n",
       "250_diag                       0.006680\n",
       "427_diag                       0.005828\n",
       "max_glu_serum_None             0.005258\n",
       "414_diag                       0.004593\n",
       "admission_type_id_2            0.003615\n",
       "admission_source_id_7          0.003034\n",
       "number_outpatient              0.002579\n",
       "number_emergency               0.001946\n",
       "A1Cresult_None                 0.001930\n",
       "786_diag                       0.001651\n",
       "401_diag                       0.000923\n",
       "434_diag                       0.000878\n",
       "change_No                      0.000074\n",
       "A1Cresult_>8                   0.000000\n",
       "glyburide_used                 0.000000\n",
       "admission_type_id_5            0.000000\n",
       "440_diag                       0.000000\n",
       "276_diag                       0.000000\n",
       "820_diag                       0.000000\n",
       "707_diag                       0.000000\n",
       "metformin_used                 0.000000\n",
       "428_diag                       0.000000\n",
       "discharge_disposition_id_6     0.000000\n",
       "glipizide_used                 0.000000\n",
       "admission_type_id_3            0.000000\n",
       "gender_Male                    0.000000\n",
       "insulin_used                   0.000000\n",
       "599_diag                       0.000000"
      ]
     },
     "execution_count": 81,
     "metadata": {},
     "output_type": "execute_result"
    }
   ],
   "source": [
    "feature_importances"
   ]
  },
  {
   "cell_type": "markdown",
   "metadata": {},
   "source": [
    "### 3.3.2 Tree model : fit top 43 Feautres"
   ]
  },
  {
   "cell_type": "markdown",
   "metadata": {},
   "source": [
    "### 3.3.2.1 top 43 features"
   ]
  },
  {
   "cell_type": "code",
   "execution_count": 61,
   "metadata": {},
   "outputs": [],
   "source": [
    "top_43_features = ['number_inpatient', 'discharge_disposition_id_22', 'time_in_hospital',\n",
    "       'num_lab_procedures', 'num_medications', 'age_num',\n",
    "       'discharge_disposition_id_3', 'number_diagnoses',\n",
    "       'discharge_disposition_id_5', 'num_procedures', 'number_emergency',\n",
    "       '786_diag', '434_diag', '428_diag', 'number_outpatient',\n",
    "       'diabetesMed_Yes', '403_diag', 'discharge_disposition_id_2', '401_diag',\n",
    "       'insulin_used', 'admission_source_id_7', '250_diag', 'race_Caucasian',\n",
    "       'gender_Male', 'change_No', '414_diag', 'admission_type_id_3',\n",
    "       'glipizide_used', 'discharge_disposition_id_6', '820_diag',\n",
    "       'metformin_used', '707_diag', 'admission_type_id_2', 'A1Cresult_None',\n",
    "       'admission_type_id_6', '276_diag', '440_diag', 'admission_type_id_5',\n",
    "       'glyburide_used', 'max_glu_serum_None', '427_diag', 'A1Cresult_>8',\n",
    "       '599_diag']"
   ]
  },
  {
   "cell_type": "markdown",
   "metadata": {},
   "source": [
    "### 3.3.2.2  train/test set split"
   ]
  },
  {
   "cell_type": "code",
   "execution_count": 62,
   "metadata": {},
   "outputs": [],
   "source": [
    "X = data[top_43_features]\n",
    "y= data['readmit_30d']"
   ]
  },
  {
   "cell_type": "code",
   "execution_count": 63,
   "metadata": {},
   "outputs": [],
   "source": [
    "X_train, X_test, y_train, y_test = train_test_split(X, y, test_size=0.2, random_state=42, stratify=y)"
   ]
  },
  {
   "cell_type": "markdown",
   "metadata": {},
   "source": [
    "### 3.3.2.3 : decision tree"
   ]
  },
  {
   "cell_type": "code",
   "execution_count": 85,
   "metadata": {},
   "outputs": [
    {
     "data": {
      "text/plain": [
       "DecisionTreeClassifier(class_weight='balanced', max_depth=5, random_state=42)"
      ]
     },
     "execution_count": 85,
     "metadata": {},
     "output_type": "execute_result"
    }
   ],
   "source": [
    "tree = DecisionTreeClassifier(criterion='gini',\n",
    "                              max_depth= 5, \n",
    "                              random_state=42,\n",
    "                              class_weight='balanced')\n",
    "tree.fit(X_train, y_train)"
   ]
  },
  {
   "cell_type": "code",
   "execution_count": 86,
   "metadata": {},
   "outputs": [],
   "source": [
    "y_pred = tree.predict(X_test)"
   ]
  },
  {
   "cell_type": "code",
   "execution_count": 87,
   "metadata": {},
   "outputs": [
    {
     "data": {
      "image/png": "[encoded data removed]",
      "text/plain": [
       "<Figure size 1440x1440 with 1 Axes>"
      ]
     },
     "metadata": {
      "needs_background": "light"
     },
     "output_type": "display_data"
    }
   ],
   "source": [
    "from sklearn.tree import plot_tree\n",
    "# feature_names=X.column.tolist()\n",
    "plt.figure(figsize=(20,20))\n",
    "plot_tree(tree, feature_names=X_train.columns, fontsize=14)\n",
    "plt.show()"
   ]
  },
  {
   "cell_type": "markdown",
   "metadata": {},
   "source": [
    "### 3.3.2.4 Grid Search"
   ]
  },
  {
   "cell_type": "code",
   "execution_count": 88,
   "metadata": {},
   "outputs": [
    {
     "name": "stdout",
     "output_type": "stream",
     "text": [
      "Best: 0.622579 using {'max_depth': 7, 'min_samples_leaf': 2, 'min_samples_split': 3}\n",
      "0.592972 (0.005163) with: {'max_depth': 3, 'min_samples_leaf': 1, 'min_samples_split': 3}\n",
      "0.592972 (0.005163) with: {'max_depth': 3, 'min_samples_leaf': 1, 'min_samples_split': 5}\n",
      "0.592972 (0.005163) with: {'max_depth': 3, 'min_samples_leaf': 1, 'min_samples_split': 10}\n",
      "0.592972 (0.005163) with: {'max_depth': 3, 'min_samples_leaf': 1, 'min_samples_split': 15}\n",
      "0.592972 (0.005163) with: {'max_depth': 3, 'min_samples_leaf': 2, 'min_samples_split': 3}\n",
      "0.592972 (0.005163) with: {'max_depth': 3, 'min_samples_leaf': 2, 'min_samples_split': 5}\n",
      "0.592972 (0.005163) with: {'max_depth': 3, 'min_samples_leaf': 2, 'min_samples_split': 10}\n",
      "0.592972 (0.005163) with: {'max_depth': 3, 'min_samples_leaf': 2, 'min_samples_split': 15}\n",
      "0.592972 (0.005163) with: {'max_depth': 3, 'min_samples_leaf': 3, 'min_samples_split': 3}\n",
      "0.592972 (0.005163) with: {'max_depth': 3, 'min_samples_leaf': 3, 'min_samples_split': 5}\n",
      "0.592972 (0.005163) with: {'max_depth': 3, 'min_samples_leaf': 3, 'min_samples_split': 10}\n",
      "0.592972 (0.005163) with: {'max_depth': 3, 'min_samples_leaf': 3, 'min_samples_split': 15}\n",
      "0.592972 (0.005163) with: {'max_depth': 3, 'min_samples_leaf': 4, 'min_samples_split': 3}\n",
      "0.592972 (0.005163) with: {'max_depth': 3, 'min_samples_leaf': 4, 'min_samples_split': 5}\n",
      "0.592972 (0.005163) with: {'max_depth': 3, 'min_samples_leaf': 4, 'min_samples_split': 10}\n",
      "0.592972 (0.005163) with: {'max_depth': 3, 'min_samples_leaf': 4, 'min_samples_split': 15}\n",
      "0.592972 (0.005163) with: {'max_depth': 3, 'min_samples_leaf': 5, 'min_samples_split': 3}\n",
      "0.592972 (0.005163) with: {'max_depth': 3, 'min_samples_leaf': 5, 'min_samples_split': 5}\n",
      "0.592972 (0.005163) with: {'max_depth': 3, 'min_samples_leaf': 5, 'min_samples_split': 10}\n",
      "0.592972 (0.005163) with: {'max_depth': 3, 'min_samples_leaf': 5, 'min_samples_split': 15}\n",
      "0.592962 (0.005063) with: {'max_depth': 3, 'min_samples_leaf': 10, 'min_samples_split': 3}\n",
      "0.592962 (0.005063) with: {'max_depth': 3, 'min_samples_leaf': 10, 'min_samples_split': 5}\n",
      "0.592962 (0.005063) with: {'max_depth': 3, 'min_samples_leaf': 10, 'min_samples_split': 10}\n",
      "0.592962 (0.005063) with: {'max_depth': 3, 'min_samples_leaf': 10, 'min_samples_split': 15}\n",
      "0.613610 (0.007475) with: {'max_depth': 5, 'min_samples_leaf': 1, 'min_samples_split': 3}\n",
      "0.613610 (0.007475) with: {'max_depth': 5, 'min_samples_leaf': 1, 'min_samples_split': 5}\n",
      "0.613610 (0.007475) with: {'max_depth': 5, 'min_samples_leaf': 1, 'min_samples_split': 10}\n",
      "0.613610 (0.007475) with: {'max_depth': 5, 'min_samples_leaf': 1, 'min_samples_split': 15}\n",
      "0.613610 (0.007475) with: {'max_depth': 5, 'min_samples_leaf': 2, 'min_samples_split': 3}\n",
      "0.613610 (0.007475) with: {'max_depth': 5, 'min_samples_leaf': 2, 'min_samples_split': 5}\n",
      "0.613610 (0.007475) with: {'max_depth': 5, 'min_samples_leaf': 2, 'min_samples_split': 10}\n",
      "0.613610 (0.007475) with: {'max_depth': 5, 'min_samples_leaf': 2, 'min_samples_split': 15}\n",
      "0.613610 (0.007475) with: {'max_depth': 5, 'min_samples_leaf': 3, 'min_samples_split': 3}\n",
      "0.613610 (0.007475) with: {'max_depth': 5, 'min_samples_leaf': 3, 'min_samples_split': 5}\n",
      "0.613610 (0.007475) with: {'max_depth': 5, 'min_samples_leaf': 3, 'min_samples_split': 10}\n",
      "0.613610 (0.007475) with: {'max_depth': 5, 'min_samples_leaf': 3, 'min_samples_split': 15}\n",
      "0.613611 (0.007475) with: {'max_depth': 5, 'min_samples_leaf': 4, 'min_samples_split': 3}\n",
      "0.613611 (0.007475) with: {'max_depth': 5, 'min_samples_leaf': 4, 'min_samples_split': 5}\n",
      "0.613611 (0.007475) with: {'max_depth': 5, 'min_samples_leaf': 4, 'min_samples_split': 10}\n",
      "0.613611 (0.007475) with: {'max_depth': 5, 'min_samples_leaf': 4, 'min_samples_split': 15}\n",
      "0.613774 (0.007739) with: {'max_depth': 5, 'min_samples_leaf': 5, 'min_samples_split': 3}\n",
      "0.613774 (0.007739) with: {'max_depth': 5, 'min_samples_leaf': 5, 'min_samples_split': 5}\n",
      "0.613774 (0.007739) with: {'max_depth': 5, 'min_samples_leaf': 5, 'min_samples_split': 10}\n",
      "0.613774 (0.007739) with: {'max_depth': 5, 'min_samples_leaf': 5, 'min_samples_split': 15}\n",
      "0.613095 (0.007398) with: {'max_depth': 5, 'min_samples_leaf': 10, 'min_samples_split': 3}\n",
      "0.613095 (0.007398) with: {'max_depth': 5, 'min_samples_leaf': 10, 'min_samples_split': 5}\n",
      "0.613095 (0.007398) with: {'max_depth': 5, 'min_samples_leaf': 10, 'min_samples_split': 10}\n",
      "0.613095 (0.007398) with: {'max_depth': 5, 'min_samples_leaf': 10, 'min_samples_split': 15}\n",
      "0.622442 (0.008026) with: {'max_depth': 7, 'min_samples_leaf': 1, 'min_samples_split': 3}\n",
      "0.622442 (0.008026) with: {'max_depth': 7, 'min_samples_leaf': 1, 'min_samples_split': 5}\n",
      "0.622033 (0.007954) with: {'max_depth': 7, 'min_samples_leaf': 1, 'min_samples_split': 10}\n",
      "0.622175 (0.007847) with: {'max_depth': 7, 'min_samples_leaf': 1, 'min_samples_split': 15}\n",
      "0.622579 (0.007829) with: {'max_depth': 7, 'min_samples_leaf': 2, 'min_samples_split': 3}\n",
      "0.622579 (0.007829) with: {'max_depth': 7, 'min_samples_leaf': 2, 'min_samples_split': 5}\n",
      "0.622209 (0.007750) with: {'max_depth': 7, 'min_samples_leaf': 2, 'min_samples_split': 10}\n",
      "0.622171 (0.007827) with: {'max_depth': 7, 'min_samples_leaf': 2, 'min_samples_split': 15}\n",
      "0.622482 (0.007730) with: {'max_depth': 7, 'min_samples_leaf': 3, 'min_samples_split': 3}\n",
      "0.622482 (0.007730) with: {'max_depth': 7, 'min_samples_leaf': 3, 'min_samples_split': 5}\n",
      "0.622144 (0.007678) with: {'max_depth': 7, 'min_samples_leaf': 3, 'min_samples_split': 10}\n",
      "0.622146 (0.007760) with: {'max_depth': 7, 'min_samples_leaf': 3, 'min_samples_split': 15}\n",
      "0.622162 (0.006894) with: {'max_depth': 7, 'min_samples_leaf': 4, 'min_samples_split': 3}\n",
      "0.622162 (0.006894) with: {'max_depth': 7, 'min_samples_leaf': 4, 'min_samples_split': 5}\n",
      "0.622144 (0.006915) with: {'max_depth': 7, 'min_samples_leaf': 4, 'min_samples_split': 10}\n",
      "0.622521 (0.006850) with: {'max_depth': 7, 'min_samples_leaf': 4, 'min_samples_split': 15}\n",
      "0.621935 (0.007454) with: {'max_depth': 7, 'min_samples_leaf': 5, 'min_samples_split': 3}\n",
      "0.621935 (0.007454) with: {'max_depth': 7, 'min_samples_leaf': 5, 'min_samples_split': 5}\n",
      "0.621935 (0.007454) with: {'max_depth': 7, 'min_samples_leaf': 5, 'min_samples_split': 10}\n",
      "0.621973 (0.007379) with: {'max_depth': 7, 'min_samples_leaf': 5, 'min_samples_split': 15}\n",
      "0.621895 (0.004296) with: {'max_depth': 7, 'min_samples_leaf': 10, 'min_samples_split': 3}\n",
      "0.621895 (0.004296) with: {'max_depth': 7, 'min_samples_leaf': 10, 'min_samples_split': 5}\n",
      "0.621895 (0.004296) with: {'max_depth': 7, 'min_samples_leaf': 10, 'min_samples_split': 10}\n",
      "0.621895 (0.004296) with: {'max_depth': 7, 'min_samples_leaf': 10, 'min_samples_split': 15}\n",
      "0.612232 (0.006136) with: {'max_depth': 9, 'min_samples_leaf': 1, 'min_samples_split': 3}\n",
      "0.612594 (0.006276) with: {'max_depth': 9, 'min_samples_leaf': 1, 'min_samples_split': 5}\n",
      "0.612926 (0.004745) with: {'max_depth': 9, 'min_samples_leaf': 1, 'min_samples_split': 10}\n",
      "0.613861 (0.005303) with: {'max_depth': 9, 'min_samples_leaf': 1, 'min_samples_split': 15}\n",
      "0.612272 (0.005579) with: {'max_depth': 9, 'min_samples_leaf': 2, 'min_samples_split': 3}\n",
      "0.612150 (0.005401) with: {'max_depth': 9, 'min_samples_leaf': 2, 'min_samples_split': 5}\n",
      "0.612328 (0.004680) with: {'max_depth': 9, 'min_samples_leaf': 2, 'min_samples_split': 10}\n",
      "0.613438 (0.005360) with: {'max_depth': 9, 'min_samples_leaf': 2, 'min_samples_split': 15}\n",
      "0.612907 (0.005490) with: {'max_depth': 9, 'min_samples_leaf': 3, 'min_samples_split': 3}\n",
      "0.612907 (0.005490) with: {'max_depth': 9, 'min_samples_leaf': 3, 'min_samples_split': 5}\n",
      "0.613420 (0.005331) with: {'max_depth': 9, 'min_samples_leaf': 3, 'min_samples_split': 10}\n",
      "0.613946 (0.005404) with: {'max_depth': 9, 'min_samples_leaf': 3, 'min_samples_split': 15}\n",
      "0.614384 (0.006866) with: {'max_depth': 9, 'min_samples_leaf': 4, 'min_samples_split': 3}\n",
      "0.614384 (0.006866) with: {'max_depth': 9, 'min_samples_leaf': 4, 'min_samples_split': 5}\n",
      "0.614861 (0.006951) with: {'max_depth': 9, 'min_samples_leaf': 4, 'min_samples_split': 10}\n",
      "0.615111 (0.007234) with: {'max_depth': 9, 'min_samples_leaf': 4, 'min_samples_split': 15}\n",
      "0.614249 (0.007159) with: {'max_depth': 9, 'min_samples_leaf': 5, 'min_samples_split': 3}\n",
      "0.614249 (0.007159) with: {'max_depth': 9, 'min_samples_leaf': 5, 'min_samples_split': 5}\n",
      "0.614249 (0.007159) with: {'max_depth': 9, 'min_samples_leaf': 5, 'min_samples_split': 10}\n",
      "0.615555 (0.007621) with: {'max_depth': 9, 'min_samples_leaf': 5, 'min_samples_split': 15}\n",
      "0.615631 (0.009956) with: {'max_depth': 9, 'min_samples_leaf': 10, 'min_samples_split': 3}\n",
      "0.615631 (0.009956) with: {'max_depth': 9, 'min_samples_leaf': 10, 'min_samples_split': 5}\n",
      "0.615631 (0.009956) with: {'max_depth': 9, 'min_samples_leaf': 10, 'min_samples_split': 10}\n",
      "0.615631 (0.009956) with: {'max_depth': 9, 'min_samples_leaf': 10, 'min_samples_split': 15}\n",
      "0.588991 (0.006520) with: {'max_depth': 11, 'min_samples_leaf': 1, 'min_samples_split': 3}\n",
      "0.589122 (0.005483) with: {'max_depth': 11, 'min_samples_leaf': 1, 'min_samples_split': 5}\n",
      "0.591333 (0.006101) with: {'max_depth': 11, 'min_samples_leaf': 1, 'min_samples_split': 10}\n",
      "0.593298 (0.005910) with: {'max_depth': 11, 'min_samples_leaf': 1, 'min_samples_split': 15}\n",
      "0.589130 (0.005781) with: {'max_depth': 11, 'min_samples_leaf': 2, 'min_samples_split': 3}\n",
      "0.591281 (0.005556) with: {'max_depth': 11, 'min_samples_leaf': 2, 'min_samples_split': 5}\n",
      "0.591365 (0.004899) with: {'max_depth': 11, 'min_samples_leaf': 2, 'min_samples_split': 10}\n",
      "0.593067 (0.006109) with: {'max_depth': 11, 'min_samples_leaf': 2, 'min_samples_split': 15}\n",
      "0.591633 (0.006362) with: {'max_depth': 11, 'min_samples_leaf': 3, 'min_samples_split': 3}\n",
      "0.591633 (0.006362) with: {'max_depth': 11, 'min_samples_leaf': 3, 'min_samples_split': 5}\n",
      "0.593278 (0.006147) with: {'max_depth': 11, 'min_samples_leaf': 3, 'min_samples_split': 10}\n",
      "0.595023 (0.006563) with: {'max_depth': 11, 'min_samples_leaf': 3, 'min_samples_split': 15}\n",
      "0.593094 (0.006694) with: {'max_depth': 11, 'min_samples_leaf': 4, 'min_samples_split': 3}\n",
      "0.593094 (0.006694) with: {'max_depth': 11, 'min_samples_leaf': 4, 'min_samples_split': 5}\n",
      "0.594573 (0.005407) with: {'max_depth': 11, 'min_samples_leaf': 4, 'min_samples_split': 10}\n",
      "0.596208 (0.006790) with: {'max_depth': 11, 'min_samples_leaf': 4, 'min_samples_split': 15}\n",
      "0.593711 (0.007269) with: {'max_depth': 11, 'min_samples_leaf': 5, 'min_samples_split': 3}\n",
      "0.593711 (0.007269) with: {'max_depth': 11, 'min_samples_leaf': 5, 'min_samples_split': 5}\n",
      "0.593711 (0.007269) with: {'max_depth': 11, 'min_samples_leaf': 5, 'min_samples_split': 10}\n",
      "0.596503 (0.006870) with: {'max_depth': 11, 'min_samples_leaf': 5, 'min_samples_split': 15}\n",
      "0.602487 (0.010876) with: {'max_depth': 11, 'min_samples_leaf': 10, 'min_samples_split': 3}\n",
      "0.602487 (0.010876) with: {'max_depth': 11, 'min_samples_leaf': 10, 'min_samples_split': 5}\n",
      "0.602487 (0.010876) with: {'max_depth': 11, 'min_samples_leaf': 10, 'min_samples_split': 10}\n",
      "0.602487 (0.010876) with: {'max_depth': 11, 'min_samples_leaf': 10, 'min_samples_split': 15}\n"
     ]
    }
   ],
   "source": [
    "# grid search class weights with decision tree for imbalance classification\n",
    "from numpy import mean\n",
    "from sklearn.model_selection import RepeatedStratifiedKFold\n",
    "from sklearn.tree import DecisionTreeClassifier\n",
    "\n",
    "\n",
    "params = {'max_depth': [3, 5, 7,9,11],\n",
    "          'min_samples_split' : [3, 5, 10, 15],\n",
    "          'min_samples_leaf' : [1, 2, 3, 4, 5, 10]}\n",
    "\n",
    "grid = GridSearchCV(estimator=tree, \n",
    "                    param_grid=params, \n",
    "                    n_jobs=-1, \n",
    "                    cv= 5, \n",
    "                    scoring='roc_auc')\n",
    "grid_result = grid.fit(X_train, y_train)\n",
    "\n",
    "# report the best configuration\n",
    "print(\"Best: %f using %s\" % (grid_result.best_score_, grid_result.best_params_))\n",
    "\n",
    "# report all configurations\n",
    "means = grid_result.cv_results_['mean_test_score']\n",
    "stds = grid_result.cv_results_['std_test_score']\n",
    "params = grid_result.cv_results_['params']\n",
    "for mean, stdev, param in zip(means, stds, params):\n",
    "    print(\"%f (%f) with: %r\" % (mean, stdev, param))"
   ]
  },
  {
   "cell_type": "code",
   "execution_count": 89,
   "metadata": {},
   "outputs": [
    {
     "name": "stdout",
     "output_type": "stream",
     "text": [
      "0.6467207766613493\n",
      "0.6231590788897163\n"
     ]
    }
   ],
   "source": [
    "print(grid_result.score(X_train, y_train)) \n",
    "print(grid_result.score(X_test, y_test)) "
   ]
  },
  {
   "cell_type": "code",
   "execution_count": 90,
   "metadata": {},
   "outputs": [],
   "source": [
    "y_train_pred = grid_result.predict(X_train)"
   ]
  },
  {
   "cell_type": "code",
   "execution_count": 91,
   "metadata": {},
   "outputs": [],
   "source": [
    "y_test_pred = grid_result.predict(X_test)"
   ]
  },
  {
   "cell_type": "code",
   "execution_count": 92,
   "metadata": {},
   "outputs": [
    {
     "data": {
      "text/plain": [
       "0.6467207766613493"
      ]
     },
     "execution_count": 92,
     "metadata": {},
     "output_type": "execute_result"
    }
   ],
   "source": [
    "grid_result.score(X_train, y_train)"
   ]
  },
  {
   "cell_type": "code",
   "execution_count": 93,
   "metadata": {},
   "outputs": [
    {
     "data": {
      "text/plain": [
       "0.6231590788897163"
      ]
     },
     "execution_count": 93,
     "metadata": {},
     "output_type": "execute_result"
    }
   ],
   "source": [
    "grid_result.score(X_test, y_test)"
   ]
  },
  {
   "cell_type": "code",
   "execution_count": 94,
   "metadata": {},
   "outputs": [
    {
     "name": "stdout",
     "output_type": "stream",
     "text": [
      "0.604958088637338\n",
      "0.592885604923113\n"
     ]
    }
   ],
   "source": [
    "print(roc_auc_score(y_train, y_train_pred))\n",
    "print(roc_auc_score(y_test, y_test_pred))"
   ]
  },
  {
   "cell_type": "markdown",
   "metadata": {},
   "source": [
    "### 3.3.2.5  Confusion Matrix"
   ]
  },
  {
   "cell_type": "code",
   "execution_count": 95,
   "metadata": {},
   "outputs": [
    {
     "data": {
      "text/html": [
       "<div>\n",
       "<style scoped>\n",
       "    .dataframe tbody tr th:only-of-type {\n",
       "        vertical-align: middle;\n",
       "    }\n",
       "\n",
       "    .dataframe tbody tr th {\n",
       "        vertical-align: top;\n",
       "    }\n",
       "\n",
       "    .dataframe thead th {\n",
       "        text-align: right;\n",
       "    }\n",
       "</style>\n",
       "<table border=\"1\" class=\"dataframe\">\n",
       "  <thead>\n",
       "    <tr style=\"text-align: right;\">\n",
       "      <th></th>\n",
       "      <th>Predict[0]</th>\n",
       "      <th>Predict[1]</th>\n",
       "    </tr>\n",
       "  </thead>\n",
       "  <tbody>\n",
       "    <tr>\n",
       "      <th>True[0]</th>\n",
       "      <td>9340</td>\n",
       "      <td>3399</td>\n",
       "    </tr>\n",
       "    <tr>\n",
       "      <th>True[1]</th>\n",
       "      <td>687</td>\n",
       "      <td>568</td>\n",
       "    </tr>\n",
       "  </tbody>\n",
       "</table>\n",
       "</div>"
      ],
      "text/plain": [
       "         Predict[0]  Predict[1]\n",
       "True[0]        9340        3399\n",
       "True[1]         687         568"
      ]
     },
     "execution_count": 95,
     "metadata": {},
     "output_type": "execute_result"
    }
   ],
   "source": [
    "confmat = pd.DataFrame(confusion_matrix(y_test, y_test_pred),\n",
    "                      index=['True[0]','True[1]'],\n",
    "                      columns=['Predict[0]', 'Predict[1]'])\n",
    "confmat"
   ]
  },
  {
   "cell_type": "code",
   "execution_count": 96,
   "metadata": {},
   "outputs": [
    {
     "name": "stdout",
     "output_type": "stream",
     "text": [
      "precision_score: 0.143\n",
      "recall_score: 0.453\n",
      "f1_score: 0.218\n",
      "ROCAUC score: 0.592885604923113\n"
     ]
    }
   ],
   "source": [
    "from sklearn.metrics import accuracy_score, precision_score, recall_score, f1_score, make_scorer\n",
    "print('precision_score: %.3f' % precision_score(y_true=y_test, y_pred=y_test_pred))\n",
    "print('recall_score: %.3f' % recall_score(y_true=y_test, y_pred=y_test_pred))\n",
    "print('f1_score: %.3f' % f1_score(y_true=y_test, y_pred=y_test_pred))\n",
    "print('ROCAUC score:',roc_auc_score(y_test, y_test_pred))"
   ]
  },
  {
   "cell_type": "markdown",
   "metadata": {},
   "source": [
    "### 3.3.2.6 precision recall curve"
   ]
  },
  {
   "cell_type": "code",
   "execution_count": 97,
   "metadata": {},
   "outputs": [
    {
     "data": {
      "image/png": "[encoded data removed]",
      "text/plain": [
       "<Figure size 432x288 with 1 Axes>"
      ]
     },
     "metadata": {
      "needs_background": "light"
     },
     "output_type": "display_data"
    }
   ],
   "source": [
    "from sklearn.metrics import precision_recall_curve\n",
    "precision, recall, _ = precision_recall_curve(y_test, y_test_pred)\n",
    "plt.figure()\n",
    "plt.step(recall, precision, color = \"pink\", alpha = 0.3, where = 'post')\n",
    "plt.fill_between(recall, precision, step = 'post', alpha=0.5, color = \"pink\")\n",
    "plt.xlabel('recall')\n",
    "plt.ylabel('precision')\n",
    "plt.title('Precision-Recall curve');"
   ]
  },
  {
   "cell_type": "markdown",
   "metadata": {},
   "source": [
    "### 3.3.2.7 fearuer importance"
   ]
  },
  {
   "cell_type": "code",
   "execution_count": 99,
   "metadata": {},
   "outputs": [
    {
     "name": "stdout",
     "output_type": "stream",
     "text": [
      "number_inpatient : 0.24685\n",
      "discharge_disposition_id_22 : 0.16927\n",
      "time_in_hospital : 0.08101\n",
      "num_lab_procedures : 0.02930\n",
      "num_medications : 0.02621\n",
      "age_num : 0.05114\n",
      "discharge_disposition_id_3 : 0.14354\n",
      "number_diagnoses : 0.02722\n",
      "discharge_disposition_id_5 : 0.06966\n",
      "num_procedures : 0.02219\n",
      "number_emergency : 0.00195\n",
      "786_diag : 0.00165\n",
      "434_diag : 0.00088\n",
      "428_diag : 0.00000\n",
      "number_outpatient : 0.00258\n",
      "diabetesMed_Yes : 0.03224\n",
      "403_diag : 0.00979\n",
      "discharge_disposition_id_2 : 0.03006\n",
      "401_diag : 0.00092\n",
      "insulin_used : 0.00000\n",
      "admission_source_id_7 : 0.00303\n",
      "250_diag : 0.00668\n",
      "race_Caucasian : 0.01124\n",
      "gender_Male : 0.00000\n",
      "change_No : 0.00007\n",
      "414_diag : 0.00459\n",
      "admission_type_id_3 : 0.00000\n",
      "glipizide_used : 0.00000\n",
      "discharge_disposition_id_6 : 0.00000\n",
      "820_diag : 0.00000\n",
      "metformin_used : 0.00000\n",
      "707_diag : 0.00000\n",
      "admission_type_id_2 : 0.00362\n",
      "A1Cresult_None : 0.00193\n",
      "admission_type_id_6 : 0.01129\n",
      "276_diag : 0.00000\n",
      "440_diag : 0.00000\n",
      "admission_type_id_5 : 0.00000\n",
      "glyburide_used : 0.00000\n",
      "max_glu_serum_None : 0.00526\n",
      "427_diag : 0.00583\n",
      "A1Cresult_>8 : 0.00000\n",
      "599_diag : 0.00000\n"
     ]
    }
   ],
   "source": [
    "for name, value in zip(X_train.columns , grid.best_estimator_.feature_importances_): \n",
    "    print('{} : {:.5f}'.format(name, value))"
   ]
  },
  {
   "cell_type": "code",
   "execution_count": 100,
   "metadata": {},
   "outputs": [
    {
     "data": {
      "image/png": "[encoded data removed]",
      "text/plain": [
       "<Figure size 720x576 with 1 Axes>"
      ]
     },
     "metadata": {
      "needs_background": "light"
     },
     "output_type": "display_data"
    }
   ],
   "source": [
    "ftr_importances_values = grid.best_estimator_.feature_importances_\n",
    "ftr_importances = pd.Series(ftr_importances_values, index=X_train.columns)\n",
    "ftr_sort = ftr_importances.sort_values(ascending=False)\n",
    "plt.figure(figsize=(10,8))\n",
    "plt.title('Feature importances')\n",
    "sns.barplot(x=ftr_sort , y = ftr_sort.index)\n",
    "plt.show()"
   ]
  },
  {
   "cell_type": "code",
   "execution_count": 101,
   "metadata": {},
   "outputs": [],
   "source": [
    "feature_importances = pd.DataFrame(grid.best_estimator_.feature_importances_,\n",
    "                                   index = X_train.columns,\n",
    "                                    columns=['importance']).sort_values('importance', ascending=False) "
   ]
  },
  {
   "cell_type": "code",
   "execution_count": 102,
   "metadata": {},
   "outputs": [
    {
     "data": {
      "text/html": [
       "<div>\n",
       "<style scoped>\n",
       "    .dataframe tbody tr th:only-of-type {\n",
       "        vertical-align: middle;\n",
       "    }\n",
       "\n",
       "    .dataframe tbody tr th {\n",
       "        vertical-align: top;\n",
       "    }\n",
       "\n",
       "    .dataframe thead th {\n",
       "        text-align: right;\n",
       "    }\n",
       "</style>\n",
       "<table border=\"1\" class=\"dataframe\">\n",
       "  <thead>\n",
       "    <tr style=\"text-align: right;\">\n",
       "      <th></th>\n",
       "      <th>importance</th>\n",
       "    </tr>\n",
       "  </thead>\n",
       "  <tbody>\n",
       "    <tr>\n",
       "      <th>number_inpatient</th>\n",
       "      <td>0.246846</td>\n",
       "    </tr>\n",
       "    <tr>\n",
       "      <th>discharge_disposition_id_22</th>\n",
       "      <td>0.169269</td>\n",
       "    </tr>\n",
       "    <tr>\n",
       "      <th>discharge_disposition_id_3</th>\n",
       "      <td>0.143538</td>\n",
       "    </tr>\n",
       "    <tr>\n",
       "      <th>time_in_hospital</th>\n",
       "      <td>0.081006</td>\n",
       "    </tr>\n",
       "    <tr>\n",
       "      <th>discharge_disposition_id_5</th>\n",
       "      <td>0.069657</td>\n",
       "    </tr>\n",
       "    <tr>\n",
       "      <th>age_num</th>\n",
       "      <td>0.051144</td>\n",
       "    </tr>\n",
       "    <tr>\n",
       "      <th>diabetesMed_Yes</th>\n",
       "      <td>0.032236</td>\n",
       "    </tr>\n",
       "    <tr>\n",
       "      <th>discharge_disposition_id_2</th>\n",
       "      <td>0.030065</td>\n",
       "    </tr>\n",
       "    <tr>\n",
       "      <th>num_lab_procedures</th>\n",
       "      <td>0.029303</td>\n",
       "    </tr>\n",
       "    <tr>\n",
       "      <th>number_diagnoses</th>\n",
       "      <td>0.027217</td>\n",
       "    </tr>\n",
       "    <tr>\n",
       "      <th>num_medications</th>\n",
       "      <td>0.026213</td>\n",
       "    </tr>\n",
       "    <tr>\n",
       "      <th>num_procedures</th>\n",
       "      <td>0.022195</td>\n",
       "    </tr>\n",
       "    <tr>\n",
       "      <th>admission_type_id_6</th>\n",
       "      <td>0.011291</td>\n",
       "    </tr>\n",
       "    <tr>\n",
       "      <th>race_Caucasian</th>\n",
       "      <td>0.011244</td>\n",
       "    </tr>\n",
       "    <tr>\n",
       "      <th>403_diag</th>\n",
       "      <td>0.009786</td>\n",
       "    </tr>\n",
       "    <tr>\n",
       "      <th>250_diag</th>\n",
       "      <td>0.006680</td>\n",
       "    </tr>\n",
       "    <tr>\n",
       "      <th>427_diag</th>\n",
       "      <td>0.005828</td>\n",
       "    </tr>\n",
       "    <tr>\n",
       "      <th>max_glu_serum_None</th>\n",
       "      <td>0.005258</td>\n",
       "    </tr>\n",
       "    <tr>\n",
       "      <th>414_diag</th>\n",
       "      <td>0.004593</td>\n",
       "    </tr>\n",
       "    <tr>\n",
       "      <th>admission_type_id_2</th>\n",
       "      <td>0.003615</td>\n",
       "    </tr>\n",
       "    <tr>\n",
       "      <th>admission_source_id_7</th>\n",
       "      <td>0.003034</td>\n",
       "    </tr>\n",
       "    <tr>\n",
       "      <th>number_outpatient</th>\n",
       "      <td>0.002579</td>\n",
       "    </tr>\n",
       "    <tr>\n",
       "      <th>number_emergency</th>\n",
       "      <td>0.001946</td>\n",
       "    </tr>\n",
       "    <tr>\n",
       "      <th>A1Cresult_None</th>\n",
       "      <td>0.001930</td>\n",
       "    </tr>\n",
       "    <tr>\n",
       "      <th>786_diag</th>\n",
       "      <td>0.001651</td>\n",
       "    </tr>\n",
       "    <tr>\n",
       "      <th>401_diag</th>\n",
       "      <td>0.000923</td>\n",
       "    </tr>\n",
       "    <tr>\n",
       "      <th>434_diag</th>\n",
       "      <td>0.000878</td>\n",
       "    </tr>\n",
       "    <tr>\n",
       "      <th>change_No</th>\n",
       "      <td>0.000074</td>\n",
       "    </tr>\n",
       "    <tr>\n",
       "      <th>A1Cresult_&gt;8</th>\n",
       "      <td>0.000000</td>\n",
       "    </tr>\n",
       "    <tr>\n",
       "      <th>glyburide_used</th>\n",
       "      <td>0.000000</td>\n",
       "    </tr>\n",
       "    <tr>\n",
       "      <th>admission_type_id_5</th>\n",
       "      <td>0.000000</td>\n",
       "    </tr>\n",
       "    <tr>\n",
       "      <th>440_diag</th>\n",
       "      <td>0.000000</td>\n",
       "    </tr>\n",
       "    <tr>\n",
       "      <th>276_diag</th>\n",
       "      <td>0.000000</td>\n",
       "    </tr>\n",
       "    <tr>\n",
       "      <th>820_diag</th>\n",
       "      <td>0.000000</td>\n",
       "    </tr>\n",
       "    <tr>\n",
       "      <th>707_diag</th>\n",
       "      <td>0.000000</td>\n",
       "    </tr>\n",
       "    <tr>\n",
       "      <th>metformin_used</th>\n",
       "      <td>0.000000</td>\n",
       "    </tr>\n",
       "    <tr>\n",
       "      <th>428_diag</th>\n",
       "      <td>0.000000</td>\n",
       "    </tr>\n",
       "    <tr>\n",
       "      <th>discharge_disposition_id_6</th>\n",
       "      <td>0.000000</td>\n",
       "    </tr>\n",
       "    <tr>\n",
       "      <th>glipizide_used</th>\n",
       "      <td>0.000000</td>\n",
       "    </tr>\n",
       "    <tr>\n",
       "      <th>admission_type_id_3</th>\n",
       "      <td>0.000000</td>\n",
       "    </tr>\n",
       "    <tr>\n",
       "      <th>gender_Male</th>\n",
       "      <td>0.000000</td>\n",
       "    </tr>\n",
       "    <tr>\n",
       "      <th>insulin_used</th>\n",
       "      <td>0.000000</td>\n",
       "    </tr>\n",
       "    <tr>\n",
       "      <th>599_diag</th>\n",
       "      <td>0.000000</td>\n",
       "    </tr>\n",
       "  </tbody>\n",
       "</table>\n",
       "</div>"
      ],
      "text/plain": [
       "                             importance\n",
       "number_inpatient               0.246846\n",
       "discharge_disposition_id_22    0.169269\n",
       "discharge_disposition_id_3     0.143538\n",
       "time_in_hospital               0.081006\n",
       "discharge_disposition_id_5     0.069657\n",
       "age_num                        0.051144\n",
       "diabetesMed_Yes                0.032236\n",
       "discharge_disposition_id_2     0.030065\n",
       "num_lab_procedures             0.029303\n",
       "number_diagnoses               0.027217\n",
       "num_medications                0.026213\n",
       "num_procedures                 0.022195\n",
       "admission_type_id_6            0.011291\n",
       "race_Caucasian                 0.011244\n",
       "403_diag                       0.009786\n",
       "250_diag                       0.006680\n",
       "427_diag                       0.005828\n",
       "max_glu_serum_None             0.005258\n",
       "414_diag                       0.004593\n",
       "admission_type_id_2            0.003615\n",
       "admission_source_id_7          0.003034\n",
       "number_outpatient              0.002579\n",
       "number_emergency               0.001946\n",
       "A1Cresult_None                 0.001930\n",
       "786_diag                       0.001651\n",
       "401_diag                       0.000923\n",
       "434_diag                       0.000878\n",
       "change_No                      0.000074\n",
       "A1Cresult_>8                   0.000000\n",
       "glyburide_used                 0.000000\n",
       "admission_type_id_5            0.000000\n",
       "440_diag                       0.000000\n",
       "276_diag                       0.000000\n",
       "820_diag                       0.000000\n",
       "707_diag                       0.000000\n",
       "metformin_used                 0.000000\n",
       "428_diag                       0.000000\n",
       "discharge_disposition_id_6     0.000000\n",
       "glipizide_used                 0.000000\n",
       "admission_type_id_3            0.000000\n",
       "gender_Male                    0.000000\n",
       "insulin_used                   0.000000\n",
       "599_diag                       0.000000"
      ]
     },
     "execution_count": 102,
     "metadata": {},
     "output_type": "execute_result"
    }
   ],
   "source": [
    "feature_importances "
   ]
  },
  {
   "cell_type": "markdown",
   "metadata": {},
   "source": [
    "### 3.3.3  Random Forest : model fit - class_weight = 'balanced'"
   ]
  },
  {
   "cell_type": "code",
   "execution_count": 103,
   "metadata": {},
   "outputs": [],
   "source": [
    "X = data.drop (['readmit_30d'], axis=1)\n",
    "y = data['readmit_30d']\n",
    "X_train, X_test, y_train, y_test = train_test_split(X, y, test_size=0.2, random_state=42, stratify=y)"
   ]
  },
  {
   "cell_type": "code",
   "execution_count": 104,
   "metadata": {},
   "outputs": [],
   "source": [
    "from sklearn.ensemble import RandomForestClassifier\n",
    "forest = RandomForestClassifier(n_estimators=500, \n",
    "                                random_state=42,\n",
    "                               class_weight = 'balanced',\n",
    "                               max_depth = 5)"
   ]
  },
  {
   "cell_type": "code",
   "execution_count": 105,
   "metadata": {},
   "outputs": [
    {
     "data": {
      "text/plain": [
       "RandomForestClassifier(class_weight='balanced', max_depth=5, n_estimators=500,\n",
       "                       random_state=42)"
      ]
     },
     "execution_count": 105,
     "metadata": {},
     "output_type": "execute_result"
    }
   ],
   "source": [
    "forest.fit(X_train, y_train)"
   ]
  },
  {
   "cell_type": "code",
   "execution_count": 106,
   "metadata": {},
   "outputs": [],
   "source": [
    "y_pred = forest.predict(X_test)"
   ]
  },
  {
   "cell_type": "markdown",
   "metadata": {},
   "source": [
    "### 3.3.3.1 Grid Search"
   ]
  },
  {
   "cell_type": "code",
   "execution_count": 107,
   "metadata": {},
   "outputs": [
    {
     "name": "stdout",
     "output_type": "stream",
     "text": [
      "Fitting 5 folds for each of 96 candidates, totalling 480 fits\n"
     ]
    },
    {
     "name": "stderr",
     "output_type": "stream",
     "text": [
      "[Parallel(n_jobs=1)]: Using backend SequentialBackend with 1 concurrent workers.\n",
      "[Parallel(n_jobs=1)]: Done 480 out of 480 | elapsed: 67.7min finished\n"
     ]
    },
    {
     "data": {
      "text/plain": [
       "GridSearchCV(cv=5,\n",
       "             estimator=RandomForestClassifier(class_weight='balanced',\n",
       "                                              max_depth=5, n_estimators=500,\n",
       "                                              random_state=42),\n",
       "             n_jobs=1,\n",
       "             param_grid={'max_depth': [5, 8, 10, 12],\n",
       "                         'min_samples_leaf': [1, 2, 5],\n",
       "                         'min_samples_split': [5, 8, 10, 15],\n",
       "                         'n_estimators': [150, 200]},\n",
       "             scoring='roc_auc', verbose=1)"
      ]
     },
     "execution_count": 107,
     "metadata": {},
     "output_type": "execute_result"
    }
   ],
   "source": [
    "params = {'n_estimators' : [150, 200],\n",
    "        'max_depth' : [5, 8, 10, 12],\n",
    "        'min_samples_split' : [5, 8, 10, 15],\n",
    "        'min_samples_leaf' : [1, 2, 5]}\n",
    "grid = GridSearchCV(estimator=forest, \n",
    "                    param_grid=params, \n",
    "                    n_jobs=1, \n",
    "                    cv= 5, \n",
    "                    scoring='roc_auc',\n",
    "                    verbose = 1)\n",
    "grid.fit(X_train, y_train)"
   ]
  },
  {
   "cell_type": "code",
   "execution_count": 108,
   "metadata": {},
   "outputs": [
    {
     "data": {
      "text/plain": [
       "{'max_depth': 10,\n",
       " 'min_samples_leaf': 5,\n",
       " 'min_samples_split': 15,\n",
       " 'n_estimators': 200}"
      ]
     },
     "execution_count": 108,
     "metadata": {},
     "output_type": "execute_result"
    }
   ],
   "source": [
    "grid.best_params_"
   ]
  },
  {
   "cell_type": "code",
   "execution_count": 109,
   "metadata": {},
   "outputs": [],
   "source": [
    "y_train_pred = grid.predict(X_train)"
   ]
  },
  {
   "cell_type": "code",
   "execution_count": 110,
   "metadata": {},
   "outputs": [],
   "source": [
    "y_test_pred = grid.predict(X_test)"
   ]
  },
  {
   "cell_type": "code",
   "execution_count": 111,
   "metadata": {},
   "outputs": [
    {
     "data": {
      "text/plain": [
       "0.6034325997681306"
      ]
     },
     "execution_count": 111,
     "metadata": {},
     "output_type": "execute_result"
    }
   ],
   "source": [
    "roc_auc_score(y_test, y_pred)"
   ]
  },
  {
   "cell_type": "code",
   "execution_count": 112,
   "metadata": {
    "scrolled": true
   },
   "outputs": [
    {
     "name": "stdout",
     "output_type": "stream",
     "text": [
      "0.7307544707279806\n",
      "0.6455215952267546\n"
     ]
    }
   ],
   "source": [
    "print(grid.score(X_train, y_train)) \n",
    "print(grid.score(X_test, y_test)) "
   ]
  },
  {
   "cell_type": "code",
   "execution_count": 113,
   "metadata": {},
   "outputs": [
    {
     "data": {
      "text/plain": [
       "0.66310353610421"
      ]
     },
     "execution_count": 113,
     "metadata": {},
     "output_type": "execute_result"
    }
   ],
   "source": [
    "roc_auc_score(y_train, y_train_pred)"
   ]
  },
  {
   "cell_type": "code",
   "execution_count": 114,
   "metadata": {},
   "outputs": [
    {
     "data": {
      "text/plain": [
       "0.6037662365687575"
      ]
     },
     "execution_count": 114,
     "metadata": {},
     "output_type": "execute_result"
    }
   ],
   "source": [
    "roc_auc_score(y_test, y_test_pred)"
   ]
  },
  {
   "cell_type": "markdown",
   "metadata": {},
   "source": [
    "### 3.3.3.2 confusion Matrix"
   ]
  },
  {
   "cell_type": "code",
   "execution_count": 115,
   "metadata": {},
   "outputs": [
    {
     "data": {
      "text/html": [
       "<div>\n",
       "<style scoped>\n",
       "    .dataframe tbody tr th:only-of-type {\n",
       "        vertical-align: middle;\n",
       "    }\n",
       "\n",
       "    .dataframe tbody tr th {\n",
       "        vertical-align: top;\n",
       "    }\n",
       "\n",
       "    .dataframe thead th {\n",
       "        text-align: right;\n",
       "    }\n",
       "</style>\n",
       "<table border=\"1\" class=\"dataframe\">\n",
       "  <thead>\n",
       "    <tr style=\"text-align: right;\">\n",
       "      <th></th>\n",
       "      <th>Predict[0]</th>\n",
       "      <th>Predict[1]</th>\n",
       "    </tr>\n",
       "  </thead>\n",
       "  <tbody>\n",
       "    <tr>\n",
       "      <th>True[0]</th>\n",
       "      <td>9333</td>\n",
       "      <td>3406</td>\n",
       "    </tr>\n",
       "    <tr>\n",
       "      <th>True[1]</th>\n",
       "      <td>659</td>\n",
       "      <td>596</td>\n",
       "    </tr>\n",
       "  </tbody>\n",
       "</table>\n",
       "</div>"
      ],
      "text/plain": [
       "         Predict[0]  Predict[1]\n",
       "True[0]        9333        3406\n",
       "True[1]         659         596"
      ]
     },
     "execution_count": 115,
     "metadata": {},
     "output_type": "execute_result"
    }
   ],
   "source": [
    "confmat = pd.DataFrame(confusion_matrix(y_test, y_test_pred),\n",
    "                      index=['True[0]','True[1]'],\n",
    "                      columns=['Predict[0]', 'Predict[1]'])\n",
    "confmat"
   ]
  },
  {
   "cell_type": "code",
   "execution_count": 116,
   "metadata": {},
   "outputs": [
    {
     "name": "stdout",
     "output_type": "stream",
     "text": [
      "accuracy_score: 0.710\n",
      "precision_score: 0.149\n",
      "recall_score: 0.475\n",
      "f1_score: 0.227\n"
     ]
    }
   ],
   "source": [
    "print('accuracy_score: %.3f' % accuracy_score(y_test, y_test_pred))\n",
    "print('precision_score: %.3f' % precision_score(y_true=y_test, y_pred=y_test_pred))\n",
    "print('recall_score: %.3f' % recall_score(y_true=y_test, y_pred=y_test_pred))\n",
    "print('f1_score: %.3f' % f1_score(y_true=y_test, y_pred=y_test_pred))"
   ]
  },
  {
   "cell_type": "markdown",
   "metadata": {},
   "source": [
    "### 3.3.3.3 precision recall curve"
   ]
  },
  {
   "cell_type": "code",
   "execution_count": 117,
   "metadata": {},
   "outputs": [
    {
     "data": {
      "image/png": "[encoded data removed]",
      "text/plain": [
       "<Figure size 432x288 with 1 Axes>"
      ]
     },
     "metadata": {
      "needs_background": "light"
     },
     "output_type": "display_data"
    }
   ],
   "source": [
    "from sklearn.metrics import precision_recall_curve\n",
    "precision, recall, _ = precision_recall_curve(y_test, y_test_pred)\n",
    "\n",
    "plt.figure()\n",
    "plt.step(recall, precision, color = \"pink\", alpha = 0.3, where = 'post')\n",
    "plt.fill_between(recall, precision, step = 'post', alpha=0.5, color = \"pink\")\n",
    "plt.xlabel('recall')\n",
    "plt.ylabel('precision')\n",
    "plt.title('Precision-Recall curve');"
   ]
  },
  {
   "cell_type": "markdown",
   "metadata": {},
   "source": [
    "### 3.3.3.4 Fearure importance"
   ]
  },
  {
   "cell_type": "code",
   "execution_count": 118,
   "metadata": {},
   "outputs": [
    {
     "data": {
      "text/plain": [
       "array([0.07044194, 0.05802344, 0.02260851, 0.06041854, 0.01291031,\n",
       "       0.0194497 , 0.11520568, 0.04625622, 0.05272286, 0.00261306,\n",
       "       0.00300221, 0.00278152, 0.00205071, 0.00333509, 0.00226486,\n",
       "       0.0049099 , 0.00328013, 0.00260225, 0.00246194, 0.0029599 ,\n",
       "       0.00207503, 0.00106454, 0.00945334, 0.00080218, 0.0046193 ,\n",
       "       0.00127701, 0.00451701, 0.00575304, 0.0036818 , 0.00717608,\n",
       "       0.0161496 , 0.0151466 , 0.00224394, 0.00363959, 0.00204747,\n",
       "       0.00356282, 0.01341385, 0.00293513, 0.00314093, 0.00357048,\n",
       "       0.0027837 , 0.00189269, 0.00115197, 0.00290826, 0.00669644,\n",
       "       0.00153348, 0.00257281, 0.00155887, 0.00119863, 0.01079546,\n",
       "       0.00526495, 0.01653647, 0.00324719, 0.00226443, 0.00825472,\n",
       "       0.00215718, 0.00296434, 0.00709844, 0.00487043, 0.00472408,\n",
       "       0.00364113, 0.00958968, 0.00086816, 0.00873734, 0.00267991,\n",
       "       0.00204777, 0.00794583, 0.00710301, 0.00740472, 0.00467333,\n",
       "       0.00585496, 0.00392092, 0.01057509, 0.07900525, 0.00131664,\n",
       "       0.0557402 , 0.00097848, 0.02360797, 0.00835043, 0.00438501,\n",
       "       0.00162427, 0.00329144, 0.0016266 , 0.00221527, 0.00896195,\n",
       "       0.00148813, 0.00456205, 0.00234908, 0.0049754 , 0.00592814,\n",
       "       0.0042303 , 0.00797841, 0.01530006])"
      ]
     },
     "execution_count": 118,
     "metadata": {},
     "output_type": "execute_result"
    }
   ],
   "source": [
    "grid.best_estimator_.feature_importances_"
   ]
  },
  {
   "cell_type": "code",
   "execution_count": 119,
   "metadata": {},
   "outputs": [
    {
     "data": {
      "image/png": "[encoded data removed]",
      "text/plain": [
       "<Figure size 720x576 with 1 Axes>"
      ]
     },
     "metadata": {
      "needs_background": "light"
     },
     "output_type": "display_data"
    }
   ],
   "source": [
    "ftr_importances_values = grid.best_estimator_.feature_importances_\n",
    "ftr_importances = pd.Series(ftr_importances_values, index=X_train.columns)\n",
    "ftr_sort = ftr_importances.sort_values(ascending=False)\n",
    "plt.figure(figsize=(10,8))\n",
    "plt.title('Feature importances')\n",
    "sns.barplot(x=ftr_sort , y = ftr_sort.index)\n",
    "plt.show()"
   ]
  },
  {
   "cell_type": "code",
   "execution_count": 120,
   "metadata": {},
   "outputs": [],
   "source": [
    "import pandas as pd\n",
    "feature_importances = pd.DataFrame(forest.feature_importances_,\n",
    "                                   index = X_train.columns,\n",
    "                                    columns=['importance']).sort_values('importance', ascending=False)\n"
   ]
  },
  {
   "cell_type": "code",
   "execution_count": 121,
   "metadata": {},
   "outputs": [
    {
     "data": {
      "text/html": [
       "<div>\n",
       "<style scoped>\n",
       "    .dataframe tbody tr th:only-of-type {\n",
       "        vertical-align: middle;\n",
       "    }\n",
       "\n",
       "    .dataframe tbody tr th {\n",
       "        vertical-align: top;\n",
       "    }\n",
       "\n",
       "    .dataframe thead th {\n",
       "        text-align: right;\n",
       "    }\n",
       "</style>\n",
       "<table border=\"1\" class=\"dataframe\">\n",
       "  <thead>\n",
       "    <tr style=\"text-align: right;\">\n",
       "      <th></th>\n",
       "      <th>importance</th>\n",
       "    </tr>\n",
       "  </thead>\n",
       "  <tbody>\n",
       "    <tr>\n",
       "      <th>number_inpatient</th>\n",
       "      <td>0.158068</td>\n",
       "    </tr>\n",
       "    <tr>\n",
       "      <th>discharge_disposition_id_22</th>\n",
       "      <td>0.120506</td>\n",
       "    </tr>\n",
       "    <tr>\n",
       "      <th>discharge_disposition_id_3</th>\n",
       "      <td>0.096828</td>\n",
       "    </tr>\n",
       "    <tr>\n",
       "      <th>time_in_hospital</th>\n",
       "      <td>0.090391</td>\n",
       "    </tr>\n",
       "    <tr>\n",
       "      <th>age_num</th>\n",
       "      <td>0.061520</td>\n",
       "    </tr>\n",
       "    <tr>\n",
       "      <th>number_diagnoses</th>\n",
       "      <td>0.049580</td>\n",
       "    </tr>\n",
       "    <tr>\n",
       "      <th>num_medications</th>\n",
       "      <td>0.047855</td>\n",
       "    </tr>\n",
       "    <tr>\n",
       "      <th>discharge_disposition_id_5</th>\n",
       "      <td>0.031435</td>\n",
       "    </tr>\n",
       "    <tr>\n",
       "      <th>num_lab_procedures</th>\n",
       "      <td>0.029719</td>\n",
       "    </tr>\n",
       "    <tr>\n",
       "      <th>786_diag</th>\n",
       "      <td>0.026333</td>\n",
       "    </tr>\n",
       "    <tr>\n",
       "      <th>434_diag</th>\n",
       "      <td>0.025008</td>\n",
       "    </tr>\n",
       "    <tr>\n",
       "      <th>number_emergency</th>\n",
       "      <td>0.021027</td>\n",
       "    </tr>\n",
       "    <tr>\n",
       "      <th>403_diag</th>\n",
       "      <td>0.019709</td>\n",
       "    </tr>\n",
       "    <tr>\n",
       "      <th>diabetesMed_Yes</th>\n",
       "      <td>0.016218</td>\n",
       "    </tr>\n",
       "    <tr>\n",
       "      <th>401_diag</th>\n",
       "      <td>0.015128</td>\n",
       "    </tr>\n",
       "    <tr>\n",
       "      <th>428_diag</th>\n",
       "      <td>0.014010</td>\n",
       "    </tr>\n",
       "    <tr>\n",
       "      <th>discharge_disposition_id_2</th>\n",
       "      <td>0.010603</td>\n",
       "    </tr>\n",
       "    <tr>\n",
       "      <th>num_procedures</th>\n",
       "      <td>0.007671</td>\n",
       "    </tr>\n",
       "    <tr>\n",
       "      <th>707_diag</th>\n",
       "      <td>0.007490</td>\n",
       "    </tr>\n",
       "    <tr>\n",
       "      <th>440_diag</th>\n",
       "      <td>0.007289</td>\n",
       "    </tr>\n",
       "    <tr>\n",
       "      <th>272_diag</th>\n",
       "      <td>0.007203</td>\n",
       "    </tr>\n",
       "    <tr>\n",
       "      <th>number_outpatient</th>\n",
       "      <td>0.007135</td>\n",
       "    </tr>\n",
       "    <tr>\n",
       "      <th>820_diag</th>\n",
       "      <td>0.006924</td>\n",
       "    </tr>\n",
       "    <tr>\n",
       "      <th>insulin_used</th>\n",
       "      <td>0.006574</td>\n",
       "    </tr>\n",
       "    <tr>\n",
       "      <th>414_diag</th>\n",
       "      <td>0.004758</td>\n",
       "    </tr>\n",
       "    <tr>\n",
       "      <th>discharge_disposition_id_6</th>\n",
       "      <td>0.003604</td>\n",
       "    </tr>\n",
       "    <tr>\n",
       "      <th>change_No</th>\n",
       "      <td>0.003496</td>\n",
       "    </tr>\n",
       "    <tr>\n",
       "      <th>250_diag</th>\n",
       "      <td>0.003482</td>\n",
       "    </tr>\n",
       "    <tr>\n",
       "      <th>metformin_used</th>\n",
       "      <td>0.003476</td>\n",
       "    </tr>\n",
       "    <tr>\n",
       "      <th>glipizide_used</th>\n",
       "      <td>0.003322</td>\n",
       "    </tr>\n",
       "    <tr>\n",
       "      <th>admission_type_id_6</th>\n",
       "      <td>0.003199</td>\n",
       "    </tr>\n",
       "    <tr>\n",
       "      <th>race_Caucasian</th>\n",
       "      <td>0.003009</td>\n",
       "    </tr>\n",
       "    <tr>\n",
       "      <th>admission_type_id_5</th>\n",
       "      <td>0.002939</td>\n",
       "    </tr>\n",
       "    <tr>\n",
       "      <th>278_diag</th>\n",
       "      <td>0.002843</td>\n",
       "    </tr>\n",
       "    <tr>\n",
       "      <th>admission_type_id_3</th>\n",
       "      <td>0.002798</td>\n",
       "    </tr>\n",
       "    <tr>\n",
       "      <th>722_diag</th>\n",
       "      <td>0.002720</td>\n",
       "    </tr>\n",
       "    <tr>\n",
       "      <th>admission_source_id_7</th>\n",
       "      <td>0.002703</td>\n",
       "    </tr>\n",
       "    <tr>\n",
       "      <th>admission_type_id_2</th>\n",
       "      <td>0.002634</td>\n",
       "    </tr>\n",
       "    <tr>\n",
       "      <th>max_glu_serum_None</th>\n",
       "      <td>0.002567</td>\n",
       "    </tr>\n",
       "    <tr>\n",
       "      <th>305_diag</th>\n",
       "      <td>0.002299</td>\n",
       "    </tr>\n",
       "    <tr>\n",
       "      <th>race_Other</th>\n",
       "      <td>0.001920</td>\n",
       "    </tr>\n",
       "    <tr>\n",
       "      <th>276_diag</th>\n",
       "      <td>0.001896</td>\n",
       "    </tr>\n",
       "    <tr>\n",
       "      <th>admission_source_id_17</th>\n",
       "      <td>0.001873</td>\n",
       "    </tr>\n",
       "    <tr>\n",
       "      <th>574_diag</th>\n",
       "      <td>0.001851</td>\n",
       "    </tr>\n",
       "    <tr>\n",
       "      <th>715_diag</th>\n",
       "      <td>0.001848</td>\n",
       "    </tr>\n",
       "    <tr>\n",
       "      <th>gender_Male</th>\n",
       "      <td>0.001835</td>\n",
       "    </tr>\n",
       "    <tr>\n",
       "      <th>496_diag</th>\n",
       "      <td>0.001800</td>\n",
       "    </tr>\n",
       "    <tr>\n",
       "      <th>599_diag</th>\n",
       "      <td>0.001735</td>\n",
       "    </tr>\n",
       "    <tr>\n",
       "      <th>V45_diag</th>\n",
       "      <td>0.001715</td>\n",
       "    </tr>\n",
       "    <tr>\n",
       "      <th>413_diag</th>\n",
       "      <td>0.001700</td>\n",
       "    </tr>\n",
       "    <tr>\n",
       "      <th>A1Cresult_&gt;8</th>\n",
       "      <td>0.001676</td>\n",
       "    </tr>\n",
       "    <tr>\n",
       "      <th>486_diag</th>\n",
       "      <td>0.001658</td>\n",
       "    </tr>\n",
       "    <tr>\n",
       "      <th>pioglitazone_used</th>\n",
       "      <td>0.001600</td>\n",
       "    </tr>\n",
       "    <tr>\n",
       "      <th>285_diag</th>\n",
       "      <td>0.001582</td>\n",
       "    </tr>\n",
       "    <tr>\n",
       "      <th>A1Cresult_None</th>\n",
       "      <td>0.001555</td>\n",
       "    </tr>\n",
       "    <tr>\n",
       "      <th>410_diag</th>\n",
       "      <td>0.001542</td>\n",
       "    </tr>\n",
       "    <tr>\n",
       "      <th>discharge_disposition_id_18</th>\n",
       "      <td>0.001531</td>\n",
       "    </tr>\n",
       "    <tr>\n",
       "      <th>518_diag</th>\n",
       "      <td>0.001512</td>\n",
       "    </tr>\n",
       "    <tr>\n",
       "      <th>admission_source_id_4</th>\n",
       "      <td>0.001492</td>\n",
       "    </tr>\n",
       "    <tr>\n",
       "      <th>race_Hispanic</th>\n",
       "      <td>0.001450</td>\n",
       "    </tr>\n",
       "    <tr>\n",
       "      <th>493_diag</th>\n",
       "      <td>0.001426</td>\n",
       "    </tr>\n",
       "    <tr>\n",
       "      <th>296_diag</th>\n",
       "      <td>0.001379</td>\n",
       "    </tr>\n",
       "    <tr>\n",
       "      <th>discharge_disposition_id_25</th>\n",
       "      <td>0.001377</td>\n",
       "    </tr>\n",
       "    <tr>\n",
       "      <th>glyburide_used</th>\n",
       "      <td>0.001357</td>\n",
       "    </tr>\n",
       "    <tr>\n",
       "      <th>glimepiride_used</th>\n",
       "      <td>0.001355</td>\n",
       "    </tr>\n",
       "    <tr>\n",
       "      <th>A1Cresult_Norm</th>\n",
       "      <td>0.001349</td>\n",
       "    </tr>\n",
       "    <tr>\n",
       "      <th>411_diag</th>\n",
       "      <td>0.001291</td>\n",
       "    </tr>\n",
       "    <tr>\n",
       "      <th>491_diag</th>\n",
       "      <td>0.001271</td>\n",
       "    </tr>\n",
       "    <tr>\n",
       "      <th>427_diag</th>\n",
       "      <td>0.001253</td>\n",
       "    </tr>\n",
       "    <tr>\n",
       "      <th>repaglinide_used</th>\n",
       "      <td>0.001206</td>\n",
       "    </tr>\n",
       "    <tr>\n",
       "      <th>584_diag</th>\n",
       "      <td>0.001197</td>\n",
       "    </tr>\n",
       "    <tr>\n",
       "      <th>V57_diag</th>\n",
       "      <td>0.001193</td>\n",
       "    </tr>\n",
       "    <tr>\n",
       "      <th>424_diag</th>\n",
       "      <td>0.001108</td>\n",
       "    </tr>\n",
       "    <tr>\n",
       "      <th>780_diag</th>\n",
       "      <td>0.001070</td>\n",
       "    </tr>\n",
       "    <tr>\n",
       "      <th>max_glu_serum_Norm</th>\n",
       "      <td>0.001043</td>\n",
       "    </tr>\n",
       "    <tr>\n",
       "      <th>rosiglitazone_used</th>\n",
       "      <td>0.001016</td>\n",
       "    </tr>\n",
       "    <tr>\n",
       "      <th>admission_source_id_6</th>\n",
       "      <td>0.000996</td>\n",
       "    </tr>\n",
       "    <tr>\n",
       "      <th>max_glu_serum_&gt;300</th>\n",
       "      <td>0.000993</td>\n",
       "    </tr>\n",
       "    <tr>\n",
       "      <th>admission_source_id_5</th>\n",
       "      <td>0.000970</td>\n",
       "    </tr>\n",
       "    <tr>\n",
       "      <th>585_diag</th>\n",
       "      <td>0.000897</td>\n",
       "    </tr>\n",
       "    <tr>\n",
       "      <th>996_diag</th>\n",
       "      <td>0.000858</td>\n",
       "    </tr>\n",
       "    <tr>\n",
       "      <th>admission_source_id_2</th>\n",
       "      <td>0.000851</td>\n",
       "    </tr>\n",
       "    <tr>\n",
       "      <th>41_diag</th>\n",
       "      <td>0.000802</td>\n",
       "    </tr>\n",
       "    <tr>\n",
       "      <th>577_diag</th>\n",
       "      <td>0.000799</td>\n",
       "    </tr>\n",
       "    <tr>\n",
       "      <th>425_diag</th>\n",
       "      <td>0.000766</td>\n",
       "    </tr>\n",
       "    <tr>\n",
       "      <th>435_diag</th>\n",
       "      <td>0.000728</td>\n",
       "    </tr>\n",
       "    <tr>\n",
       "      <th>682_diag</th>\n",
       "      <td>0.000654</td>\n",
       "    </tr>\n",
       "    <tr>\n",
       "      <th>38_diag</th>\n",
       "      <td>0.000611</td>\n",
       "    </tr>\n",
       "    <tr>\n",
       "      <th>discharge_disposition_id_4</th>\n",
       "      <td>0.000571</td>\n",
       "    </tr>\n",
       "    <tr>\n",
       "      <th>560_diag</th>\n",
       "      <td>0.000521</td>\n",
       "    </tr>\n",
       "    <tr>\n",
       "      <th>562_diag</th>\n",
       "      <td>0.000492</td>\n",
       "    </tr>\n",
       "    <tr>\n",
       "      <th>433_diag</th>\n",
       "      <td>0.000422</td>\n",
       "    </tr>\n",
       "    <tr>\n",
       "      <th>race_Asian</th>\n",
       "      <td>0.000333</td>\n",
       "    </tr>\n",
       "  </tbody>\n",
       "</table>\n",
       "</div>"
      ],
      "text/plain": [
       "                             importance\n",
       "number_inpatient               0.158068\n",
       "discharge_disposition_id_22    0.120506\n",
       "discharge_disposition_id_3     0.096828\n",
       "time_in_hospital               0.090391\n",
       "age_num                        0.061520\n",
       "number_diagnoses               0.049580\n",
       "num_medications                0.047855\n",
       "discharge_disposition_id_5     0.031435\n",
       "num_lab_procedures             0.029719\n",
       "786_diag                       0.026333\n",
       "434_diag                       0.025008\n",
       "number_emergency               0.021027\n",
       "403_diag                       0.019709\n",
       "diabetesMed_Yes                0.016218\n",
       "401_diag                       0.015128\n",
       "428_diag                       0.014010\n",
       "discharge_disposition_id_2     0.010603\n",
       "num_procedures                 0.007671\n",
       "707_diag                       0.007490\n",
       "440_diag                       0.007289\n",
       "272_diag                       0.007203\n",
       "number_outpatient              0.007135\n",
       "820_diag                       0.006924\n",
       "insulin_used                   0.006574\n",
       "414_diag                       0.004758\n",
       "discharge_disposition_id_6     0.003604\n",
       "change_No                      0.003496\n",
       "250_diag                       0.003482\n",
       "metformin_used                 0.003476\n",
       "glipizide_used                 0.003322\n",
       "admission_type_id_6            0.003199\n",
       "race_Caucasian                 0.003009\n",
       "admission_type_id_5            0.002939\n",
       "278_diag                       0.002843\n",
       "admission_type_id_3            0.002798\n",
       "722_diag                       0.002720\n",
       "admission_source_id_7          0.002703\n",
       "admission_type_id_2            0.002634\n",
       "max_glu_serum_None             0.002567\n",
       "305_diag                       0.002299\n",
       "race_Other                     0.001920\n",
       "276_diag                       0.001896\n",
       "admission_source_id_17         0.001873\n",
       "574_diag                       0.001851\n",
       "715_diag                       0.001848\n",
       "gender_Male                    0.001835\n",
       "496_diag                       0.001800\n",
       "599_diag                       0.001735\n",
       "V45_diag                       0.001715\n",
       "413_diag                       0.001700\n",
       "A1Cresult_>8                   0.001676\n",
       "486_diag                       0.001658\n",
       "pioglitazone_used              0.001600\n",
       "285_diag                       0.001582\n",
       "A1Cresult_None                 0.001555\n",
       "410_diag                       0.001542\n",
       "discharge_disposition_id_18    0.001531\n",
       "518_diag                       0.001512\n",
       "admission_source_id_4          0.001492\n",
       "race_Hispanic                  0.001450\n",
       "493_diag                       0.001426\n",
       "296_diag                       0.001379\n",
       "discharge_disposition_id_25    0.001377\n",
       "glyburide_used                 0.001357\n",
       "glimepiride_used               0.001355\n",
       "A1Cresult_Norm                 0.001349\n",
       "411_diag                       0.001291\n",
       "491_diag                       0.001271\n",
       "427_diag                       0.001253\n",
       "repaglinide_used               0.001206\n",
       "584_diag                       0.001197\n",
       "V57_diag                       0.001193\n",
       "424_diag                       0.001108\n",
       "780_diag                       0.001070\n",
       "max_glu_serum_Norm             0.001043\n",
       "rosiglitazone_used             0.001016\n",
       "admission_source_id_6          0.000996\n",
       "max_glu_serum_>300             0.000993\n",
       "admission_source_id_5          0.000970\n",
       "585_diag                       0.000897\n",
       "996_diag                       0.000858\n",
       "admission_source_id_2          0.000851\n",
       "41_diag                        0.000802\n",
       "577_diag                       0.000799\n",
       "425_diag                       0.000766\n",
       "435_diag                       0.000728\n",
       "682_diag                       0.000654\n",
       "38_diag                        0.000611\n",
       "discharge_disposition_id_4     0.000571\n",
       "560_diag                       0.000521\n",
       "562_diag                       0.000492\n",
       "433_diag                       0.000422\n",
       "race_Asian                     0.000333"
      ]
     },
     "execution_count": 121,
     "metadata": {},
     "output_type": "execute_result"
    }
   ],
   "source": [
    "feature_importances"
   ]
  },
  {
   "cell_type": "code",
   "execution_count": 122,
   "metadata": {},
   "outputs": [
    {
     "data": {
      "text/plain": [
       "Index(['number_inpatient', 'discharge_disposition_id_22',\n",
       "       'discharge_disposition_id_3', 'time_in_hospital', 'age_num',\n",
       "       'number_diagnoses', 'num_medications', 'discharge_disposition_id_5',\n",
       "       'num_lab_procedures', '786_diag', '434_diag', 'number_emergency',\n",
       "       '403_diag', 'diabetesMed_Yes', '401_diag', '428_diag',\n",
       "       'discharge_disposition_id_2', 'num_procedures', '707_diag', '440_diag',\n",
       "       '272_diag', 'number_outpatient', '820_diag', 'insulin_used', '414_diag',\n",
       "       'discharge_disposition_id_6', 'change_No', '250_diag', 'metformin_used',\n",
       "       'glipizide_used', 'admission_type_id_6', 'race_Caucasian',\n",
       "       'admission_type_id_5', '278_diag', 'admission_type_id_3', '722_diag',\n",
       "       'admission_source_id_7', 'admission_type_id_2', 'max_glu_serum_None',\n",
       "       '305_diag', 'race_Other', '276_diag', 'admission_source_id_17',\n",
       "       '574_diag', '715_diag', 'gender_Male', '496_diag', '599_diag',\n",
       "       'V45_diag', '413_diag', 'A1Cresult_>8', '486_diag', 'pioglitazone_used',\n",
       "       '285_diag', 'A1Cresult_None', '410_diag', 'discharge_disposition_id_18',\n",
       "       '518_diag', 'admission_source_id_4', 'race_Hispanic', '493_diag',\n",
       "       '296_diag', 'discharge_disposition_id_25', 'glyburide_used',\n",
       "       'glimepiride_used', 'A1Cresult_Norm', '411_diag', '491_diag',\n",
       "       '427_diag', 'repaglinide_used', '584_diag', 'V57_diag', '424_diag',\n",
       "       '780_diag', 'max_glu_serum_Norm', 'rosiglitazone_used',\n",
       "       'admission_source_id_6', 'max_glu_serum_>300', 'admission_source_id_5',\n",
       "       '585_diag', '996_diag', 'admission_source_id_2', '41_diag', '577_diag',\n",
       "       '425_diag', '435_diag', '682_diag', '38_diag',\n",
       "       'discharge_disposition_id_4', '560_diag', '562_diag', '433_diag',\n",
       "       'race_Asian'],\n",
       "      dtype='object')"
      ]
     },
     "execution_count": 122,
     "metadata": {},
     "output_type": "execute_result"
    }
   ],
   "source": [
    "feature_importances.index"
   ]
  },
  {
   "cell_type": "markdown",
   "metadata": {},
   "source": [
    "### 3.3.4 RandomForest : class weight  = \"balanced_subsample\""
   ]
  },
  {
   "cell_type": "code",
   "execution_count": 123,
   "metadata": {},
   "outputs": [],
   "source": [
    "X = data.drop (['readmit_30d'], axis=1)\n",
    "y = data['readmit_30d']\n",
    "X_train, X_test, y_train, y_test = train_test_split(X, y, test_size=0.2, random_state=42, stratify=y)"
   ]
  },
  {
   "cell_type": "code",
   "execution_count": 124,
   "metadata": {},
   "outputs": [],
   "source": [
    "from sklearn.ensemble import RandomForestClassifier\n",
    "forest_sub = RandomForestClassifier(n_estimators= 200,\n",
    "                                random_state=42,\n",
    "                               class_weight = 'balanced_subsample',\n",
    "                               max_depth = 5)"
   ]
  },
  {
   "cell_type": "code",
   "execution_count": 125,
   "metadata": {},
   "outputs": [
    {
     "data": {
      "text/plain": [
       "RandomForestClassifier(class_weight='balanced_subsample', max_depth=5,\n",
       "                       n_estimators=200, random_state=42)"
      ]
     },
     "execution_count": 125,
     "metadata": {},
     "output_type": "execute_result"
    }
   ],
   "source": [
    "forest_sub.fit(X_train, y_train)"
   ]
  },
  {
   "cell_type": "code",
   "execution_count": 126,
   "metadata": {},
   "outputs": [],
   "source": [
    "y_pred = forest_sub.predict(X_test)"
   ]
  },
  {
   "cell_type": "markdown",
   "metadata": {},
   "source": [
    "### 3.3.4.1 GridSearch"
   ]
  },
  {
   "cell_type": "code",
   "execution_count": 127,
   "metadata": {},
   "outputs": [],
   "source": [
    "params = {'n_estimators' : [120, 150, 200],\n",
    "        'max_depth' : [8, 10, 12],\n",
    "        'min_samples_split' : [8, 10, 12, 15],\n",
    "        'min_samples_leaf' : [2, 4, 5, 7]}\n",
    "grid = GridSearchCV(estimator=forest_sub, \n",
    "                    param_grid=params, \n",
    "                    n_jobs=-1, \n",
    "                    cv= 5, \n",
    "                    scoring='roc_auc')\n",
    "grid_result = grid.fit(X_train, y_train)"
   ]
  },
  {
   "cell_type": "code",
   "execution_count": 128,
   "metadata": {},
   "outputs": [
    {
     "name": "stdout",
     "output_type": "stream",
     "text": [
      "{'max_depth': 10, 'min_samples_leaf': 7, 'min_samples_split': 15, 'n_estimators': 200}\n",
      "0.6462548791476612\n"
     ]
    }
   ],
   "source": [
    "print(grid_result.best_params_)\n",
    "print(grid_result.best_score_)"
   ]
  },
  {
   "cell_type": "code",
   "execution_count": 129,
   "metadata": {},
   "outputs": [
    {
     "data": {
      "text/plain": [
       "0.6063176761515052"
      ]
     },
     "execution_count": 129,
     "metadata": {},
     "output_type": "execute_result"
    }
   ],
   "source": [
    "roc_auc_score(y_test, y_pred)"
   ]
  },
  {
   "cell_type": "code",
   "execution_count": 130,
   "metadata": {},
   "outputs": [
    {
     "name": "stdout",
     "output_type": "stream",
     "text": [
      "0.7284158928645037\n",
      "0.646767260184476\n"
     ]
    }
   ],
   "source": [
    "print(grid_result.score(X_train, y_train)) \n",
    "print(grid_result.score(X_test, y_test)) "
   ]
  },
  {
   "cell_type": "code",
   "execution_count": 131,
   "metadata": {},
   "outputs": [],
   "source": [
    "y_pred_train = grid_result.predict(X_train)"
   ]
  },
  {
   "cell_type": "code",
   "execution_count": 132,
   "metadata": {},
   "outputs": [],
   "source": [
    "y_pred_test = grid_result.predict(X_test)"
   ]
  },
  {
   "cell_type": "code",
   "execution_count": 133,
   "metadata": {},
   "outputs": [
    {
     "name": "stdout",
     "output_type": "stream",
     "text": [
      "auc_roc\n",
      "0.66310353610421\n",
      "0.6037662365687575\n"
     ]
    }
   ],
   "source": [
    "print('auc_roc')\n",
    "print(roc_auc_score(y_train, y_train_pred))\n",
    "print(roc_auc_score(y_test, y_test_pred))"
   ]
  },
  {
   "cell_type": "markdown",
   "metadata": {},
   "source": [
    "### 3.3.4.2 Confusion Matrix"
   ]
  },
  {
   "cell_type": "code",
   "execution_count": 134,
   "metadata": {},
   "outputs": [
    {
     "data": {
      "text/html": [
       "<div>\n",
       "<style scoped>\n",
       "    .dataframe tbody tr th:only-of-type {\n",
       "        vertical-align: middle;\n",
       "    }\n",
       "\n",
       "    .dataframe tbody tr th {\n",
       "        vertical-align: top;\n",
       "    }\n",
       "\n",
       "    .dataframe thead th {\n",
       "        text-align: right;\n",
       "    }\n",
       "</style>\n",
       "<table border=\"1\" class=\"dataframe\">\n",
       "  <thead>\n",
       "    <tr style=\"text-align: right;\">\n",
       "      <th></th>\n",
       "      <th>Predict[0]</th>\n",
       "      <th>Predict[1]</th>\n",
       "    </tr>\n",
       "  </thead>\n",
       "  <tbody>\n",
       "    <tr>\n",
       "      <th>True[0]</th>\n",
       "      <td>9333</td>\n",
       "      <td>3406</td>\n",
       "    </tr>\n",
       "    <tr>\n",
       "      <th>True[1]</th>\n",
       "      <td>659</td>\n",
       "      <td>596</td>\n",
       "    </tr>\n",
       "  </tbody>\n",
       "</table>\n",
       "</div>"
      ],
      "text/plain": [
       "         Predict[0]  Predict[1]\n",
       "True[0]        9333        3406\n",
       "True[1]         659         596"
      ]
     },
     "execution_count": 134,
     "metadata": {},
     "output_type": "execute_result"
    }
   ],
   "source": [
    "confmat = pd.DataFrame(confusion_matrix(y_test, y_test_pred),\n",
    "                      index=['True[0]','True[1]'],\n",
    "                      columns=['Predict[0]', 'Predict[1]'])\n",
    "confmat"
   ]
  },
  {
   "cell_type": "code",
   "execution_count": 135,
   "metadata": {},
   "outputs": [
    {
     "name": "stdout",
     "output_type": "stream",
     "text": [
      "precision_score: 0.149\n",
      "recall_score: 0.475\n",
      "f1_score: 0.227\n"
     ]
    }
   ],
   "source": [
    "print('precision_score: %.3f' % precision_score(y_true=y_test, y_pred=y_test_pred))\n",
    "print('recall_score: %.3f' % recall_score(y_true=y_test, y_pred=y_test_pred))\n",
    "print('f1_score: %.3f' % f1_score(y_true=y_test, y_pred=y_test_pred))"
   ]
  },
  {
   "cell_type": "markdown",
   "metadata": {},
   "source": [
    "### 3.3.4.3 precision recall curve"
   ]
  },
  {
   "cell_type": "code",
   "execution_count": 136,
   "metadata": {},
   "outputs": [
    {
     "data": {
      "image/png": "[encoded data removed]",
      "text/plain": [
       "<Figure size 432x288 with 1 Axes>"
      ]
     },
     "metadata": {
      "needs_background": "light"
     },
     "output_type": "display_data"
    }
   ],
   "source": [
    "from sklearn.metrics import precision_recall_curve\n",
    "precision, recall, _ = precision_recall_curve(y_test, y_test_pred)\n",
    "\n",
    "plt.figure()\n",
    "plt.step(recall, precision, color = \"pink\", alpha = 0.3, where = 'post')\n",
    "plt.fill_between(recall, precision, step = 'post', alpha=0.5, color = \"pink\")\n",
    "plt.xlabel('recall')\n",
    "plt.ylabel('precision')\n",
    "plt.title('Precision-Recall curve');"
   ]
  },
  {
   "cell_type": "markdown",
   "metadata": {},
   "source": [
    "### 3.3.4.4 feature importance"
   ]
  },
  {
   "cell_type": "code",
   "execution_count": 137,
   "metadata": {},
   "outputs": [
    {
     "data": {
      "text/plain": [
       "array([0.07325025, 0.05911684, 0.02224683, 0.05927064, 0.01303179,\n",
       "       0.01881654, 0.11074497, 0.04640168, 0.05431881, 0.00238472,\n",
       "       0.00264863, 0.00252698, 0.00165335, 0.00383534, 0.0026256 ,\n",
       "       0.0048911 , 0.00318977, 0.00245481, 0.00250034, 0.0026704 ,\n",
       "       0.00158605, 0.00092051, 0.0101526 , 0.00115637, 0.00497202,\n",
       "       0.00089064, 0.00463437, 0.0061725 , 0.00327476, 0.00710461,\n",
       "       0.01641092, 0.01592837, 0.00266498, 0.00362441, 0.00164096,\n",
       "       0.00311851, 0.01473491, 0.00285583, 0.00290037, 0.00409007,\n",
       "       0.00216322, 0.00196583, 0.00115559, 0.00267247, 0.00652274,\n",
       "       0.00110379, 0.00195627, 0.00148191, 0.00090564, 0.01030525,\n",
       "       0.00610927, 0.01642337, 0.00295542, 0.00233384, 0.00806262,\n",
       "       0.00192179, 0.00267861, 0.00627616, 0.00525007, 0.00462107,\n",
       "       0.00300918, 0.01071962, 0.00048265, 0.00849951, 0.00270091,\n",
       "       0.00204065, 0.00832371, 0.0070392 , 0.00718104, 0.00461051,\n",
       "       0.00574844, 0.00365066, 0.01077733, 0.08096387, 0.00117719,\n",
       "       0.05951426, 0.00077788, 0.02262402, 0.00782449, 0.00436107,\n",
       "       0.00091595, 0.00343224, 0.00166964, 0.00220052, 0.00899053,\n",
       "       0.00109087, 0.00454084, 0.00192244, 0.00444135, 0.00670881,\n",
       "       0.00400345, 0.00839935, 0.01537978])"
      ]
     },
     "execution_count": 137,
     "metadata": {},
     "output_type": "execute_result"
    }
   ],
   "source": [
    "grid.best_estimator_.feature_importances_"
   ]
  },
  {
   "cell_type": "code",
   "execution_count": 140,
   "metadata": {},
   "outputs": [
    {
     "data": {
      "text/plain": [
       "<bound method IndexOpsMixin.tolist of Index(['number_inpatient', 'discharge_disposition_id_22',\n",
       "       'discharge_disposition_id_3', 'time_in_hospital', 'age_num',\n",
       "       'number_diagnoses', 'num_medications', 'discharge_disposition_id_5',\n",
       "       'num_lab_procedures', '786_diag', '434_diag', 'number_emergency',\n",
       "       '403_diag', 'diabetesMed_Yes', '401_diag', '428_diag',\n",
       "       'discharge_disposition_id_2', 'num_procedures', '707_diag', '440_diag',\n",
       "       '272_diag', 'number_outpatient', '820_diag', 'insulin_used', '414_diag',\n",
       "       'discharge_disposition_id_6', 'change_No', '250_diag', 'metformin_used',\n",
       "       'glipizide_used', 'admission_type_id_6', 'race_Caucasian',\n",
       "       'admission_type_id_5', '278_diag', 'admission_type_id_3', '722_diag',\n",
       "       'admission_source_id_7', 'admission_type_id_2', 'max_glu_serum_None',\n",
       "       '305_diag', 'race_Other', '276_diag', 'admission_source_id_17',\n",
       "       '574_diag', '715_diag', 'gender_Male', '496_diag', '599_diag',\n",
       "       'V45_diag', '413_diag', 'A1Cresult_>8', '486_diag', 'pioglitazone_used',\n",
       "       '285_diag', 'A1Cresult_None', '410_diag', 'discharge_disposition_id_18',\n",
       "       '518_diag', 'admission_source_id_4', 'race_Hispanic', '493_diag',\n",
       "       '296_diag', 'discharge_disposition_id_25', 'glyburide_used',\n",
       "       'glimepiride_used', 'A1Cresult_Norm', '411_diag', '491_diag',\n",
       "       '427_diag', 'repaglinide_used', '584_diag', 'V57_diag', '424_diag',\n",
       "       '780_diag', 'max_glu_serum_Norm', 'rosiglitazone_used',\n",
       "       'admission_source_id_6', 'max_glu_serum_>300', 'admission_source_id_5',\n",
       "       '585_diag', '996_diag', 'admission_source_id_2', '41_diag', '577_diag',\n",
       "       '425_diag', '435_diag', '682_diag', '38_diag',\n",
       "       'discharge_disposition_id_4', '560_diag', '562_diag', '433_diag',\n",
       "       'race_Asian'],\n",
       "      dtype='object')>"
      ]
     },
     "execution_count": 140,
     "metadata": {},
     "output_type": "execute_result"
    }
   ],
   "source": [
    "feature_importances.index.to_list"
   ]
  },
  {
   "cell_type": "code",
   "execution_count": 141,
   "metadata": {},
   "outputs": [
    {
     "data": {
      "image/png": "[encoded data removed]",
      "text/plain": [
       "<Figure size 2160x1440 with 1 Axes>"
      ]
     },
     "metadata": {
      "needs_background": "light"
     },
     "output_type": "display_data"
    }
   ],
   "source": [
    "ftr_importances_values = grid.best_estimator_.feature_importances_\n",
    "ftr_importances = pd.Series(ftr_importances_values, index=X_train.columns)\n",
    "ftr_sort = ftr_importances.sort_values(ascending=False)\n",
    "plt.figure(figsize=(30,20))\n",
    "plt.title('Feature importances')\n",
    "sns.barplot(x=ftr_sort , y = ftr_sort.index)\n",
    "plt.show()"
   ]
  },
  {
   "cell_type": "code",
   "execution_count": 142,
   "metadata": {},
   "outputs": [],
   "source": [
    "import pandas as pd\n",
    "feature_importances = pd.DataFrame(grid.best_estimator_.feature_importances_,\n",
    "                                   index = X_train.columns,\n",
    "                                    columns=['importance']).sort_values('importance', ascending=False)\n"
   ]
  },
  {
   "cell_type": "code",
   "execution_count": 143,
   "metadata": {},
   "outputs": [
    {
     "data": {
      "text/html": [
       "<div>\n",
       "<style scoped>\n",
       "    .dataframe tbody tr th:only-of-type {\n",
       "        vertical-align: middle;\n",
       "    }\n",
       "\n",
       "    .dataframe tbody tr th {\n",
       "        vertical-align: top;\n",
       "    }\n",
       "\n",
       "    .dataframe thead th {\n",
       "        text-align: right;\n",
       "    }\n",
       "</style>\n",
       "<table border=\"1\" class=\"dataframe\">\n",
       "  <thead>\n",
       "    <tr style=\"text-align: right;\">\n",
       "      <th></th>\n",
       "      <th>importance</th>\n",
       "    </tr>\n",
       "  </thead>\n",
       "  <tbody>\n",
       "    <tr>\n",
       "      <th>number_inpatient</th>\n",
       "      <td>0.110745</td>\n",
       "    </tr>\n",
       "    <tr>\n",
       "      <th>discharge_disposition_id_22</th>\n",
       "      <td>0.080964</td>\n",
       "    </tr>\n",
       "    <tr>\n",
       "      <th>time_in_hospital</th>\n",
       "      <td>0.073250</td>\n",
       "    </tr>\n",
       "    <tr>\n",
       "      <th>discharge_disposition_id_3</th>\n",
       "      <td>0.059514</td>\n",
       "    </tr>\n",
       "    <tr>\n",
       "      <th>num_medications</th>\n",
       "      <td>0.059271</td>\n",
       "    </tr>\n",
       "    <tr>\n",
       "      <th>num_lab_procedures</th>\n",
       "      <td>0.059117</td>\n",
       "    </tr>\n",
       "    <tr>\n",
       "      <th>age_num</th>\n",
       "      <td>0.054319</td>\n",
       "    </tr>\n",
       "    <tr>\n",
       "      <th>number_diagnoses</th>\n",
       "      <td>0.046402</td>\n",
       "    </tr>\n",
       "    <tr>\n",
       "      <th>discharge_disposition_id_5</th>\n",
       "      <td>0.022624</td>\n",
       "    </tr>\n",
       "    <tr>\n",
       "      <th>num_procedures</th>\n",
       "      <td>0.022247</td>\n",
       "    </tr>\n",
       "    <tr>\n",
       "      <th>number_emergency</th>\n",
       "      <td>0.018817</td>\n",
       "    </tr>\n",
       "    <tr>\n",
       "      <th>786_diag</th>\n",
       "      <td>0.016423</td>\n",
       "    </tr>\n",
       "    <tr>\n",
       "      <th>434_diag</th>\n",
       "      <td>0.016411</td>\n",
       "    </tr>\n",
       "    <tr>\n",
       "      <th>403_diag</th>\n",
       "      <td>0.015928</td>\n",
       "    </tr>\n",
       "    <tr>\n",
       "      <th>diabetesMed_Yes</th>\n",
       "      <td>0.015380</td>\n",
       "    </tr>\n",
       "    <tr>\n",
       "      <th>428_diag</th>\n",
       "      <td>0.014735</td>\n",
       "    </tr>\n",
       "    <tr>\n",
       "      <th>number_outpatient</th>\n",
       "      <td>0.013032</td>\n",
       "    </tr>\n",
       "    <tr>\n",
       "      <th>discharge_disposition_id_2</th>\n",
       "      <td>0.010777</td>\n",
       "    </tr>\n",
       "    <tr>\n",
       "      <th>insulin_used</th>\n",
       "      <td>0.010720</td>\n",
       "    </tr>\n",
       "    <tr>\n",
       "      <th>401_diag</th>\n",
       "      <td>0.010305</td>\n",
       "    </tr>\n",
       "    <tr>\n",
       "      <th>250_diag</th>\n",
       "      <td>0.010153</td>\n",
       "    </tr>\n",
       "    <tr>\n",
       "      <th>admission_source_id_7</th>\n",
       "      <td>0.008991</td>\n",
       "    </tr>\n",
       "    <tr>\n",
       "      <th>race_Caucasian</th>\n",
       "      <td>0.008500</td>\n",
       "    </tr>\n",
       "    <tr>\n",
       "      <th>change_No</th>\n",
       "      <td>0.008399</td>\n",
       "    </tr>\n",
       "    <tr>\n",
       "      <th>gender_Male</th>\n",
       "      <td>0.008324</td>\n",
       "    </tr>\n",
       "    <tr>\n",
       "      <th>metformin_used</th>\n",
       "      <td>0.008063</td>\n",
       "    </tr>\n",
       "    <tr>\n",
       "      <th>discharge_disposition_id_6</th>\n",
       "      <td>0.007824</td>\n",
       "    </tr>\n",
       "    <tr>\n",
       "      <th>admission_type_id_3</th>\n",
       "      <td>0.007181</td>\n",
       "    </tr>\n",
       "    <tr>\n",
       "      <th>414_diag</th>\n",
       "      <td>0.007105</td>\n",
       "    </tr>\n",
       "    <tr>\n",
       "      <th>admission_type_id_2</th>\n",
       "      <td>0.007039</td>\n",
       "    </tr>\n",
       "    <tr>\n",
       "      <th>A1Cresult_None</th>\n",
       "      <td>0.006709</td>\n",
       "    </tr>\n",
       "    <tr>\n",
       "      <th>707_diag</th>\n",
       "      <td>0.006523</td>\n",
       "    </tr>\n",
       "    <tr>\n",
       "      <th>glipizide_used</th>\n",
       "      <td>0.006276</td>\n",
       "    </tr>\n",
       "    <tr>\n",
       "      <th>272_diag</th>\n",
       "      <td>0.006172</td>\n",
       "    </tr>\n",
       "    <tr>\n",
       "      <th>820_diag</th>\n",
       "      <td>0.006109</td>\n",
       "    </tr>\n",
       "    <tr>\n",
       "      <th>admission_type_id_6</th>\n",
       "      <td>0.005748</td>\n",
       "    </tr>\n",
       "    <tr>\n",
       "      <th>glyburide_used</th>\n",
       "      <td>0.005250</td>\n",
       "    </tr>\n",
       "    <tr>\n",
       "      <th>427_diag</th>\n",
       "      <td>0.004972</td>\n",
       "    </tr>\n",
       "    <tr>\n",
       "      <th>440_diag</th>\n",
       "      <td>0.004891</td>\n",
       "    </tr>\n",
       "    <tr>\n",
       "      <th>276_diag</th>\n",
       "      <td>0.004634</td>\n",
       "    </tr>\n",
       "    <tr>\n",
       "      <th>pioglitazone_used</th>\n",
       "      <td>0.004621</td>\n",
       "    </tr>\n",
       "    <tr>\n",
       "      <th>admission_type_id_5</th>\n",
       "      <td>0.004611</td>\n",
       "    </tr>\n",
       "    <tr>\n",
       "      <th>max_glu_serum_None</th>\n",
       "      <td>0.004541</td>\n",
       "    </tr>\n",
       "    <tr>\n",
       "      <th>A1Cresult_&gt;8</th>\n",
       "      <td>0.004441</td>\n",
       "    </tr>\n",
       "    <tr>\n",
       "      <th>admission_source_id_17</th>\n",
       "      <td>0.004361</td>\n",
       "    </tr>\n",
       "    <tr>\n",
       "      <th>715_diag</th>\n",
       "      <td>0.004090</td>\n",
       "    </tr>\n",
       "    <tr>\n",
       "      <th>A1Cresult_Norm</th>\n",
       "      <td>0.004003</td>\n",
       "    </tr>\n",
       "    <tr>\n",
       "      <th>486_diag</th>\n",
       "      <td>0.003835</td>\n",
       "    </tr>\n",
       "    <tr>\n",
       "      <th>discharge_disposition_id_18</th>\n",
       "      <td>0.003651</td>\n",
       "    </tr>\n",
       "    <tr>\n",
       "      <th>599_diag</th>\n",
       "      <td>0.003624</td>\n",
       "    </tr>\n",
       "    <tr>\n",
       "      <th>admission_source_id_4</th>\n",
       "      <td>0.003432</td>\n",
       "    </tr>\n",
       "    <tr>\n",
       "      <th>496_diag</th>\n",
       "      <td>0.003275</td>\n",
       "    </tr>\n",
       "    <tr>\n",
       "      <th>278_diag</th>\n",
       "      <td>0.003190</td>\n",
       "    </tr>\n",
       "    <tr>\n",
       "      <th>780_diag</th>\n",
       "      <td>0.003119</td>\n",
       "    </tr>\n",
       "    <tr>\n",
       "      <th>rosiglitazone_used</th>\n",
       "      <td>0.003009</td>\n",
       "    </tr>\n",
       "    <tr>\n",
       "      <th>410_diag</th>\n",
       "      <td>0.002955</td>\n",
       "    </tr>\n",
       "    <tr>\n",
       "      <th>285_diag</th>\n",
       "      <td>0.002900</td>\n",
       "    </tr>\n",
       "    <tr>\n",
       "      <th>584_diag</th>\n",
       "      <td>0.002856</td>\n",
       "    </tr>\n",
       "    <tr>\n",
       "      <th>race_Hispanic</th>\n",
       "      <td>0.002701</td>\n",
       "    </tr>\n",
       "    <tr>\n",
       "      <th>glimepiride_used</th>\n",
       "      <td>0.002679</td>\n",
       "    </tr>\n",
       "    <tr>\n",
       "      <th>682_diag</th>\n",
       "      <td>0.002672</td>\n",
       "    </tr>\n",
       "    <tr>\n",
       "      <th>491_diag</th>\n",
       "      <td>0.002670</td>\n",
       "    </tr>\n",
       "    <tr>\n",
       "      <th>V45_diag</th>\n",
       "      <td>0.002665</td>\n",
       "    </tr>\n",
       "    <tr>\n",
       "      <th>722_diag</th>\n",
       "      <td>0.002649</td>\n",
       "    </tr>\n",
       "    <tr>\n",
       "      <th>493_diag</th>\n",
       "      <td>0.002626</td>\n",
       "    </tr>\n",
       "    <tr>\n",
       "      <th>413_diag</th>\n",
       "      <td>0.002527</td>\n",
       "    </tr>\n",
       "    <tr>\n",
       "      <th>574_diag</th>\n",
       "      <td>0.002500</td>\n",
       "    </tr>\n",
       "    <tr>\n",
       "      <th>411_diag</th>\n",
       "      <td>0.002455</td>\n",
       "    </tr>\n",
       "    <tr>\n",
       "      <th>305_diag</th>\n",
       "      <td>0.002385</td>\n",
       "    </tr>\n",
       "    <tr>\n",
       "      <th>518_diag</th>\n",
       "      <td>0.002334</td>\n",
       "    </tr>\n",
       "    <tr>\n",
       "      <th>admission_source_id_6</th>\n",
       "      <td>0.002201</td>\n",
       "    </tr>\n",
       "    <tr>\n",
       "      <th>585_diag</th>\n",
       "      <td>0.002163</td>\n",
       "    </tr>\n",
       "    <tr>\n",
       "      <th>race_Other</th>\n",
       "      <td>0.002041</td>\n",
       "    </tr>\n",
       "    <tr>\n",
       "      <th>996_diag</th>\n",
       "      <td>0.001966</td>\n",
       "    </tr>\n",
       "    <tr>\n",
       "      <th>424_diag</th>\n",
       "      <td>0.001956</td>\n",
       "    </tr>\n",
       "    <tr>\n",
       "      <th>max_glu_serum_Norm</th>\n",
       "      <td>0.001922</td>\n",
       "    </tr>\n",
       "    <tr>\n",
       "      <th>repaglinide_used</th>\n",
       "      <td>0.001922</td>\n",
       "    </tr>\n",
       "    <tr>\n",
       "      <th>admission_source_id_5</th>\n",
       "      <td>0.001670</td>\n",
       "    </tr>\n",
       "    <tr>\n",
       "      <th>296_diag</th>\n",
       "      <td>0.001653</td>\n",
       "    </tr>\n",
       "    <tr>\n",
       "      <th>V57_diag</th>\n",
       "      <td>0.001641</td>\n",
       "    </tr>\n",
       "    <tr>\n",
       "      <th>425_diag</th>\n",
       "      <td>0.001586</td>\n",
       "    </tr>\n",
       "    <tr>\n",
       "      <th>38_diag</th>\n",
       "      <td>0.001482</td>\n",
       "    </tr>\n",
       "    <tr>\n",
       "      <th>discharge_disposition_id_25</th>\n",
       "      <td>0.001177</td>\n",
       "    </tr>\n",
       "    <tr>\n",
       "      <th>41_diag</th>\n",
       "      <td>0.001156</td>\n",
       "    </tr>\n",
       "    <tr>\n",
       "      <th>562_diag</th>\n",
       "      <td>0.001156</td>\n",
       "    </tr>\n",
       "    <tr>\n",
       "      <th>433_diag</th>\n",
       "      <td>0.001104</td>\n",
       "    </tr>\n",
       "    <tr>\n",
       "      <th>max_glu_serum_&gt;300</th>\n",
       "      <td>0.001091</td>\n",
       "    </tr>\n",
       "    <tr>\n",
       "      <th>577_diag</th>\n",
       "      <td>0.000921</td>\n",
       "    </tr>\n",
       "    <tr>\n",
       "      <th>admission_source_id_2</th>\n",
       "      <td>0.000916</td>\n",
       "    </tr>\n",
       "    <tr>\n",
       "      <th>435_diag</th>\n",
       "      <td>0.000906</td>\n",
       "    </tr>\n",
       "    <tr>\n",
       "      <th>560_diag</th>\n",
       "      <td>0.000891</td>\n",
       "    </tr>\n",
       "    <tr>\n",
       "      <th>discharge_disposition_id_4</th>\n",
       "      <td>0.000778</td>\n",
       "    </tr>\n",
       "    <tr>\n",
       "      <th>race_Asian</th>\n",
       "      <td>0.000483</td>\n",
       "    </tr>\n",
       "  </tbody>\n",
       "</table>\n",
       "</div>"
      ],
      "text/plain": [
       "                             importance\n",
       "number_inpatient               0.110745\n",
       "discharge_disposition_id_22    0.080964\n",
       "time_in_hospital               0.073250\n",
       "discharge_disposition_id_3     0.059514\n",
       "num_medications                0.059271\n",
       "num_lab_procedures             0.059117\n",
       "age_num                        0.054319\n",
       "number_diagnoses               0.046402\n",
       "discharge_disposition_id_5     0.022624\n",
       "num_procedures                 0.022247\n",
       "number_emergency               0.018817\n",
       "786_diag                       0.016423\n",
       "434_diag                       0.016411\n",
       "403_diag                       0.015928\n",
       "diabetesMed_Yes                0.015380\n",
       "428_diag                       0.014735\n",
       "number_outpatient              0.013032\n",
       "discharge_disposition_id_2     0.010777\n",
       "insulin_used                   0.010720\n",
       "401_diag                       0.010305\n",
       "250_diag                       0.010153\n",
       "admission_source_id_7          0.008991\n",
       "race_Caucasian                 0.008500\n",
       "change_No                      0.008399\n",
       "gender_Male                    0.008324\n",
       "metformin_used                 0.008063\n",
       "discharge_disposition_id_6     0.007824\n",
       "admission_type_id_3            0.007181\n",
       "414_diag                       0.007105\n",
       "admission_type_id_2            0.007039\n",
       "A1Cresult_None                 0.006709\n",
       "707_diag                       0.006523\n",
       "glipizide_used                 0.006276\n",
       "272_diag                       0.006172\n",
       "820_diag                       0.006109\n",
       "admission_type_id_6            0.005748\n",
       "glyburide_used                 0.005250\n",
       "427_diag                       0.004972\n",
       "440_diag                       0.004891\n",
       "276_diag                       0.004634\n",
       "pioglitazone_used              0.004621\n",
       "admission_type_id_5            0.004611\n",
       "max_glu_serum_None             0.004541\n",
       "A1Cresult_>8                   0.004441\n",
       "admission_source_id_17         0.004361\n",
       "715_diag                       0.004090\n",
       "A1Cresult_Norm                 0.004003\n",
       "486_diag                       0.003835\n",
       "discharge_disposition_id_18    0.003651\n",
       "599_diag                       0.003624\n",
       "admission_source_id_4          0.003432\n",
       "496_diag                       0.003275\n",
       "278_diag                       0.003190\n",
       "780_diag                       0.003119\n",
       "rosiglitazone_used             0.003009\n",
       "410_diag                       0.002955\n",
       "285_diag                       0.002900\n",
       "584_diag                       0.002856\n",
       "race_Hispanic                  0.002701\n",
       "glimepiride_used               0.002679\n",
       "682_diag                       0.002672\n",
       "491_diag                       0.002670\n",
       "V45_diag                       0.002665\n",
       "722_diag                       0.002649\n",
       "493_diag                       0.002626\n",
       "413_diag                       0.002527\n",
       "574_diag                       0.002500\n",
       "411_diag                       0.002455\n",
       "305_diag                       0.002385\n",
       "518_diag                       0.002334\n",
       "admission_source_id_6          0.002201\n",
       "585_diag                       0.002163\n",
       "race_Other                     0.002041\n",
       "996_diag                       0.001966\n",
       "424_diag                       0.001956\n",
       "max_glu_serum_Norm             0.001922\n",
       "repaglinide_used               0.001922\n",
       "admission_source_id_5          0.001670\n",
       "296_diag                       0.001653\n",
       "V57_diag                       0.001641\n",
       "425_diag                       0.001586\n",
       "38_diag                        0.001482\n",
       "discharge_disposition_id_25    0.001177\n",
       "41_diag                        0.001156\n",
       "562_diag                       0.001156\n",
       "433_diag                       0.001104\n",
       "max_glu_serum_>300             0.001091\n",
       "577_diag                       0.000921\n",
       "admission_source_id_2          0.000916\n",
       "435_diag                       0.000906\n",
       "560_diag                       0.000891\n",
       "discharge_disposition_id_4     0.000778\n",
       "race_Asian                     0.000483"
      ]
     },
     "execution_count": 143,
     "metadata": {},
     "output_type": "execute_result"
    }
   ],
   "source": [
    "feature_importances "
   ]
  },
  {
   "cell_type": "code",
   "execution_count": 144,
   "metadata": {},
   "outputs": [],
   "source": [
    "top_43_features = ['number_inpatient', 'discharge_disposition_id_22', 'time_in_hospital',\n",
    "       'num_lab_procedures', 'num_medications', 'age_num',\n",
    "       'discharge_disposition_id_3', 'number_diagnoses',\n",
    "       'discharge_disposition_id_5', 'num_procedures', 'number_emergency',\n",
    "       '786_diag', '434_diag', '428_diag', 'number_outpatient',\n",
    "       'diabetesMed_Yes', '403_diag', 'discharge_disposition_id_2', '401_diag',\n",
    "       'insulin_used', 'admission_source_id_7', '250_diag', 'race_Caucasian',\n",
    "       'gender_Male', 'change_No', '414_diag', 'admission_type_id_3',\n",
    "       'glipizide_used', 'discharge_disposition_id_6', '820_diag',\n",
    "       'metformin_used', '707_diag', 'admission_type_id_2', 'A1Cresult_None',\n",
    "       'admission_type_id_6', '276_diag', '440_diag', 'admission_type_id_5',\n",
    "       'glyburide_used', 'max_glu_serum_None', '427_diag', 'A1Cresult_>8',\n",
    "       '599_diag']"
   ]
  },
  {
   "cell_type": "markdown",
   "metadata": {},
   "source": [
    "### 3.5 Gradient Boosting"
   ]
  },
  {
   "cell_type": "code",
   "execution_count": 145,
   "metadata": {},
   "outputs": [],
   "source": [
    "# Boosting model has same problem..High training accuracy, but low tests accuracy.\n",
    "# It seems overfitting problem"
   ]
  },
  {
   "cell_type": "markdown",
   "metadata": {},
   "source": [
    "### Train, Test split"
   ]
  },
  {
   "cell_type": "code",
   "execution_count": 146,
   "metadata": {},
   "outputs": [],
   "source": [
    "top_43_features = ['number_inpatient', 'discharge_disposition_id_22', 'time_in_hospital',\n",
    "       'discharge_disposition_id_3', 'age_num', 'num_medications',\n",
    "       'number_diagnoses', 'discharge_disposition_id_5', 'num_lab_procedures',\n",
    "       '434_diag', '786_diag', '403_diag', 'diabetesMed_Yes',\n",
    "       'number_emergency', '401_diag', 'discharge_disposition_id_2',\n",
    "       '428_diag', 'insulin_used', 'num_procedures', '440_diag', '707_diag',\n",
    "       '272_diag', 'number_outpatient', '820_diag', 'admission_type_id_3',\n",
    "       '278_diag', 'discharge_disposition_id_6', 'change_No', '414_diag',\n",
    "       'admission_source_id_7', 'race_Other', 'admission_type_id_6',\n",
    "       '250_diag', '305_diag', 'metformin_used', 'gender_Male', '722_diag',\n",
    "       'race_Caucasian', 'glipizide_used', 'admission_type_id_5',\n",
    "       'A1Cresult_None', '574_diag', 'pioglitazone_used']"
   ]
  },
  {
   "cell_type": "code",
   "execution_count": 147,
   "metadata": {},
   "outputs": [],
   "source": [
    "X = data[top_43_features]\n",
    "y= data['readmit_30d']"
   ]
  },
  {
   "cell_type": "code",
   "execution_count": 148,
   "metadata": {},
   "outputs": [],
   "source": [
    "X_train, X_test, y_train, y_test = train_test_split(X, y, test_size = 0.2, random_state=42, stratify=y)"
   ]
  },
  {
   "cell_type": "code",
   "execution_count": 149,
   "metadata": {},
   "outputs": [
    {
     "data": {
      "text/plain": [
       "GradientBoostingClassifier(learning_rate=1.0, random_state=42)"
      ]
     },
     "execution_count": 149,
     "metadata": {},
     "output_type": "execute_result"
    }
   ],
   "source": [
    "from sklearn.ensemble import GradientBoostingClassifier\n",
    "gbm = GradientBoostingClassifier(n_estimators = 100, random_state=42,learning_rate=1.0 )\n",
    "gbm.fit(X_train, y_train)"
   ]
  },
  {
   "cell_type": "code",
   "execution_count": 150,
   "metadata": {},
   "outputs": [],
   "source": [
    "y_pred = gbm.predict(X_test)"
   ]
  },
  {
   "cell_type": "code",
   "execution_count": 151,
   "metadata": {},
   "outputs": [
    {
     "data": {
      "text/html": [
       "<div>\n",
       "<style scoped>\n",
       "    .dataframe tbody tr th:only-of-type {\n",
       "        vertical-align: middle;\n",
       "    }\n",
       "\n",
       "    .dataframe tbody tr th {\n",
       "        vertical-align: top;\n",
       "    }\n",
       "\n",
       "    .dataframe thead th {\n",
       "        text-align: right;\n",
       "    }\n",
       "</style>\n",
       "<table border=\"1\" class=\"dataframe\">\n",
       "  <thead>\n",
       "    <tr style=\"text-align: right;\">\n",
       "      <th></th>\n",
       "      <th>Predict[0]</th>\n",
       "      <th>Predict[1]</th>\n",
       "    </tr>\n",
       "  </thead>\n",
       "  <tbody>\n",
       "    <tr>\n",
       "      <th>True[0]</th>\n",
       "      <td>12666</td>\n",
       "      <td>73</td>\n",
       "    </tr>\n",
       "    <tr>\n",
       "      <th>True[1]</th>\n",
       "      <td>1220</td>\n",
       "      <td>35</td>\n",
       "    </tr>\n",
       "  </tbody>\n",
       "</table>\n",
       "</div>"
      ],
      "text/plain": [
       "         Predict[0]  Predict[1]\n",
       "True[0]       12666          73\n",
       "True[1]        1220          35"
      ]
     },
     "execution_count": 151,
     "metadata": {},
     "output_type": "execute_result"
    }
   ],
   "source": [
    "confmat = pd.DataFrame(confusion_matrix(y_test, y_pred),\n",
    "                      index=['True[0]','True[1]'],\n",
    "                      columns=['Predict[0]', 'Predict[1]'])\n",
    "confmat"
   ]
  },
  {
   "cell_type": "code",
   "execution_count": 152,
   "metadata": {},
   "outputs": [
    {
     "name": "stdout",
     "output_type": "stream",
     "text": [
      "Fitting 5 folds for each of 9 candidates, totalling 45 fits\n"
     ]
    },
    {
     "name": "stderr",
     "output_type": "stream",
     "text": [
      "[Parallel(n_jobs=-1)]: Using backend LokyBackend with 4 concurrent workers.\n",
      "[Parallel(n_jobs=-1)]: Done  45 out of  45 | elapsed:  5.9min finished\n"
     ]
    }
   ],
   "source": [
    "params = {'n_estimators':[100, 150, 200], 'learning_rate' : [0.1, 0.5, 0.01]}\n",
    "grid = GridSearchCV(estimator=GradientBoostingClassifier(random_state=42), \n",
    "                    param_grid=params, \n",
    "                    n_jobs=-1, \n",
    "                    cv= 5, \n",
    "                    scoring='roc_auc',\n",
    "                    verbose = 1)\n",
    "grid_result = grid.fit(X_train, y_train)"
   ]
  },
  {
   "cell_type": "code",
   "execution_count": 153,
   "metadata": {},
   "outputs": [
    {
     "data": {
      "text/html": [
       "<div>\n",
       "<style scoped>\n",
       "    .dataframe tbody tr th:only-of-type {\n",
       "        vertical-align: middle;\n",
       "    }\n",
       "\n",
       "    .dataframe tbody tr th {\n",
       "        vertical-align: top;\n",
       "    }\n",
       "\n",
       "    .dataframe thead th {\n",
       "        text-align: right;\n",
       "    }\n",
       "</style>\n",
       "<table border=\"1\" class=\"dataframe\">\n",
       "  <thead>\n",
       "    <tr style=\"text-align: right;\">\n",
       "      <th></th>\n",
       "      <th>Predict[0]</th>\n",
       "      <th>Predict[1]</th>\n",
       "    </tr>\n",
       "  </thead>\n",
       "  <tbody>\n",
       "    <tr>\n",
       "      <th>True[0]</th>\n",
       "      <td>12666</td>\n",
       "      <td>73</td>\n",
       "    </tr>\n",
       "    <tr>\n",
       "      <th>True[1]</th>\n",
       "      <td>1220</td>\n",
       "      <td>35</td>\n",
       "    </tr>\n",
       "  </tbody>\n",
       "</table>\n",
       "</div>"
      ],
      "text/plain": [
       "         Predict[0]  Predict[1]\n",
       "True[0]       12666          73\n",
       "True[1]        1220          35"
      ]
     },
     "execution_count": 153,
     "metadata": {},
     "output_type": "execute_result"
    }
   ],
   "source": [
    "confmat = pd.DataFrame(confusion_matrix(y_test, y_pred),\n",
    "                      index=['True[0]','True[1]'],\n",
    "                      columns=['Predict[0]', 'Predict[1]'])\n",
    "confmat"
   ]
  },
  {
   "cell_type": "code",
   "execution_count": 154,
   "metadata": {},
   "outputs": [
    {
     "name": "stdout",
     "output_type": "stream",
     "text": [
      "precision_score: 0.324\n",
      "recall_score: 0.028\n",
      "f1_score: 0.051\n"
     ]
    }
   ],
   "source": [
    "print('precision_score: %.3f' % precision_score(y_true=y_test, y_pred=y_pred))\n",
    "print('recall_score: %.3f' % recall_score(y_true=y_test, y_pred=y_pred))\n",
    "print('f1_score: %.3f' % f1_score(y_true=y_test, y_pred=y_pred))\n"
   ]
  },
  {
   "cell_type": "code",
   "execution_count": 155,
   "metadata": {},
   "outputs": [
    {
     "name": "stdout",
     "output_type": "stream",
     "text": [
      "{'learning_rate': 0.1, 'n_estimators': 200}\n",
      "0.6471429169594496\n"
     ]
    }
   ],
   "source": [
    "print(grid_result.best_params_)\n",
    "print(grid_result.best_score_)"
   ]
  },
  {
   "cell_type": "code",
   "execution_count": 156,
   "metadata": {},
   "outputs": [
    {
     "name": "stdout",
     "output_type": "stream",
     "text": [
      "0.6842954313029577\n",
      "0.6496109603504501\n"
     ]
    }
   ],
   "source": [
    "print(grid_result.score(X_train, y_train)) \n",
    "print(grid_result.score(X_test, y_test)) "
   ]
  },
  {
   "cell_type": "code",
   "execution_count": 157,
   "metadata": {},
   "outputs": [
    {
     "data": {
      "text/plain": [
       "0.5110790060575657"
      ]
     },
     "execution_count": 157,
     "metadata": {},
     "output_type": "execute_result"
    }
   ],
   "source": [
    "roc_auc_score(y_test, y_pred)"
   ]
  },
  {
   "cell_type": "code",
   "execution_count": 158,
   "metadata": {},
   "outputs": [],
   "source": [
    "from sklearn.metrics import precision_recall_curve\n",
    "precision, recall, _ = precision_recall_curve(y_test, y_pred)"
   ]
  },
  {
   "cell_type": "code",
   "execution_count": 159,
   "metadata": {},
   "outputs": [
    {
     "data": {
      "image/png": "[encoded data removed]",
      "text/plain": [
       "<Figure size 432x288 with 1 Axes>"
      ]
     },
     "metadata": {
      "needs_background": "light"
     },
     "output_type": "display_data"
    }
   ],
   "source": [
    "plt.figure()\n",
    "plt.step(recall, precision, color = \"pink\", alpha = 0.3, where = 'post')\n",
    "plt.fill_between(recall, precision, step = 'post', alpha=0.5, color = \"pink\")\n",
    "plt.xlabel('recall')\n",
    "plt.ylabel('precision')\n",
    "plt.title('Precision-Recall curve');\n",
    "params = {'n_estimators':[100,200]}"
   ]
  },
  {
   "cell_type": "code",
   "execution_count": 160,
   "metadata": {},
   "outputs": [],
   "source": [
    "# !pip install imblearn"
   ]
  },
  {
   "cell_type": "markdown",
   "metadata": {},
   "source": [
    "### SMOTE :  GradientBoostingClassifier()"
   ]
  },
  {
   "cell_type": "code",
   "execution_count": 161,
   "metadata": {},
   "outputs": [],
   "source": [
    "from imblearn.over_sampling import SMOTE\n",
    "smote = SMOTE(random_state=0)\n",
    "# X_train_over,y_train_over = smote.fit_sample(X_train,y_train)"
   ]
  },
  {
   "cell_type": "code",
   "execution_count": 162,
   "metadata": {},
   "outputs": [],
   "source": [
    "# import imblearn\n",
    "## from imblearn.under_sampling import RandomUnderSampler\n",
    "# undersample = RandomUnderSampler(sampling_strategy='majority')"
   ]
  },
  {
   "cell_type": "code",
   "execution_count": 163,
   "metadata": {},
   "outputs": [],
   "source": [
    "from collections import Counter\n",
    "from sklearn.datasets import make_classification\n",
    "X = data[top_43_features]\n",
    "y= data['readmit_30d']\n",
    "# X, y = make_classification(weights=[0.9], flip_y=0)"
   ]
  },
  {
   "cell_type": "code",
   "execution_count": 164,
   "metadata": {},
   "outputs": [],
   "source": [
    "X_train, X_test, y_train, y_test= train_test_split(X, y)"
   ]
  },
  {
   "cell_type": "code",
   "execution_count": 165,
   "metadata": {},
   "outputs": [],
   "source": [
    "smote = SMOTE(random_state=0)\n",
    "X_train_over,y_train_over = smote.fit_sample(X_train,y_train)"
   ]
  },
  {
   "cell_type": "code",
   "execution_count": 166,
   "metadata": {},
   "outputs": [
    {
     "data": {
      "text/plain": [
       "52477"
      ]
     },
     "execution_count": 166,
     "metadata": {},
     "output_type": "execute_result"
    }
   ],
   "source": [
    "len(y_train)"
   ]
  },
  {
   "cell_type": "code",
   "execution_count": 167,
   "metadata": {},
   "outputs": [
    {
     "data": {
      "text/plain": [
       "95636"
      ]
     },
     "execution_count": 167,
     "metadata": {},
     "output_type": "execute_result"
    }
   ],
   "source": [
    "len(y_train_over)"
   ]
  },
  {
   "cell_type": "code",
   "execution_count": 168,
   "metadata": {},
   "outputs": [],
   "source": [
    "gbm = GradientBoostingClassifier()\n",
    "gbm.fit(X_train_over,y_train_over)\n",
    "y_pred = gbm.predict(X_test)"
   ]
  },
  {
   "cell_type": "code",
   "execution_count": 169,
   "metadata": {},
   "outputs": [],
   "source": [
    "y_pred = gbm.predict(X_test)"
   ]
  },
  {
   "cell_type": "code",
   "execution_count": 170,
   "metadata": {},
   "outputs": [
    {
     "name": "stdout",
     "output_type": "stream",
     "text": [
      "Fitting 5 folds for each of 20 candidates, totalling 100 fits\n"
     ]
    },
    {
     "name": "stderr",
     "output_type": "stream",
     "text": [
      "[Parallel(n_jobs=-1)]: Using backend LokyBackend with 4 concurrent workers.\n",
      "[Parallel(n_jobs=-1)]: Done  42 tasks      | elapsed: 10.0min\n",
      "[Parallel(n_jobs=-1)]: Done 100 out of 100 | elapsed: 23.1min finished\n"
     ]
    }
   ],
   "source": [
    "params = {'n_estimators':[100,120, 150,180, 200], 'learning_rate' : [0.1, 0.5, 1.0, 1.5]}\n",
    "grid = GridSearchCV(estimator=GradientBoostingClassifier(random_state=42), \n",
    "                    param_grid=params, \n",
    "                    n_jobs=-1, \n",
    "                    cv= 5, \n",
    "                    scoring='roc_auc',\n",
    "                   verbose = 1)\n",
    "grid_result = grid.fit(X_train_over, y_train_over)"
   ]
  },
  {
   "cell_type": "code",
   "execution_count": 171,
   "metadata": {},
   "outputs": [
    {
     "name": "stdout",
     "output_type": "stream",
     "text": [
      "{'learning_rate': 0.5, 'n_estimators': 200}\n",
      "0.918167883779055\n"
     ]
    }
   ],
   "source": [
    "print(grid_result.best_params_)\n",
    "print(grid_result.best_score_)"
   ]
  },
  {
   "cell_type": "code",
   "execution_count": 172,
   "metadata": {},
   "outputs": [],
   "source": [
    "y_predict = grid_result.best_estimator_.predict(X_test)"
   ]
  },
  {
   "cell_type": "code",
   "execution_count": 173,
   "metadata": {},
   "outputs": [
    {
     "name": "stdout",
     "output_type": "stream",
     "text": [
      "0.9311230947001792\n",
      "0.5324850160108232\n"
     ]
    }
   ],
   "source": [
    "print(grid_result.score(X_train_over, y_train_over)) \n",
    "print(grid_result.score(X_test, y_test)) "
   ]
  },
  {
   "cell_type": "code",
   "execution_count": 174,
   "metadata": {},
   "outputs": [
    {
     "data": {
      "text/plain": [
       "0.5055775673281878"
      ]
     },
     "execution_count": 174,
     "metadata": {},
     "output_type": "execute_result"
    }
   ],
   "source": [
    "roc_auc_score(y_test, y_pred)"
   ]
  },
  {
   "cell_type": "markdown",
   "metadata": {},
   "source": [
    "###  XGBClassifier"
   ]
  },
  {
   "cell_type": "code",
   "execution_count": 175,
   "metadata": {},
   "outputs": [
    {
     "name": "stdout",
     "output_type": "stream",
     "text": [
      "[22:04:51] WARNING: C:/Users/Administrator/workspace/xgboost-win64_release_1.3.0/src/learner.cc:1061: Starting in XGBoost 1.3.0, the default evaluation metric used with the objective 'binary:logistic' was changed from 'error' to 'logloss'. Explicitly set eval_metric if you'd like to restore the old behavior.\n"
     ]
    },
    {
     "data": {
      "text/plain": [
       "XGBClassifier(base_score=0.5, booster='gbtree', colsample_bylevel=1,\n",
       "              colsample_bynode=1, colsample_bytree=1, gamma=0, gpu_id=-1,\n",
       "              importance_type='gain', interaction_constraints='',\n",
       "              learning_rate=0.300000012, max_delta_step=0, max_depth=6,\n",
       "              min_child_weight=1, missing=nan, monotone_constraints='()',\n",
       "              n_estimators=100, n_jobs=4, num_parallel_tree=1, random_state=0,\n",
       "              reg_alpha=0, reg_lambda=1, scale_pos_weight=1, subsample=1,\n",
       "              tree_method='exact', validate_parameters=1, verbosity=None)"
      ]
     },
     "execution_count": 175,
     "metadata": {},
     "output_type": "execute_result"
    }
   ],
   "source": [
    "from xgboost import XGBClassifier\n",
    "xgb = XGBClassifier()\n",
    "xgb.fit(X_train, y_train)"
   ]
  },
  {
   "cell_type": "code",
   "execution_count": 176,
   "metadata": {},
   "outputs": [],
   "source": [
    "y_pred = gbm.predict(X_test)"
   ]
  },
  {
   "cell_type": "code",
   "execution_count": 177,
   "metadata": {},
   "outputs": [
    {
     "name": "stdout",
     "output_type": "stream",
     "text": [
      "[22:07:53] WARNING: C:/Users/Administrator/workspace/xgboost-win64_release_1.3.0/src/learner.cc:1061: Starting in XGBoost 1.3.0, the default evaluation metric used with the objective 'binary:logistic' was changed from 'error' to 'logloss'. Explicitly set eval_metric if you'd like to restore the old behavior.\n"
     ]
    }
   ],
   "source": [
    "weights = [1, 10, 25, 50, 75, 99, 100, 1000]\n",
    "param_grid = dict(scale_pos_weight=weights)\n",
    "grid = GridSearchCV(estimator=xgb, param_grid=param_grid, n_jobs=-1, cv=5, scoring='roc_auc')\n",
    "grid_result = grid.fit(X_train, y_train)"
   ]
  },
  {
   "cell_type": "code",
   "execution_count": 178,
   "metadata": {},
   "outputs": [
    {
     "data": {
      "text/html": [
       "<div>\n",
       "<style scoped>\n",
       "    .dataframe tbody tr th:only-of-type {\n",
       "        vertical-align: middle;\n",
       "    }\n",
       "\n",
       "    .dataframe tbody tr th {\n",
       "        vertical-align: top;\n",
       "    }\n",
       "\n",
       "    .dataframe thead th {\n",
       "        text-align: right;\n",
       "    }\n",
       "</style>\n",
       "<table border=\"1\" class=\"dataframe\">\n",
       "  <thead>\n",
       "    <tr style=\"text-align: right;\">\n",
       "      <th></th>\n",
       "      <th>Predict[0]</th>\n",
       "      <th>Predict[1]</th>\n",
       "    </tr>\n",
       "  </thead>\n",
       "  <tbody>\n",
       "    <tr>\n",
       "      <th>True[0]</th>\n",
       "      <td>13246</td>\n",
       "      <td>2629</td>\n",
       "    </tr>\n",
       "    <tr>\n",
       "      <th>True[1]</th>\n",
       "      <td>1332</td>\n",
       "      <td>286</td>\n",
       "    </tr>\n",
       "  </tbody>\n",
       "</table>\n",
       "</div>"
      ],
      "text/plain": [
       "         Predict[0]  Predict[1]\n",
       "True[0]       13246        2629\n",
       "True[1]        1332         286"
      ]
     },
     "execution_count": 178,
     "metadata": {},
     "output_type": "execute_result"
    }
   ],
   "source": [
    "confmat = pd.DataFrame(confusion_matrix(y_test, y_pred),\n",
    "                      index=['True[0]','True[1]'],\n",
    "                      columns=['Predict[0]', 'Predict[1]'])\n",
    "confmat"
   ]
  },
  {
   "cell_type": "code",
   "execution_count": 179,
   "metadata": {},
   "outputs": [
    {
     "name": "stdout",
     "output_type": "stream",
     "text": [
      "precision_score: 0.098\n",
      "recall_score: 0.177\n",
      "f1_score: 0.126\n"
     ]
    }
   ],
   "source": [
    "print('precision_score: %.3f' % precision_score(y_true=y_test, y_pred=y_pred))\n",
    "print('recall_score: %.3f' % recall_score(y_true=y_test, y_pred=y_pred))\n",
    "print('f1_score: %.3f' % f1_score(y_true=y_test, y_pred=y_pred))"
   ]
  },
  {
   "cell_type": "code",
   "execution_count": 180,
   "metadata": {},
   "outputs": [
    {
     "name": "stdout",
     "output_type": "stream",
     "text": [
      "{'scale_pos_weight': 1}\n",
      "0.6243174511678475\n"
     ]
    }
   ],
   "source": [
    "print(grid_result.best_params_)\n",
    "print(grid_result.best_score_)"
   ]
  },
  {
   "cell_type": "code",
   "execution_count": 181,
   "metadata": {},
   "outputs": [],
   "source": [
    "y_pred = gbm.predict(X_test)"
   ]
  },
  {
   "cell_type": "code",
   "execution_count": 182,
   "metadata": {},
   "outputs": [
    {
     "name": "stdout",
     "output_type": "stream",
     "text": [
      "0.8386976982222364\n",
      "0.623148788725266\n"
     ]
    }
   ],
   "source": [
    "print(grid_result.score(X_train, y_train)) \n",
    "print(grid_result.score(X_test, y_test)) "
   ]
  },
  {
   "cell_type": "code",
   "execution_count": 183,
   "metadata": {},
   "outputs": [
    {
     "data": {
      "text/plain": [
       "0.5055775673281878"
      ]
     },
     "execution_count": 183,
     "metadata": {},
     "output_type": "execute_result"
    }
   ],
   "source": [
    "roc_auc_score(y_test, y_pred)"
   ]
  },
  {
   "cell_type": "code",
   "execution_count": 184,
   "metadata": {},
   "outputs": [],
   "source": [
    "y_predict = grid_result.best_estimator_.predict(X_test)"
   ]
  },
  {
   "cell_type": "code",
   "execution_count": 185,
   "metadata": {},
   "outputs": [
    {
     "name": "stdout",
     "output_type": "stream",
     "text": [
      "0.8386976982222364\n",
      "0.623148788725266\n"
     ]
    }
   ],
   "source": [
    "print(grid_result.score(X_train, y_train)) \n",
    "print(grid_result.score(X_test, y_test)) "
   ]
  },
  {
   "cell_type": "markdown",
   "metadata": {},
   "source": [
    "### SMOTE : XGBClassifier"
   ]
  },
  {
   "cell_type": "code",
   "execution_count": 186,
   "metadata": {},
   "outputs": [],
   "source": [
    "smote = SMOTE(random_state=0)\n",
    "X = data[top_43_features]\n",
    "y= data['readmit_30d']\n",
    "X_train, X_test, y_train, y_test= train_test_split(X, y)\n",
    "smote = SMOTE(random_state=0)\n",
    "X_train_over,y_train_over = smote.fit_sample(X_train,y_train)"
   ]
  },
  {
   "cell_type": "code",
   "execution_count": 187,
   "metadata": {},
   "outputs": [
    {
     "name": "stdout",
     "output_type": "stream",
     "text": [
      "52477\n",
      "95462\n"
     ]
    }
   ],
   "source": [
    "print(len(y_train))\n",
    "print(len(y_train_over))"
   ]
  },
  {
   "cell_type": "code",
   "execution_count": 188,
   "metadata": {},
   "outputs": [
    {
     "name": "stdout",
     "output_type": "stream",
     "text": [
      "[22:08:00] WARNING: C:/Users/Administrator/workspace/xgboost-win64_release_1.3.0/src/learner.cc:1061: Starting in XGBoost 1.3.0, the default evaluation metric used with the objective 'binary:logistic' was changed from 'error' to 'logloss'. Explicitly set eval_metric if you'd like to restore the old behavior.\n"
     ]
    },
    {
     "data": {
      "text/plain": [
       "XGBClassifier(base_score=0.5, booster='gbtree', colsample_bylevel=1,\n",
       "              colsample_bynode=1, colsample_bytree=1, gamma=0, gpu_id=-1,\n",
       "              importance_type='gain', interaction_constraints='',\n",
       "              learning_rate=0.300000012, max_delta_step=0, max_depth=6,\n",
       "              min_child_weight=1, missing=nan, monotone_constraints='()',\n",
       "              n_estimators=100, n_jobs=4, num_parallel_tree=1, random_state=0,\n",
       "              reg_alpha=0, reg_lambda=1, scale_pos_weight=1, subsample=1,\n",
       "              tree_method='exact', validate_parameters=1, verbosity=None)"
      ]
     },
     "execution_count": 188,
     "metadata": {},
     "output_type": "execute_result"
    }
   ],
   "source": [
    "from xgboost import XGBClassifier\n",
    "xgb = XGBClassifier()\n",
    "xgb.fit(X_train_over, y_train_over)"
   ]
  },
  {
   "cell_type": "code",
   "execution_count": 189,
   "metadata": {},
   "outputs": [
    {
     "name": "stdout",
     "output_type": "stream",
     "text": [
      "[22:14:22] WARNING: C:/Users/Administrator/workspace/xgboost-win64_release_1.3.0/src/learner.cc:1061: Starting in XGBoost 1.3.0, the default evaluation metric used with the objective 'binary:logistic' was changed from 'error' to 'logloss'. Explicitly set eval_metric if you'd like to restore the old behavior.\n"
     ]
    }
   ],
   "source": [
    "params = {'max_depth':range(3,10,2), 'min_child_weight':range(1,6,2)}\n",
    "grid = GridSearchCV(estimator=xgb, param_grid=param_grid, n_jobs=-1, cv=5, scoring='roc_auc')\n",
    "grid_result = grid.fit(X_train_over, y_train_over)"
   ]
  },
  {
   "cell_type": "code",
   "execution_count": 190,
   "metadata": {},
   "outputs": [
    {
     "name": "stdout",
     "output_type": "stream",
     "text": [
      "{'scale_pos_weight': 1}\n",
      "0.9257210469769612\n"
     ]
    }
   ],
   "source": [
    "print(grid_result.best_params_)\n",
    "print(grid_result.best_score_)"
   ]
  },
  {
   "cell_type": "code",
   "execution_count": 191,
   "metadata": {},
   "outputs": [
    {
     "data": {
      "text/html": [
       "<div>\n",
       "<style scoped>\n",
       "    .dataframe tbody tr th:only-of-type {\n",
       "        vertical-align: middle;\n",
       "    }\n",
       "\n",
       "    .dataframe tbody tr th {\n",
       "        vertical-align: top;\n",
       "    }\n",
       "\n",
       "    .dataframe thead th {\n",
       "        text-align: right;\n",
       "    }\n",
       "</style>\n",
       "<table border=\"1\" class=\"dataframe\">\n",
       "  <thead>\n",
       "    <tr style=\"text-align: right;\">\n",
       "      <th></th>\n",
       "      <th>Predict[0]</th>\n",
       "      <th>Predict[1]</th>\n",
       "    </tr>\n",
       "  </thead>\n",
       "  <tbody>\n",
       "    <tr>\n",
       "      <th>True[0]</th>\n",
       "      <td>13304</td>\n",
       "      <td>2658</td>\n",
       "    </tr>\n",
       "    <tr>\n",
       "      <th>True[1]</th>\n",
       "      <td>1274</td>\n",
       "      <td>257</td>\n",
       "    </tr>\n",
       "  </tbody>\n",
       "</table>\n",
       "</div>"
      ],
      "text/plain": [
       "         Predict[0]  Predict[1]\n",
       "True[0]       13304        2658\n",
       "True[1]        1274         257"
      ]
     },
     "execution_count": 191,
     "metadata": {},
     "output_type": "execute_result"
    }
   ],
   "source": [
    "confmat = pd.DataFrame(confusion_matrix(y_test, y_pred),\n",
    "                      index=['True[0]','True[1]'],\n",
    "                      columns=['Predict[0]', 'Predict[1]'])\n",
    "confmat"
   ]
  },
  {
   "cell_type": "code",
   "execution_count": 192,
   "metadata": {},
   "outputs": [
    {
     "name": "stdout",
     "output_type": "stream",
     "text": [
      "{'scale_pos_weight': 1}\n",
      "0.9257210469769612\n"
     ]
    }
   ],
   "source": [
    "print(grid_result.best_params_)\n",
    "print(grid_result.best_score_)"
   ]
  },
  {
   "cell_type": "code",
   "execution_count": 193,
   "metadata": {},
   "outputs": [],
   "source": [
    "y_pred = gbm.predict(X_test)"
   ]
  },
  {
   "cell_type": "code",
   "execution_count": 194,
   "metadata": {},
   "outputs": [
    {
     "data": {
      "text/plain": [
       "0.5116329924982677"
      ]
     },
     "execution_count": 194,
     "metadata": {},
     "output_type": "execute_result"
    }
   ],
   "source": [
    "roc_auc_score(y_test, y_pred)"
   ]
  },
  {
   "cell_type": "code",
   "execution_count": 195,
   "metadata": {},
   "outputs": [],
   "source": [
    "y_predict = grid_result.best_estimator_.predict(X_test)"
   ]
  },
  {
   "cell_type": "code",
   "execution_count": 196,
   "metadata": {},
   "outputs": [
    {
     "name": "stdout",
     "output_type": "stream",
     "text": [
      "0.7009963006176021\n",
      "0.5487649226678221\n"
     ]
    }
   ],
   "source": [
    "print(grid_result.score(X_train, y_train)) \n",
    "print(grid_result.score(X_test, y_test)) "
   ]
  },
  {
   "cell_type": "code",
   "execution_count": null,
   "metadata": {},
   "outputs": [],
   "source": [
    "### SMOTE :  lightgbm.LGBMClassifier"
   ]
  },
  {
   "cell_type": "code",
   "execution_count": 197,
   "metadata": {},
   "outputs": [],
   "source": [
    "import lightgbm"
   ]
  },
  {
   "cell_type": "code",
   "execution_count": 198,
   "metadata": {},
   "outputs": [],
   "source": [
    "smote = SMOTE(random_state=0)\n",
    "X = data[top_43_features]\n",
    "y= data['readmit_30d']\n",
    "X_train, X_test, y_train, y_test= train_test_split(X, y)\n",
    "smote = SMOTE(random_state=0)\n",
    "X_train_over,y_train_over = smote.fit_sample(X_train,y_train)"
   ]
  },
  {
   "cell_type": "code",
   "execution_count": 199,
   "metadata": {},
   "outputs": [
    {
     "name": "stdout",
     "output_type": "stream",
     "text": [
      "52477\n",
      "95692\n"
     ]
    }
   ],
   "source": [
    "print(len(y_train))\n",
    "print(len(y_train_over))"
   ]
  },
  {
   "cell_type": "code",
   "execution_count": 200,
   "metadata": {},
   "outputs": [],
   "source": [
    "lgb = lightgbm.LGBMClassifier()\n",
    "lgb.fit(X_train_over,y_train_over)\n",
    "y_pred = gbm.predict(X_test)"
   ]
  },
  {
   "cell_type": "code",
   "execution_count": 201,
   "metadata": {},
   "outputs": [],
   "source": [
    "y_pred = gbm.predict(X_test)"
   ]
  },
  {
   "cell_type": "code",
   "execution_count": 202,
   "metadata": {},
   "outputs": [],
   "source": [
    "params = {'num_leaves' : [5,10,15], 'learning_rate' : [0.01, 0.1, 0.5], 'max_depth' : [5,10] ,'lambda_l1':[0.1,0.3,0.7]}\n",
    "grid = GridSearchCV(estimator=lightgbm.LGBMClassifier(random_state=42, num_boost_round =3000, early_stoping_rounds = 1000, verbose_eval = 100), \n",
    "                    param_grid=params, \n",
    "                    n_jobs=-1, \n",
    "                    cv= 5, \n",
    "                    scoring='roc_auc')\n",
    "grid_result = grid.fit(X_train_over, y_train_over)"
   ]
  },
  {
   "cell_type": "code",
   "execution_count": 203,
   "metadata": {},
   "outputs": [
    {
     "name": "stdout",
     "output_type": "stream",
     "text": [
      "{'lambda_l1': 0.3, 'learning_rate': 0.5, 'max_depth': -1, 'num_leaves': 15}\n",
      "0.9584847786227071\n"
     ]
    }
   ],
   "source": [
    "print(grid_result.best_params_)\n",
    "print(grid_result.best_score_)"
   ]
  },
  {
   "cell_type": "code",
   "execution_count": 204,
   "metadata": {},
   "outputs": [],
   "source": [
    "y_pred = gbm.predict(X_test)"
   ]
  },
  {
   "cell_type": "code",
   "execution_count": 205,
   "metadata": {},
   "outputs": [
    {
     "name": "stdout",
     "output_type": "stream",
     "text": [
      "0.9998371024332882\n",
      "0.5442144163956657\n"
     ]
    }
   ],
   "source": [
    "print(grid_result.score(X_train, y_train)) \n",
    "print(grid_result.score(X_test, y_test)) "
   ]
  },
  {
   "cell_type": "code",
   "execution_count": 206,
   "metadata": {},
   "outputs": [
    {
     "data": {
      "text/plain": [
       "0.5060931418843359"
      ]
     },
     "execution_count": 206,
     "metadata": {},
     "output_type": "execute_result"
    }
   ],
   "source": [
    "roc_auc_score(y_test, y_pred)"
   ]
  },
  {
   "cell_type": "code",
   "execution_count": 207,
   "metadata": {},
   "outputs": [],
   "source": [
    "y_predict = grid_result.best_estimator_.predict(X_test)"
   ]
  },
  {
   "cell_type": "code",
   "execution_count": 208,
   "metadata": {},
   "outputs": [
    {
     "name": "stdout",
     "output_type": "stream",
     "text": [
      "0.9998371024332882\n",
      "0.5442144163956657\n"
     ]
    }
   ],
   "source": [
    "print(grid_result.score(X_train, y_train)) \n",
    "print(grid_result.score(X_test, y_test)) "
   ]
  }
 ],
 "metadata": {
  "kernelspec": {
   "display_name": "Python 3",
   "language": "python",
   "name": "python3"
  },
  "language_info": {
   "codemirror_mode": {
    "name": "ipython",
    "version": 3
   },
   "file_extension": ".py",
   "mimetype": "text/x-python",
   "name": "python",
   "nbconvert_exporter": "python",
   "pygments_lexer": "ipython3",
   "version": "3.8.3"
  }
 },
 "nbformat": 4,
 "nbformat_minor": 4
}
