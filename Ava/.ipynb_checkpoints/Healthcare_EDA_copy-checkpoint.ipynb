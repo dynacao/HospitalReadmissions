{
 "cells": [
  {
   "cell_type": "code",
   "execution_count": 1,
   "metadata": {},
   "outputs": [],
   "source": [
    "import pandas as pd\n",
    "import numpy as np\n",
    "import matplotlib.pyplot as plt\n",
    "import seaborn as sns\n",
    "\n",
    "\n",
    "from sklearn.model_selection import train_test_split\n",
    "from matplotlib import pyplot as plt\n",
    "\n",
    "from sklearn.preprocessing import LabelEncoder"
   ]
  },
  {
   "cell_type": "code",
   "execution_count": 2,
   "metadata": {},
   "outputs": [],
   "source": [
    "pd.options.display.max_columns = None"
   ]
  },
  {
   "cell_type": "code",
   "execution_count": 3,
   "metadata": {},
   "outputs": [],
   "source": [
    "data = pd.read_csv(\"data.csv\")"
   ]
  },
  {
   "cell_type": "code",
   "execution_count": 4,
   "metadata": {},
   "outputs": [],
   "source": [
    "# column name change\n",
    "data.columns = data.columns.str.replace(\"-\",\"_\")\n",
    "\n",
    "# data.rename({'glyburide-metformin':'glyburide_metformin', 'glipizide-metformin':'glipizide_metformin','glimepiride-pioglitazone':'glimepiride_pioglitazone','metformin-rosiglitazone':'metformin_rosiglitazone', 'metformin-pioglitazone': 'metformin_pioglitazone'}, axis =1, inplace = True)"
   ]
  },
  {
   "cell_type": "code",
   "execution_count": 5,
   "metadata": {},
   "outputs": [],
   "source": [
    "# duplicate patient_nbr - remove\n",
    "data.drop_duplicates(['patient_nbr'], inplace = True, ignore_index = True)"
   ]
  },
  {
   "cell_type": "code",
   "execution_count": 6,
   "metadata": {},
   "outputs": [],
   "source": [
    "# Remove discharge_disposition_id : unique value '13','14','19','20','21' \n",
    "is_drop = [item in [13,14,19,20,21] for item in data.discharge_disposition_id]\n",
    "drop_row_index = [ i for i, is_drop_item in enumerate(is_drop) if is_drop_item]\n",
    "data.drop(drop_row_index, inplace = True)"
   ]
  },
  {
   "cell_type": "code",
   "execution_count": 7,
   "metadata": {},
   "outputs": [],
   "source": [
    "# value imputation ==> \"?\" =? Nan\n",
    "object_col = data.loc[:,list(data.dtypes == 'object')].columns\n",
    "for col in object_col:\n",
    "    data[col] = data[col].str.replace('?', 'Nan')"
   ]
  },
  {
   "cell_type": "code",
   "execution_count": 8,
   "metadata": {},
   "outputs": [
    {
     "data": {
      "text/plain": [
       "(71050, 50)"
      ]
     },
     "execution_count": 8,
     "metadata": {},
     "output_type": "execute_result"
    }
   ],
   "source": [
    "data.shape"
   ]
  },
  {
   "cell_type": "markdown",
   "metadata": {},
   "source": [
    "### Features description\n",
    "\n",
    "- admission type(9 distinct value) :  emrgency, urgent, elective, newborn, and not available\n",
    "- Discharge disposition (29 distinct values) : discharged to home, expired, and not available\n",
    "- Admission source ( 21 distinct values ) : physician referral, emergency room, and transfer from a hospital\n",
    "- Time in hospital : number of days between admission and discharge\n",
    "- Payer code( 23 distinct values ) : Blue Cross/Blue Shield, Medicare, and self-pay\n",
    "- Medical specialty Integer identifier of a specialty of the admitting physician( 84 distinct values) : cardiology, internal medicine, family/general practice, and surgeon\n",
    "- num_lab_procedures : Number of lab tests performed during the encounter\n",
    "- Number of procedures(other than lab tests) performed during the encounter\n",
    "- Number of medications : - Number of distinct generic names administered during the encounter\n",
    "- number_outpatient, number_emergency, number_inpatient : visit number\n",
    "- diag_1\tdiag_2\tdiag_3 : The primary, secondary, additional secondary diagnosis\n",
    "- Number of diagnoses : Number of diagnoses entered to the system\n",
    "- Glucose serum test result (Indicates the range of the result or if the test was not taken) :“>200,” “>300,” “normal,” and “none” if not measured\n",
    "- A1c test result : Indicates the range of the result or if the test was not taken : “>8” if the result was greater than 8%, “>7” if the result was greater than 7% but less than 8%, “normal” if the result was less than 7%, and “none” if not measured."
   ]
  },
  {
   "cell_type": "markdown",
   "metadata": {},
   "source": [
    "#### value_code\n",
    "- 9 admission type \n",
    "- 29 Discharge disposition\n",
    "- 21 Admission source \n",
    "- 23 Payer code"
   ]
  },
  {
   "cell_type": "markdown",
   "metadata": {},
   "source": [
    "## Mediacton features"
   ]
  },
  {
   "cell_type": "markdown",
   "metadata": {},
   "source": [
    "24 kinds of medications\n",
    "- the amount of dosage is changed : up, down, steady\n",
    "- if the drug was not prescribed : no"
   ]
  },
  {
   "cell_type": "code",
   "execution_count": 9,
   "metadata": {},
   "outputs": [
    {
     "data": {
      "text/plain": [
       "array(['NO', '>30', '<30'], dtype=object)"
      ]
     },
     "execution_count": 9,
     "metadata": {},
     "output_type": "execute_result"
    }
   ],
   "source": [
    "# target variable : readmitted \n",
    "#  “<30” : less than 30 days, “>30” :  more than 30 days, and “No” for no record of readmission\n",
    "data.readmitted.unique()"
   ]
  },
  {
   "cell_type": "code",
   "execution_count": 10,
   "metadata": {},
   "outputs": [
    {
     "data": {
      "text/plain": [
       "<matplotlib.axes._subplots.AxesSubplot at 0x20acb7b6400>"
      ]
     },
     "execution_count": 10,
     "metadata": {},
     "output_type": "execute_result"
    },
    {
     "data": {
      "image/png": "[encoded data removed]",
      "text/plain": [
       "<Figure size 432x288 with 1 Axes>"
      ]
     },
     "metadata": {},
     "output_type": "display_data"
    }
   ],
   "source": [
    "# readmitted ratio in 30 days : 9%\n",
    "target = data.readmitted.value_counts()\n",
    "target.plot.pie()"
   ]
  },
  {
   "cell_type": "code",
   "execution_count": 11,
   "metadata": {},
   "outputs": [
    {
     "data": {
      "text/plain": [
       "NO     59.888811\n",
       ">30    31.276566\n",
       "<30     8.834624\n",
       "Name: readmitted, dtype: float64"
      ]
     },
     "execution_count": 11,
     "metadata": {},
     "output_type": "execute_result"
    }
   ],
   "source": [
    "target / target.sum() *100"
   ]
  },
  {
   "cell_type": "code",
   "execution_count": 113,
   "metadata": {},
   "outputs": [
    {
     "data": {
      "text/html": [
       "<div>\n",
       "<style scoped>\n",
       "    .dataframe tbody tr th:only-of-type {\n",
       "        vertical-align: middle;\n",
       "    }\n",
       "\n",
       "    .dataframe tbody tr th {\n",
       "        vertical-align: top;\n",
       "    }\n",
       "\n",
       "    .dataframe thead th {\n",
       "        text-align: right;\n",
       "    }\n",
       "</style>\n",
       "<table border=\"1\" class=\"dataframe\">\n",
       "  <thead>\n",
       "    <tr style=\"text-align: right;\">\n",
       "      <th></th>\n",
       "      <th>metformin</th>\n",
       "    </tr>\n",
       "  </thead>\n",
       "  <tbody>\n",
       "    <tr>\n",
       "      <th>No</th>\n",
       "      <td>78.947220</td>\n",
       "    </tr>\n",
       "    <tr>\n",
       "      <th>Steady</th>\n",
       "      <td>19.266714</td>\n",
       "    </tr>\n",
       "    <tr>\n",
       "      <th>Up</th>\n",
       "      <td>1.173821</td>\n",
       "    </tr>\n",
       "    <tr>\n",
       "      <th>Down</th>\n",
       "      <td>0.612245</td>\n",
       "    </tr>\n",
       "  </tbody>\n",
       "</table>\n",
       "</div>"
      ],
      "text/plain": [
       "        metformin\n",
       "No      78.947220\n",
       "Steady  19.266714\n",
       "Up       1.173821\n",
       "Down     0.612245"
      ]
     },
     "execution_count": 113,
     "metadata": {},
     "output_type": "execute_result"
    }
   ],
   "source": [
    "# Indicates if there was any diabetic medication prescribed. Values: “yes” and “no” ==> 80% \"No\"\n",
    "data.metformin.value_counts()\n",
    "metformin_pl = pd.DataFrame(data.metformin.value_counts()/sum(data.metformin.value_counts())*100)\n",
    "metformin_pl"
   ]
  },
  {
   "cell_type": "code",
   "execution_count": 119,
   "metadata": {},
   "outputs": [
    {
     "data": {
      "text/plain": [
       "NO     59.416673\n",
       ">30    31.598089\n",
       "<30     8.985239\n",
       "Name: readmitted, dtype: float64"
      ]
     },
     "execution_count": 119,
     "metadata": {},
     "output_type": "execute_result"
    }
   ],
   "source": [
    "metformin = data[data.metformin == \"No\"]\n",
    "metformin.readmitted.value_counts()/len(metformin)*100"
   ]
  },
  {
   "cell_type": "code",
   "execution_count": 117,
   "metadata": {},
   "outputs": [
    {
     "data": {
      "text/plain": [
       "NO     61.659313\n",
       ">30    30.070865\n",
       "<30     8.269822\n",
       "Name: readmitted, dtype: float64"
      ]
     },
     "execution_count": 117,
     "metadata": {},
     "output_type": "execute_result"
    }
   ],
   "source": [
    "metformin = data[data.metformin != \"No\"]\n",
    "metformin.readmitted.value_counts()/len(metformin)*100"
   ]
  },
  {
   "cell_type": "code",
   "execution_count": 125,
   "metadata": {},
   "outputs": [
    {
     "data": {
      "text/html": [
       "<div>\n",
       "<style scoped>\n",
       "    .dataframe tbody tr th:only-of-type {\n",
       "        vertical-align: middle;\n",
       "    }\n",
       "\n",
       "    .dataframe tbody tr th {\n",
       "        vertical-align: top;\n",
       "    }\n",
       "\n",
       "    .dataframe thead th {\n",
       "        text-align: right;\n",
       "    }\n",
       "</style>\n",
       "<table border=\"1\" class=\"dataframe\">\n",
       "  <thead>\n",
       "    <tr style=\"text-align: right;\">\n",
       "      <th></th>\n",
       "      <th>repaglinide</th>\n",
       "    </tr>\n",
       "  </thead>\n",
       "  <tbody>\n",
       "    <tr>\n",
       "      <th>No</th>\n",
       "      <td>98.703730</td>\n",
       "    </tr>\n",
       "    <tr>\n",
       "      <th>Steady</th>\n",
       "      <td>1.156932</td>\n",
       "    </tr>\n",
       "    <tr>\n",
       "      <th>Up</th>\n",
       "      <td>0.099930</td>\n",
       "    </tr>\n",
       "    <tr>\n",
       "      <th>Down</th>\n",
       "      <td>0.039409</td>\n",
       "    </tr>\n",
       "  </tbody>\n",
       "</table>\n",
       "</div>"
      ],
      "text/plain": [
       "        repaglinide\n",
       "No        98.703730\n",
       "Steady     1.156932\n",
       "Up         0.099930\n",
       "Down       0.039409"
      ]
     },
     "execution_count": 125,
     "metadata": {},
     "output_type": "execute_result"
    }
   ],
   "source": [
    "data.repaglinide.value_counts()\n",
    "repaglinide = pd.DataFrame(data.repaglinide.value_counts()/sum(data.repaglinide.value_counts())*100)\n",
    "repaglinide"
   ]
  },
  {
   "cell_type": "code",
   "execution_count": 126,
   "metadata": {},
   "outputs": [
    {
     "data": {
      "text/plain": [
       "NO     60.009411\n",
       ">30    31.202498\n",
       "<30     8.788091\n",
       "Name: readmitted, dtype: float64"
      ]
     },
     "execution_count": 126,
     "metadata": {},
     "output_type": "execute_result"
    }
   ],
   "source": [
    "repaglinide = data[data.repaglinide == \"No\"]\n",
    "repaglinide.readmitted.value_counts()/len(repaglinide)*100"
   ]
  },
  {
   "cell_type": "code",
   "execution_count": 127,
   "metadata": {},
   "outputs": [
    {
     "data": {
      "text/plain": [
       "NO     50.705755\n",
       ">30    36.916395\n",
       "<30    12.377850\n",
       "Name: readmitted, dtype: float64"
      ]
     },
     "execution_count": 127,
     "metadata": {},
     "output_type": "execute_result"
    }
   ],
   "source": [
    "repaglinide = data[data.repaglinide != \"No\"]\n",
    "repaglinide.readmitted.value_counts()/len(repaglinide)*100"
   ]
  },
  {
   "cell_type": "code",
   "execution_count": 128,
   "metadata": {},
   "outputs": [
    {
     "data": {
      "text/html": [
       "<div>\n",
       "<style scoped>\n",
       "    .dataframe tbody tr th:only-of-type {\n",
       "        vertical-align: middle;\n",
       "    }\n",
       "\n",
       "    .dataframe tbody tr th {\n",
       "        vertical-align: top;\n",
       "    }\n",
       "\n",
       "    .dataframe thead th {\n",
       "        text-align: right;\n",
       "    }\n",
       "</style>\n",
       "<table border=\"1\" class=\"dataframe\">\n",
       "  <thead>\n",
       "    <tr style=\"text-align: right;\">\n",
       "      <th></th>\n",
       "      <th>nateglinide</th>\n",
       "    </tr>\n",
       "  </thead>\n",
       "  <tbody>\n",
       "    <tr>\n",
       "      <th>No</th>\n",
       "      <td>99.301900</td>\n",
       "    </tr>\n",
       "    <tr>\n",
       "      <th>Steady</th>\n",
       "      <td>0.664321</td>\n",
       "    </tr>\n",
       "    <tr>\n",
       "      <th>Up</th>\n",
       "      <td>0.022519</td>\n",
       "    </tr>\n",
       "    <tr>\n",
       "      <th>Down</th>\n",
       "      <td>0.011260</td>\n",
       "    </tr>\n",
       "  </tbody>\n",
       "</table>\n",
       "</div>"
      ],
      "text/plain": [
       "        nateglinide\n",
       "No        99.301900\n",
       "Steady     0.664321\n",
       "Up         0.022519\n",
       "Down       0.011260"
      ]
     },
     "execution_count": 128,
     "metadata": {},
     "output_type": "execute_result"
    }
   ],
   "source": [
    "data.nateglinide.value_counts()\n",
    "nateglinide = pd.DataFrame(data.nateglinide.value_counts()/sum(data.nateglinide.value_counts())*100)\n",
    "nateglinide"
   ]
  },
  {
   "cell_type": "code",
   "execution_count": 129,
   "metadata": {},
   "outputs": [
    {
     "data": {
      "text/plain": [
       "NO     59.908722\n",
       ">30    31.248405\n",
       "<30     8.842872\n",
       "Name: readmitted, dtype: float64"
      ]
     },
     "execution_count": 129,
     "metadata": {},
     "output_type": "execute_result"
    }
   ],
   "source": [
    "nateglinide = data[data.nateglinide == \"No\"]\n",
    "nateglinide.readmitted.value_counts()/len(nateglinide)*100"
   ]
  },
  {
   "cell_type": "code",
   "execution_count": 130,
   "metadata": {},
   "outputs": [
    {
     "data": {
      "text/plain": [
       "NO     57.056452\n",
       ">30    35.282258\n",
       "<30     7.661290\n",
       "Name: readmitted, dtype: float64"
      ]
     },
     "execution_count": 130,
     "metadata": {},
     "output_type": "execute_result"
    }
   ],
   "source": [
    "nateglinide = data[data.nateglinide != \"No\"]\n",
    "nateglinide.readmitted.value_counts()/len(nateglinide)*100"
   ]
  },
  {
   "cell_type": "code",
   "execution_count": 134,
   "metadata": {},
   "outputs": [
    {
     "data": {
      "text/html": [
       "<div>\n",
       "<style scoped>\n",
       "    .dataframe tbody tr th:only-of-type {\n",
       "        vertical-align: middle;\n",
       "    }\n",
       "\n",
       "    .dataframe tbody tr th {\n",
       "        vertical-align: top;\n",
       "    }\n",
       "\n",
       "    .dataframe thead th {\n",
       "        text-align: right;\n",
       "    }\n",
       "</style>\n",
       "<table border=\"1\" class=\"dataframe\">\n",
       "  <thead>\n",
       "    <tr style=\"text-align: right;\">\n",
       "      <th></th>\n",
       "      <th>chlorpropamide</th>\n",
       "    </tr>\n",
       "  </thead>\n",
       "  <tbody>\n",
       "    <tr>\n",
       "      <th>No</th>\n",
       "      <td>99.898663</td>\n",
       "    </tr>\n",
       "    <tr>\n",
       "      <th>Steady</th>\n",
       "      <td>0.094300</td>\n",
       "    </tr>\n",
       "    <tr>\n",
       "      <th>Up</th>\n",
       "      <td>0.005630</td>\n",
       "    </tr>\n",
       "    <tr>\n",
       "      <th>Down</th>\n",
       "      <td>0.001407</td>\n",
       "    </tr>\n",
       "  </tbody>\n",
       "</table>\n",
       "</div>"
      ],
      "text/plain": [
       "        chlorpropamide\n",
       "No           99.898663\n",
       "Steady        0.094300\n",
       "Up            0.005630\n",
       "Down          0.001407"
      ]
     },
     "execution_count": 134,
     "metadata": {},
     "output_type": "execute_result"
    }
   ],
   "source": [
    "data.chlorpropamide.value_counts()\n",
    "chlorpropamide = pd.DataFrame(data.chlorpropamide.value_counts()/sum(data.chlorpropamide.value_counts())*100)\n",
    "chlorpropamide"
   ]
  },
  {
   "cell_type": "code",
   "execution_count": 132,
   "metadata": {},
   "outputs": [
    {
     "data": {
      "text/plain": [
       "NO     59.891797\n",
       ">30    31.268844\n",
       "<30     8.839359\n",
       "Name: readmitted, dtype: float64"
      ]
     },
     "execution_count": 132,
     "metadata": {},
     "output_type": "execute_result"
    }
   ],
   "source": [
    "chlorpropamide = data[data.chlorpropamide == \"No\"]\n",
    "chlorpropamide.readmitted.value_counts()/len(chlorpropamide)*100"
   ]
  },
  {
   "cell_type": "code",
   "execution_count": 131,
   "metadata": {},
   "outputs": [
    {
     "data": {
      "text/plain": [
       "NO     56.944444\n",
       ">30    38.888889\n",
       "<30     4.166667\n",
       "Name: readmitted, dtype: float64"
      ]
     },
     "execution_count": 131,
     "metadata": {},
     "output_type": "execute_result"
    }
   ],
   "source": [
    "chlorpropamide = data[data.chlorpropamide != \"No\"]\n",
    "chlorpropamide.readmitted.value_counts()/len(chlorpropamide)*100"
   ]
  },
  {
   "cell_type": "code",
   "execution_count": 137,
   "metadata": {},
   "outputs": [
    {
     "data": {
      "text/html": [
       "<div>\n",
       "<style scoped>\n",
       "    .dataframe tbody tr th:only-of-type {\n",
       "        vertical-align: middle;\n",
       "    }\n",
       "\n",
       "    .dataframe tbody tr th {\n",
       "        vertical-align: top;\n",
       "    }\n",
       "\n",
       "    .dataframe thead th {\n",
       "        text-align: right;\n",
       "    }\n",
       "</style>\n",
       "<table border=\"1\" class=\"dataframe\">\n",
       "  <thead>\n",
       "    <tr style=\"text-align: right;\">\n",
       "      <th></th>\n",
       "      <th>glimepiride</th>\n",
       "    </tr>\n",
       "  </thead>\n",
       "  <tbody>\n",
       "    <tr>\n",
       "      <th>No</th>\n",
       "      <td>94.751583</td>\n",
       "    </tr>\n",
       "    <tr>\n",
       "      <th>Steady</th>\n",
       "      <td>4.729064</td>\n",
       "    </tr>\n",
       "    <tr>\n",
       "      <th>Up</th>\n",
       "      <td>0.327938</td>\n",
       "    </tr>\n",
       "    <tr>\n",
       "      <th>Down</th>\n",
       "      <td>0.191414</td>\n",
       "    </tr>\n",
       "  </tbody>\n",
       "</table>\n",
       "</div>"
      ],
      "text/plain": [
       "        glimepiride\n",
       "No        94.751583\n",
       "Steady     4.729064\n",
       "Up         0.327938\n",
       "Down       0.191414"
      ]
     },
     "execution_count": 137,
     "metadata": {},
     "output_type": "execute_result"
    }
   ],
   "source": [
    "data.glimepiride.value_counts()\n",
    "glimepiride = pd.DataFrame(data.glimepiride.value_counts()/sum(data.glimepiride.value_counts())*100)\n",
    "glimepiride"
   ]
  },
  {
   "cell_type": "code",
   "execution_count": 138,
   "metadata": {},
   "outputs": [
    {
     "data": {
      "text/plain": [
       "NO     59.942663\n",
       ">30    31.214628\n",
       "<30     8.842709\n",
       "Name: readmitted, dtype: float64"
      ]
     },
     "execution_count": 138,
     "metadata": {},
     "output_type": "execute_result"
    }
   ],
   "source": [
    "glimepiride = data[data.glimepiride == \"No\"]\n",
    "glimepiride.readmitted.value_counts()/len(glimepiride)*100"
   ]
  },
  {
   "cell_type": "code",
   "execution_count": 139,
   "metadata": {},
   "outputs": [
    {
     "data": {
      "text/plain": [
       "NO     58.916600\n",
       ">30    32.394744\n",
       "<30     8.688656\n",
       "Name: readmitted, dtype: float64"
      ]
     },
     "execution_count": 139,
     "metadata": {},
     "output_type": "execute_result"
    }
   ],
   "source": [
    "glimepiride = data[data.glimepiride != \"No\"]\n",
    "glimepiride.readmitted.value_counts()/len(glimepiride)*100"
   ]
  },
  {
   "cell_type": "code",
   "execution_count": 144,
   "metadata": {},
   "outputs": [
    {
     "data": {
      "text/html": [
       "<div>\n",
       "<style scoped>\n",
       "    .dataframe tbody tr th:only-of-type {\n",
       "        vertical-align: middle;\n",
       "    }\n",
       "\n",
       "    .dataframe tbody tr th {\n",
       "        vertical-align: top;\n",
       "    }\n",
       "\n",
       "    .dataframe thead th {\n",
       "        text-align: right;\n",
       "    }\n",
       "</style>\n",
       "<table border=\"1\" class=\"dataframe\">\n",
       "  <thead>\n",
       "    <tr style=\"text-align: right;\">\n",
       "      <th></th>\n",
       "      <th>acetohexamide</th>\n",
       "    </tr>\n",
       "  </thead>\n",
       "  <tbody>\n",
       "    <tr>\n",
       "      <th>No</th>\n",
       "      <td>99.998593</td>\n",
       "    </tr>\n",
       "    <tr>\n",
       "      <th>Steady</th>\n",
       "      <td>0.001407</td>\n",
       "    </tr>\n",
       "  </tbody>\n",
       "</table>\n",
       "</div>"
      ],
      "text/plain": [
       "        acetohexamide\n",
       "No          99.998593\n",
       "Steady       0.001407"
      ]
     },
     "execution_count": 144,
     "metadata": {},
     "output_type": "execute_result"
    }
   ],
   "source": [
    "data.acetohexamide.value_counts()\n",
    "acetohexamide = pd.DataFrame(data.acetohexamide.value_counts()/sum(data.acetohexamide.value_counts())*100)\n",
    "acetohexamide"
   ]
  },
  {
   "cell_type": "code",
   "execution_count": 145,
   "metadata": {},
   "outputs": [
    {
     "data": {
      "text/plain": [
       "NO     59.889654\n",
       ">30    31.275599\n",
       "<30     8.834748\n",
       "Name: readmitted, dtype: float64"
      ]
     },
     "execution_count": 145,
     "metadata": {},
     "output_type": "execute_result"
    }
   ],
   "source": [
    "acetohexamide = data[data.acetohexamide == \"No\"]\n",
    "acetohexamide.readmitted.value_counts()/len(acetohexamide)*100"
   ]
  },
  {
   "cell_type": "code",
   "execution_count": 29,
   "metadata": {},
   "outputs": [
    {
     "data": {
      "text/plain": [
       "NO     59.889654\n",
       ">30    31.275599\n",
       "<30     8.834748\n",
       "Name: readmitted, dtype: float64"
      ]
     },
     "execution_count": 29,
     "metadata": {},
     "output_type": "execute_result"
    }
   ],
   "source": [
    "acetohexamide = data[data.acetohexamide != \"No\"]\n",
    "acetohexamide.readmitted.value_counts()/len(acetohexamide)*100"
   ]
  },
  {
   "cell_type": "code",
   "execution_count": 147,
   "metadata": {},
   "outputs": [
    {
     "data": {
      "text/html": [
       "<div>\n",
       "<style scoped>\n",
       "    .dataframe tbody tr th:only-of-type {\n",
       "        vertical-align: middle;\n",
       "    }\n",
       "\n",
       "    .dataframe tbody tr th {\n",
       "        vertical-align: top;\n",
       "    }\n",
       "\n",
       "    .dataframe thead th {\n",
       "        text-align: right;\n",
       "    }\n",
       "</style>\n",
       "<table border=\"1\" class=\"dataframe\">\n",
       "  <thead>\n",
       "    <tr style=\"text-align: right;\">\n",
       "      <th></th>\n",
       "      <th>glipizide</th>\n",
       "    </tr>\n",
       "  </thead>\n",
       "  <tbody>\n",
       "    <tr>\n",
       "      <th>No</th>\n",
       "      <td>87.245602</td>\n",
       "    </tr>\n",
       "    <tr>\n",
       "      <th>Steady</th>\n",
       "      <td>11.417312</td>\n",
       "    </tr>\n",
       "    <tr>\n",
       "      <th>Up</th>\n",
       "      <td>0.810697</td>\n",
       "    </tr>\n",
       "    <tr>\n",
       "      <th>Down</th>\n",
       "      <td>0.526390</td>\n",
       "    </tr>\n",
       "  </tbody>\n",
       "</table>\n",
       "</div>"
      ],
      "text/plain": [
       "        glipizide\n",
       "No      87.245602\n",
       "Steady  11.417312\n",
       "Up       0.810697\n",
       "Down     0.526390"
      ]
     },
     "execution_count": 147,
     "metadata": {},
     "output_type": "execute_result"
    }
   ],
   "source": [
    "data.glipizide.value_counts()\n",
    "glipizide = pd.DataFrame(data.glipizide.value_counts()/sum(data.glipizide.value_counts())*100)\n",
    "glipizide"
   ]
  },
  {
   "cell_type": "code",
   "execution_count": 148,
   "metadata": {},
   "outputs": [
    {
     "data": {
      "text/plain": [
       "NO     60.442344\n",
       ">30    30.846293\n",
       "<30     8.711363\n",
       "Name: readmitted, dtype: float64"
      ]
     },
     "execution_count": 148,
     "metadata": {},
     "output_type": "execute_result"
    }
   ],
   "source": [
    "glipizide = data[data.glipizide == \"No\"]\n",
    "glipizide.readmitted.value_counts()/len(glipizide)*100"
   ]
  },
  {
   "cell_type": "code",
   "execution_count": 149,
   "metadata": {},
   "outputs": [
    {
     "data": {
      "text/plain": [
       "NO     56.102406\n",
       ">30    34.219819\n",
       "<30     9.677775\n",
       "Name: readmitted, dtype: float64"
      ]
     },
     "execution_count": 149,
     "metadata": {},
     "output_type": "execute_result"
    }
   ],
   "source": [
    "glipizide = data[data.glipizide != \"No\"]\n",
    "glipizide.readmitted.value_counts()/len(glipizide)*100"
   ]
  },
  {
   "cell_type": "code",
   "execution_count": 154,
   "metadata": {},
   "outputs": [
    {
     "data": {
      "text/html": [
       "<div>\n",
       "<style scoped>\n",
       "    .dataframe tbody tr th:only-of-type {\n",
       "        vertical-align: middle;\n",
       "    }\n",
       "\n",
       "    .dataframe tbody tr th {\n",
       "        vertical-align: top;\n",
       "    }\n",
       "\n",
       "    .dataframe thead th {\n",
       "        text-align: right;\n",
       "    }\n",
       "</style>\n",
       "<table border=\"1\" class=\"dataframe\">\n",
       "  <thead>\n",
       "    <tr style=\"text-align: right;\">\n",
       "      <th></th>\n",
       "      <th>glyburide</th>\n",
       "    </tr>\n",
       "  </thead>\n",
       "  <tbody>\n",
       "    <tr>\n",
       "      <th>No</th>\n",
       "      <td>88.993666</td>\n",
       "    </tr>\n",
       "    <tr>\n",
       "      <th>Steady</th>\n",
       "      <td>9.546798</td>\n",
       "    </tr>\n",
       "    <tr>\n",
       "      <th>Up</th>\n",
       "      <td>0.868403</td>\n",
       "    </tr>\n",
       "    <tr>\n",
       "      <th>Down</th>\n",
       "      <td>0.591133</td>\n",
       "    </tr>\n",
       "  </tbody>\n",
       "</table>\n",
       "</div>"
      ],
      "text/plain": [
       "        glyburide\n",
       "No      88.993666\n",
       "Steady   9.546798\n",
       "Up       0.868403\n",
       "Down     0.591133"
      ]
     },
     "execution_count": 154,
     "metadata": {},
     "output_type": "execute_result"
    }
   ],
   "source": [
    "data.glyburide.value_counts()\n",
    "glyburide = pd.DataFrame(data.glyburide.value_counts()/sum(data.glyburide.value_counts())*100)\n",
    "glyburide"
   ]
  },
  {
   "cell_type": "code",
   "execution_count": 155,
   "metadata": {},
   "outputs": [
    {
     "data": {
      "text/plain": [
       "NO     60.072750\n",
       ">30    31.152934\n",
       "<30     8.774316\n",
       "Name: readmitted, dtype: float64"
      ]
     },
     "execution_count": 155,
     "metadata": {},
     "output_type": "execute_result"
    }
   ],
   "source": [
    "glyburide = data[data.glyburide == \"No\"]\n",
    "glyburide.readmitted.value_counts()/len(glyburide)*100"
   ]
  },
  {
   "cell_type": "code",
   "execution_count": 156,
   "metadata": {},
   "outputs": [
    {
     "data": {
      "text/plain": [
       "NO     58.401535\n",
       ">30    32.276215\n",
       "<30     9.322251\n",
       "Name: readmitted, dtype: float64"
      ]
     },
     "execution_count": 156,
     "metadata": {},
     "output_type": "execute_result"
    }
   ],
   "source": [
    "glyburide = data[data.glyburide != \"No\"]\n",
    "glyburide.readmitted.value_counts()/len(glyburide)*100"
   ]
  },
  {
   "cell_type": "code",
   "execution_count": 157,
   "metadata": {},
   "outputs": [
    {
     "data": {
      "text/html": [
       "<div>\n",
       "<style scoped>\n",
       "    .dataframe tbody tr th:only-of-type {\n",
       "        vertical-align: middle;\n",
       "    }\n",
       "\n",
       "    .dataframe tbody tr th {\n",
       "        vertical-align: top;\n",
       "    }\n",
       "\n",
       "    .dataframe thead th {\n",
       "        text-align: right;\n",
       "    }\n",
       "</style>\n",
       "<table border=\"1\" class=\"dataframe\">\n",
       "  <thead>\n",
       "    <tr style=\"text-align: right;\">\n",
       "      <th></th>\n",
       "      <th>tolbutamide</th>\n",
       "    </tr>\n",
       "  </thead>\n",
       "  <tbody>\n",
       "    <tr>\n",
       "      <th>No</th>\n",
       "      <td>99.973258</td>\n",
       "    </tr>\n",
       "    <tr>\n",
       "      <th>Steady</th>\n",
       "      <td>0.026742</td>\n",
       "    </tr>\n",
       "  </tbody>\n",
       "</table>\n",
       "</div>"
      ],
      "text/plain": [
       "        tolbutamide\n",
       "No        99.973258\n",
       "Steady     0.026742"
      ]
     },
     "execution_count": 157,
     "metadata": {},
     "output_type": "execute_result"
    }
   ],
   "source": [
    "data.tolbutamide.value_counts()\n",
    "tolbutamide = pd.DataFrame(data.tolbutamide.value_counts()/sum(data.tolbutamide.value_counts())*100)\n",
    "tolbutamide"
   ]
  },
  {
   "cell_type": "code",
   "execution_count": 158,
   "metadata": {},
   "outputs": [
    {
     "data": {
      "text/plain": [
       "NO     59.886528\n",
       ">30    31.277893\n",
       "<30     8.835579\n",
       "Name: readmitted, dtype: float64"
      ]
     },
     "execution_count": 158,
     "metadata": {},
     "output_type": "execute_result"
    }
   ],
   "source": [
    "tolbutamide = data[data.tolbutamide == \"No\"]\n",
    "tolbutamide.readmitted.value_counts()/len(tolbutamide)*100"
   ]
  },
  {
   "cell_type": "code",
   "execution_count": 159,
   "metadata": {},
   "outputs": [
    {
     "data": {
      "text/plain": [
       "NO     68.421053\n",
       ">30    26.315789\n",
       "<30     5.263158\n",
       "Name: readmitted, dtype: float64"
      ]
     },
     "execution_count": 159,
     "metadata": {},
     "output_type": "execute_result"
    }
   ],
   "source": [
    "tolbutamide = data[data.tolbutamide != \"No\"]\n",
    "tolbutamide.readmitted.value_counts()/len(tolbutamide)*100"
   ]
  },
  {
   "cell_type": "code",
   "execution_count": 161,
   "metadata": {},
   "outputs": [
    {
     "data": {
      "text/html": [
       "<div>\n",
       "<style scoped>\n",
       "    .dataframe tbody tr th:only-of-type {\n",
       "        vertical-align: middle;\n",
       "    }\n",
       "\n",
       "    .dataframe tbody tr th {\n",
       "        vertical-align: top;\n",
       "    }\n",
       "\n",
       "    .dataframe thead th {\n",
       "        text-align: right;\n",
       "    }\n",
       "</style>\n",
       "<table border=\"1\" class=\"dataframe\">\n",
       "  <thead>\n",
       "    <tr style=\"text-align: right;\">\n",
       "      <th></th>\n",
       "      <th>pioglitazone</th>\n",
       "    </tr>\n",
       "  </thead>\n",
       "  <tbody>\n",
       "    <tr>\n",
       "      <th>No</th>\n",
       "      <td>92.554539</td>\n",
       "    </tr>\n",
       "    <tr>\n",
       "      <th>Steady</th>\n",
       "      <td>7.078114</td>\n",
       "    </tr>\n",
       "    <tr>\n",
       "      <th>Up</th>\n",
       "      <td>0.253343</td>\n",
       "    </tr>\n",
       "    <tr>\n",
       "      <th>Down</th>\n",
       "      <td>0.114004</td>\n",
       "    </tr>\n",
       "  </tbody>\n",
       "</table>\n",
       "</div>"
      ],
      "text/plain": [
       "        pioglitazone\n",
       "No         92.554539\n",
       "Steady      7.078114\n",
       "Up          0.253343\n",
       "Down        0.114004"
      ]
     },
     "execution_count": 161,
     "metadata": {},
     "output_type": "execute_result"
    }
   ],
   "source": [
    "data.pioglitazone.value_counts()\n",
    "pioglitazone = pd.DataFrame(data.pioglitazone.value_counts()/sum(data.pioglitazone.value_counts())*100)\n",
    "pioglitazone"
   ]
  },
  {
   "cell_type": "code",
   "execution_count": 40,
   "metadata": {},
   "outputs": [
    {
     "data": {
      "text/plain": [
       "<matplotlib.axes._subplots.AxesSubplot at 0x20acd6c13d0>"
      ]
     },
     "execution_count": 40,
     "metadata": {},
     "output_type": "execute_result"
    },
    {
     "data": {
      "image/png": "[encoded data removed]",
      "text/plain": [
       "<Figure size 432x288 with 1 Axes>"
      ]
     },
     "metadata": {},
     "output_type": "display_data"
    }
   ],
   "source": [
    "pioglitazone = data[data.pioglitazone == \"No\"]\n",
    "pioglitazone.readmitted.value_counts()/len(pioglitazone)*100"
   ]
  },
  {
   "cell_type": "code",
   "execution_count": 41,
   "metadata": {},
   "outputs": [
    {
     "data": {
      "text/plain": [
       "NO     60.127737\n",
       ">30    31.024939\n",
       "<30     8.847324\n",
       "Name: readmitted, dtype: float64"
      ]
     },
     "execution_count": 41,
     "metadata": {},
     "output_type": "execute_result"
    }
   ],
   "source": [
    "pioglitazone = data[data.pioglitazone != \"No\"]\n",
    "pioglitazone.readmitted.value_counts()/len(pioglitazone)*100"
   ]
  },
  {
   "cell_type": "code",
   "execution_count": 162,
   "metadata": {},
   "outputs": [
    {
     "data": {
      "text/html": [
       "<div>\n",
       "<style scoped>\n",
       "    .dataframe tbody tr th:only-of-type {\n",
       "        vertical-align: middle;\n",
       "    }\n",
       "\n",
       "    .dataframe tbody tr th {\n",
       "        vertical-align: top;\n",
       "    }\n",
       "\n",
       "    .dataframe thead th {\n",
       "        text-align: right;\n",
       "    }\n",
       "</style>\n",
       "<table border=\"1\" class=\"dataframe\">\n",
       "  <thead>\n",
       "    <tr style=\"text-align: right;\">\n",
       "      <th></th>\n",
       "      <th>rosiglitazone</th>\n",
       "    </tr>\n",
       "  </thead>\n",
       "  <tbody>\n",
       "    <tr>\n",
       "      <th>No</th>\n",
       "      <td>93.406052</td>\n",
       "    </tr>\n",
       "    <tr>\n",
       "      <th>Steady</th>\n",
       "      <td>6.299789</td>\n",
       "    </tr>\n",
       "    <tr>\n",
       "      <th>Up</th>\n",
       "      <td>0.190007</td>\n",
       "    </tr>\n",
       "    <tr>\n",
       "      <th>Down</th>\n",
       "      <td>0.104152</td>\n",
       "    </tr>\n",
       "  </tbody>\n",
       "</table>\n",
       "</div>"
      ],
      "text/plain": [
       "        rosiglitazone\n",
       "No          93.406052\n",
       "Steady       6.299789\n",
       "Up           0.190007\n",
       "Down         0.104152"
      ]
     },
     "execution_count": 162,
     "metadata": {},
     "output_type": "execute_result"
    }
   ],
   "source": [
    "data.rosiglitazone.value_counts()\n",
    "rosiglitazone = pd.DataFrame(data.rosiglitazone.value_counts()/sum(data.rosiglitazone.value_counts())*100)\n",
    "rosiglitazone"
   ]
  },
  {
   "cell_type": "code",
   "execution_count": 164,
   "metadata": {},
   "outputs": [
    {
     "data": {
      "text/plain": [
       "NO     60.176298\n",
       ">30    30.983199\n",
       "<30     8.840503\n",
       "Name: readmitted, dtype: float64"
      ]
     },
     "execution_count": 164,
     "metadata": {},
     "output_type": "execute_result"
    }
   ],
   "source": [
    "rosiglitazone = data[data.rosiglitazone == \"No\"]\n",
    "rosiglitazone.readmitted.value_counts()/len(rosiglitazone)*100"
   ]
  },
  {
   "cell_type": "code",
   "execution_count": 163,
   "metadata": {},
   "outputs": [
    {
     "data": {
      "text/plain": [
       "NO     55.816435\n",
       ">30    35.432231\n",
       "<30     8.751334\n",
       "Name: readmitted, dtype: float64"
      ]
     },
     "execution_count": 163,
     "metadata": {},
     "output_type": "execute_result"
    }
   ],
   "source": [
    "rosiglitazone = data[data.rosiglitazone != \"No\"]\n",
    "rosiglitazone.readmitted.value_counts()/len(rosiglitazone)*100"
   ]
  },
  {
   "cell_type": "code",
   "execution_count": 165,
   "metadata": {},
   "outputs": [
    {
     "data": {
      "text/html": [
       "<div>\n",
       "<style scoped>\n",
       "    .dataframe tbody tr th:only-of-type {\n",
       "        vertical-align: middle;\n",
       "    }\n",
       "\n",
       "    .dataframe tbody tr th {\n",
       "        vertical-align: top;\n",
       "    }\n",
       "\n",
       "    .dataframe thead th {\n",
       "        text-align: right;\n",
       "    }\n",
       "</style>\n",
       "<table border=\"1\" class=\"dataframe\">\n",
       "  <thead>\n",
       "    <tr style=\"text-align: right;\">\n",
       "      <th></th>\n",
       "      <th>acarbose</th>\n",
       "    </tr>\n",
       "  </thead>\n",
       "  <tbody>\n",
       "    <tr>\n",
       "      <th>No</th>\n",
       "      <td>99.717101</td>\n",
       "    </tr>\n",
       "    <tr>\n",
       "      <th>Steady</th>\n",
       "      <td>0.268825</td>\n",
       "    </tr>\n",
       "    <tr>\n",
       "      <th>Up</th>\n",
       "      <td>0.014075</td>\n",
       "    </tr>\n",
       "  </tbody>\n",
       "</table>\n",
       "</div>"
      ],
      "text/plain": [
       "         acarbose\n",
       "No      99.717101\n",
       "Steady   0.268825\n",
       "Up       0.014075"
      ]
     },
     "execution_count": 165,
     "metadata": {},
     "output_type": "execute_result"
    }
   ],
   "source": [
    "data.acarbose.value_counts()\n",
    "acarbose = pd.DataFrame(data.acarbose.value_counts()/sum(data.acarbose.value_counts())*100)\n",
    "acarbose"
   ]
  },
  {
   "cell_type": "code",
   "execution_count": 166,
   "metadata": {},
   "outputs": [
    {
     "data": {
      "text/plain": [
       "NO     59.918983\n",
       ">30    31.242502\n",
       "<30     8.838516\n",
       "Name: readmitted, dtype: float64"
      ]
     },
     "execution_count": 166,
     "metadata": {},
     "output_type": "execute_result"
    }
   ],
   "source": [
    "acarbose = data[data.acarbose == \"No\"]\n",
    "acarbose.readmitted.value_counts()/len(acarbose)*100"
   ]
  },
  {
   "cell_type": "code",
   "execution_count": 167,
   "metadata": {},
   "outputs": [
    {
     "data": {
      "text/plain": [
       "NO     49.253731\n",
       ">30    43.283582\n",
       "<30     7.462687\n",
       "Name: readmitted, dtype: float64"
      ]
     },
     "execution_count": 167,
     "metadata": {},
     "output_type": "execute_result"
    }
   ],
   "source": [
    "acarbose = data[data.acarbose != \"No\"]\n",
    "acarbose.readmitted.value_counts()/len(acarbose)*100"
   ]
  },
  {
   "cell_type": "code",
   "execution_count": 168,
   "metadata": {},
   "outputs": [
    {
     "data": {
      "text/html": [
       "<div>\n",
       "<style scoped>\n",
       "    .dataframe tbody tr th:only-of-type {\n",
       "        vertical-align: middle;\n",
       "    }\n",
       "\n",
       "    .dataframe tbody tr th {\n",
       "        vertical-align: top;\n",
       "    }\n",
       "\n",
       "    .dataframe thead th {\n",
       "        text-align: right;\n",
       "    }\n",
       "</style>\n",
       "<table border=\"1\" class=\"dataframe\">\n",
       "  <thead>\n",
       "    <tr style=\"text-align: right;\">\n",
       "      <th></th>\n",
       "      <th>miglitol</th>\n",
       "    </tr>\n",
       "  </thead>\n",
       "  <tbody>\n",
       "    <tr>\n",
       "      <th>No</th>\n",
       "      <td>99.971851</td>\n",
       "    </tr>\n",
       "    <tr>\n",
       "      <th>Steady</th>\n",
       "      <td>0.025334</td>\n",
       "    </tr>\n",
       "    <tr>\n",
       "      <th>Down</th>\n",
       "      <td>0.001407</td>\n",
       "    </tr>\n",
       "    <tr>\n",
       "      <th>Up</th>\n",
       "      <td>0.001407</td>\n",
       "    </tr>\n",
       "  </tbody>\n",
       "</table>\n",
       "</div>"
      ],
      "text/plain": [
       "         miglitol\n",
       "No      99.971851\n",
       "Steady   0.025334\n",
       "Down     0.001407\n",
       "Up       0.001407"
      ]
     },
     "execution_count": 168,
     "metadata": {},
     "output_type": "execute_result"
    }
   ],
   "source": [
    "data.miglitol.value_counts()\n",
    "miglitol = pd.DataFrame(data.miglitol.value_counts()/sum(data.miglitol.value_counts())*100)\n",
    "miglitol"
   ]
  },
  {
   "cell_type": "code",
   "execution_count": 169,
   "metadata": {},
   "outputs": [
    {
     "data": {
      "text/plain": [
       "NO     59.895819\n",
       ">30    31.268478\n",
       "<30     8.835703\n",
       "Name: readmitted, dtype: float64"
      ]
     },
     "execution_count": 169,
     "metadata": {},
     "output_type": "execute_result"
    }
   ],
   "source": [
    "miglitol = data[data.miglitol == \"No\"]\n",
    "miglitol.readmitted.value_counts()/len(miglitol)*100"
   ]
  },
  {
   "cell_type": "code",
   "execution_count": 170,
   "metadata": {},
   "outputs": [
    {
     "data": {
      "text/plain": [
       ">30    60.0\n",
       "NO     35.0\n",
       "<30     5.0\n",
       "Name: readmitted, dtype: float64"
      ]
     },
     "execution_count": 170,
     "metadata": {},
     "output_type": "execute_result"
    }
   ],
   "source": [
    "miglitol = data[data.miglitol != \"No\"]\n",
    "miglitol.readmitted.value_counts()/len(miglitol)*100"
   ]
  },
  {
   "cell_type": "code",
   "execution_count": 171,
   "metadata": {},
   "outputs": [
    {
     "data": {
      "text/html": [
       "<div>\n",
       "<style scoped>\n",
       "    .dataframe tbody tr th:only-of-type {\n",
       "        vertical-align: middle;\n",
       "    }\n",
       "\n",
       "    .dataframe tbody tr th {\n",
       "        vertical-align: top;\n",
       "    }\n",
       "\n",
       "    .dataframe thead th {\n",
       "        text-align: right;\n",
       "    }\n",
       "</style>\n",
       "<table border=\"1\" class=\"dataframe\">\n",
       "  <thead>\n",
       "    <tr style=\"text-align: right;\">\n",
       "      <th></th>\n",
       "      <th>troglitazone</th>\n",
       "    </tr>\n",
       "  </thead>\n",
       "  <tbody>\n",
       "    <tr>\n",
       "      <th>No</th>\n",
       "      <td>99.995778</td>\n",
       "    </tr>\n",
       "    <tr>\n",
       "      <th>Steady</th>\n",
       "      <td>0.004222</td>\n",
       "    </tr>\n",
       "  </tbody>\n",
       "</table>\n",
       "</div>"
      ],
      "text/plain": [
       "        troglitazone\n",
       "No         99.995778\n",
       "Steady      0.004222"
      ]
     },
     "execution_count": 171,
     "metadata": {},
     "output_type": "execute_result"
    }
   ],
   "source": [
    "data.troglitazone.value_counts()\n",
    "troglitazone = pd.DataFrame(data.troglitazone.value_counts()/sum(data.troglitazone.value_counts())*100)\n",
    "troglitazone"
   ]
  },
  {
   "cell_type": "code",
   "execution_count": 172,
   "metadata": {},
   "outputs": [
    {
     "data": {
      "text/plain": [
       "NO     59.889932\n",
       ">30    31.275071\n",
       "<30     8.834997\n",
       "Name: readmitted, dtype: float64"
      ]
     },
     "execution_count": 172,
     "metadata": {},
     "output_type": "execute_result"
    }
   ],
   "source": [
    "troglitazone = data[data.troglitazone == \"No\"]\n",
    "troglitazone.readmitted.value_counts()/len(troglitazone)*100"
   ]
  },
  {
   "cell_type": "code",
   "execution_count": 178,
   "metadata": {},
   "outputs": [
    {
     "data": {
      "text/plain": [
       ">30    66.666667\n",
       "NO     33.333333\n",
       "Name: readmitted, dtype: float64"
      ]
     },
     "execution_count": 178,
     "metadata": {},
     "output_type": "execute_result"
    }
   ],
   "source": [
    "troglitazone = data[data.troglitazone != \"No\"]\n",
    "troglitazone.readmitted.value_counts()/len(troglitazone)*100"
   ]
  },
  {
   "cell_type": "code",
   "execution_count": 175,
   "metadata": {},
   "outputs": [
    {
     "data": {
      "text/html": [
       "<div>\n",
       "<style scoped>\n",
       "    .dataframe tbody tr th:only-of-type {\n",
       "        vertical-align: middle;\n",
       "    }\n",
       "\n",
       "    .dataframe tbody tr th {\n",
       "        vertical-align: top;\n",
       "    }\n",
       "\n",
       "    .dataframe thead th {\n",
       "        text-align: right;\n",
       "    }\n",
       "</style>\n",
       "<table border=\"1\" class=\"dataframe\">\n",
       "  <thead>\n",
       "    <tr style=\"text-align: right;\">\n",
       "      <th></th>\n",
       "      <th>tolazamide</th>\n",
       "    </tr>\n",
       "  </thead>\n",
       "  <tbody>\n",
       "    <tr>\n",
       "      <th>No</th>\n",
       "      <td>99.957776</td>\n",
       "    </tr>\n",
       "    <tr>\n",
       "      <th>Steady</th>\n",
       "      <td>0.042224</td>\n",
       "    </tr>\n",
       "  </tbody>\n",
       "</table>\n",
       "</div>"
      ],
      "text/plain": [
       "        tolazamide\n",
       "No       99.957776\n",
       "Steady    0.042224"
      ]
     },
     "execution_count": 175,
     "metadata": {},
     "output_type": "execute_result"
    }
   ],
   "source": [
    "data.tolazamide.value_counts()\n",
    "tolazamide = pd.DataFrame(data.tolazamide.value_counts()/sum(data.tolazamide.value_counts())*100)\n",
    "tolazamide"
   ]
  },
  {
   "cell_type": "code",
   "execution_count": 179,
   "metadata": {},
   "outputs": [
    {
     "data": {
      "text/plain": [
       "NO     59.885948\n",
       ">30    31.277105\n",
       "<30     8.836947\n",
       "Name: readmitted, dtype: float64"
      ]
     },
     "execution_count": 179,
     "metadata": {},
     "output_type": "execute_result"
    }
   ],
   "source": [
    "tolazamide = data[data.tolazamide == \"No\"]\n",
    "tolazamide.readmitted.value_counts()/len(tolazamide)*100"
   ]
  },
  {
   "cell_type": "code",
   "execution_count": 176,
   "metadata": {},
   "outputs": [
    {
     "data": {
      "text/plain": [
       "NO     66.666667\n",
       ">30    30.000000\n",
       "<30     3.333333\n",
       "Name: readmitted, dtype: float64"
      ]
     },
     "execution_count": 176,
     "metadata": {},
     "output_type": "execute_result"
    }
   ],
   "source": [
    "tolazamide = data[data.tolazamide != \"No\"]\n",
    "tolazamide.readmitted.value_counts()/len(tolazamide)*100"
   ]
  },
  {
   "cell_type": "code",
   "execution_count": 177,
   "metadata": {},
   "outputs": [
    {
     "data": {
      "text/html": [
       "<div>\n",
       "<style scoped>\n",
       "    .dataframe tbody tr th:only-of-type {\n",
       "        vertical-align: middle;\n",
       "    }\n",
       "\n",
       "    .dataframe tbody tr th {\n",
       "        vertical-align: top;\n",
       "    }\n",
       "\n",
       "    .dataframe thead th {\n",
       "        text-align: right;\n",
       "    }\n",
       "</style>\n",
       "<table border=\"1\" class=\"dataframe\">\n",
       "  <thead>\n",
       "    <tr style=\"text-align: right;\">\n",
       "      <th></th>\n",
       "      <th>examide</th>\n",
       "    </tr>\n",
       "  </thead>\n",
       "  <tbody>\n",
       "    <tr>\n",
       "      <th>No</th>\n",
       "      <td>100.0</td>\n",
       "    </tr>\n",
       "  </tbody>\n",
       "</table>\n",
       "</div>"
      ],
      "text/plain": [
       "    examide\n",
       "No    100.0"
      ]
     },
     "execution_count": 177,
     "metadata": {},
     "output_type": "execute_result"
    }
   ],
   "source": [
    "data.examide.value_counts()\n",
    "examide = pd.DataFrame(data.examide.value_counts()/sum(data.examide.value_counts())*100)\n",
    "examide"
   ]
  },
  {
   "cell_type": "code",
   "execution_count": 180,
   "metadata": {},
   "outputs": [
    {
     "data": {
      "text/plain": [
       "NO     59.888811\n",
       ">30    31.276566\n",
       "<30     8.834624\n",
       "Name: readmitted, dtype: float64"
      ]
     },
     "execution_count": 180,
     "metadata": {},
     "output_type": "execute_result"
    }
   ],
   "source": [
    "examide = data[data.examide == \"No\"]\n",
    "examide.readmitted.value_counts()/len(examide)*100"
   ]
  },
  {
   "cell_type": "code",
   "execution_count": 181,
   "metadata": {},
   "outputs": [
    {
     "data": {
      "text/html": [
       "<div>\n",
       "<style scoped>\n",
       "    .dataframe tbody tr th:only-of-type {\n",
       "        vertical-align: middle;\n",
       "    }\n",
       "\n",
       "    .dataframe tbody tr th {\n",
       "        vertical-align: top;\n",
       "    }\n",
       "\n",
       "    .dataframe thead th {\n",
       "        text-align: right;\n",
       "    }\n",
       "</style>\n",
       "<table border=\"1\" class=\"dataframe\">\n",
       "  <thead>\n",
       "    <tr style=\"text-align: right;\">\n",
       "      <th></th>\n",
       "      <th>citoglipton</th>\n",
       "    </tr>\n",
       "  </thead>\n",
       "  <tbody>\n",
       "    <tr>\n",
       "      <th>No</th>\n",
       "      <td>100.0</td>\n",
       "    </tr>\n",
       "  </tbody>\n",
       "</table>\n",
       "</div>"
      ],
      "text/plain": [
       "    citoglipton\n",
       "No        100.0"
      ]
     },
     "execution_count": 181,
     "metadata": {},
     "output_type": "execute_result"
    }
   ],
   "source": [
    "data.citoglipton.value_counts()\n",
    "citoglipton = pd.DataFrame(data.citoglipton.value_counts()/sum(data.citoglipton.value_counts())*100)\n",
    "citoglipton"
   ]
  },
  {
   "cell_type": "code",
   "execution_count": 182,
   "metadata": {},
   "outputs": [
    {
     "data": {
      "text/plain": [
       "NO     59.888811\n",
       ">30    31.276566\n",
       "<30     8.834624\n",
       "Name: readmitted, dtype: float64"
      ]
     },
     "execution_count": 182,
     "metadata": {},
     "output_type": "execute_result"
    }
   ],
   "source": [
    "citoglipton = data[data.citoglipton == \"No\"]\n",
    "citoglipton.readmitted.value_counts()/len(citoglipton)*100"
   ]
  },
  {
   "cell_type": "code",
   "execution_count": 183,
   "metadata": {},
   "outputs": [
    {
     "data": {
      "text/html": [
       "<div>\n",
       "<style scoped>\n",
       "    .dataframe tbody tr th:only-of-type {\n",
       "        vertical-align: middle;\n",
       "    }\n",
       "\n",
       "    .dataframe tbody tr th {\n",
       "        vertical-align: top;\n",
       "    }\n",
       "\n",
       "    .dataframe thead th {\n",
       "        text-align: right;\n",
       "    }\n",
       "</style>\n",
       "<table border=\"1\" class=\"dataframe\">\n",
       "  <thead>\n",
       "    <tr style=\"text-align: right;\">\n",
       "      <th></th>\n",
       "      <th>insulin</th>\n",
       "    </tr>\n",
       "  </thead>\n",
       "  <tbody>\n",
       "    <tr>\n",
       "      <th>No</th>\n",
       "      <td>48.859958</td>\n",
       "    </tr>\n",
       "    <tr>\n",
       "      <th>Steady</th>\n",
       "      <td>30.917664</td>\n",
       "    </tr>\n",
       "    <tr>\n",
       "      <th>Down</th>\n",
       "      <td>10.492611</td>\n",
       "    </tr>\n",
       "    <tr>\n",
       "      <th>Up</th>\n",
       "      <td>9.729768</td>\n",
       "    </tr>\n",
       "  </tbody>\n",
       "</table>\n",
       "</div>"
      ],
      "text/plain": [
       "          insulin\n",
       "No      48.859958\n",
       "Steady  30.917664\n",
       "Down    10.492611\n",
       "Up       9.729768"
      ]
     },
     "execution_count": 183,
     "metadata": {},
     "output_type": "execute_result"
    }
   ],
   "source": [
    "data.insulin.value_counts()\n",
    "insulin = pd.DataFrame(data.insulin.value_counts()/sum(data.insulin.value_counts())*100)\n",
    "insulin"
   ]
  },
  {
   "cell_type": "code",
   "execution_count": 184,
   "metadata": {},
   "outputs": [
    {
     "data": {
      "text/plain": [
       "NO     61.532479\n",
       ">30    30.295261\n",
       "<30     8.172260\n",
       "Name: readmitted, dtype: float64"
      ]
     },
     "execution_count": 184,
     "metadata": {},
     "output_type": "execute_result"
    }
   ],
   "source": [
    "insulin = data[data.insulin == \"No\"]\n",
    "insulin.readmitted.value_counts()/len(insulin)*100"
   ]
  },
  {
   "cell_type": "code",
   "execution_count": 185,
   "metadata": {},
   "outputs": [
    {
     "data": {
      "text/plain": [
       "NO     58.318426\n",
       ">30    32.214119\n",
       "<30     9.467456\n",
       "Name: readmitted, dtype: float64"
      ]
     },
     "execution_count": 185,
     "metadata": {},
     "output_type": "execute_result"
    }
   ],
   "source": [
    "insulin = data[data.insulin != \"No\"]\n",
    "insulin.readmitted.value_counts()/len(insulin)*100"
   ]
  },
  {
   "cell_type": "code",
   "execution_count": 187,
   "metadata": {},
   "outputs": [
    {
     "data": {
      "text/html": [
       "<div>\n",
       "<style scoped>\n",
       "    .dataframe tbody tr th:only-of-type {\n",
       "        vertical-align: middle;\n",
       "    }\n",
       "\n",
       "    .dataframe tbody tr th {\n",
       "        vertical-align: top;\n",
       "    }\n",
       "\n",
       "    .dataframe thead th {\n",
       "        text-align: right;\n",
       "    }\n",
       "</style>\n",
       "<table border=\"1\" class=\"dataframe\">\n",
       "  <thead>\n",
       "    <tr style=\"text-align: right;\">\n",
       "      <th></th>\n",
       "      <th>glyburide_metformin</th>\n",
       "    </tr>\n",
       "  </thead>\n",
       "  <tbody>\n",
       "    <tr>\n",
       "      <th>No</th>\n",
       "      <td>99.293455</td>\n",
       "    </tr>\n",
       "    <tr>\n",
       "      <th>Steady</th>\n",
       "      <td>0.691063</td>\n",
       "    </tr>\n",
       "    <tr>\n",
       "      <th>Up</th>\n",
       "      <td>0.009852</td>\n",
       "    </tr>\n",
       "    <tr>\n",
       "      <th>Down</th>\n",
       "      <td>0.005630</td>\n",
       "    </tr>\n",
       "  </tbody>\n",
       "</table>\n",
       "</div>"
      ],
      "text/plain": [
       "        glyburide_metformin\n",
       "No                99.293455\n",
       "Steady             0.691063\n",
       "Up                 0.009852\n",
       "Down               0.005630"
      ]
     },
     "execution_count": 187,
     "metadata": {},
     "output_type": "execute_result"
    }
   ],
   "source": [
    "data.glyburide_metformin.value_counts()\n",
    "glyburide_metformin = pd.DataFrame(data.glyburide_metformin.value_counts()/sum(data.glyburide_metformin.value_counts())*100)\n",
    "glyburide_metformin"
   ]
  },
  {
   "cell_type": "code",
   "execution_count": 188,
   "metadata": {},
   "outputs": [
    {
     "data": {
      "text/plain": [
       "NO     59.896808\n",
       ">30    31.260985\n",
       "<30     8.842207\n",
       "Name: readmitted, dtype: float64"
      ]
     },
     "execution_count": 188,
     "metadata": {},
     "output_type": "execute_result"
    }
   ],
   "source": [
    "glyburide_metformin = data[data.glyburide_metformin == \"No\"]\n",
    "glyburide_metformin.readmitted.value_counts()/len(glyburide_metformin)*100"
   ]
  },
  {
   "cell_type": "code",
   "execution_count": 189,
   "metadata": {},
   "outputs": [
    {
     "data": {
      "text/plain": [
       "NO     58.764940\n",
       ">30    33.466135\n",
       "<30     7.768924\n",
       "Name: readmitted, dtype: float64"
      ]
     },
     "execution_count": 189,
     "metadata": {},
     "output_type": "execute_result"
    }
   ],
   "source": [
    "glyburide_metformin = data[data.glyburide_metformin != \"No\"]\n",
    "glyburide_metformin.readmitted.value_counts()/len(glyburide_metformin)*100"
   ]
  },
  {
   "cell_type": "code",
   "execution_count": 191,
   "metadata": {},
   "outputs": [
    {
     "data": {
      "text/html": [
       "<div>\n",
       "<style scoped>\n",
       "    .dataframe tbody tr th:only-of-type {\n",
       "        vertical-align: middle;\n",
       "    }\n",
       "\n",
       "    .dataframe tbody tr th {\n",
       "        vertical-align: top;\n",
       "    }\n",
       "\n",
       "    .dataframe thead th {\n",
       "        text-align: right;\n",
       "    }\n",
       "</style>\n",
       "<table border=\"1\" class=\"dataframe\">\n",
       "  <thead>\n",
       "    <tr style=\"text-align: right;\">\n",
       "      <th></th>\n",
       "      <th>glipizide_metformin</th>\n",
       "    </tr>\n",
       "  </thead>\n",
       "  <tbody>\n",
       "    <tr>\n",
       "      <th>No</th>\n",
       "      <td>99.990148</td>\n",
       "    </tr>\n",
       "    <tr>\n",
       "      <th>Steady</th>\n",
       "      <td>0.009852</td>\n",
       "    </tr>\n",
       "  </tbody>\n",
       "</table>\n",
       "</div>"
      ],
      "text/plain": [
       "        glipizide_metformin\n",
       "No                99.990148\n",
       "Steady             0.009852"
      ]
     },
     "execution_count": 191,
     "metadata": {},
     "output_type": "execute_result"
    }
   ],
   "source": [
    "data.glipizide_metformin.value_counts()\n",
    "glipizide_metformin = pd.DataFrame(data.glipizide_metformin.value_counts()/sum(data.glipizide_metformin.value_counts())*100)\n",
    "glipizide_metformin"
   ]
  },
  {
   "cell_type": "code",
   "execution_count": 192,
   "metadata": {},
   "outputs": [
    {
     "data": {
      "text/plain": [
       "NO     59.890489\n",
       ">30    31.274017\n",
       "<30     8.835494\n",
       "Name: readmitted, dtype: float64"
      ]
     },
     "execution_count": 192,
     "metadata": {},
     "output_type": "execute_result"
    }
   ],
   "source": [
    "glipizide_metformin = data[data.glipizide_metformin == \"No\"]\n",
    "glipizide_metformin.readmitted.value_counts()/len(glipizide_metformin)*100"
   ]
  },
  {
   "cell_type": "code",
   "execution_count": 193,
   "metadata": {},
   "outputs": [
    {
     "data": {
      "text/plain": [
       ">30    57.142857\n",
       "NO     42.857143\n",
       "Name: readmitted, dtype: float64"
      ]
     },
     "execution_count": 193,
     "metadata": {},
     "output_type": "execute_result"
    }
   ],
   "source": [
    "glipizide_metformin = data[data.glipizide_metformin != \"No\"]\n",
    "glipizide_metformin.readmitted.value_counts()/len(glipizide_metformin)*100"
   ]
  },
  {
   "cell_type": "code",
   "execution_count": 194,
   "metadata": {},
   "outputs": [
    {
     "data": {
      "text/html": [
       "<div>\n",
       "<style scoped>\n",
       "    .dataframe tbody tr th:only-of-type {\n",
       "        vertical-align: middle;\n",
       "    }\n",
       "\n",
       "    .dataframe tbody tr th {\n",
       "        vertical-align: top;\n",
       "    }\n",
       "\n",
       "    .dataframe thead th {\n",
       "        text-align: right;\n",
       "    }\n",
       "</style>\n",
       "<table border=\"1\" class=\"dataframe\">\n",
       "  <thead>\n",
       "    <tr style=\"text-align: right;\">\n",
       "      <th></th>\n",
       "      <th>glimepiride_pioglitazone</th>\n",
       "    </tr>\n",
       "  </thead>\n",
       "  <tbody>\n",
       "    <tr>\n",
       "      <th>No</th>\n",
       "      <td>100.0</td>\n",
       "    </tr>\n",
       "  </tbody>\n",
       "</table>\n",
       "</div>"
      ],
      "text/plain": [
       "    glimepiride_pioglitazone\n",
       "No                     100.0"
      ]
     },
     "execution_count": 194,
     "metadata": {},
     "output_type": "execute_result"
    }
   ],
   "source": [
    "data.glimepiride_pioglitazone.value_counts()\n",
    "glimepiride_pioglitazone = pd.DataFrame(data.glimepiride_pioglitazone.value_counts()/sum(data.glimepiride_pioglitazone.value_counts())*100)\n",
    "glimepiride_pioglitazone"
   ]
  },
  {
   "cell_type": "code",
   "execution_count": 195,
   "metadata": {},
   "outputs": [
    {
     "data": {
      "text/plain": [
       "NO     59.887682\n",
       ">30    31.277446\n",
       "<30     8.834872\n",
       "Name: readmitted, dtype: float64"
      ]
     },
     "execution_count": 195,
     "metadata": {},
     "output_type": "execute_result"
    }
   ],
   "source": [
    "glimepiride_pioglitazone = data[data.metformin_rosiglitazone == \"No\"]\n",
    "glimepiride_pioglitazone.readmitted.value_counts()/len(glimepiride_pioglitazone)*100"
   ]
  },
  {
   "cell_type": "code",
   "execution_count": null,
   "metadata": {},
   "outputs": [],
   "source": [
    "data.metformin_rosiglitazone.value_counts()\n",
    "metformin_rosiglitazone = pd.DataFrame(data.metformin_rosiglitazone.value_counts()/sum(data.metformin_rosiglitazone.value_counts())*100)\n",
    "metformin_rosiglitazone"
   ]
  },
  {
   "cell_type": "code",
   "execution_count": 196,
   "metadata": {},
   "outputs": [
    {
     "data": {
      "text/plain": [
       "NO     59.887682\n",
       ">30    31.277446\n",
       "<30     8.834872\n",
       "Name: readmitted, dtype: float64"
      ]
     },
     "execution_count": 196,
     "metadata": {},
     "output_type": "execute_result"
    }
   ],
   "source": [
    "# patient ratio in metformin_rosiglitazone == \"No\"\n",
    "metformin_rosiglitazone = data[data.metformin_rosiglitazone == \"No\"]\n",
    "metformin_rosiglitazone.readmitted.value_counts()/len(metformin_rosiglitazone)*100"
   ]
  },
  {
   "cell_type": "code",
   "execution_count": 197,
   "metadata": {},
   "outputs": [
    {
     "data": {
      "text/plain": [
       "NO    100.0\n",
       "Name: readmitted, dtype: float64"
      ]
     },
     "execution_count": 197,
     "metadata": {},
     "output_type": "execute_result"
    }
   ],
   "source": [
    "metformin_rosiglitazone = data[data.metformin_rosiglitazone != \"No\"]\n",
    "metformin_rosiglitazone.readmitted.value_counts()/len(metformin_rosiglitazone)*100"
   ]
  },
  {
   "cell_type": "code",
   "execution_count": 198,
   "metadata": {},
   "outputs": [
    {
     "data": {
      "text/html": [
       "<div>\n",
       "<style scoped>\n",
       "    .dataframe tbody tr th:only-of-type {\n",
       "        vertical-align: middle;\n",
       "    }\n",
       "\n",
       "    .dataframe tbody tr th {\n",
       "        vertical-align: top;\n",
       "    }\n",
       "\n",
       "    .dataframe thead th {\n",
       "        text-align: right;\n",
       "    }\n",
       "</style>\n",
       "<table border=\"1\" class=\"dataframe\">\n",
       "  <thead>\n",
       "    <tr style=\"text-align: right;\">\n",
       "      <th></th>\n",
       "      <th>metformin_pioglitazone</th>\n",
       "    </tr>\n",
       "  </thead>\n",
       "  <tbody>\n",
       "    <tr>\n",
       "      <th>No</th>\n",
       "      <td>99.998593</td>\n",
       "    </tr>\n",
       "    <tr>\n",
       "      <th>Steady</th>\n",
       "      <td>0.001407</td>\n",
       "    </tr>\n",
       "  </tbody>\n",
       "</table>\n",
       "</div>"
      ],
      "text/plain": [
       "        metformin_pioglitazone\n",
       "No                   99.998593\n",
       "Steady                0.001407"
      ]
     },
     "execution_count": 198,
     "metadata": {},
     "output_type": "execute_result"
    }
   ],
   "source": [
    "data.metformin_pioglitazone.value_counts()\n",
    "metformin_pioglitazone = pd.DataFrame(data.metformin_pioglitazone.value_counts()/sum(data.metformin_pioglitazone.value_counts())*100)\n",
    "metformin_pioglitazone"
   ]
  },
  {
   "cell_type": "code",
   "execution_count": 199,
   "metadata": {},
   "outputs": [
    {
     "data": {
      "text/plain": [
       "NO     59.888246\n",
       ">30    31.277006\n",
       "<30     8.834748\n",
       "Name: readmitted, dtype: float64"
      ]
     },
     "execution_count": 199,
     "metadata": {},
     "output_type": "execute_result"
    }
   ],
   "source": [
    "# patient ratio in metformin_pioglita == \"No\"\n",
    "metformin_pioglitazone = data[data.metformin_pioglitazone == \"No\"]\n",
    "metformin_pioglitazone.readmitted.value_counts()/len(metformin_pioglitazone)*100"
   ]
  },
  {
   "cell_type": "code",
   "execution_count": null,
   "metadata": {},
   "outputs": [],
   "source": [
    "metformin_pioglitazone = data[data.metformin_pioglitazone != \"No\"]\n",
    "metformin_pioglitazone.readmitted.value_counts()/len(metformin_pioglitazone)*100"
   ]
  },
  {
   "cell_type": "code",
   "execution_count": 201,
   "metadata": {},
   "outputs": [
    {
     "data": {
      "text/html": [
       "<div>\n",
       "<style scoped>\n",
       "    .dataframe tbody tr th:only-of-type {\n",
       "        vertical-align: middle;\n",
       "    }\n",
       "\n",
       "    .dataframe tbody tr th {\n",
       "        vertical-align: top;\n",
       "    }\n",
       "\n",
       "    .dataframe thead th {\n",
       "        text-align: right;\n",
       "    }\n",
       "</style>\n",
       "<table border=\"1\" class=\"dataframe\">\n",
       "  <thead>\n",
       "    <tr style=\"text-align: right;\">\n",
       "      <th></th>\n",
       "      <th>change</th>\n",
       "    </tr>\n",
       "  </thead>\n",
       "  <tbody>\n",
       "    <tr>\n",
       "      <th>No</th>\n",
       "      <td>55.173821</td>\n",
       "    </tr>\n",
       "    <tr>\n",
       "      <th>Ch</th>\n",
       "      <td>44.826179</td>\n",
       "    </tr>\n",
       "  </tbody>\n",
       "</table>\n",
       "</div>"
      ],
      "text/plain": [
       "       change\n",
       "No  55.173821\n",
       "Ch  44.826179"
      ]
     },
     "execution_count": 201,
     "metadata": {},
     "output_type": "execute_result"
    }
   ],
   "source": [
    "data.change.value_counts()\n",
    "change = pd.DataFrame(data.change.value_counts()/sum(data.change.value_counts())*100)\n",
    "change"
   ]
  },
  {
   "cell_type": "code",
   "execution_count": 202,
   "metadata": {},
   "outputs": [
    {
     "data": {
      "text/plain": [
       "NO     61.597918\n",
       ">30    29.968623\n",
       "<30     8.433458\n",
       "Name: readmitted, dtype: float64"
      ]
     },
     "execution_count": 202,
     "metadata": {},
     "output_type": "execute_result"
    }
   ],
   "source": [
    "# patient ratio in change == \"No\"\n",
    "change = data[data.change == \"No\"]\n",
    "change.readmitted.value_counts()/len(change)*100"
   ]
  },
  {
   "cell_type": "code",
   "execution_count": 203,
   "metadata": {
    "scrolled": true
   },
   "outputs": [
    {
     "data": {
      "text/plain": [
       "NO     57.785174\n",
       ">30    32.886433\n",
       "<30     9.328393\n",
       "Name: readmitted, dtype: float64"
      ]
     },
     "execution_count": 203,
     "metadata": {},
     "output_type": "execute_result"
    }
   ],
   "source": [
    "change = data[data.change != \"No\"]\n",
    "change.readmitted.value_counts()/len(change)*100"
   ]
  },
  {
   "cell_type": "code",
   "execution_count": 204,
   "metadata": {
    "collapsed": true
   },
   "outputs": [
    {
     "data": {
      "text/html": [
       "<div>\n",
       "<style scoped>\n",
       "    .dataframe tbody tr th:only-of-type {\n",
       "        vertical-align: middle;\n",
       "    }\n",
       "\n",
       "    .dataframe tbody tr th {\n",
       "        vertical-align: top;\n",
       "    }\n",
       "\n",
       "    .dataframe thead th {\n",
       "        text-align: right;\n",
       "    }\n",
       "</style>\n",
       "<table border=\"1\" class=\"dataframe\">\n",
       "  <thead>\n",
       "    <tr style=\"text-align: right;\">\n",
       "      <th></th>\n",
       "      <th>diabetesMed</th>\n",
       "    </tr>\n",
       "  </thead>\n",
       "  <tbody>\n",
       "    <tr>\n",
       "      <th>Yes</th>\n",
       "      <td>76.004222</td>\n",
       "    </tr>\n",
       "    <tr>\n",
       "      <th>No</th>\n",
       "      <td>23.995778</td>\n",
       "    </tr>\n",
       "  </tbody>\n",
       "</table>\n",
       "</div>"
      ],
      "text/plain": [
       "     diabetesMed\n",
       "Yes    76.004222\n",
       "No     23.995778"
      ]
     },
     "execution_count": 204,
     "metadata": {},
     "output_type": "execute_result"
    }
   ],
   "source": [
    "# Indicates if there was any diabetic medication prescribed. Values: “yes” and “no”\n",
    "data.diabetesMed.value_counts()\n",
    "diabetesMed = pd.DataFrame(data.diabetesMed.value_counts()/sum(data.diabetesMed.value_counts())*100)\n",
    "diabetesMed"
   ]
  },
  {
   "cell_type": "code",
   "execution_count": 206,
   "metadata": {},
   "outputs": [
    {
     "data": {
      "text/plain": [
       "NO     58.148923\n",
       ">30    32.558656\n",
       "<30     9.292421\n",
       "Name: readmitted, dtype: float64"
      ]
     },
     "execution_count": 206,
     "metadata": {},
     "output_type": "execute_result"
    }
   ],
   "source": [
    "# patient ratio in diabetesMed == \"Yes\"\n",
    "diabetesMed = data[data.diabetesMed == \"Yes\"]\n",
    "diabetesMed.readmitted.value_counts()/len(diabetesMed)*100"
   ]
  },
  {
   "cell_type": "code",
   "execution_count": 207,
   "metadata": {},
   "outputs": [
    {
     "data": {
      "text/plain": [
       "NO     65.399730\n",
       ">30    27.215672\n",
       "<30     7.384597\n",
       "Name: readmitted, dtype: float64"
      ]
     },
     "execution_count": 207,
     "metadata": {},
     "output_type": "execute_result"
    }
   ],
   "source": [
    "diabetesMed = data[data.diabetesMed != \"Yes\"]\n",
    "diabetesMed.readmitted.value_counts()/len(diabetesMed)*100"
   ]
  }
 ],
 "metadata": {
  "kernelspec": {
   "display_name": "Python 3",
   "language": "python",
   "name": "python3"
  },
  "language_info": {
   "codemirror_mode": {
    "name": "ipython",
    "version": 3
   },
   "file_extension": ".py",
   "mimetype": "text/x-python",
   "name": "python",
   "nbconvert_exporter": "python",
   "pygments_lexer": "ipython3",
   "version": "3.7.6"
  }
 },
 "nbformat": 4,
 "nbformat_minor": 4
}
