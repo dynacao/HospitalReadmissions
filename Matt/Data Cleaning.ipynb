{
 "cells": [
  {
   "cell_type": "code",
   "execution_count": 1,
   "metadata": {},
   "outputs": [],
   "source": [
    "import pandas as pd\n",
    "import numpy as np"
   ]
  },
  {
   "cell_type": "code",
   "execution_count": 2,
   "metadata": {},
   "outputs": [],
   "source": [
    "diabetes = pd.read_csv('./diabetic_data.csv')\n",
    "diabetes_df = diabetes.replace('?', np.nan)\n",
    "diabetes_df = diabetes.sort_values('encounter_id')\n",
    "diabetes_df.drop_duplicates(subset = ['patient_nbr'], keep = 'first', inplace = True)\n",
    "diabetes_df = diabetes_df[~diabetes_df['discharge_disposition_id'].isin([13,14,19,20,21])]\n",
    "diabetes_df.to_csv('diabetes_cleaned.csv')"
   ]
  },
  {
   "cell_type": "code",
   "execution_count": null,
   "metadata": {},
   "outputs": [],
   "source": []
  }
 ],
 "metadata": {
  "kernelspec": {
   "display_name": "Python 3",
   "language": "python",
   "name": "python3"
  },
  "language_info": {
   "codemirror_mode": {
    "name": "ipython",
    "version": 3
   },
   "file_extension": ".py",
   "mimetype": "text/x-python",
   "name": "python",
   "nbconvert_exporter": "python",
   "pygments_lexer": "ipython3",
   "version": "3.7.4"
  }
 },
 "nbformat": 4,
 "nbformat_minor": 2
}
