{
 "cells": [
  {
   "cell_type": "code",
   "execution_count": 3,
   "metadata": {},
   "outputs": [],
   "source": [
    "import pandas as pd\n",
    "import numpy as np"
   ]
  },
  {
   "cell_type": "code",
   "execution_count": 4,
   "metadata": {},
   "outputs": [],
   "source": [
    "diabetes = pd.read_csv('./diabetic_data.csv')\n",
    "#Replace ? with NAN\n",
    "diabetes_df = diabetes.replace('?', np.nan)\n",
    "#Sort values by encounter_id\n",
    "diabetes_df = diabetes.sort_values('encounter_id')\n",
    "#For patients with multiple encounters, take the first one as their data point\n",
    "diabetes_df.drop_duplicates(subset = ['patient_nbr'], keep = 'first', inplace = True)\n",
    "#Excludee patients that were discharged as deceased or to hospice, as the authors did\n",
    "diabetes_df = diabetes_df[~diabetes_df['discharge_disposition_id'].isin([11,13,14,19,20,21])]\n",
    "# Clean up the integer index to re-order\n",
    "diabetes_df.reset_index(drop=True,inplace=True)"
   ]
  },
  {
   "cell_type": "code",
   "execution_count": 5,
   "metadata": {},
   "outputs": [],
   "source": [
    "#Write data without the integer index\n",
    "diabetes_df.to_csv('diabetes_cleaned.csv',index=False)"
   ]
  },
  {
   "cell_type": "code",
   "execution_count": null,
   "metadata": {},
   "outputs": [],
   "source": []
  }
 ],
 "metadata": {
  "kernelspec": {
   "display_name": "Python 3",
   "language": "python",
   "name": "python3"
  },
  "language_info": {
   "codemirror_mode": {
    "name": "ipython",
    "version": 3
   },
   "file_extension": ".py",
   "mimetype": "text/x-python",
   "name": "python",
   "nbconvert_exporter": "python",
   "pygments_lexer": "ipython3",
   "version": "3.7.4"
  }
 },
 "nbformat": 4,
 "nbformat_minor": 2
}
