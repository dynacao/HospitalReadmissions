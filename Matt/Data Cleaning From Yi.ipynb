{
 "cells": [
  {
   "cell_type": "code",
   "execution_count": 1,
   "metadata": {},
   "outputs": [],
   "source": [
    "import pandas as pd\n",
    "import numpy as np"
   ]
  },
  {
   "cell_type": "code",
   "execution_count": 15,
   "metadata": {},
   "outputs": [],
   "source": [
    "diabetic = pd.read_csv('diabetic_data.csv')"
   ]
  },
  {
   "cell_type": "code",
   "execution_count": 3,
   "metadata": {},
   "outputs": [
    {
     "name": "stdout",
     "output_type": "stream",
     "text": [
      "(101766, 50)\n"
     ]
    }
   ],
   "source": [
    "print(diabetic.shape)"
   ]
  },
  {
   "cell_type": "code",
   "execution_count": 16,
   "metadata": {},
   "outputs": [
    {
     "name": "stdout",
     "output_type": "stream",
     "text": [
      "(71518, 50)\n",
      "(69973, 50)\n",
      "(69970, 50)\n"
     ]
    }
   ],
   "source": [
    "diabetic_df = diabetic.replace('?', np.nan)\n",
    "diabetic_df = diabetic_df.sort_values('encounter_id')\n",
    "diabetic_df.drop_duplicates(subset = ['patient_nbr'], keep = 'first', inplace = True)\n",
    "print(diabetic_df.shape)\n",
    "diabetic_df = diabetic_df[~diabetic_df['discharge_disposition_id'].isin([11,13,14,19,20,21])]\n",
    "print(diabetic_df.shape)\n",
    "diabetic_df.drop(diabetic_df.loc[diabetic_df.gender=='Unknown/Invalid'].index,inplace=True)\n",
    "print(diabetic_df.shape)"
   ]
  },
  {
   "cell_type": "code",
   "execution_count": 17,
   "metadata": {},
   "outputs": [],
   "source": [
    "diabetic_df.drop(['encounter_id','patient_nbr','weight','medical_specialty','payer_code'],\\\n",
    "                 axis = 1, inplace = True)"
   ]
  },
  {
   "cell_type": "code",
   "execution_count": 18,
   "metadata": {},
   "outputs": [],
   "source": [
    "diabetic_df['readmit_30d'] = (diabetic_df['readmitted'] == '<30')"
   ]
  },
  {
   "cell_type": "code",
   "execution_count": 8,
   "metadata": {},
   "outputs": [
    {
     "data": {
      "text/plain": [
       "False    63693\n",
       "True      6277\n",
       "Name: readmit_30d, dtype: int64"
      ]
     },
     "execution_count": 8,
     "metadata": {},
     "output_type": "execute_result"
    }
   ],
   "source": [
    "diabetic_df.readmit_30d.value_counts()"
   ]
  },
  {
   "cell_type": "code",
   "execution_count": 9,
   "metadata": {},
   "outputs": [],
   "source": [
    "diabetic_df['admission_type_id'] = diabetic_df['admission_type_id'].astype('str')\n",
    "diabetic_df['admission_source_id'] = diabetic_df['admission_source_id'].astype('str')\n",
    "diabetic_df['discharge_disposition_id'] = diabetic_df['discharge_disposition_id'].astype('str')"
   ]
  },
  {
   "cell_type": "code",
   "execution_count": 7,
   "metadata": {},
   "outputs": [],
   "source": [
    "diabetic_df['age_num'] = diabetic_df['age'].replace(\n",
    "    ['[0-10)','[10-20)','[20-30)','[30-40)','[40-50)','[50-60)','[60-70)','[70-80)','[80-90)','[90-100)'],\n",
    "    [5,15,25,35,45,55,65,75,85,95])"
   ]
  },
  {
   "cell_type": "code",
   "execution_count": 10,
   "metadata": {},
   "outputs": [],
   "source": [
    "diabetic_df['diag_1'] = diabetic_df['diag_1'].str.split('.', expand = True).drop(1, axis = 1)\n",
    "diabetic_df['diag_2'] = diabetic_df['diag_2'].str.split('.', expand = True).drop(1, axis = 1)\n",
    "diabetic_df['diag_3'] = diabetic_df['diag_3'].str.split('.', expand = True).drop(1, axis = 1)"
   ]
  },
  {
   "cell_type": "code",
   "execution_count": 11,
   "metadata": {},
   "outputs": [],
   "source": [
    "count_1 = diabetic_df.diag_1.value_counts()\n",
    "index_1 = count_1[count_1>500].index.tolist()"
   ]
  },
  {
   "cell_type": "code",
   "execution_count": 12,
   "metadata": {},
   "outputs": [],
   "source": [
    "count_2 = diabetic_df.diag_2.value_counts()\n",
    "index_2 = count_2[count_2>500].index.tolist()"
   ]
  },
  {
   "cell_type": "code",
   "execution_count": 13,
   "metadata": {},
   "outputs": [],
   "source": [
    "count_3 = diabetic_df.diag_3.value_counts()\n",
    "index_3 = count_3[count_3>500].index.tolist()"
   ]
  },
  {
   "cell_type": "code",
   "execution_count": 14,
   "metadata": {},
   "outputs": [],
   "source": [
    "diags = set(index_1+index_2+index_3)"
   ]
  },
  {
   "cell_type": "code",
   "execution_count": null,
   "metadata": {},
   "outputs": [],
   "source": []
  },
  {
   "cell_type": "code",
   "execution_count": 13,
   "metadata": {},
   "outputs": [],
   "source": [
    "for d in diags:\n",
    "    diabetic_df[d+'_diag'] = ((diabetic_df['diag_1']==d)|\n",
    "                                (diabetic_df['diag_2']==d)|\n",
    "                                (diabetic_df['diag_3']==d))"
   ]
  },
  {
   "cell_type": "code",
   "execution_count": 14,
   "metadata": {},
   "outputs": [],
   "source": [
    "for col in ['metformin','repaglinide','glimepiride','glipizide', 'glyburide','pioglitazone',\n",
    "            'rosiglitazone','insulin']:\n",
    "    diabetic_df[col+'_used'] = np.where(diabetic_df[col]=='No', 0, 1)\n",
    "\n",
    "# 'nateglinide','glyburide-metformin' (close to 500)"
   ]
  },
  {
   "cell_type": "code",
   "execution_count": 15,
   "metadata": {},
   "outputs": [],
   "source": [
    "diabetic_final = diabetic_df.drop(['age',\n",
    "                                   'diag_1','diag_2','diag_3',\n",
    "                                   'metformin','repaglinide','nateglinide','chlorpropamide','glimepiride',\n",
    "                                   'acetohexamide','glipizide','glyburide','tolbutamide','pioglitazone',\n",
    "                                   'rosiglitazone','acarbose','miglitol','troglitazone','tolazamide','examide',\n",
    "                                   'citoglipton','insulin','glyburide-metformin','glipizide-metformin',\n",
    "                                   'glimepiride-pioglitazone','metformin-rosiglitazone','metformin-pioglitazone',\n",
    "                                   'readmitted'],\n",
    "                                 axis = 1)"
   ]
  },
  {
   "cell_type": "code",
   "execution_count": 16,
   "metadata": {},
   "outputs": [
    {
     "data": {
      "text/plain": [
       "119"
      ]
     },
     "execution_count": 16,
     "metadata": {},
     "output_type": "execute_result"
    }
   ],
   "source": [
    "diabetic_final = pd.get_dummies(diabetic_final, drop_first = True)\n",
    "len(diabetic_final.columns)"
   ]
  },
  {
   "cell_type": "code",
   "execution_count": 17,
   "metadata": {},
   "outputs": [],
   "source": [
    "#Droping columns with less than 500 patients from admission source and discharge disposition.\n",
    "cols_to_drop = ['admission_type_id_4',\n",
    "                'admission_type_id_7',\n",
    "                'admission_type_id_8',\n",
    "                'discharge_disposition_id_10',\n",
    "                'discharge_disposition_id_12',\n",
    "                'discharge_disposition_id_15',\n",
    "                'discharge_disposition_id_16',\n",
    "                'discharge_disposition_id_17',\n",
    "                'discharge_disposition_id_23',\n",
    "                'discharge_disposition_id_24',\n",
    "                'discharge_disposition_id_27',\n",
    "                'discharge_disposition_id_28',\n",
    "                'discharge_disposition_id_7',\n",
    "                'discharge_disposition_id_8',\n",
    "                'discharge_disposition_id_9',\n",
    "                'admission_source_id_10',\n",
    "                'admission_source_id_11',\n",
    "                'admission_source_id_13',\n",
    "                'admission_source_id_14',\n",
    "                'admission_source_id_20',\n",
    "                'admission_source_id_22',\n",
    "                'admission_source_id_25',\n",
    "                'admission_source_id_3',\n",
    "                'admission_source_id_8',\n",
    "                'admission_source_id_9']\n",
    "\n",
    "diabetic_final.drop(columns=cols_to_drop,inplace=True)"
   ]
  },
  {
   "cell_type": "code",
   "execution_count": 23,
   "metadata": {},
   "outputs": [],
   "source": [
    "cols_to_keep = ['41_in_diag',\n",
    "'250_in_diag',\n",
    "'272_in_diag',\n",
    "'278_in_diag',\n",
    "'401_in_diag',\n",
    "'403_in_diag',\n",
    "'428_in_diag',\n",
    "'434_in_diag',\n",
    "'440_in_diag',\n",
    "'486_in_diag',\n",
    "'574_in_diag',\n",
    "'577_in_diag',\n",
    "'682_in_diag',\n",
    "'707_in_diag',\n",
    "'715_in_diag',\n",
    "'722_in_diag',\n",
    "'780_in_diag',\n",
    "'786_in_diag',\n",
    "'A1Cresult_None',\n",
    "'admission_source_id_5',\n",
    "'admission_source_id_7',\n",
    "'admission_source_id_17',\n",
    "'admission_source_id_4',\n",
    "'admission_type_id_3',\n",
    "'admission_type_id_6',\n",
    "'age_num',\n",
    "'diabetesMed_Yes',\n",
    "'discharge_disposition_id_2',\n",
    "'discharge_disposition_id_3',\n",
    "'discharge_disposition_id_4',\n",
    "'discharge_disposition_id_5',\n",
    "'discharge_disposition_id_6',\n",
    "'discharge_disposition_id_18',\n",
    "'discharge_disposition_id_22',\n",
    "'discharge_disposition_id_25',\n",
    "'max_glu_serum_None',\n",
    "'metformin_used',\n",
    "'number_diagnoses',\n",
    "'number_emergency',\n",
    "'number_inpatient',\n",
    "'num_lab_procedures',\n",
    "'pioglitazone_used',\n",
    "'time_in_hospital',\n",
    "'readmit_30d']\n",
    "diabetic_final = diabetic_final[cols_to_keep]"
   ]
  },
  {
   "cell_type": "code",
   "execution_count": 24,
   "metadata": {},
   "outputs": [
    {
     "name": "stdout",
     "output_type": "stream",
     "text": [
      "<class 'pandas.core.frame.DataFrame'>\n",
      "Int64Index: 69970 entries, 8 to 101765\n",
      "Data columns (total 44 columns):\n",
      " #   Column                       Non-Null Count  Dtype\n",
      "---  ------                       --------------  -----\n",
      " 0   41_in_diag                   69970 non-null  bool \n",
      " 1   250_in_diag                  69970 non-null  bool \n",
      " 2   272_in_diag                  69970 non-null  bool \n",
      " 3   278_in_diag                  69970 non-null  bool \n",
      " 4   401_in_diag                  69970 non-null  bool \n",
      " 5   403_in_diag                  69970 non-null  bool \n",
      " 6   428_in_diag                  69970 non-null  bool \n",
      " 7   434_in_diag                  69970 non-null  bool \n",
      " 8   440_in_diag                  69970 non-null  bool \n",
      " 9   486_in_diag                  69970 non-null  bool \n",
      " 10  574_in_diag                  69970 non-null  bool \n",
      " 11  577_in_diag                  69970 non-null  bool \n",
      " 12  682_in_diag                  69970 non-null  bool \n",
      " 13  707_in_diag                  69970 non-null  bool \n",
      " 14  715_in_diag                  69970 non-null  bool \n",
      " 15  722_in_diag                  69970 non-null  bool \n",
      " 16  780_in_diag                  69970 non-null  bool \n",
      " 17  786_in_diag                  69970 non-null  bool \n",
      " 18  A1Cresult_None               69970 non-null  uint8\n",
      " 19  admission_source_id_5        69970 non-null  uint8\n",
      " 20  admission_source_id_7        69970 non-null  uint8\n",
      " 21  admission_source_id_17       69970 non-null  uint8\n",
      " 22  admission_source_id_4        69970 non-null  uint8\n",
      " 23  admission_type_id_3          69970 non-null  uint8\n",
      " 24  admission_type_id_6          69970 non-null  uint8\n",
      " 25  age_num                      69970 non-null  int64\n",
      " 26  diabetesMed_Yes              69970 non-null  uint8\n",
      " 27  discharge_disposition_id_2   69970 non-null  uint8\n",
      " 28  discharge_disposition_id_3   69970 non-null  uint8\n",
      " 29  discharge_disposition_id_4   69970 non-null  uint8\n",
      " 30  discharge_disposition_id_5   69970 non-null  uint8\n",
      " 31  discharge_disposition_id_6   69970 non-null  uint8\n",
      " 32  discharge_disposition_id_18  69970 non-null  uint8\n",
      " 33  discharge_disposition_id_22  69970 non-null  uint8\n",
      " 34  discharge_disposition_id_25  69970 non-null  uint8\n",
      " 35  max_glu_serum_None           69970 non-null  uint8\n",
      " 36  metformin_used               69970 non-null  int64\n",
      " 37  number_diagnoses             69970 non-null  int64\n",
      " 38  number_emergency             69970 non-null  int64\n",
      " 39  number_inpatient             69970 non-null  int64\n",
      " 40  num_lab_procedures           69970 non-null  int64\n",
      " 41  pioglitazone_used            69970 non-null  int64\n",
      " 42  time_in_hospital             69970 non-null  int64\n",
      " 43  readmit_30d                  69970 non-null  bool \n",
      "dtypes: bool(19), int64(8), uint8(17)\n",
      "memory usage: 7.2 MB\n"
     ]
    }
   ],
   "source": [
    "diabetic_final.info()"
   ]
  },
  {
   "cell_type": "code",
   "execution_count": 25,
   "metadata": {},
   "outputs": [],
   "source": [
    "diabetic_final.reset_index(drop=True,inplace=True)"
   ]
  },
  {
   "cell_type": "code",
   "execution_count": null,
   "metadata": {},
   "outputs": [],
   "source": []
  },
  {
   "cell_type": "code",
   "execution_count": 20,
   "metadata": {},
   "outputs": [],
   "source": [
    "#Previous version without droping low patient numbers from admission type and discharge\n",
    "#diabetic_final.to_csv('diabetes_cleaned_12-14-20.csv',index=False)"
   ]
  },
  {
   "cell_type": "code",
   "execution_count": 21,
   "metadata": {},
   "outputs": [],
   "source": [
    "# Version from 12-14-20 with low patient numbers, but before pairing down to the top 45 features\n",
    "#diabetic_final.to_csv('diabetes_cleaned_12-14-20B.csv',index=False)"
   ]
  },
  {
   "cell_type": "code",
   "execution_count": 26,
   "metadata": {},
   "outputs": [],
   "source": [
    "diabetic_final.to_csv('diabetes_cleaned_12-15-20.csv',index=False)\n"
   ]
  },
  {
   "cell_type": "code",
   "execution_count": null,
   "metadata": {},
   "outputs": [],
   "source": []
  }
 ],
 "metadata": {
  "kernelspec": {
   "display_name": "Python 3",
   "language": "python",
   "name": "python3"
  },
  "language_info": {
   "codemirror_mode": {
    "name": "ipython",
    "version": 3
   },
   "file_extension": ".py",
   "mimetype": "text/x-python",
   "name": "python",
   "nbconvert_exporter": "python",
   "pygments_lexer": "ipython3",
   "version": "3.7.4"
  }
 },
 "nbformat": 4,
 "nbformat_minor": 2
}
