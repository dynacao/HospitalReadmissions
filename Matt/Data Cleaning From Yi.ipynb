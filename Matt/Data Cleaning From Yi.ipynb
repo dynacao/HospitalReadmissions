{
 "cells": [
  {
   "cell_type": "code",
   "execution_count": 1,
   "metadata": {},
   "outputs": [],
   "source": [
    "import pandas as pd\n",
    "import numpy as np"
   ]
  },
  {
   "cell_type": "code",
   "execution_count": 2,
   "metadata": {},
   "outputs": [],
   "source": [
    "diabetic = pd.read_csv('diabetic_data.csv')"
   ]
  },
  {
   "cell_type": "code",
   "execution_count": 3,
   "metadata": {},
   "outputs": [],
   "source": [
    "diabetic_df = diabetic.replace('?', np.nan)\n",
    "diabetic_df = diabetic_df.sort_values('encounter_id')\n",
    "diabetic_df.drop_duplicates(subset = ['patient_nbr'], keep = 'first', inplace = True)\n",
    "diabetic_df = diabetic_df[~diabetic_df['discharge_disposition_id'].isin([11,13,14,19,20,21])]\n",
    "diabetic_df.drop(diabetic_df.loc[diabetic_df.gender=='Unknown/Invalid'].index,inplace=True)"
   ]
  },
  {
   "cell_type": "code",
   "execution_count": 4,
   "metadata": {},
   "outputs": [],
   "source": [
    "diabetic_df.drop(['encounter_id','patient_nbr','weight','medical_specialty','payer_code'],\\\n",
    "                 axis = 1, inplace = True)"
   ]
  },
  {
   "cell_type": "code",
   "execution_count": 5,
   "metadata": {},
   "outputs": [],
   "source": [
    "diabetic_df['readmit_30d'] = (diabetic_df['readmitted'] == '<30')"
   ]
  },
  {
   "cell_type": "code",
   "execution_count": 6,
   "metadata": {},
   "outputs": [],
   "source": [
    "diabetic_df['admission_type_id'] = diabetic_df['admission_type_id'].astype('str')\n",
    "diabetic_df['admission_source_id'] = diabetic_df['admission_source_id'].astype('str')\n",
    "diabetic_df['discharge_disposition_id'] = diabetic_df['discharge_disposition_id'].astype('str')"
   ]
  },
  {
   "cell_type": "code",
   "execution_count": 7,
   "metadata": {},
   "outputs": [],
   "source": [
    "diabetic_df['age_num'] = diabetic_df['age'].replace(\n",
    "    ['[0-10)','[10-20)','[20-30)','[30-40)','[40-50)','[50-60)','[60-70)','[70-80)','[80-90)','[90-100)'],\n",
    "    [5,15,25,35,45,55,65,75,85,95])"
   ]
  },
  {
   "cell_type": "code",
   "execution_count": 8,
   "metadata": {},
   "outputs": [],
   "source": [
    "diabetic_df['diag_1'] = diabetic_df['diag_1'].str.split('.', expand = True).drop(1, axis = 1)\n",
    "diabetic_df['diag_2'] = diabetic_df['diag_2'].str.split('.', expand = True).drop(1, axis = 1)\n",
    "diabetic_df['diag_3'] = diabetic_df['diag_3'].str.split('.', expand = True).drop(1, axis = 1)"
   ]
  },
  {
   "cell_type": "code",
   "execution_count": 9,
   "metadata": {},
   "outputs": [],
   "source": [
    "count_1 = diabetic_df.diag_1.value_counts()\n",
    "index_1 = count_1[count_1>500].index.tolist()"
   ]
  },
  {
   "cell_type": "code",
   "execution_count": 10,
   "metadata": {},
   "outputs": [],
   "source": [
    "count_2 = diabetic_df.diag_2.value_counts()\n",
    "index_2 = count_2[count_2>500].index.tolist()"
   ]
  },
  {
   "cell_type": "code",
   "execution_count": 11,
   "metadata": {},
   "outputs": [],
   "source": [
    "count_3 = diabetic_df.diag_3.value_counts()\n",
    "index_3 = count_3[count_3>500].index.tolist()"
   ]
  },
  {
   "cell_type": "code",
   "execution_count": 12,
   "metadata": {},
   "outputs": [],
   "source": [
    "diags = set(index_1+index_2+index_3)"
   ]
  },
  {
   "cell_type": "code",
   "execution_count": null,
   "metadata": {},
   "outputs": [],
   "source": []
  },
  {
   "cell_type": "code",
   "execution_count": 13,
   "metadata": {},
   "outputs": [],
   "source": [
    "for d in diags:\n",
    "    diabetic_df[d+'_in_diag'] = ((diabetic_df['diag_1']==d)|\n",
    "                                (diabetic_df['diag_2']==d)|\n",
    "                                (diabetic_df['diag_3']==d))"
   ]
  },
  {
   "cell_type": "code",
   "execution_count": 14,
   "metadata": {},
   "outputs": [],
   "source": [
    "for col in ['metformin','repaglinide','glimepiride','glipizide', 'glyburide','pioglitazone',\n",
    "            'rosiglitazone','insulin']:\n",
    "    diabetic_df[col+'_used'] = np.where(diabetic_df[col]=='No', 0, 1)\n",
    "\n",
    "# 'nateglinide','glyburide-metformin' (close to 500)"
   ]
  },
  {
   "cell_type": "code",
   "execution_count": 15,
   "metadata": {},
   "outputs": [],
   "source": [
    "diabetic_final = diabetic_df.drop(['age',\n",
    "                                   'diag_1','diag_2','diag_3',\n",
    "                                   'metformin','repaglinide','nateglinide','chlorpropamide','glimepiride',\n",
    "                                   'acetohexamide','glipizide','glyburide','tolbutamide','pioglitazone',\n",
    "                                   'rosiglitazone','acarbose','miglitol','troglitazone','tolazamide','examide',\n",
    "                                   'citoglipton','insulin','glyburide-metformin','glipizide-metformin',\n",
    "                                   'glimepiride-pioglitazone','metformin-rosiglitazone','metformin-pioglitazone',\n",
    "                                   'readmitted'],\n",
    "                                 axis = 1)"
   ]
  },
  {
   "cell_type": "code",
   "execution_count": 16,
   "metadata": {},
   "outputs": [
    {
     "data": {
      "text/plain": [
       "119"
      ]
     },
     "execution_count": 16,
     "metadata": {},
     "output_type": "execute_result"
    }
   ],
   "source": [
    "diabetic_final = pd.get_dummies(diabetic_final, drop_first = True)\n",
    "len(diabetic_final.columns)"
   ]
  },
  {
   "cell_type": "code",
   "execution_count": 17,
   "metadata": {},
   "outputs": [],
   "source": [
    "#Droping columns with less than 500 patients from admission source and discharge disposition.\n",
    "cols_to_drop = ['admission_type_id_4',\n",
    "                'admission_type_id_7',\n",
    "                'admission_type_id_8',\n",
    "                'discharge_disposition_id_10',\n",
    "                'discharge_disposition_id_12',\n",
    "                'discharge_disposition_id_15',\n",
    "                'discharge_disposition_id_16',\n",
    "                'discharge_disposition_id_17',\n",
    "                'discharge_disposition_id_23',\n",
    "                'discharge_disposition_id_24',\n",
    "                'discharge_disposition_id_27',\n",
    "                'discharge_disposition_id_28',\n",
    "                'discharge_disposition_id_7',\n",
    "                'discharge_disposition_id_8',\n",
    "                'discharge_disposition_id_9',\n",
    "                'admission_source_id_10',\n",
    "                'admission_source_id_11',\n",
    "                'admission_source_id_13',\n",
    "                'admission_source_id_14',\n",
    "                'admission_source_id_20',\n",
    "                'admission_source_id_22',\n",
    "                'admission_source_id_25',\n",
    "                'admission_source_id_3',\n",
    "                'admission_source_id_8',\n",
    "                'admission_source_id_9']\n",
    "\n",
    "diabetic_final.drop(columns=cols_to_drop,inplace=True)"
   ]
  },
  {
   "cell_type": "code",
   "execution_count": 18,
   "metadata": {},
   "outputs": [
    {
     "name": "stdout",
     "output_type": "stream",
     "text": [
      "<class 'pandas.core.frame.DataFrame'>\n",
      "Int64Index: 69970 entries, 8 to 101765\n",
      "Data columns (total 94 columns):\n",
      " #   Column                       Non-Null Count  Dtype\n",
      "---  ------                       --------------  -----\n",
      " 0   time_in_hospital             69970 non-null  int64\n",
      " 1   num_lab_procedures           69970 non-null  int64\n",
      " 2   num_procedures               69970 non-null  int64\n",
      " 3   num_medications              69970 non-null  int64\n",
      " 4   number_outpatient            69970 non-null  int64\n",
      " 5   number_emergency             69970 non-null  int64\n",
      " 6   number_inpatient             69970 non-null  int64\n",
      " 7   number_diagnoses             69970 non-null  int64\n",
      " 8   readmit_30d                  69970 non-null  bool \n",
      " 9   age_num                      69970 non-null  int64\n",
      " 10  424_in_diag                  69970 non-null  bool \n",
      " 11  599_in_diag                  69970 non-null  bool \n",
      " 12  276_in_diag                  69970 non-null  bool \n",
      " 13  562_in_diag                  69970 non-null  bool \n",
      " 14  493_in_diag                  69970 non-null  bool \n",
      " 15  996_in_diag                  69970 non-null  bool \n",
      " 16  786_in_diag                  69970 non-null  bool \n",
      " 17  305_in_diag                  69970 non-null  bool \n",
      " 18  V57_in_diag                  69970 non-null  bool \n",
      " 19  715_in_diag                  69970 non-null  bool \n",
      " 20  401_in_diag                  69970 non-null  bool \n",
      " 21  435_in_diag                  69970 non-null  bool \n",
      " 22  38_in_diag                   69970 non-null  bool \n",
      " 23  425_in_diag                  69970 non-null  bool \n",
      " 24  486_in_diag                  69970 non-null  bool \n",
      " 25  296_in_diag                  69970 non-null  bool \n",
      " 26  518_in_diag                  69970 non-null  bool \n",
      " 27  434_in_diag                  69970 non-null  bool \n",
      " 28  780_in_diag                  69970 non-null  bool \n",
      " 29  440_in_diag                  69970 non-null  bool \n",
      " 30  585_in_diag                  69970 non-null  bool \n",
      " 31  577_in_diag                  69970 non-null  bool \n",
      " 32  285_in_diag                  69970 non-null  bool \n",
      " 33  250_in_diag                  69970 non-null  bool \n",
      " 34  V45_in_diag                  69970 non-null  bool \n",
      " 35  414_in_diag                  69970 non-null  bool \n",
      " 36  427_in_diag                  69970 non-null  bool \n",
      " 37  410_in_diag                  69970 non-null  bool \n",
      " 38  411_in_diag                  69970 non-null  bool \n",
      " 39  41_in_diag                   69970 non-null  bool \n",
      " 40  428_in_diag                  69970 non-null  bool \n",
      " 41  560_in_diag                  69970 non-null  bool \n",
      " 42  722_in_diag                  69970 non-null  bool \n",
      " 43  413_in_diag                  69970 non-null  bool \n",
      " 44  820_in_diag                  69970 non-null  bool \n",
      " 45  574_in_diag                  69970 non-null  bool \n",
      " 46  278_in_diag                  69970 non-null  bool \n",
      " 47  433_in_diag                  69970 non-null  bool \n",
      " 48  496_in_diag                  69970 non-null  bool \n",
      " 49  491_in_diag                  69970 non-null  bool \n",
      " 50  682_in_diag                  69970 non-null  bool \n",
      " 51  707_in_diag                  69970 non-null  bool \n",
      " 52  403_in_diag                  69970 non-null  bool \n",
      " 53  584_in_diag                  69970 non-null  bool \n",
      " 54  272_in_diag                  69970 non-null  bool \n",
      " 55  metformin_used               69970 non-null  int64\n",
      " 56  repaglinide_used             69970 non-null  int64\n",
      " 57  glimepiride_used             69970 non-null  int64\n",
      " 58  glipizide_used               69970 non-null  int64\n",
      " 59  glyburide_used               69970 non-null  int64\n",
      " 60  pioglitazone_used            69970 non-null  int64\n",
      " 61  rosiglitazone_used           69970 non-null  int64\n",
      " 62  insulin_used                 69970 non-null  int64\n",
      " 63  race_Asian                   69970 non-null  uint8\n",
      " 64  race_Caucasian               69970 non-null  uint8\n",
      " 65  race_Hispanic                69970 non-null  uint8\n",
      " 66  race_Other                   69970 non-null  uint8\n",
      " 67  gender_Male                  69970 non-null  uint8\n",
      " 68  admission_type_id_2          69970 non-null  uint8\n",
      " 69  admission_type_id_3          69970 non-null  uint8\n",
      " 70  admission_type_id_5          69970 non-null  uint8\n",
      " 71  admission_type_id_6          69970 non-null  uint8\n",
      " 72  discharge_disposition_id_18  69970 non-null  uint8\n",
      " 73  discharge_disposition_id_2   69970 non-null  uint8\n",
      " 74  discharge_disposition_id_22  69970 non-null  uint8\n",
      " 75  discharge_disposition_id_25  69970 non-null  uint8\n",
      " 76  discharge_disposition_id_3   69970 non-null  uint8\n",
      " 77  discharge_disposition_id_4   69970 non-null  uint8\n",
      " 78  discharge_disposition_id_5   69970 non-null  uint8\n",
      " 79  discharge_disposition_id_6   69970 non-null  uint8\n",
      " 80  admission_source_id_17       69970 non-null  uint8\n",
      " 81  admission_source_id_2        69970 non-null  uint8\n",
      " 82  admission_source_id_4        69970 non-null  uint8\n",
      " 83  admission_source_id_5        69970 non-null  uint8\n",
      " 84  admission_source_id_6        69970 non-null  uint8\n",
      " 85  admission_source_id_7        69970 non-null  uint8\n",
      " 86  max_glu_serum_>300           69970 non-null  uint8\n",
      " 87  max_glu_serum_None           69970 non-null  uint8\n",
      " 88  max_glu_serum_Norm           69970 non-null  uint8\n",
      " 89  A1Cresult_>8                 69970 non-null  uint8\n",
      " 90  A1Cresult_None               69970 non-null  uint8\n",
      " 91  A1Cresult_Norm               69970 non-null  uint8\n",
      " 92  change_No                    69970 non-null  uint8\n",
      " 93  diabetesMed_Yes              69970 non-null  uint8\n",
      "dtypes: bool(46), int64(17), uint8(31)\n",
      "memory usage: 14.7 MB\n"
     ]
    }
   ],
   "source": [
    "diabetic_final.info()"
   ]
  },
  {
   "cell_type": "code",
   "execution_count": 18,
   "metadata": {},
   "outputs": [],
   "source": [
    "diabetic_final.reset_index(drop=True,inplace=True)"
   ]
  },
  {
   "cell_type": "code",
   "execution_count": null,
   "metadata": {},
   "outputs": [],
   "source": []
  },
  {
   "cell_type": "code",
   "execution_count": 20,
   "metadata": {},
   "outputs": [],
   "source": [
    "#Previous version without droping low patient numbers from admission type and discharge\n",
    "#diabetic_final.to_csv('diabetes_cleaned_12-14-20.csv',index=False)"
   ]
  },
  {
   "cell_type": "code",
   "execution_count": 21,
   "metadata": {},
   "outputs": [],
   "source": [
    "diabetic_final.to_csv('diabetes_cleaned_12-14-20B.csv',index=False)"
   ]
  },
  {
   "cell_type": "code",
   "execution_count": 19,
   "metadata": {},
   "outputs": [
    {
     "data": {
      "text/plain": [
       "93"
      ]
     },
     "execution_count": 19,
     "metadata": {},
     "output_type": "execute_result"
    }
   ],
   "source": [
    "118-25\n"
   ]
  },
  {
   "cell_type": "code",
   "execution_count": null,
   "metadata": {},
   "outputs": [],
   "source": []
  }
 ],
 "metadata": {
  "kernelspec": {
   "display_name": "Python 3",
   "language": "python",
   "name": "python3"
  },
  "language_info": {
   "codemirror_mode": {
    "name": "ipython",
    "version": 3
   },
   "file_extension": ".py",
   "mimetype": "text/x-python",
   "name": "python",
   "nbconvert_exporter": "python",
   "pygments_lexer": "ipython3",
   "version": "3.7.4"
  }
 },
 "nbformat": 4,
 "nbformat_minor": 2
}
