{
 "cells": [
  {
   "cell_type": "code",
   "execution_count": 34,
   "metadata": {},
   "outputs": [],
   "source": [
    "import numpy as np\n",
    "import pandas as pd\n",
    "import matplotlib.pyplot as plt\n",
    "pd.set_option('display.max_columns', None)\n",
    "\n",
    "df = pd.read_csv('diabetes_cleaned.csv')"
   ]
  },
  {
   "cell_type": "code",
   "execution_count": 35,
   "metadata": {},
   "outputs": [],
   "source": [
    "#This function is specifically to categorize diagnosis ICD9 codes into buckets (Diabetes gets its own bucket)\n",
    "#https://en.wikipedia.org/wiki/List_of_ICD-9_codes\n",
    "\n",
    "def convert_icd9_codes(x):\n",
    "    #Deal with string cases that would prevent conversion to float\n",
    "    if x=='?':\n",
    "        return('?')\n",
    "    if x[0]=='V' or x[0]=='E':\n",
    "        return('Supplementary')\n",
    "    # Convert to float and mark diabetes as a special category\n",
    "    x = float(x)\n",
    "    if x>=249 and x<251:\n",
    "        return('Diabetes')\n",
    "    #Return the type of ICD9 code\n",
    "    if x>=0 and x<=139:\n",
    "        return('Infectious')\n",
    "    if x>=140 and x<=239:\n",
    "        return('Neoplasms')\n",
    "    if x>=240 and x<=279:\n",
    "        return('Endocrine_Immunity')\n",
    "    if x>=280 and x<=289:\n",
    "        return('Blood')\n",
    "    if x>=290 and x<=319:\n",
    "        return('Mental_Disorders')\n",
    "    if x>=320 and x<=389:\n",
    "        return('Nervous_System')\n",
    "    if x>=390 and x<=459:\n",
    "        return('Circulatory')\n",
    "    if x>=460 and x<=519:\n",
    "        return('Respiratory')\n",
    "    if x>=520 and x<=579:\n",
    "        return('Digestive')\n",
    "    if x>=580 and x<=629:\n",
    "        return('Genitourinary')\n",
    "    if x>=630 and x<=679:\n",
    "        return('Pregnancy')\n",
    "    if x>=680 and x<=709:\n",
    "        return('Skin')\n",
    "    if x>=710 and x<=739:\n",
    "        return('Muscles_Skeleton')\n",
    "    if x>=740 and x<=759:\n",
    "        return('Congenital')\n",
    "    if x>=760 and x<=779:\n",
    "        return('Perinatal')\n",
    "    if x>=780 and x<=799:\n",
    "        return('Generalized_Symptoms')\n",
    "    if x>=800 and x<=999:\n",
    "        return('Injury_Poison')\n",
    "    else:\n",
    "        return(None)"
   ]
  },
  {
   "cell_type": "code",
   "execution_count": 36,
   "metadata": {},
   "outputs": [],
   "source": [
    "#Drop three patients with Gender not specified (they're also missing race and they're all not readmitted which seems weird)\n",
    "df.drop(df.loc[df.gender=='Unknown/Invalid'].index,inplace=True)\n",
    "#Dropping just identifier numbers since they have no information. Unnamed: 0 is just a redundant index column.\n",
    "df.drop(columns=['encounter_id','patient_nbr','Unnamed: 0'],inplace=True)\n",
    "#Weight, payer_code, and medical_specialty are dropped because they have so much missingness, per the authors.\n",
    "df.drop(columns=['weight','payer_code','medical_specialty'],inplace=True)\n",
    "#These medication columns are dropped because they are the same for all patients and have no information.\n",
    "df.drop(columns=['examide','citoglipton','glimepiride-pioglitazone'],inplace=True)\n",
    "#These medication columns have very few, but not zero, numbers of patients with information (less than 30).\n",
    "df.drop(columns=['acetohexamide','tolbutamide','miglitol','troglitazone','tolazamide','glipizide-metformin','metformin-rosiglitazone','metformin-pioglitazone'],inplace=True)\n",
    "#These mediations columns have between 30-500 patients, so Steady, Up, and Down are grouped together as 1, and No as 0.\n",
    "#chlorpropamide, acarbose,nateglinide, glyburide-metformin (treated with drug_dict)\n",
    "\n",
    "#Clean up dictionaries, indicating which strings are coded to which numbers\n",
    "gender_dict = {'Female':0,'Male':1}\n",
    "age_dict = {'[0-10)':0,'[10-20)':10,'[20-30)':20,'[30-40)':30,'[40-50)':40,'[50-60)':50,\n",
    "           '[60-70)':60,'[70-80)':70,'[80-90)':80,'[90-100)':90}\n",
    "readmitted_dict = {'NO':0,'>30':1,'<30':2}\n",
    "drug_dict= {'No':0,'Steady':1,'Up':1,'Down':1}\n",
    "change_dict= {'No':0,'Ch':1}\n",
    "diabetesmed_dict = {'No':0,'Yes':1}\n",
    "\n",
    "#Final dictionary indcating which columns to treat with which dictionary\n",
    "cleanup_dict ={'gender':gender_dict,\n",
    "               'age':age_dict,\n",
    "               'chlorpropamide':drug_dict,\n",
    "               'acarbose':drug_dict,\n",
    "               'nateglinide':drug_dict,\n",
    "               'glyburide-metformin':drug_dict,\n",
    "              'readmitted':readmitted_dict,\n",
    "              'change':change_dict,\n",
    "              'diabetesMed':diabetesmed_dict}\n",
    "\n",
    "#Replace the string/object values with numeric.\n",
    "df.replace(to_replace=cleanup_dict,value=None,inplace=True)\n",
    "\n",
    "#Convert ICD-9 codes to categories\n",
    "df['diag_1'] = df.diag_1.apply(convert_icd9_codes)\n",
    "df['diag_2'] = df.diag_2.apply(convert_icd9_codes)\n",
    "df['diag_3'] = df.diag_3.apply(convert_icd9_codes)\n",
    "\n",
    "#Function to specify a given column, make some dummies and drop the most abundant category\n",
    "def dummify_and_drop_max(df,column):\n",
    "    dummies = pd.get_dummies(data=df[column],prefix=column)\n",
    "    to_drop = str(df[column].value_counts().index[0])\n",
    "    dummies = dummies.drop(columns=[column+'_'+to_drop])\n",
    "    return(dummies)\n",
    "\n",
    "#Which columns to dummify\n",
    "columns_to_dummify = ['race','admission_type_id','discharge_disposition_id','admission_source_id',\n",
    "                      'max_glu_serum','A1Cresult','metformin','repaglinide','glimepiride',\n",
    "                      'glipizide','glyburide','pioglitazone','rosiglitazone','insulin',\n",
    "                     'diag_1','diag_2','diag_3',]\n",
    "\n",
    "#Simple loop to get dummies, concat them to the end of the dataframe, and drop the original column so \n",
    "#there's no redundant information.\n",
    "for i in columns_to_dummify:\n",
    "    dummies = dummify_and_drop_max(df,i)\n",
    "    df = pd.concat([df,dummies],axis=1)\n",
    "    df.drop(columns=[i],inplace=True)"
   ]
  },
  {
   "cell_type": "code",
   "execution_count": 37,
   "metadata": {},
   "outputs": [
    {
     "name": "stdout",
     "output_type": "stream",
     "text": [
      "<class 'pandas.core.frame.DataFrame'>\n",
      "Int64Index: 71047 entries, 0 to 71049\n",
      "Columns: 150 entries, gender to diag_3_Supplementary\n",
      "dtypes: int64(17), uint8(133)\n",
      "memory usage: 18.8 MB\n"
     ]
    }
   ],
   "source": [
    "df.info()"
   ]
  },
  {
   "cell_type": "code",
   "execution_count": 38,
   "metadata": {},
   "outputs": [],
   "source": [
    "df.to_csv('diabetes_cleaned_numeric.csv')"
   ]
  }
 ],
 "metadata": {
  "kernelspec": {
   "display_name": "Python 3",
   "language": "python",
   "name": "python3"
  },
  "language_info": {
   "codemirror_mode": {
    "name": "ipython",
    "version": 3
   },
   "file_extension": ".py",
   "mimetype": "text/x-python",
   "name": "python",
   "nbconvert_exporter": "python",
   "pygments_lexer": "ipython3",
   "version": "3.7.4"
  }
 },
 "nbformat": 4,
 "nbformat_minor": 2
}
