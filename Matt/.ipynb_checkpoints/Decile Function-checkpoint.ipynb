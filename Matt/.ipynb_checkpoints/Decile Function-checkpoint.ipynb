{
 "cells": [
  {
   "cell_type": "code",
   "execution_count": null,
   "metadata": {},
   "outputs": [],
   "source": [
    "predicted_probs = pd.Series(estimator.predict_proba(X_test)[:,1],index=X_test.index)\n",
    "bins = pd.qcut(predicted_probs.sort_values(),q=10,labels=range(1,11))\n",
    "results = []\n",
    "for i in range(1,11):\n",
    "    results.append(y_test[bins[bins==i].index])\n",
    "overall = y_test.sum()/len(y_test)\n",
    "print([(i.sum())/(len(i)) for i in results])\n",
    "print([(i.sum())/(len(i))/overall for i in results])"
   ]
  }
 ],
 "metadata": {
  "kernelspec": {
   "display_name": "Python 3",
   "language": "python",
   "name": "python3"
  },
  "language_info": {
   "codemirror_mode": {
    "name": "ipython",
    "version": 3
   },
   "file_extension": ".py",
   "mimetype": "text/x-python",
   "name": "python",
   "nbconvert_exporter": "python",
   "pygments_lexer": "ipython3",
   "version": "3.7.6"
  }
 },
 "nbformat": 4,
 "nbformat_minor": 2
}
