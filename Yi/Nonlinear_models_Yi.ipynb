{
 "cells": [
  {
   "cell_type": "markdown",
   "metadata": {},
   "source": [
    "### data prep"
   ]
  },
  {
   "cell_type": "code",
   "execution_count": 2,
   "metadata": {},
   "outputs": [],
   "source": [
    "import pandas as pd\n",
    "import numpy as np"
   ]
  },
  {
   "cell_type": "code",
   "execution_count": 3,
   "metadata": {},
   "outputs": [],
   "source": [
    "pd.set_option('display.max_columns', None)\n",
    "pd.set_option('display.max_rows', None)"
   ]
  },
  {
   "cell_type": "code",
   "execution_count": 4,
   "metadata": {},
   "outputs": [],
   "source": [
    "diabetic = pd.read_csv('../../data/diabetic_data_initial.csv')"
   ]
  },
  {
   "cell_type": "code",
   "execution_count": 5,
   "metadata": {},
   "outputs": [],
   "source": [
    "diabetic_df = diabetic.replace('?', np.nan)\n",
    "\n",
    "diabetic_df = diabetic_df.sort_values('encounter_id')\n",
    "diabetic_df.drop_duplicates(subset = ['patient_nbr'], keep = 'first', inplace = True)\n",
    "\n",
    "diabetic_df = diabetic_df[~diabetic_df['discharge_disposition_id'].isin([11,13,14,19,20,21])]\n",
    "diabetic_df.drop(diabetic_df.loc[diabetic_df.gender=='Unknown/Invalid'].index, inplace=True)\n",
    "\n",
    "diabetic_df.drop(['encounter_id','patient_nbr','weight','medical_specialty','payer_code'],\\\n",
    "                 axis = 1, inplace = True)\n",
    "\n",
    "diabetic_df['admission_type_id'] = diabetic_df['admission_type_id'].astype('str')\n",
    "diabetic_df['admission_source_id'] = diabetic_df['admission_source_id'].astype('str')\n",
    "diabetic_df['discharge_disposition_id'] = diabetic_df['discharge_disposition_id'].astype('str')"
   ]
  },
  {
   "cell_type": "code",
   "execution_count": 6,
   "metadata": {
    "scrolled": false
   },
   "outputs": [
    {
     "data": {
      "text/plain": [
       "(69970, 45)"
      ]
     },
     "execution_count": 6,
     "metadata": {},
     "output_type": "execute_result"
    }
   ],
   "source": [
    "diabetic_df.shape"
   ]
  },
  {
   "cell_type": "code",
   "execution_count": 7,
   "metadata": {},
   "outputs": [],
   "source": [
    "diabetic_df['readmit_30d'] = (diabetic_df['readmitted'] == '<30')\n",
    "\n",
    "# diabetic_df['age_group'] = diabetic_df['age'].replace(\n",
    "#     ['[0-10)','[10-20)','[20-30)','[30-40)','[40-50)','[50-60)','[60-70)','[70-80)','[80-90)','[90-100)'],\n",
    "#     ['inf to adole','inf to adole','adult','adult','mid-age','mid-age','senior','senior','senior','senior'])\n",
    "diabetic_df['age_num'] = diabetic_df['age'].replace(\n",
    "    ['[0-10)','[10-20)','[20-30)','[30-40)','[40-50)','[50-60)','[60-70)','[70-80)','[80-90)','[90-100)'],\n",
    "    [0,10,20,30,40,50,60,70,80,90])"
   ]
  },
  {
   "cell_type": "code",
   "execution_count": 8,
   "metadata": {},
   "outputs": [],
   "source": [
    "diabetic_df['diag_1'] = diabetic_df['diag_1'].str.split('.', expand = True).drop(1, axis = 1)\n",
    "diabetic_df['diag_2'] = diabetic_df['diag_2'].str.split('.', expand = True).drop(1, axis = 1)\n",
    "diabetic_df['diag_3'] = diabetic_df['diag_3'].str.split('.', expand = True).drop(1, axis = 1)\n",
    "\n",
    "count_1 = diabetic_df['diag_1'].value_counts()\n",
    "index_1 = count_1[count_1>=500].index.tolist()\n",
    "\n",
    "count_2 = diabetic_df['diag_2'].value_counts()\n",
    "index_2 = count_2[count_2>=500].index.tolist()\n",
    "\n",
    "count_3 = diabetic_df['diag_3'].value_counts()\n",
    "index_3 = count_3[count_3>=500].index.tolist()\n",
    "\n",
    "diagnoses = set(index_1 + index_2 + index_3)\n",
    "\n",
    "for d in diagnoses:\n",
    "    diabetic_df[d+'_diag'] = ((diabetic_df['diag_1']==d)|\n",
    "                              (diabetic_df['diag_2']==d)|\n",
    "                              (diabetic_df['diag_3']==d))"
   ]
  },
  {
   "cell_type": "code",
   "execution_count": 9,
   "metadata": {},
   "outputs": [],
   "source": [
    "for col in ['metformin','repaglinide','glimepiride','glipizide', 'glyburide','pioglitazone',\n",
    "            'rosiglitazone','insulin']:\n",
    "    diabetic_df[col+'_used'] = np.where(diabetic_df[col]=='No', False, True)\n",
    "# 'nateglinide','glyburide-metformin' (close to 500)"
   ]
  },
  {
   "cell_type": "code",
   "execution_count": 10,
   "metadata": {},
   "outputs": [],
   "source": [
    "diabetic_df = diabetic_df.drop(['age',\n",
    "                               'diag_1','diag_2','diag_3',\n",
    "                               'metformin','repaglinide','nateglinide','chlorpropamide','glimepiride',\n",
    "                               'acetohexamide','glipizide','glyburide','tolbutamide','pioglitazone',\n",
    "                               'rosiglitazone','acarbose','miglitol','troglitazone','tolazamide','examide',\n",
    "                               'citoglipton','insulin','glyburide-metformin','glipizide-metformin',\n",
    "                               'glimepiride-pioglitazone','metformin-rosiglitazone','metformin-pioglitazone',\n",
    "                               'readmitted'],\n",
    "                               axis = 1)"
   ]
  },
  {
   "cell_type": "code",
   "execution_count": 11,
   "metadata": {},
   "outputs": [
    {
     "data": {
      "text/plain": [
       "(69970, 119)"
      ]
     },
     "execution_count": 11,
     "metadata": {},
     "output_type": "execute_result"
    }
   ],
   "source": [
    "diabetic_dum = pd.get_dummies(diabetic_df, drop_first = True)\n",
    "diabetic_dum.shape"
   ]
  },
  {
   "cell_type": "code",
   "execution_count": 12,
   "metadata": {},
   "outputs": [
    {
     "data": {
      "text/plain": [
       "(69970, 94)"
      ]
     },
     "execution_count": 12,
     "metadata": {},
     "output_type": "execute_result"
    }
   ],
   "source": [
    "# dropping variables with <500 minority classes\n",
    "descr = diabetic_dum.describe().T\n",
    "under_500 = descr[descr['mean'] <= (500/len(diabetic_dum))].index.tolist()\n",
    "under_500.remove('race_Asian')\n",
    "diabetic_final = diabetic_dum.drop(under_500, axis = 1)\n",
    "diabetic_final.shape"
   ]
  },
  {
   "cell_type": "markdown",
   "metadata": {},
   "source": [
    "train test split"
   ]
  },
  {
   "cell_type": "code",
   "execution_count": 13,
   "metadata": {},
   "outputs": [],
   "source": [
    "from sklearn.model_selection import cross_val_score, cross_val_predict, GridSearchCV, train_test_split"
   ]
  },
  {
   "cell_type": "code",
   "execution_count": 14,
   "metadata": {},
   "outputs": [],
   "source": [
    "features = diabetic_final.drop(['readmit_30d'], axis = 1)\n",
    "target = diabetic_final['readmit_30d']"
   ]
  },
  {
   "cell_type": "code",
   "execution_count": 15,
   "metadata": {},
   "outputs": [],
   "source": [
    "X_train, X_test, y_train, y_test = train_test_split(features, \n",
    "                                                    target, \n",
    "                                                    test_size=0.2,\n",
    "                                                    stratify = target,\n",
    "                                                    random_state = 42)"
   ]
  },
  {
   "cell_type": "markdown",
   "metadata": {},
   "source": [
    "over- or under- sample"
   ]
  },
  {
   "cell_type": "code",
   "execution_count": 16,
   "metadata": {},
   "outputs": [],
   "source": [
    "from imblearn.over_sampling import RandomOverSampler\n",
    "from imblearn.under_sampling import RandomUnderSampler"
   ]
  },
  {
   "cell_type": "code",
   "execution_count": 17,
   "metadata": {},
   "outputs": [
    {
     "name": "stdout",
     "output_type": "stream",
     "text": [
      "RandomOverSampler: (101908, 93)\n"
     ]
    }
   ],
   "source": [
    "# RandomOverSampler\n",
    "ros = RandomOverSampler(random_state = 42)\n",
    "X_train_ros, y_train_ros = ros.fit_sample(X_train, y_train)\n",
    "print(f'RandomOverSampler: {X_train_ros.shape}')\n",
    "\n",
    "# # RandomUnderSample\n",
    "# rus = RandomUnderSampler(random_state = 42)\n",
    "# X_train_rus, y_train_rus = rus.fit_sample(X_train, y_train)\n",
    "# print(f'RandomUnderSampler: {X_train_rus.shape}')"
   ]
  },
  {
   "cell_type": "markdown",
   "metadata": {},
   "source": [
    "### model testing"
   ]
  },
  {
   "cell_type": "markdown",
   "metadata": {},
   "source": [
    "random forest with oversampled data"
   ]
  },
  {
   "cell_type": "code",
   "execution_count": 18,
   "metadata": {},
   "outputs": [],
   "source": [
    "from sklearn.metrics import confusion_matrix, roc_auc_score"
   ]
  },
  {
   "cell_type": "code",
   "execution_count": 19,
   "metadata": {},
   "outputs": [
    {
     "data": {
      "text/plain": [
       "RandomForestClassifier(class_weight='balanced_subsample', oob_score=True,\n",
       "                       random_state=108)"
      ]
     },
     "execution_count": 19,
     "metadata": {},
     "output_type": "execute_result"
    }
   ],
   "source": [
    "from sklearn.ensemble import RandomForestClassifier\n",
    "RFC = RandomForestClassifier(oob_score=True, class_weight = 'balanced_subsample', random_state = 108)\n",
    "RFC"
   ]
  },
  {
   "cell_type": "code",
   "execution_count": 20,
   "metadata": {},
   "outputs": [
    {
     "name": "stdout",
     "output_type": "stream",
     "text": [
      "Wall time: 11min 59s\n"
     ]
    },
    {
     "data": {
      "text/plain": [
       "GridSearchCV(cv=5,\n",
       "             estimator=RandomForestClassifier(class_weight='balanced_subsample',\n",
       "                                              oob_score=True,\n",
       "                                              random_state=108),\n",
       "             n_jobs=-1,\n",
       "             param_grid=[{'class_weight': ['balanced_subsample'],\n",
       "                          'criterion': ['gini'], 'max_depth': [6],\n",
       "                          'min_samples_leaf': [60, 70],\n",
       "                          'min_samples_split': [750], 'n_estimators': [700],\n",
       "                          'random_state': [108]}],\n",
       "             scoring='roc_auc')"
      ]
     },
     "execution_count": 20,
     "metadata": {},
     "output_type": "execute_result"
    }
   ],
   "source": [
    "# RF grid search\n",
    "RF_grid_params = [{\n",
    "    'n_estimators': [700], #range(100,900,100),\n",
    "    'max_depth': [6],\n",
    "#     'max_features': ['sqrt',10,11],\n",
    "    'criterion': ['gini'], #['gini','entropy'],\n",
    "    'min_samples_leaf': [60,70], #[60,70,80],\n",
    "    'min_samples_split': [750], #range(500,800,50)\n",
    "    'class_weight': ['balanced_subsample'],\n",
    "    'random_state': [108]}]\n",
    "grid_search_RF = GridSearchCV(RFC, RF_grid_params, scoring='roc_auc', cv=5, n_jobs=-1)\n",
    "%time grid_search_RF.fit(X_train_ros, y_train_ros)"
   ]
  },
  {
   "cell_type": "code",
   "execution_count": 21,
   "metadata": {},
   "outputs": [
    {
     "name": "stdout",
     "output_type": "stream",
     "text": [
      "{'class_weight': 'balanced_subsample', 'criterion': 'gini', 'max_depth': 6, 'min_samples_leaf': 60, 'min_samples_split': 750, 'n_estimators': 700, 'random_state': 108}\n"
     ]
    },
    {
     "data": {
      "text/plain": [
       "RandomForestClassifier(class_weight='balanced_subsample', max_depth=6,\n",
       "                       min_samples_leaf=60, min_samples_split=750,\n",
       "                       n_estimators=700, oob_score=True, random_state=108)"
      ]
     },
     "execution_count": 21,
     "metadata": {},
     "output_type": "execute_result"
    }
   ],
   "source": [
    "# best params and estimator\n",
    "print(grid_search_RF.best_params_)\n",
    "grid_search_RF.best_estimator_"
   ]
  },
  {
   "cell_type": "code",
   "execution_count": 22,
   "metadata": {},
   "outputs": [
    {
     "name": "stdout",
     "output_type": "stream",
     "text": [
      "accuracy\n",
      "0.6137398437806649\n",
      "0.6407746176932971\n",
      "------------------------------------------------------------\n",
      "confusion matrix\n",
      "[[33078 17876]\n",
      " [21487 29467]]\n",
      "[[8258 4481]\n",
      " [ 546  709]]\n",
      "------------------------------------------------------------\n",
      "AUC-ROC\n",
      "0.6137398437806649\n",
      "0.6065928921100276\n"
     ]
    }
   ],
   "source": [
    "print('accuracy')\n",
    "print(grid_search_RF.best_estimator_.score(X_train_ros, y_train_ros))\n",
    "print(grid_search_RF.best_estimator_.score(X_test, y_test))\n",
    "print('--'*30)\n",
    "y_train_pred = grid_search_RF.best_estimator_.predict(X_train_ros)\n",
    "y_test_pred = grid_search_RF.best_estimator_.predict(X_test)\n",
    "print('confusion matrix')\n",
    "print(confusion_matrix(y_train_ros, y_train_pred))\n",
    "print(confusion_matrix(y_test, y_test_pred))\n",
    "print('--'*30)\n",
    "print('AUC-ROC')\n",
    "print(roc_auc_score(y_train_ros, y_train_pred))\n",
    "print(roc_auc_score(y_test, y_test_pred))"
   ]
  },
  {
   "cell_type": "code",
   "execution_count": 30,
   "metadata": {
    "scrolled": false
   },
   "outputs": [
    {
     "data": {
      "text/html": [
       "<div>\n",
       "<style scoped>\n",
       "    .dataframe tbody tr th:only-of-type {\n",
       "        vertical-align: middle;\n",
       "    }\n",
       "\n",
       "    .dataframe tbody tr th {\n",
       "        vertical-align: top;\n",
       "    }\n",
       "\n",
       "    .dataframe thead th {\n",
       "        text-align: right;\n",
       "    }\n",
       "</style>\n",
       "<table border=\"1\" class=\"dataframe\">\n",
       "  <thead>\n",
       "    <tr style=\"text-align: right;\">\n",
       "      <th></th>\n",
       "      <th>feature</th>\n",
       "      <th>importance</th>\n",
       "    </tr>\n",
       "  </thead>\n",
       "  <tbody>\n",
       "    <tr>\n",
       "      <th>6</th>\n",
       "      <td>number_inpatient</td>\n",
       "      <td>0.181835</td>\n",
       "    </tr>\n",
       "    <tr>\n",
       "      <th>73</th>\n",
       "      <td>discharge_disposition_id_22</td>\n",
       "      <td>0.131854</td>\n",
       "    </tr>\n",
       "    <tr>\n",
       "      <th>75</th>\n",
       "      <td>discharge_disposition_id_3</td>\n",
       "      <td>0.092326</td>\n",
       "    </tr>\n",
       "    <tr>\n",
       "      <th>0</th>\n",
       "      <td>time_in_hospital</td>\n",
       "      <td>0.090017</td>\n",
       "    </tr>\n",
       "    <tr>\n",
       "      <th>8</th>\n",
       "      <td>age_num</td>\n",
       "      <td>0.063736</td>\n",
       "    </tr>\n",
       "    <tr>\n",
       "      <th>3</th>\n",
       "      <td>num_medications</td>\n",
       "      <td>0.047339</td>\n",
       "    </tr>\n",
       "    <tr>\n",
       "      <th>7</th>\n",
       "      <td>number_diagnoses</td>\n",
       "      <td>0.046058</td>\n",
       "    </tr>\n",
       "    <tr>\n",
       "      <th>77</th>\n",
       "      <td>discharge_disposition_id_5</td>\n",
       "      <td>0.040184</td>\n",
       "    </tr>\n",
       "    <tr>\n",
       "      <th>37</th>\n",
       "      <td>786_diag</td>\n",
       "      <td>0.032154</td>\n",
       "    </tr>\n",
       "    <tr>\n",
       "      <th>41</th>\n",
       "      <td>434_diag</td>\n",
       "      <td>0.028988</td>\n",
       "    </tr>\n",
       "    <tr>\n",
       "      <th>1</th>\n",
       "      <td>num_lab_procedures</td>\n",
       "      <td>0.024783</td>\n",
       "    </tr>\n",
       "    <tr>\n",
       "      <th>5</th>\n",
       "      <td>number_emergency</td>\n",
       "      <td>0.022665</td>\n",
       "    </tr>\n",
       "    <tr>\n",
       "      <th>20</th>\n",
       "      <td>403_diag</td>\n",
       "      <td>0.020062</td>\n",
       "    </tr>\n",
       "    <tr>\n",
       "      <th>32</th>\n",
       "      <td>401_diag</td>\n",
       "      <td>0.016640</td>\n",
       "    </tr>\n",
       "    <tr>\n",
       "      <th>38</th>\n",
       "      <td>428_diag</td>\n",
       "      <td>0.016128</td>\n",
       "    </tr>\n",
       "  </tbody>\n",
       "</table>\n",
       "</div>"
      ],
      "text/plain": [
       "                        feature  importance\n",
       "6              number_inpatient    0.181835\n",
       "73  discharge_disposition_id_22    0.131854\n",
       "75   discharge_disposition_id_3    0.092326\n",
       "0              time_in_hospital    0.090017\n",
       "8                       age_num    0.063736\n",
       "3               num_medications    0.047339\n",
       "7              number_diagnoses    0.046058\n",
       "77   discharge_disposition_id_5    0.040184\n",
       "37                     786_diag    0.032154\n",
       "41                     434_diag    0.028988\n",
       "1            num_lab_procedures    0.024783\n",
       "5              number_emergency    0.022665\n",
       "20                     403_diag    0.020062\n",
       "32                     401_diag    0.016640\n",
       "38                     428_diag    0.016128"
      ]
     },
     "execution_count": 30,
     "metadata": {},
     "output_type": "execute_result"
    }
   ],
   "source": [
    "RF_fp = pd.DataFrame({'feature':X_train_ros.columns,\n",
    "                      'importance':grid_search_RF.best_estimator_.feature_importances_}).\\\n",
    "sort_values('importance',ascending = False)\n",
    "RF_fp.head(15)"
   ]
  },
  {
   "cell_type": "markdown",
   "metadata": {},
   "source": [
    "gradient boosting"
   ]
  },
  {
   "cell_type": "code",
   "execution_count": 31,
   "metadata": {},
   "outputs": [],
   "source": [
    "from sklearn.ensemble import GradientBoostingClassifier"
   ]
  },
  {
   "cell_type": "code",
   "execution_count": 32,
   "metadata": {},
   "outputs": [
    {
     "name": "stdout",
     "output_type": "stream",
     "text": [
      "Fitting 5 folds for each of 2 candidates, totalling 10 fits\n"
     ]
    },
    {
     "name": "stderr",
     "output_type": "stream",
     "text": [
      "[Parallel(n_jobs=-1)]: Using backend LokyBackend with 8 concurrent workers.\n",
      "[Parallel(n_jobs=-1)]: Done   6 out of  10 | elapsed: 10.7min remaining:  7.1min\n",
      "[Parallel(n_jobs=-1)]: Done  10 out of  10 | elapsed: 15.0min finished\n"
     ]
    },
    {
     "name": "stdout",
     "output_type": "stream",
     "text": [
      "Wall time: 20min 9s\n"
     ]
    },
    {
     "data": {
      "text/plain": [
       "GridSearchCV(cv=5, estimator=GradientBoostingClassifier(random_state=108),\n",
       "             n_jobs=-1,\n",
       "             param_grid=[{'learning_rate': [1.0], 'max_depth': [6],\n",
       "                          'min_samples_leaf': [60], 'min_samples_split': [750],\n",
       "                          'n_estimators': [700], 'random_state': [108],\n",
       "                          'subsample': [0.7, 0.8]}],\n",
       "             scoring='roc_auc', verbose=1)"
      ]
     },
     "execution_count": 32,
     "metadata": {},
     "output_type": "execute_result"
    }
   ],
   "source": [
    "GB = GradientBoostingClassifier(random_state = 108)\n",
    "GB\n",
    "\n",
    "# GB grid search\n",
    "GB_grid_params = [{\n",
    "    'learning_rate': [1.0], #[0.8,1.0,1.2],\n",
    "    'n_estimators': [700], #range(200,800,100),\n",
    "    'max_depth': [6],\n",
    "    'subsample': [0.7,0.8], #np.linspace(0.6,0.9,10),\n",
    "#     'max_features':['sqrt',7,9],\n",
    "#     'criterion': ['mse','friedman_mse','mae'],\n",
    "    'min_samples_leaf': [60], #[50], #range(60,90,5),\n",
    "    'min_samples_split': [750], #[500,600,700,800,900],\n",
    "    'random_state':[108]\n",
    "}]\n",
    "grid_search_GB = GridSearchCV(GB, GB_grid_params, scoring='roc_auc', cv=5, verbose = 1, n_jobs=-1)\n",
    "%time grid_search_GB.fit(X_train_ros, y_train_ros)"
   ]
  },
  {
   "cell_type": "code",
   "execution_count": 33,
   "metadata": {
    "scrolled": true
   },
   "outputs": [
    {
     "name": "stdout",
     "output_type": "stream",
     "text": [
      "{'learning_rate': 1.0, 'max_depth': 6, 'min_samples_leaf': 60, 'min_samples_split': 750, 'n_estimators': 700, 'random_state': 108, 'subsample': 0.8}\n",
      "{'learning_rate': 1.0, 'max_depth': 6, 'min_samples_leaf': 60, 'min_samples_split': 750, 'n_estimators': 700, 'random_state': 108, 'subsample': 0.8}\n",
      "------------------------------------------------------------\n",
      "accuracy:\n",
      "0.989196137692821\n",
      "0.8274260397313135\n",
      "confusion matrices:\n",
      "[[49897  1057]\n",
      " [   44 50910]]\n",
      "[[11378  1361]\n",
      " [ 1054   201]]\n",
      "------------------------------------------------------------\n",
      "AUC-ROC:\n",
      "0.989196137692821\n",
      "0.5266610455892108\n"
     ]
    }
   ],
   "source": [
    "print(grid_search_GB.best_params_)\n",
    "print(grid_search_GB.best_params_)\n",
    "# print(grid_search_GB.cv_results_['mean_test_score'])\n",
    "print('--'*30)\n",
    "\n",
    "# using grid search best estimator\n",
    "y_train_pred = grid_search_GB.best_estimator_.predict(X_train_ros)\n",
    "y_test_pred = grid_search_GB.best_estimator_.predict(X_test)\n",
    "print('accuracy:')\n",
    "print(grid_search_GB.best_estimator_.score(X_train_ros, y_train_ros))\n",
    "print(grid_search_GB.best_estimator_.score(X_test, y_test))\n",
    "print('confusion matrices:')\n",
    "print(confusion_matrix(y_train_ros, y_train_pred))\n",
    "print(confusion_matrix(y_test, y_test_pred))\n",
    "print('--'*30)\n",
    "print('AUC-ROC:')\n",
    "print(roc_auc_score(y_train_ros, y_train_pred))\n",
    "print(roc_auc_score(y_test, y_test_pred))"
   ]
  },
  {
   "cell_type": "code",
   "execution_count": 34,
   "metadata": {},
   "outputs": [
    {
     "data": {
      "text/html": [
       "<div>\n",
       "<style scoped>\n",
       "    .dataframe tbody tr th:only-of-type {\n",
       "        vertical-align: middle;\n",
       "    }\n",
       "\n",
       "    .dataframe tbody tr th {\n",
       "        vertical-align: top;\n",
       "    }\n",
       "\n",
       "    .dataframe thead th {\n",
       "        text-align: right;\n",
       "    }\n",
       "</style>\n",
       "<table border=\"1\" class=\"dataframe\">\n",
       "  <thead>\n",
       "    <tr style=\"text-align: right;\">\n",
       "      <th></th>\n",
       "      <th>feature</th>\n",
       "      <th>importance</th>\n",
       "    </tr>\n",
       "  </thead>\n",
       "  <tbody>\n",
       "    <tr>\n",
       "      <th>1</th>\n",
       "      <td>num_lab_procedures</td>\n",
       "      <td>0.127352</td>\n",
       "    </tr>\n",
       "    <tr>\n",
       "      <th>3</th>\n",
       "      <td>num_medications</td>\n",
       "      <td>0.103645</td>\n",
       "    </tr>\n",
       "    <tr>\n",
       "      <th>0</th>\n",
       "      <td>time_in_hospital</td>\n",
       "      <td>0.065149</td>\n",
       "    </tr>\n",
       "    <tr>\n",
       "      <th>8</th>\n",
       "      <td>age_num</td>\n",
       "      <td>0.050293</td>\n",
       "    </tr>\n",
       "    <tr>\n",
       "      <th>7</th>\n",
       "      <td>number_diagnoses</td>\n",
       "      <td>0.043815</td>\n",
       "    </tr>\n",
       "    <tr>\n",
       "      <th>6</th>\n",
       "      <td>number_inpatient</td>\n",
       "      <td>0.038345</td>\n",
       "    </tr>\n",
       "    <tr>\n",
       "      <th>2</th>\n",
       "      <td>num_procedures</td>\n",
       "      <td>0.038268</td>\n",
       "    </tr>\n",
       "    <tr>\n",
       "      <th>75</th>\n",
       "      <td>discharge_disposition_id_3</td>\n",
       "      <td>0.021616</td>\n",
       "    </tr>\n",
       "    <tr>\n",
       "      <th>4</th>\n",
       "      <td>number_outpatient</td>\n",
       "      <td>0.019608</td>\n",
       "    </tr>\n",
       "    <tr>\n",
       "      <th>73</th>\n",
       "      <td>discharge_disposition_id_22</td>\n",
       "      <td>0.018804</td>\n",
       "    </tr>\n",
       "    <tr>\n",
       "      <th>5</th>\n",
       "      <td>number_emergency</td>\n",
       "      <td>0.014916</td>\n",
       "    </tr>\n",
       "    <tr>\n",
       "      <th>38</th>\n",
       "      <td>428_diag</td>\n",
       "      <td>0.013764</td>\n",
       "    </tr>\n",
       "    <tr>\n",
       "      <th>84</th>\n",
       "      <td>admission_source_id_7</td>\n",
       "      <td>0.012849</td>\n",
       "    </tr>\n",
       "    <tr>\n",
       "      <th>63</th>\n",
       "      <td>race_Caucasian</td>\n",
       "      <td>0.012563</td>\n",
       "    </tr>\n",
       "    <tr>\n",
       "      <th>92</th>\n",
       "      <td>diabetesMed_Yes</td>\n",
       "      <td>0.012342</td>\n",
       "    </tr>\n",
       "    <tr>\n",
       "      <th>25</th>\n",
       "      <td>250_diag</td>\n",
       "      <td>0.011945</td>\n",
       "    </tr>\n",
       "    <tr>\n",
       "      <th>24</th>\n",
       "      <td>427_diag</td>\n",
       "      <td>0.011929</td>\n",
       "    </tr>\n",
       "    <tr>\n",
       "      <th>78</th>\n",
       "      <td>discharge_disposition_id_6</td>\n",
       "      <td>0.011689</td>\n",
       "    </tr>\n",
       "    <tr>\n",
       "      <th>66</th>\n",
       "      <td>gender_Male</td>\n",
       "      <td>0.010680</td>\n",
       "    </tr>\n",
       "    <tr>\n",
       "      <th>77</th>\n",
       "      <td>discharge_disposition_id_5</td>\n",
       "      <td>0.010316</td>\n",
       "    </tr>\n",
       "  </tbody>\n",
       "</table>\n",
       "</div>"
      ],
      "text/plain": [
       "                        feature  importance\n",
       "1            num_lab_procedures    0.127352\n",
       "3               num_medications    0.103645\n",
       "0              time_in_hospital    0.065149\n",
       "8                       age_num    0.050293\n",
       "7              number_diagnoses    0.043815\n",
       "6              number_inpatient    0.038345\n",
       "2                num_procedures    0.038268\n",
       "75   discharge_disposition_id_3    0.021616\n",
       "4             number_outpatient    0.019608\n",
       "73  discharge_disposition_id_22    0.018804\n",
       "5              number_emergency    0.014916\n",
       "38                     428_diag    0.013764\n",
       "84        admission_source_id_7    0.012849\n",
       "63               race_Caucasian    0.012563\n",
       "92              diabetesMed_Yes    0.012342\n",
       "25                     250_diag    0.011945\n",
       "24                     427_diag    0.011929\n",
       "78   discharge_disposition_id_6    0.011689\n",
       "66                  gender_Male    0.010680\n",
       "77   discharge_disposition_id_5    0.010316"
      ]
     },
     "execution_count": 34,
     "metadata": {},
     "output_type": "execute_result"
    }
   ],
   "source": [
    "pd.DataFrame({'feature': X_train_ros.columns, 'importance':grid_search_GB.best_estimator_.feature_importances_}).\\\n",
    "sort_values('importance', ascending = False).head(20)"
   ]
  },
  {
   "cell_type": "markdown",
   "metadata": {},
   "source": [
    "kNN"
   ]
  },
  {
   "cell_type": "code",
   "execution_count": null,
   "metadata": {},
   "outputs": [],
   "source": [
    "from sklearn.neighbors import KNeighborsClassifier"
   ]
  },
  {
   "cell_type": "code",
   "execution_count": null,
   "metadata": {
    "scrolled": true
   },
   "outputs": [],
   "source": [
    "knn = KNeighborsClassifier()\n",
    "knn.fit(X_train, y_train)"
   ]
  },
  {
   "cell_type": "code",
   "execution_count": null,
   "metadata": {},
   "outputs": [],
   "source": [
    "print('accuracy')\n",
    "print(knn.score(X_train, y_train))\n",
    "print(knn.score(X_test, y_test))\n",
    "\n",
    "print('--'*30)\n",
    "y_train_pred = knn.predict(X_train)\n",
    "y_test_pred = knn.predict(X_test)\n",
    "\n",
    "print('confusion matrix')\n",
    "print(confusion_matrix(y_train, y_train_pred))\n",
    "print(confusion_matrix(y_test, y_test_pred))\n",
    "\n",
    "print('--'*30)\n",
    "print('AUC-ROC')\n",
    "print(roc_auc_score(y_train, y_train_pred))\n",
    "print(roc_auc_score(y_test, y_test_pred))"
   ]
  },
  {
   "cell_type": "code",
   "execution_count": null,
   "metadata": {},
   "outputs": [],
   "source": [
    "# kNN CV"
   ]
  },
  {
   "cell_type": "markdown",
   "metadata": {},
   "source": [
    "RFE CV"
   ]
  },
  {
   "cell_type": "code",
   "execution_count": null,
   "metadata": {},
   "outputs": [],
   "source": [
    "from sklearn.feature_selection import RFECV"
   ]
  },
  {
   "cell_type": "code",
   "execution_count": null,
   "metadata": {},
   "outputs": [],
   "source": [
    "logit.set_params(C = 0.1)"
   ]
  },
  {
   "cell_type": "code",
   "execution_count": null,
   "metadata": {},
   "outputs": [],
   "source": [
    "logit_rfecv = RFECV(estimator=logit, step=1, cv=3, scoring='roc_auc')"
   ]
  },
  {
   "cell_type": "code",
   "execution_count": null,
   "metadata": {},
   "outputs": [],
   "source": [
    "logit_rfecv.fit(X_train, y_train)"
   ]
  },
  {
   "cell_type": "code",
   "execution_count": null,
   "metadata": {
    "scrolled": true
   },
   "outputs": [],
   "source": [
    "logit_rfecv.grid_scores_"
   ]
  },
  {
   "cell_type": "code",
   "execution_count": null,
   "metadata": {},
   "outputs": [],
   "source": [
    "rfecv_ranking = pd.DataFrame({'feature':X_train.columns, 'ranking':logit_rfecv.ranking_})\n",
    "rfecv_ranking[rfecv_ranking['ranking'] == 1]"
   ]
  },
  {
   "cell_type": "code",
   "execution_count": null,
   "metadata": {},
   "outputs": [],
   "source": [
    "pd.qcut()"
   ]
  }
 ],
 "metadata": {
  "kernelspec": {
   "display_name": "Python 3",
   "language": "python",
   "name": "python3"
  },
  "language_info": {
   "codemirror_mode": {
    "name": "ipython",
    "version": 3
   },
   "file_extension": ".py",
   "mimetype": "text/x-python",
   "name": "python",
   "nbconvert_exporter": "python",
   "pygments_lexer": "ipython3",
   "version": "3.7.6"
  }
 },
 "nbformat": 4,
 "nbformat_minor": 4
}
