{
 "cells": [
  {
   "cell_type": "markdown",
   "metadata": {},
   "source": [
    "### data prepping"
   ]
  },
  {
   "cell_type": "code",
   "execution_count": 1,
   "metadata": {},
   "outputs": [],
   "source": [
    "import pandas as pd\n",
    "import numpy as np"
   ]
  },
  {
   "cell_type": "code",
   "execution_count": 2,
   "metadata": {},
   "outputs": [],
   "source": [
    "pd.set_option('display.max_columns', None)\n",
    "pd.set_option('display.max_rows', None)"
   ]
  },
  {
   "cell_type": "code",
   "execution_count": 3,
   "metadata": {},
   "outputs": [],
   "source": [
    "diabetic = pd.read_csv('../../data/diabetic_data_initial.csv')"
   ]
  },
  {
   "cell_type": "code",
   "execution_count": 4,
   "metadata": {},
   "outputs": [
    {
     "data": {
      "text/plain": [
       "(101766, 50)"
      ]
     },
     "execution_count": 4,
     "metadata": {},
     "output_type": "execute_result"
    }
   ],
   "source": [
    "diabetic.shape"
   ]
  },
  {
   "cell_type": "code",
   "execution_count": 5,
   "metadata": {},
   "outputs": [],
   "source": [
    "diabetic_df = diabetic.replace('?', np.nan)\n",
    "\n",
    "diabetic_df = diabetic_df.sort_values('encounter_id')\n",
    "diabetic_df.drop_duplicates(subset = ['patient_nbr'], keep = 'first', inplace = True)\n",
    "\n",
    "diabetic_df = diabetic_df[~diabetic_df['discharge_disposition_id'].isin([11,13,14,19,20,21])]\n",
    "diabetic_df.drop(diabetic_df.loc[diabetic_df.gender=='Unknown/Invalid'].index, inplace=True)\n",
    "\n",
    "diabetic_df.drop(['encounter_id','patient_nbr','weight','medical_specialty','payer_code'],\\\n",
    "                 axis = 1, inplace = True)\n",
    "\n",
    "diabetic_df['admission_type_id'] = diabetic_df['admission_type_id'].astype('str')\n",
    "diabetic_df['admission_source_id'] = diabetic_df['admission_source_id'].astype('str')\n",
    "diabetic_df['discharge_disposition_id'] = diabetic_df['discharge_disposition_id'].astype('str')"
   ]
  },
  {
   "cell_type": "code",
   "execution_count": 6,
   "metadata": {
    "scrolled": false
   },
   "outputs": [
    {
     "data": {
      "text/plain": [
       "(69970, 45)"
      ]
     },
     "execution_count": 6,
     "metadata": {},
     "output_type": "execute_result"
    }
   ],
   "source": [
    "diabetic_df.shape"
   ]
  },
  {
   "cell_type": "code",
   "execution_count": 7,
   "metadata": {},
   "outputs": [],
   "source": [
    "diabetic_df['readmit_30d'] = (diabetic_df['readmitted'] == '<30')\n",
    "\n",
    "# diabetic_df['age_group'] = diabetic_df['age'].replace(\n",
    "#     ['[0-10)','[10-20)','[20-30)','[30-40)','[40-50)','[50-60)','[60-70)','[70-80)','[80-90)','[90-100)'],\n",
    "#     ['inf to adole','inf to adole','adult','adult','mid-age','mid-age','senior','senior','senior','senior'])\n",
    "diabetic_df['age_num'] = diabetic_df['age'].replace(\n",
    "    ['[0-10)','[10-20)','[20-30)','[30-40)','[40-50)','[50-60)','[60-70)','[70-80)','[80-90)','[90-100)'],\n",
    "    [0,10,20,30,40,50,60,70,80,90])"
   ]
  },
  {
   "cell_type": "code",
   "execution_count": 8,
   "metadata": {},
   "outputs": [],
   "source": [
    "diabetic_df['diag_1'] = diabetic_df['diag_1'].str.split('.', expand = True).drop(1, axis = 1)\n",
    "diabetic_df['diag_2'] = diabetic_df['diag_2'].str.split('.', expand = True).drop(1, axis = 1)\n",
    "diabetic_df['diag_3'] = diabetic_df['diag_3'].str.split('.', expand = True).drop(1, axis = 1)\n",
    "\n",
    "count_1 = diabetic_df['diag_1'].value_counts()\n",
    "index_1 = count_1[count_1>=500].index.tolist()\n",
    "\n",
    "count_2 = diabetic_df['diag_2'].value_counts()\n",
    "index_2 = count_2[count_2>=500].index.tolist()\n",
    "\n",
    "count_3 = diabetic_df['diag_3'].value_counts()\n",
    "index_3 = count_3[count_3>=500].index.tolist()\n",
    "\n",
    "diagnoses = set(index_1 + index_2 + index_3)\n",
    "\n",
    "for d in diagnoses:\n",
    "    diabetic_df[d+'_diag'] = ((diabetic_df['diag_1']==d)|\n",
    "                              (diabetic_df['diag_2']==d)|\n",
    "                              (diabetic_df['diag_3']==d))"
   ]
  },
  {
   "cell_type": "code",
   "execution_count": 9,
   "metadata": {},
   "outputs": [],
   "source": [
    "for col in ['metformin','repaglinide','glimepiride','glipizide', 'glyburide','pioglitazone',\n",
    "            'rosiglitazone','insulin']:\n",
    "    diabetic_df[col+'_used'] = np.where(diabetic_df[col]=='No', False, True)\n",
    "# 'nateglinide','glyburide-metformin' (close to 500)"
   ]
  },
  {
   "cell_type": "code",
   "execution_count": 10,
   "metadata": {},
   "outputs": [],
   "source": [
    "diabetic_df = diabetic_df.drop(['age',\n",
    "                                'diag_1','diag_2','diag_3',\n",
    "                                'metformin','repaglinide','nateglinide','chlorpropamide','glimepiride',\n",
    "                                'acetohexamide','glipizide','glyburide','tolbutamide','pioglitazone',\n",
    "                                'rosiglitazone','acarbose','miglitol','troglitazone','tolazamide','examide',\n",
    "                                'citoglipton','insulin','glyburide-metformin','glipizide-metformin',\n",
    "                                'glimepiride-pioglitazone','metformin-rosiglitazone','metformin-pioglitazone',\n",
    "                                'readmitted'],\n",
    "                                 axis = 1)\n",
    "#'max_glu_serum','A1Cresult'"
   ]
  },
  {
   "cell_type": "code",
   "execution_count": 11,
   "metadata": {},
   "outputs": [
    {
     "data": {
      "text/plain": [
       "(69970, 119)"
      ]
     },
     "execution_count": 11,
     "metadata": {},
     "output_type": "execute_result"
    }
   ],
   "source": [
    "diabetic_dum = pd.get_dummies(diabetic_df, drop_first = True)\n",
    "diabetic_dum.shape"
   ]
  },
  {
   "cell_type": "code",
   "execution_count": 12,
   "metadata": {},
   "outputs": [
    {
     "data": {
      "text/plain": [
       "(69970, 94)"
      ]
     },
     "execution_count": 12,
     "metadata": {},
     "output_type": "execute_result"
    }
   ],
   "source": [
    "# dropping variables with <500 minority classes\n",
    "descr = diabetic_dum.describe().T\n",
    "under_500 = descr[descr['mean'] <= (500/len(diabetic_dum))].index.tolist()\n",
    "under_500.remove('race_Asian')\n",
    "diabetic_final = diabetic_dum.drop(under_500, axis = 1)\n",
    "diabetic_final.shape"
   ]
  },
  {
   "cell_type": "markdown",
   "metadata": {},
   "source": [
    "train test split"
   ]
  },
  {
   "cell_type": "code",
   "execution_count": 13,
   "metadata": {},
   "outputs": [],
   "source": [
    "from sklearn.model_selection import cross_val_score, cross_val_predict, GridSearchCV, train_test_split"
   ]
  },
  {
   "cell_type": "code",
   "execution_count": 14,
   "metadata": {},
   "outputs": [],
   "source": [
    "features = diabetic_final.drop(['readmit_30d'], axis = 1)\n",
    "target = diabetic_final['readmit_30d']"
   ]
  },
  {
   "cell_type": "code",
   "execution_count": 15,
   "metadata": {},
   "outputs": [],
   "source": [
    "X_train, X_test, y_train, y_test = train_test_split(features, \n",
    "                                                    target, \n",
    "                                                    test_size=0.2,\n",
    "                                                    stratify = target,\n",
    "                                                    random_state = 42)"
   ]
  },
  {
   "cell_type": "code",
   "execution_count": 16,
   "metadata": {},
   "outputs": [
    {
     "name": "stdout",
     "output_type": "stream",
     "text": [
      "(101908, 93)\n",
      "(101908,)\n"
     ]
    }
   ],
   "source": [
    "from imblearn.over_sampling import SMOTE, RandomOverSampler\n",
    "from imblearn.under_sampling import TomekLinks, RandomUnderSampler, NearMiss\n",
    "\n",
    "# SMOTE doesn't provide close-to-true oversampling at k=319\n",
    "# smote = SMOTE(random_state = 42, k_neighbors=319)\n",
    "# X_train, y_train = smote.fit_sample(X_train, y_train)\n",
    "\n",
    "ros = RandomOverSampler(random_state = 42)\n",
    "X_train, y_train = ros.fit_sample(X_train, y_train)\n",
    "print(X_train.shape)\n",
    "print(y_train.shape)"
   ]
  },
  {
   "cell_type": "markdown",
   "metadata": {},
   "source": [
    "standardization"
   ]
  },
  {
   "cell_type": "code",
   "execution_count": 17,
   "metadata": {},
   "outputs": [],
   "source": [
    "from sklearn.preprocessing import StandardScaler"
   ]
  },
  {
   "cell_type": "code",
   "execution_count": 18,
   "metadata": {},
   "outputs": [],
   "source": [
    "scaler = StandardScaler().fit(X_train)\n",
    "X_train = scaler.transform(X_train)\n",
    "X_test = scaler.transform(X_test)"
   ]
  },
  {
   "cell_type": "markdown",
   "metadata": {},
   "source": [
    "checking VIF"
   ]
  },
  {
   "cell_type": "code",
   "execution_count": 19,
   "metadata": {
    "scrolled": true
   },
   "outputs": [],
   "source": [
    "# X_vif = pd.DataFrame(X_train, dtype=float)\n",
    "\n",
    "# from statsmodels.stats.outliers_influence import variance_inflation_factor \n",
    "# vif_data = pd.DataFrame() \n",
    "# vif_data[\"feature\"] = X_vif.columns\n",
    "# vif_data[\"VIF\"] = [variance_inflation_factor(X_vif.values, i) \n",
    "#                           for i in range(len(X_vif.columns))] \n",
    "# print(vif_data)"
   ]
  },
  {
   "cell_type": "markdown",
   "metadata": {},
   "source": [
    "### model testing"
   ]
  },
  {
   "cell_type": "markdown",
   "metadata": {},
   "source": [
    "logistic regression with no regularization"
   ]
  },
  {
   "cell_type": "code",
   "execution_count": 20,
   "metadata": {},
   "outputs": [],
   "source": [
    "from sklearn.linear_model import LogisticRegression, LogisticRegressionCV, SGDClassifier\n",
    "from sklearn.model_selection import GridSearchCV\n",
    "from sklearn.metrics import confusion_matrix, roc_auc_score"
   ]
  },
  {
   "cell_type": "code",
   "execution_count": 21,
   "metadata": {},
   "outputs": [
    {
     "data": {
      "text/plain": [
       "LogisticRegression(random_state=108, solver='liblinear')"
      ]
     },
     "execution_count": 21,
     "metadata": {},
     "output_type": "execute_result"
    }
   ],
   "source": [
    "# logistic regression with no regularization or tuning\n",
    "logit = LogisticRegression(solver='liblinear', random_state = 108)\n",
    "logit.fit(X_train, y_train)"
   ]
  },
  {
   "cell_type": "code",
   "execution_count": 22,
   "metadata": {
    "scrolled": true
   },
   "outputs": [
    {
     "name": "stdout",
     "output_type": "stream",
     "text": [
      "accuracy:\n",
      "0.6125524983318287\n",
      "0.656924396169787\n",
      "------------------------------------------------------------\n",
      "confusion matrix:\n",
      "[[34148 16806]\n",
      " [22678 28276]]\n",
      "[[8537 4202]\n",
      " [ 599  656]]\n",
      "------------------------------------------------------------\n",
      "AUC-ROC:\n",
      "0.6125524983318287\n",
      "0.5964279783292453\n"
     ]
    }
   ],
   "source": [
    "print('accuracy:')\n",
    "print(logit.score(X_train, y_train))\n",
    "print(logit.score(X_test, y_test))\n",
    "print('--'*30)\n",
    "y_train_pred = logit.predict(X_train)\n",
    "y_test_pred = logit.predict(X_test)\n",
    "print('confusion matrix:')\n",
    "print(confusion_matrix(y_train, y_train_pred))\n",
    "print(confusion_matrix(y_test, y_test_pred))\n",
    "print('--'*30)\n",
    "print('AUC-ROC:')\n",
    "print(roc_auc_score(y_train, y_train_pred))\n",
    "print(roc_auc_score(y_test, y_test_pred))"
   ]
  },
  {
   "cell_type": "markdown",
   "metadata": {},
   "source": [
    "logistic regression with CV"
   ]
  },
  {
   "cell_type": "code",
   "execution_count": 31,
   "metadata": {},
   "outputs": [
    {
     "name": "stdout",
     "output_type": "stream",
     "text": [
      "Fitting 10 folds for each of 200 candidates, totalling 2000 fits\n"
     ]
    },
    {
     "name": "stderr",
     "output_type": "stream",
     "text": [
      "[Parallel(n_jobs=-1)]: Using backend LokyBackend with 8 concurrent workers.\n",
      "[Parallel(n_jobs=-1)]: Done  34 tasks      | elapsed:   16.3s\n",
      "[Parallel(n_jobs=-1)]: Done 184 tasks      | elapsed:  1.6min\n",
      "[Parallel(n_jobs=-1)]: Done 434 tasks      | elapsed:  3.8min\n",
      "[Parallel(n_jobs=-1)]: Done 784 tasks      | elapsed:  8.3min\n",
      "[Parallel(n_jobs=-1)]: Done 1234 tasks      | elapsed: 12.5min\n",
      "[Parallel(n_jobs=-1)]: Done 1784 tasks      | elapsed: 17.2min\n",
      "[Parallel(n_jobs=-1)]: Done 2000 out of 2000 | elapsed: 18.9min finished\n"
     ]
    },
    {
     "name": "stdout",
     "output_type": "stream",
     "text": [
      "Wall time: 18min 58s\n",
      "{'C': 0.025306122448979593, 'class_weight': None, 'penalty': 'l1', 'random_state': 108, 'solver': 'liblinear'}\n",
      "LogisticRegression(C=0.025306122448979593, max_iter=1000, penalty='l1',\n",
      "                   random_state=108, solver='liblinear')\n",
      "------------------------------------------------------------\n",
      "accuracy:\n",
      "0.6124838089256976\n",
      "0.6604258968129199\n",
      "------------------------------------------------------------\n",
      "confusion matrix:\n",
      "[[34310 16644]\n",
      " [22847 28107]]\n",
      "[[8583 4156]\n",
      " [ 596  659]]\n",
      "------------------------------------------------------------\n",
      "AUC-ROC:\n",
      "0.6124838089256978\n",
      "0.59942867668974\n"
     ]
    }
   ],
   "source": [
    "logit = LogisticRegression(random_state = 108, max_iter = 1000)\n",
    "logit.fit(X_train, y_train)\n",
    "\n",
    "logit_grid_params = [{\n",
    "    'C': np.linspace(5e-3,1,50),\n",
    "    'penalty':['l1','l2'],\n",
    "    'solver': ['liblinear'],\n",
    "    'class_weight':[None,'balanced'],\n",
    "    'random_state':[108]\n",
    "}]\n",
    "\n",
    "grid_search_logit = GridSearchCV(logit, logit_grid_params, scoring='roc_auc', cv=10,\n",
    "                                 verbose = 1, n_jobs=-1)\n",
    "%time grid_search_logit.fit(X_train, y_train)\n",
    "\n",
    "print(grid_search_logit.best_params_)\n",
    "print(grid_search_logit.best_estimator_)\n",
    "print('--'*30)\n",
    "print('accuracy:')\n",
    "print(grid_search_logit.best_estimator_.score(X_train, y_train))\n",
    "print(grid_search_logit.best_estimator_.score(X_test, y_test))\n",
    "print('--'*30)\n",
    "y_train_pred = grid_search_logit.best_estimator_.predict(X_train)\n",
    "y_test_pred = grid_search_logit.best_estimator_.predict(X_test)\n",
    "print('confusion matrix:')\n",
    "print(confusion_matrix(y_train, y_train_pred))\n",
    "print(confusion_matrix(y_test, y_test_pred))\n",
    "print('--'*30)\n",
    "print('AUC-ROC:')\n",
    "print(roc_auc_score(y_train, y_train_pred))\n",
    "print(roc_auc_score(y_test, y_test_pred))"
   ]
  },
  {
   "cell_type": "code",
   "execution_count": 37,
   "metadata": {},
   "outputs": [
    {
     "name": "stdout",
     "output_type": "stream",
     "text": [
      "LogisticRegression(C=0.025306122448979593, max_iter=1000, penalty='l1',\n",
      "                   random_state=108, solver='liblinear')\n"
     ]
    }
   ],
   "source": [
    "print(grid_search_logit.best_estimator_)"
   ]
  },
  {
   "cell_type": "code",
   "execution_count": 36,
   "metadata": {
    "scrolled": false
   },
   "outputs": [
    {
     "data": {
      "text/html": [
       "<div>\n",
       "<style scoped>\n",
       "    .dataframe tbody tr th:only-of-type {\n",
       "        vertical-align: middle;\n",
       "    }\n",
       "\n",
       "    .dataframe tbody tr th {\n",
       "        vertical-align: top;\n",
       "    }\n",
       "\n",
       "    .dataframe thead th {\n",
       "        text-align: right;\n",
       "    }\n",
       "</style>\n",
       "<table border=\"1\" class=\"dataframe\">\n",
       "  <thead>\n",
       "    <tr style=\"text-align: right;\">\n",
       "      <th></th>\n",
       "      <th>features</th>\n",
       "      <th>coef</th>\n",
       "    </tr>\n",
       "  </thead>\n",
       "  <tbody>\n",
       "    <tr>\n",
       "      <th>73</th>\n",
       "      <td>discharge_disposition_id_22</td>\n",
       "      <td>0.264303</td>\n",
       "    </tr>\n",
       "    <tr>\n",
       "      <th>6</th>\n",
       "      <td>number_inpatient</td>\n",
       "      <td>0.260653</td>\n",
       "    </tr>\n",
       "    <tr>\n",
       "      <th>75</th>\n",
       "      <td>discharge_disposition_id_3</td>\n",
       "      <td>0.199311</td>\n",
       "    </tr>\n",
       "    <tr>\n",
       "      <th>77</th>\n",
       "      <td>discharge_disposition_id_5</td>\n",
       "      <td>0.169602</td>\n",
       "    </tr>\n",
       "    <tr>\n",
       "      <th>72</th>\n",
       "      <td>discharge_disposition_id_2</td>\n",
       "      <td>0.103426</td>\n",
       "    </tr>\n",
       "    <tr>\n",
       "      <th>71</th>\n",
       "      <td>discharge_disposition_id_18</td>\n",
       "      <td>0.097572</td>\n",
       "    </tr>\n",
       "    <tr>\n",
       "      <th>92</th>\n",
       "      <td>diabetesMed_Yes</td>\n",
       "      <td>0.096132</td>\n",
       "    </tr>\n",
       "    <tr>\n",
       "      <th>39</th>\n",
       "      <td>786_diag</td>\n",
       "      <td>-0.084026</td>\n",
       "    </tr>\n",
       "    <tr>\n",
       "      <th>20</th>\n",
       "      <td>403_diag</td>\n",
       "      <td>0.082585</td>\n",
       "    </tr>\n",
       "    <tr>\n",
       "      <th>5</th>\n",
       "      <td>number_emergency</td>\n",
       "      <td>0.078046</td>\n",
       "    </tr>\n",
       "    <tr>\n",
       "      <th>78</th>\n",
       "      <td>discharge_disposition_id_6</td>\n",
       "      <td>0.074074</td>\n",
       "    </tr>\n",
       "    <tr>\n",
       "      <th>7</th>\n",
       "      <td>number_diagnoses</td>\n",
       "      <td>0.071236</td>\n",
       "    </tr>\n",
       "    <tr>\n",
       "      <th>79</th>\n",
       "      <td>admission_source_id_17</td>\n",
       "      <td>-0.068127</td>\n",
       "    </tr>\n",
       "    <tr>\n",
       "      <th>8</th>\n",
       "      <td>age_num</td>\n",
       "      <td>0.065675</td>\n",
       "    </tr>\n",
       "    <tr>\n",
       "      <th>84</th>\n",
       "      <td>admission_source_id_7</td>\n",
       "      <td>-0.056965</td>\n",
       "    </tr>\n",
       "  </tbody>\n",
       "</table>\n",
       "</div>"
      ],
      "text/plain": [
       "                       features      coef\n",
       "73  discharge_disposition_id_22  0.264303\n",
       "6              number_inpatient  0.260653\n",
       "75   discharge_disposition_id_3  0.199311\n",
       "77   discharge_disposition_id_5  0.169602\n",
       "72   discharge_disposition_id_2  0.103426\n",
       "71  discharge_disposition_id_18  0.097572\n",
       "92              diabetesMed_Yes  0.096132\n",
       "39                     786_diag -0.084026\n",
       "20                     403_diag  0.082585\n",
       "5              number_emergency  0.078046\n",
       "78   discharge_disposition_id_6  0.074074\n",
       "7              number_diagnoses  0.071236\n",
       "79       admission_source_id_17 -0.068127\n",
       "8                       age_num  0.065675\n",
       "84        admission_source_id_7 -0.056965"
      ]
     },
     "execution_count": 36,
     "metadata": {},
     "output_type": "execute_result"
    }
   ],
   "source": [
    "cv_coefs = pd.DataFrame({'features': features.columns,\n",
    "                         'coef': grid_search_logit.best_estimator_.coef_[0]}).\\\n",
    "sort_values('coef', ascending = False)\n",
    "cv_coefs['abs. coef'] = np.abs(cv_coefs['coef'])\n",
    "cv_coefs.sort_values(['abs. coef'], ascending = False).iloc[:,0:2].head(15)"
   ]
  },
  {
   "cell_type": "code",
   "execution_count": 30,
   "metadata": {},
   "outputs": [
    {
     "name": "stdout",
     "output_type": "stream",
     "text": [
      "88\n"
     ]
    },
    {
     "data": {
      "text/html": [
       "<div>\n",
       "<style scoped>\n",
       "    .dataframe tbody tr th:only-of-type {\n",
       "        vertical-align: middle;\n",
       "    }\n",
       "\n",
       "    .dataframe tbody tr th {\n",
       "        vertical-align: top;\n",
       "    }\n",
       "\n",
       "    .dataframe thead th {\n",
       "        text-align: right;\n",
       "    }\n",
       "</style>\n",
       "<table border=\"1\" class=\"dataframe\">\n",
       "  <thead>\n",
       "    <tr style=\"text-align: right;\">\n",
       "      <th></th>\n",
       "      <th>features</th>\n",
       "      <th>coef</th>\n",
       "    </tr>\n",
       "  </thead>\n",
       "  <tbody>\n",
       "    <tr>\n",
       "      <th>73</th>\n",
       "      <td>discharge_disposition_id_22</td>\n",
       "      <td>0.265281</td>\n",
       "    </tr>\n",
       "    <tr>\n",
       "      <th>6</th>\n",
       "      <td>number_inpatient</td>\n",
       "      <td>0.261026</td>\n",
       "    </tr>\n",
       "    <tr>\n",
       "      <th>75</th>\n",
       "      <td>discharge_disposition_id_3</td>\n",
       "      <td>0.200323</td>\n",
       "    </tr>\n",
       "    <tr>\n",
       "      <th>77</th>\n",
       "      <td>discharge_disposition_id_5</td>\n",
       "      <td>0.170518</td>\n",
       "    </tr>\n",
       "    <tr>\n",
       "      <th>72</th>\n",
       "      <td>discharge_disposition_id_2</td>\n",
       "      <td>0.104090</td>\n",
       "    </tr>\n",
       "    <tr>\n",
       "      <th>71</th>\n",
       "      <td>discharge_disposition_id_18</td>\n",
       "      <td>0.098634</td>\n",
       "    </tr>\n",
       "    <tr>\n",
       "      <th>92</th>\n",
       "      <td>diabetesMed_Yes</td>\n",
       "      <td>0.097055</td>\n",
       "    </tr>\n",
       "    <tr>\n",
       "      <th>20</th>\n",
       "      <td>403_diag</td>\n",
       "      <td>0.082926</td>\n",
       "    </tr>\n",
       "    <tr>\n",
       "      <th>5</th>\n",
       "      <td>number_emergency</td>\n",
       "      <td>0.078775</td>\n",
       "    </tr>\n",
       "    <tr>\n",
       "      <th>78</th>\n",
       "      <td>discharge_disposition_id_6</td>\n",
       "      <td>0.074870</td>\n",
       "    </tr>\n",
       "    <tr>\n",
       "      <th>7</th>\n",
       "      <td>number_diagnoses</td>\n",
       "      <td>0.071893</td>\n",
       "    </tr>\n",
       "    <tr>\n",
       "      <th>8</th>\n",
       "      <td>age_num</td>\n",
       "      <td>0.066259</td>\n",
       "    </tr>\n",
       "    <tr>\n",
       "      <th>25</th>\n",
       "      <td>434_diag</td>\n",
       "      <td>0.054890</td>\n",
       "    </tr>\n",
       "    <tr>\n",
       "      <th>29</th>\n",
       "      <td>707_diag</td>\n",
       "      <td>0.051465</td>\n",
       "    </tr>\n",
       "    <tr>\n",
       "      <th>0</th>\n",
       "      <td>time_in_hospital</td>\n",
       "      <td>0.049080</td>\n",
       "    </tr>\n",
       "    <tr>\n",
       "      <th>19</th>\n",
       "      <td>440_diag</td>\n",
       "      <td>0.047899</td>\n",
       "    </tr>\n",
       "    <tr>\n",
       "      <th>70</th>\n",
       "      <td>admission_type_id_6</td>\n",
       "      <td>0.046281</td>\n",
       "    </tr>\n",
       "    <tr>\n",
       "      <th>76</th>\n",
       "      <td>discharge_disposition_id_4</td>\n",
       "      <td>0.045815</td>\n",
       "    </tr>\n",
       "    <tr>\n",
       "      <th>51</th>\n",
       "      <td>428_diag</td>\n",
       "      <td>0.045045</td>\n",
       "    </tr>\n",
       "    <tr>\n",
       "      <th>89</th>\n",
       "      <td>A1Cresult_None</td>\n",
       "      <td>0.043180</td>\n",
       "    </tr>\n",
       "    <tr>\n",
       "      <th>1</th>\n",
       "      <td>num_lab_procedures</td>\n",
       "      <td>0.034794</td>\n",
       "    </tr>\n",
       "    <tr>\n",
       "      <th>17</th>\n",
       "      <td>250_diag</td>\n",
       "      <td>0.026904</td>\n",
       "    </tr>\n",
       "    <tr>\n",
       "      <th>55</th>\n",
       "      <td>repaglinide_used</td>\n",
       "      <td>0.023479</td>\n",
       "    </tr>\n",
       "    <tr>\n",
       "      <th>40</th>\n",
       "      <td>577_diag</td>\n",
       "      <td>0.023135</td>\n",
       "    </tr>\n",
       "    <tr>\n",
       "      <th>46</th>\n",
       "      <td>296_diag</td>\n",
       "      <td>0.020518</td>\n",
       "    </tr>\n",
       "    <tr>\n",
       "      <th>57</th>\n",
       "      <td>glipizide_used</td>\n",
       "      <td>0.020301</td>\n",
       "    </tr>\n",
       "    <tr>\n",
       "      <th>66</th>\n",
       "      <td>gender_Male</td>\n",
       "      <td>0.016822</td>\n",
       "    </tr>\n",
       "    <tr>\n",
       "      <th>47</th>\n",
       "      <td>496_diag</td>\n",
       "      <td>0.012964</td>\n",
       "    </tr>\n",
       "    <tr>\n",
       "      <th>2</th>\n",
       "      <td>num_procedures</td>\n",
       "      <td>0.011355</td>\n",
       "    </tr>\n",
       "    <tr>\n",
       "      <th>23</th>\n",
       "      <td>425_diag</td>\n",
       "      <td>0.009962</td>\n",
       "    </tr>\n",
       "    <tr>\n",
       "      <th>34</th>\n",
       "      <td>562_diag</td>\n",
       "      <td>0.009030</td>\n",
       "    </tr>\n",
       "    <tr>\n",
       "      <th>9</th>\n",
       "      <td>411_diag</td>\n",
       "      <td>0.006614</td>\n",
       "    </tr>\n",
       "    <tr>\n",
       "      <th>16</th>\n",
       "      <td>996_diag</td>\n",
       "      <td>0.006243</td>\n",
       "    </tr>\n",
       "    <tr>\n",
       "      <th>60</th>\n",
       "      <td>rosiglitazone_used</td>\n",
       "      <td>0.006186</td>\n",
       "    </tr>\n",
       "    <tr>\n",
       "      <th>90</th>\n",
       "      <td>A1Cresult_Norm</td>\n",
       "      <td>0.004653</td>\n",
       "    </tr>\n",
       "    <tr>\n",
       "      <th>4</th>\n",
       "      <td>number_outpatient</td>\n",
       "      <td>0.002961</td>\n",
       "    </tr>\n",
       "    <tr>\n",
       "      <th>28</th>\n",
       "      <td>410_diag</td>\n",
       "      <td>0.002754</td>\n",
       "    </tr>\n",
       "    <tr>\n",
       "      <th>69</th>\n",
       "      <td>admission_type_id_5</td>\n",
       "      <td>0.002726</td>\n",
       "    </tr>\n",
       "    <tr>\n",
       "      <th>61</th>\n",
       "      <td>insulin_used</td>\n",
       "      <td>0.001229</td>\n",
       "    </tr>\n",
       "    <tr>\n",
       "      <th>35</th>\n",
       "      <td>560_diag</td>\n",
       "      <td>0.000449</td>\n",
       "    </tr>\n",
       "    <tr>\n",
       "      <th>88</th>\n",
       "      <td>A1Cresult_&gt;8</td>\n",
       "      <td>-0.000478</td>\n",
       "    </tr>\n",
       "    <tr>\n",
       "      <th>62</th>\n",
       "      <td>race_Asian</td>\n",
       "      <td>-0.001286</td>\n",
       "    </tr>\n",
       "    <tr>\n",
       "      <th>44</th>\n",
       "      <td>584_diag</td>\n",
       "      <td>-0.001767</td>\n",
       "    </tr>\n",
       "    <tr>\n",
       "      <th>63</th>\n",
       "      <td>race_Caucasian</td>\n",
       "      <td>-0.002663</td>\n",
       "    </tr>\n",
       "    <tr>\n",
       "      <th>41</th>\n",
       "      <td>V57_diag</td>\n",
       "      <td>-0.004899</td>\n",
       "    </tr>\n",
       "    <tr>\n",
       "      <th>11</th>\n",
       "      <td>433_diag</td>\n",
       "      <td>-0.006830</td>\n",
       "    </tr>\n",
       "    <tr>\n",
       "      <th>31</th>\n",
       "      <td>276_diag</td>\n",
       "      <td>-0.006932</td>\n",
       "    </tr>\n",
       "    <tr>\n",
       "      <th>56</th>\n",
       "      <td>glimepiride_used</td>\n",
       "      <td>-0.007962</td>\n",
       "    </tr>\n",
       "    <tr>\n",
       "      <th>22</th>\n",
       "      <td>585_diag</td>\n",
       "      <td>-0.009917</td>\n",
       "    </tr>\n",
       "    <tr>\n",
       "      <th>58</th>\n",
       "      <td>glyburide_used</td>\n",
       "      <td>-0.010821</td>\n",
       "    </tr>\n",
       "    <tr>\n",
       "      <th>43</th>\n",
       "      <td>424_diag</td>\n",
       "      <td>-0.010881</td>\n",
       "    </tr>\n",
       "    <tr>\n",
       "      <th>33</th>\n",
       "      <td>427_diag</td>\n",
       "      <td>-0.013379</td>\n",
       "    </tr>\n",
       "    <tr>\n",
       "      <th>67</th>\n",
       "      <td>admission_type_id_2</td>\n",
       "      <td>-0.013536</td>\n",
       "    </tr>\n",
       "    <tr>\n",
       "      <th>91</th>\n",
       "      <td>change_No</td>\n",
       "      <td>-0.016273</td>\n",
       "    </tr>\n",
       "    <tr>\n",
       "      <th>64</th>\n",
       "      <td>race_Hispanic</td>\n",
       "      <td>-0.016420</td>\n",
       "    </tr>\n",
       "    <tr>\n",
       "      <th>38</th>\n",
       "      <td>V45_diag</td>\n",
       "      <td>-0.017051</td>\n",
       "    </tr>\n",
       "    <tr>\n",
       "      <th>30</th>\n",
       "      <td>414_diag</td>\n",
       "      <td>-0.018004</td>\n",
       "    </tr>\n",
       "    <tr>\n",
       "      <th>10</th>\n",
       "      <td>493_diag</td>\n",
       "      <td>-0.018389</td>\n",
       "    </tr>\n",
       "    <tr>\n",
       "      <th>65</th>\n",
       "      <td>race_Other</td>\n",
       "      <td>-0.020087</td>\n",
       "    </tr>\n",
       "    <tr>\n",
       "      <th>32</th>\n",
       "      <td>305_diag</td>\n",
       "      <td>-0.020835</td>\n",
       "    </tr>\n",
       "    <tr>\n",
       "      <th>52</th>\n",
       "      <td>41_diag</td>\n",
       "      <td>-0.021511</td>\n",
       "    </tr>\n",
       "    <tr>\n",
       "      <th>48</th>\n",
       "      <td>413_diag</td>\n",
       "      <td>-0.022465</td>\n",
       "    </tr>\n",
       "    <tr>\n",
       "      <th>83</th>\n",
       "      <td>admission_source_id_6</td>\n",
       "      <td>-0.022790</td>\n",
       "    </tr>\n",
       "    <tr>\n",
       "      <th>49</th>\n",
       "      <td>518_diag</td>\n",
       "      <td>-0.024309</td>\n",
       "    </tr>\n",
       "    <tr>\n",
       "      <th>24</th>\n",
       "      <td>278_diag</td>\n",
       "      <td>-0.025367</td>\n",
       "    </tr>\n",
       "    <tr>\n",
       "      <th>37</th>\n",
       "      <td>285_diag</td>\n",
       "      <td>-0.026359</td>\n",
       "    </tr>\n",
       "    <tr>\n",
       "      <th>80</th>\n",
       "      <td>admission_source_id_2</td>\n",
       "      <td>-0.027406</td>\n",
       "    </tr>\n",
       "    <tr>\n",
       "      <th>14</th>\n",
       "      <td>38_diag</td>\n",
       "      <td>-0.028070</td>\n",
       "    </tr>\n",
       "    <tr>\n",
       "      <th>53</th>\n",
       "      <td>599_diag</td>\n",
       "      <td>-0.028792</td>\n",
       "    </tr>\n",
       "    <tr>\n",
       "      <th>15</th>\n",
       "      <td>435_diag</td>\n",
       "      <td>-0.028959</td>\n",
       "    </tr>\n",
       "    <tr>\n",
       "      <th>59</th>\n",
       "      <td>pioglitazone_used</td>\n",
       "      <td>-0.031568</td>\n",
       "    </tr>\n",
       "    <tr>\n",
       "      <th>12</th>\n",
       "      <td>574_diag</td>\n",
       "      <td>-0.032723</td>\n",
       "    </tr>\n",
       "    <tr>\n",
       "      <th>45</th>\n",
       "      <td>780_diag</td>\n",
       "      <td>-0.032782</td>\n",
       "    </tr>\n",
       "    <tr>\n",
       "      <th>26</th>\n",
       "      <td>682_diag</td>\n",
       "      <td>-0.036763</td>\n",
       "    </tr>\n",
       "    <tr>\n",
       "      <th>54</th>\n",
       "      <td>metformin_used</td>\n",
       "      <td>-0.037548</td>\n",
       "    </tr>\n",
       "    <tr>\n",
       "      <th>50</th>\n",
       "      <td>486_diag</td>\n",
       "      <td>-0.039883</td>\n",
       "    </tr>\n",
       "    <tr>\n",
       "      <th>42</th>\n",
       "      <td>272_diag</td>\n",
       "      <td>-0.040410</td>\n",
       "    </tr>\n",
       "    <tr>\n",
       "      <th>13</th>\n",
       "      <td>715_diag</td>\n",
       "      <td>-0.040792</td>\n",
       "    </tr>\n",
       "    <tr>\n",
       "      <th>74</th>\n",
       "      <td>discharge_disposition_id_25</td>\n",
       "      <td>-0.040986</td>\n",
       "    </tr>\n",
       "    <tr>\n",
       "      <th>82</th>\n",
       "      <td>admission_source_id_5</td>\n",
       "      <td>-0.042214</td>\n",
       "    </tr>\n",
       "    <tr>\n",
       "      <th>36</th>\n",
       "      <td>401_diag</td>\n",
       "      <td>-0.043371</td>\n",
       "    </tr>\n",
       "    <tr>\n",
       "      <th>86</th>\n",
       "      <td>max_glu_serum_None</td>\n",
       "      <td>-0.043402</td>\n",
       "    </tr>\n",
       "    <tr>\n",
       "      <th>81</th>\n",
       "      <td>admission_source_id_4</td>\n",
       "      <td>-0.049169</td>\n",
       "    </tr>\n",
       "    <tr>\n",
       "      <th>18</th>\n",
       "      <td>722_diag</td>\n",
       "      <td>-0.053651</td>\n",
       "    </tr>\n",
       "    <tr>\n",
       "      <th>68</th>\n",
       "      <td>admission_type_id_3</td>\n",
       "      <td>-0.056412</td>\n",
       "    </tr>\n",
       "    <tr>\n",
       "      <th>84</th>\n",
       "      <td>admission_source_id_7</td>\n",
       "      <td>-0.061386</td>\n",
       "    </tr>\n",
       "    <tr>\n",
       "      <th>79</th>\n",
       "      <td>admission_source_id_17</td>\n",
       "      <td>-0.071836</td>\n",
       "    </tr>\n",
       "    <tr>\n",
       "      <th>39</th>\n",
       "      <td>786_diag</td>\n",
       "      <td>-0.084424</td>\n",
       "    </tr>\n",
       "  </tbody>\n",
       "</table>\n",
       "</div>"
      ],
      "text/plain": [
       "                       features      coef\n",
       "73  discharge_disposition_id_22  0.265281\n",
       "6              number_inpatient  0.261026\n",
       "75   discharge_disposition_id_3  0.200323\n",
       "77   discharge_disposition_id_5  0.170518\n",
       "72   discharge_disposition_id_2  0.104090\n",
       "71  discharge_disposition_id_18  0.098634\n",
       "92              diabetesMed_Yes  0.097055\n",
       "20                     403_diag  0.082926\n",
       "5              number_emergency  0.078775\n",
       "78   discharge_disposition_id_6  0.074870\n",
       "7              number_diagnoses  0.071893\n",
       "8                       age_num  0.066259\n",
       "25                     434_diag  0.054890\n",
       "29                     707_diag  0.051465\n",
       "0              time_in_hospital  0.049080\n",
       "19                     440_diag  0.047899\n",
       "70          admission_type_id_6  0.046281\n",
       "76   discharge_disposition_id_4  0.045815\n",
       "51                     428_diag  0.045045\n",
       "89               A1Cresult_None  0.043180\n",
       "1            num_lab_procedures  0.034794\n",
       "17                     250_diag  0.026904\n",
       "55             repaglinide_used  0.023479\n",
       "40                     577_diag  0.023135\n",
       "46                     296_diag  0.020518\n",
       "57               glipizide_used  0.020301\n",
       "66                  gender_Male  0.016822\n",
       "47                     496_diag  0.012964\n",
       "2                num_procedures  0.011355\n",
       "23                     425_diag  0.009962\n",
       "34                     562_diag  0.009030\n",
       "9                      411_diag  0.006614\n",
       "16                     996_diag  0.006243\n",
       "60           rosiglitazone_used  0.006186\n",
       "90               A1Cresult_Norm  0.004653\n",
       "4             number_outpatient  0.002961\n",
       "28                     410_diag  0.002754\n",
       "69          admission_type_id_5  0.002726\n",
       "61                 insulin_used  0.001229\n",
       "35                     560_diag  0.000449\n",
       "88                 A1Cresult_>8 -0.000478\n",
       "62                   race_Asian -0.001286\n",
       "44                     584_diag -0.001767\n",
       "63               race_Caucasian -0.002663\n",
       "41                     V57_diag -0.004899\n",
       "11                     433_diag -0.006830\n",
       "31                     276_diag -0.006932\n",
       "56             glimepiride_used -0.007962\n",
       "22                     585_diag -0.009917\n",
       "58               glyburide_used -0.010821\n",
       "43                     424_diag -0.010881\n",
       "33                     427_diag -0.013379\n",
       "67          admission_type_id_2 -0.013536\n",
       "91                    change_No -0.016273\n",
       "64                race_Hispanic -0.016420\n",
       "38                     V45_diag -0.017051\n",
       "30                     414_diag -0.018004\n",
       "10                     493_diag -0.018389\n",
       "65                   race_Other -0.020087\n",
       "32                     305_diag -0.020835\n",
       "52                      41_diag -0.021511\n",
       "48                     413_diag -0.022465\n",
       "83        admission_source_id_6 -0.022790\n",
       "49                     518_diag -0.024309\n",
       "24                     278_diag -0.025367\n",
       "37                     285_diag -0.026359\n",
       "80        admission_source_id_2 -0.027406\n",
       "14                      38_diag -0.028070\n",
       "53                     599_diag -0.028792\n",
       "15                     435_diag -0.028959\n",
       "59            pioglitazone_used -0.031568\n",
       "12                     574_diag -0.032723\n",
       "45                     780_diag -0.032782\n",
       "26                     682_diag -0.036763\n",
       "54               metformin_used -0.037548\n",
       "50                     486_diag -0.039883\n",
       "42                     272_diag -0.040410\n",
       "13                     715_diag -0.040792\n",
       "74  discharge_disposition_id_25 -0.040986\n",
       "82        admission_source_id_5 -0.042214\n",
       "36                     401_diag -0.043371\n",
       "86           max_glu_serum_None -0.043402\n",
       "81        admission_source_id_4 -0.049169\n",
       "18                     722_diag -0.053651\n",
       "68          admission_type_id_3 -0.056412\n",
       "84        admission_source_id_7 -0.061386\n",
       "79       admission_source_id_17 -0.071836\n",
       "39                     786_diag -0.084424"
      ]
     },
     "execution_count": 30,
     "metadata": {},
     "output_type": "execute_result"
    }
   ],
   "source": [
    "print(len(cv_coefs[cv_coefs['coef']!=0]))\n",
    "cv_coefs[cv_coefs['coef']!=0]"
   ]
  },
  {
   "cell_type": "code",
   "execution_count": null,
   "metadata": {},
   "outputs": [],
   "source": [
    "# from sklearn import metrics\n",
    "# sorted(metrics.SCORERS.keys())"
   ]
  },
  {
   "cell_type": "markdown",
   "metadata": {},
   "source": [
    "logistic regression with lasso"
   ]
  },
  {
   "cell_type": "code",
   "execution_count": null,
   "metadata": {},
   "outputs": [],
   "source": [
    "logit_l1 = LogisticRegression(solver='liblinear', class_weight = 'balanced', penalty = 'l1', random_state = 108)\n",
    "logit_l1"
   ]
  },
  {
   "cell_type": "code",
   "execution_count": null,
   "metadata": {},
   "outputs": [],
   "source": [
    "# logistic regression lasso CV\n",
    "logit_l1_cv = LogisticRegressionCV(Cs = np.linspace(1e-3, 0.3, 50), cv = 3, penalty = 'l1',\n",
    "                                scoring = 'roc_auc', solver='liblinear', random_state = 108)\n",
    "logit_l1_cv.fit(X_train, y_train)\n",
    "\n",
    "# best C\n",
    "logit_l1_cv.C_"
   ]
  },
  {
   "cell_type": "code",
   "execution_count": null,
   "metadata": {},
   "outputs": [],
   "source": [
    "logit_l1_best = LogisticRegression(C = logit_l1_cv.C_[0], solver='liblinear',\n",
    "                                   penalty = 'l1', random_state = 108)\n",
    "logit_l1_best.fit(X_train, y_train)\n",
    "\n",
    "print(grid_search_logit.best_params_)\n",
    "print(grid_search_logit.best_estimator_)\n",
    "print('--'*30)\n",
    "print('accuracy:')\n",
    "print(logit_l1_best.score(X_train, y_train))\n",
    "print(logit_l1_best.score(X_test, y_test))\n",
    "print('--'*30)\n",
    "y_train_pred = logit_l1_best.predict(X_train)\n",
    "y_test_pred = logit_l1_best.predict(X_test)\n",
    "print('confusion matrix:')\n",
    "print(confusion_matrix(y_train, y_train_pred))\n",
    "print(confusion_matrix(y_test, y_test_pred))\n",
    "print('--'*30)\n",
    "print('AUC-ROC:')\n",
    "print(roc_auc_score(y_train, y_train_pred))\n",
    "print(roc_auc_score(y_test, y_test_pred))"
   ]
  },
  {
   "cell_type": "code",
   "execution_count": null,
   "metadata": {
    "scrolled": true
   },
   "outputs": [],
   "source": [
    "lasso_cv_coefs = pd.DataFrame({'features': X_train.columns,\n",
    "                               'coef': logit_l1_cv.coef_[0]}).sort_values('coef', ascending = False)\n",
    "\n",
    "# non-zero coefficients\n",
    "print(len(lasso_cv_coefs[lasso_cv_coefs['coef']!=0]))\n",
    "lasso_cv_coefs[lasso_cv_coefs['coef']!=0]"
   ]
  },
  {
   "cell_type": "markdown",
   "metadata": {},
   "source": [
    "logistic and let CV decide all parameters"
   ]
  },
  {
   "cell_type": "code",
   "execution_count": null,
   "metadata": {},
   "outputs": [],
   "source": [
    "logit = LogisticRegression(solver='liblinear', class_weight = 'balanced', random_state = 108, )\n",
    "logit"
   ]
  },
  {
   "cell_type": "code",
   "execution_count": null,
   "metadata": {},
   "outputs": [],
   "source": [
    "# logicstic regression CV\n",
    "logit_cv = LogisticRegressionCV(Cs = np.linspace(1e-4, 0.1, 20), \n",
    "                                cv = 3, class_weight = 'balanced',\n",
    "                                penalty = ['l1','l2'],\n",
    "                                scoring = 'roc_auc',\n",
    "                                solver='liblinear',\n",
    "                                random_state = 108)\n",
    "logit_cv.fit(X_train, y_train)\n",
    "\n",
    "# best C\n",
    "logit_cv.C_"
   ]
  },
  {
   "cell_type": "markdown",
   "metadata": {},
   "source": [
    "SGD"
   ]
  },
  {
   "cell_type": "code",
   "execution_count": null,
   "metadata": {},
   "outputs": [],
   "source": [
    "sgd = SGDClassifier(class_weight = 'balanced', random_state = 108)\n",
    "sgd"
   ]
  },
  {
   "cell_type": "code",
   "execution_count": null,
   "metadata": {},
   "outputs": [],
   "source": [
    "# SGD CV\n",
    "SGD_grid_params = [{\n",
    "    'class_weight':['balanced'],\n",
    "    'learning_rate':['optimal'],\n",
    "    'alpha': np.linspace(0.001, 0.01, 30),\n",
    "    'random_state': [108]}]\n",
    "grid_search_SGD = GridSearchCV(sgd, SGD_grid_params, scoring='roc_auc', cv=3, n_jobs=-1)\n",
    "%time grid_search_SGD.fit(X_train, y_train)"
   ]
  },
  {
   "cell_type": "code",
   "execution_count": null,
   "metadata": {},
   "outputs": [],
   "source": [
    "grid_search_SGD.best_params_"
   ]
  },
  {
   "cell_type": "code",
   "execution_count": null,
   "metadata": {},
   "outputs": [],
   "source": [
    "sgd_best = SGDClassifier(alpha = grid_search_SGD.best_params_['alpha'], class_weight = 'balanced', \n",
    "                         random_state = 108)\n",
    "sgd_best.fit(X_train, y_train)"
   ]
  },
  {
   "cell_type": "code",
   "execution_count": null,
   "metadata": {},
   "outputs": [],
   "source": [
    "print('accuracy')\n",
    "print(sgd_best.score(X_train, y_train))\n",
    "print(sgd_best.score(X_test, y_test))\n",
    "\n",
    "print('--'*30)\n",
    "y_train_pred = sgd_best.predict(X_train)\n",
    "y_test_pred = sgd_best.predict(X_test)\n",
    "\n",
    "print('confusion matrix')\n",
    "print(confusion_matrix(y_train, y_train_pred))\n",
    "print(confusion_matrix(y_test, y_test_pred))\n",
    "\n",
    "print('--'*30)\n",
    "print('AUC-ROC')\n",
    "print(roc_auc_score(y_train, y_train_pred))\n",
    "print(roc_auc_score(y_test, y_test_pred))"
   ]
  },
  {
   "cell_type": "code",
   "execution_count": null,
   "metadata": {},
   "outputs": [],
   "source": []
  }
 ],
 "metadata": {
  "kernelspec": {
   "display_name": "Python 3",
   "language": "python",
   "name": "python3"
  },
  "language_info": {
   "codemirror_mode": {
    "name": "ipython",
    "version": 3
   },
   "file_extension": ".py",
   "mimetype": "text/x-python",
   "name": "python",
   "nbconvert_exporter": "python",
   "pygments_lexer": "ipython3",
   "version": "3.7.6"
  }
 },
 "nbformat": 4,
 "nbformat_minor": 4
}
