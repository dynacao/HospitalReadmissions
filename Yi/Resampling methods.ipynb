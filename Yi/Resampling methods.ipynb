{
 "cells": [
  {
   "cell_type": "markdown",
   "metadata": {},
   "source": [
    "### data prepping"
   ]
  },
  {
   "cell_type": "code",
   "execution_count": 1,
   "metadata": {},
   "outputs": [],
   "source": [
    "import pandas as pd\n",
    "import numpy as np"
   ]
  },
  {
   "cell_type": "code",
   "execution_count": 2,
   "metadata": {},
   "outputs": [],
   "source": [
    "pd.set_option('display.max_columns', None)\n",
    "pd.set_option('display.max_rows', None)"
   ]
  },
  {
   "cell_type": "code",
   "execution_count": 3,
   "metadata": {},
   "outputs": [],
   "source": [
    "diabetic = pd.read_csv('../../data/diabetic_data_initial.csv')"
   ]
  },
  {
   "cell_type": "code",
   "execution_count": 4,
   "metadata": {},
   "outputs": [],
   "source": [
    "diabetic_df = diabetic.replace('?', np.nan)\n",
    "\n",
    "diabetic_df = diabetic_df.sort_values('encounter_id')\n",
    "diabetic_df.drop_duplicates(subset = ['patient_nbr'], keep = 'first', inplace = True)\n",
    "\n",
    "diabetic_df = diabetic_df[~diabetic_df['discharge_disposition_id'].isin([11,13,14,19,20,21])]\n",
    "diabetic_df.drop(diabetic_df.loc[diabetic_df.gender=='Unknown/Invalid'].index, inplace=True)\n",
    "\n",
    "diabetic_df.drop(['encounter_id','patient_nbr','weight','medical_specialty','payer_code'],\\\n",
    "                 axis = 1, inplace = True)\n",
    "\n",
    "diabetic_df['admission_type_id'] = diabetic_df['admission_type_id'].astype('str')\n",
    "diabetic_df['admission_source_id'] = diabetic_df['admission_source_id'].astype('str')\n",
    "diabetic_df['discharge_disposition_id'] = diabetic_df['discharge_disposition_id'].astype('str')"
   ]
  },
  {
   "cell_type": "code",
   "execution_count": 5,
   "metadata": {
    "scrolled": false
   },
   "outputs": [
    {
     "data": {
      "text/plain": [
       "(69970, 45)"
      ]
     },
     "execution_count": 5,
     "metadata": {},
     "output_type": "execute_result"
    }
   ],
   "source": [
    "diabetic_df.shape"
   ]
  },
  {
   "cell_type": "code",
   "execution_count": 6,
   "metadata": {},
   "outputs": [],
   "source": [
    "diabetic_df['readmit_30d'] = (diabetic_df['readmitted'] == '<30')\n",
    "diabetic_df['age_num'] = diabetic_df['age'].replace(\n",
    "    ['[0-10)','[10-20)','[20-30)','[30-40)','[40-50)','[50-60)','[60-70)','[70-80)','[80-90)','[90-100)'],\n",
    "    [0,10,20,30,40,50,60,70,80,90])"
   ]
  },
  {
   "cell_type": "code",
   "execution_count": 7,
   "metadata": {},
   "outputs": [],
   "source": [
    "diabetic_df['diag_1'] = diabetic_df['diag_1'].str.split('.', expand = True).drop(1, axis = 1)\n",
    "diabetic_df['diag_2'] = diabetic_df['diag_2'].str.split('.', expand = True).drop(1, axis = 1)\n",
    "diabetic_df['diag_3'] = diabetic_df['diag_3'].str.split('.', expand = True).drop(1, axis = 1)\n",
    "\n",
    "count_1 = diabetic_df['diag_1'].value_counts()\n",
    "index_1 = count_1[count_1>=500].index.tolist()\n",
    "count_2 = diabetic_df['diag_2'].value_counts()\n",
    "index_2 = count_2[count_2>=500].index.tolist()\n",
    "count_3 = diabetic_df['diag_3'].value_counts()\n",
    "index_3 = count_3[count_3>=500].index.tolist()\n",
    "diagnoses = set(index_1 + index_2 + index_3)\n",
    "\n",
    "for d in diagnoses:\n",
    "    diabetic_df[d+'_diag'] = ((diabetic_df['diag_1']==d)|\n",
    "                              (diabetic_df['diag_2']==d)|\n",
    "                              (diabetic_df['diag_3']==d))"
   ]
  },
  {
   "cell_type": "code",
   "execution_count": 8,
   "metadata": {},
   "outputs": [],
   "source": [
    "for col in ['metformin','repaglinide','glimepiride','glipizide', 'glyburide','pioglitazone',\n",
    "            'rosiglitazone','insulin']:\n",
    "    diabetic_df[col+'_used'] = np.where(diabetic_df[col]=='No', False, True)\n",
    "# 'nateglinide','glyburide-metformin' (close to 500)"
   ]
  },
  {
   "cell_type": "code",
   "execution_count": 9,
   "metadata": {},
   "outputs": [],
   "source": [
    "diabetic_df = diabetic_df.drop(['age',\n",
    "                                'diag_1','diag_2','diag_3',\n",
    "                                'metformin','repaglinide','nateglinide','chlorpropamide','glimepiride',\n",
    "                                'acetohexamide','glipizide','glyburide','tolbutamide','pioglitazone',\n",
    "                                'rosiglitazone','acarbose','miglitol','troglitazone','tolazamide','examide',\n",
    "                                'citoglipton','insulin','glyburide-metformin','glipizide-metformin',\n",
    "                                'glimepiride-pioglitazone','metformin-rosiglitazone','metformin-pioglitazone',\n",
    "                                'readmitted'],\n",
    "                                 axis = 1)\n",
    "#'max_glu_serum','A1Cresult'"
   ]
  },
  {
   "cell_type": "code",
   "execution_count": 10,
   "metadata": {},
   "outputs": [
    {
     "data": {
      "text/plain": [
       "(69970, 119)"
      ]
     },
     "execution_count": 10,
     "metadata": {},
     "output_type": "execute_result"
    }
   ],
   "source": [
    "diabetic_dum = pd.get_dummies(diabetic_df, drop_first = True)\n",
    "diabetic_dum.shape"
   ]
  },
  {
   "cell_type": "code",
   "execution_count": 11,
   "metadata": {},
   "outputs": [
    {
     "data": {
      "text/plain": [
       "(69970, 94)"
      ]
     },
     "execution_count": 11,
     "metadata": {},
     "output_type": "execute_result"
    }
   ],
   "source": [
    "# dropping variables with <500 minority classes\n",
    "descr = diabetic_dum.describe().T\n",
    "under_500 = descr[descr['mean'] <= (500/len(diabetic_dum))].index.tolist()\n",
    "under_500.remove('race_Asian')\n",
    "diabetic_final = diabetic_dum.drop(under_500, axis = 1)\n",
    "diabetic_final.shape"
   ]
  },
  {
   "cell_type": "markdown",
   "metadata": {},
   "source": [
    "train test split"
   ]
  },
  {
   "cell_type": "code",
   "execution_count": 12,
   "metadata": {},
   "outputs": [],
   "source": [
    "from sklearn.model_selection import cross_val_score, cross_val_predict, GridSearchCV, train_test_split"
   ]
  },
  {
   "cell_type": "code",
   "execution_count": 13,
   "metadata": {},
   "outputs": [],
   "source": [
    "features = diabetic_final.drop(['readmit_30d'], axis = 1)\n",
    "target = diabetic_final['readmit_30d']"
   ]
  },
  {
   "cell_type": "code",
   "execution_count": 14,
   "metadata": {},
   "outputs": [],
   "source": [
    "X_train, X_test, y_train, y_test = train_test_split(features, target, \n",
    "                                                    test_size=0.2, stratify = target,\n",
    "                                                    random_state = 42)"
   ]
  },
  {
   "cell_type": "markdown",
   "metadata": {},
   "source": [
    "resampling methods"
   ]
  },
  {
   "cell_type": "code",
   "execution_count": 15,
   "metadata": {},
   "outputs": [],
   "source": [
    "from imblearn.over_sampling import SMOTE, SVMSMOTE, RandomOverSampler\n",
    "from imblearn.under_sampling import EditedNearestNeighbours, TomekLinks, NearMiss, RandomUnderSampler\n",
    "from imblearn.combine import SMOTETomek"
   ]
  },
  {
   "cell_type": "code",
   "execution_count": 27,
   "metadata": {},
   "outputs": [
    {
     "name": "stdout",
     "output_type": "stream",
     "text": [
      "SMOTE: (101908, 93)\n",
      "SVMSMOTE: (101908, 93)\n",
      "RandomOverSampler: (101908, 93)\n",
      "------------------------------------------------------------\n",
      "EditedNearestNeighbours: (13233, 93)\n",
      "TomekLinks: (54316, 93)\n",
      "NearMiss: (10044, 93)\n",
      "RandomUnderSampler: (10044, 93)\n",
      "------------------------------------------------------------\n",
      "SMOTETomek: (101346, 93)\n"
     ]
    }
   ],
   "source": [
    "# SMOTE\n",
    "sm = SMOTE(random_state = 42, k_neighbors = 23)\n",
    "X_train_sm, y_train_sm = sm.fit_sample(X_train, y_train)\n",
    "print(f'SMOTE: {X_train_sm.shape}')\n",
    "\n",
    "# SVMSMOTE\n",
    "svmsm = SVMSMOTE(k_neighbors = 23)\n",
    "X_train_svmsm, y_train_svmsm = svmsm.fit_sample(X_train, y_train)\n",
    "print(f'SVMSMOTE: {X_train_svmsm.shape}')\n",
    "\n",
    "# RandomOverSampler\n",
    "ros = RandomOverSampler(random_state = 42)\n",
    "X_train_ros, y_train_ros = ros.fit_sample(X_train, y_train)\n",
    "print(f'RandomOverSampler: {X_train_ros.shape}')\n",
    "\n",
    "print('--'*30)\n",
    "# EditedNearestNeighbours\n",
    "enn = EditedNearestNeighbours(n_neighbors = 23)\n",
    "X_train_enn, y_train_enn = enn.fit_sample(X_train, y_train)\n",
    "print(f'EditedNearestNeighbours: {X_train_enn.shape}')\n",
    "\n",
    "# TomekLinks\n",
    "tl = TomekLinks()\n",
    "X_train_tl, y_train_tl = tl.fit_sample(X_train, y_train)\n",
    "print(f'TomekLinks: {X_train_tl.shape}')\n",
    "\n",
    "# NearMiss\n",
    "nm = NearMiss(n_neighbors = 23)\n",
    "X_train_nm, y_train_nm = nm.fit_sample(X_train, y_train)\n",
    "print(f'NearMiss: {X_train_nm.shape}')\n",
    "\n",
    "# RandomUnderSample\n",
    "rus = RandomUnderSampler(random_state = 42)\n",
    "X_train_rus, y_train_rus = rus.fit_sample(X_train, y_train)\n",
    "print(f'RandomUnderSampler: {X_train_rus.shape}')\n",
    "\n",
    "print('--'*30)\n",
    "# SMOTETomek\n",
    "smtom = SMOTETomek(random_state = 42, smote = sm)\n",
    "X_train_smtom, y_train_smtom = smtom.fit_sample(X_train, y_train)\n",
    "print(f'SMOTETomek: {X_train_smtom.shape}')"
   ]
  },
  {
   "cell_type": "markdown",
   "metadata": {},
   "source": [
    "### model testing"
   ]
  },
  {
   "cell_type": "markdown",
   "metadata": {},
   "source": [
    "logistic regression"
   ]
  },
  {
   "cell_type": "code",
   "execution_count": 17,
   "metadata": {},
   "outputs": [],
   "source": [
    "from sklearn.linear_model import LogisticRegression, LogisticRegressionCV\n",
    "from sklearn.model_selection import GridSearchCV\n",
    "from sklearn.metrics import confusion_matrix, roc_auc_score"
   ]
  },
  {
   "cell_type": "code",
   "execution_count": 18,
   "metadata": {},
   "outputs": [],
   "source": [
    "def resampling_models(X_re, y_re):\n",
    "    logit_cv = LogisticRegressionCV(Cs = [1e-5, 1e-4, 1e-3, 1e-2, 0.1, 1, 10, 100, 1e5], #class_weight = 'balanced',\n",
    "                                    cv = 5, scoring = 'roc_auc', solver='liblinear',\n",
    "                                    random_state = 108, n_jobs = -1)\n",
    "    logit_cv.fit(X_re, y_re)\n",
    "\n",
    "    print(f'best C: {logit_cv.C_[0]}')\n",
    "    logit_best = LogisticRegression(C = logit_cv.C_[0], solver = 'liblinear', random_state = 108)\n",
    "    logit_best.fit(X_re, y_re)\n",
    "\n",
    "    print('accuracy:')\n",
    "    print(logit_best.score(X_re, y_re))\n",
    "    print(logit_best.score(X_test, y_test))\n",
    "    print('--'*30)\n",
    "    y_train_pred = logit_best.predict(X_re)\n",
    "    y_test_pred = logit_best.predict(X_test)\n",
    "    print('confusion matrix:')\n",
    "    print(confusion_matrix(y_re, y_train_pred))\n",
    "    print(confusion_matrix(y_test, y_test_pred))\n",
    "    print('--'*30)\n",
    "    print('AUC-ROC:')\n",
    "    print(roc_auc_score(y_re, y_train_pred))\n",
    "    print(roc_auc_score(y_test, y_test_pred))"
   ]
  },
  {
   "cell_type": "code",
   "execution_count": 19,
   "metadata": {
    "scrolled": true
   },
   "outputs": [
    {
     "name": "stdout",
     "output_type": "stream",
     "text": [
      "best C: 0.1\n",
      "accuracy:\n",
      "0.8920987557404718\n",
      "0.8520080034300415\n",
      "------------------------------------------------------------\n",
      "confusion matrix:\n",
      "[[47066  3888]\n",
      " [ 7108 43846]]\n",
      "[[11810   929]\n",
      " [ 1142   113]]\n",
      "------------------------------------------------------------\n",
      "AUC-ROC:\n",
      "0.8920987557404718\n",
      "0.5085570896412779\n"
     ]
    }
   ],
   "source": [
    "# SMOTE\n",
    "resampling_models(X_train_sm, y_train_sm)"
   ]
  },
  {
   "cell_type": "code",
   "execution_count": 20,
   "metadata": {},
   "outputs": [
    {
     "name": "stdout",
     "output_type": "stream",
     "text": [
      "best C: 0.1\n",
      "accuracy:\n",
      "0.9027456136907799\n",
      "0.8571530655995426\n",
      "------------------------------------------------------------\n",
      "confusion matrix:\n",
      "[[47436  3518]\n",
      " [ 6393 44561]]\n",
      "[[11874   865]\n",
      " [ 1134   121]]\n",
      "------------------------------------------------------------\n",
      "AUC-ROC:\n",
      "0.9027456136907799\n",
      "0.5142563117496259\n"
     ]
    }
   ],
   "source": [
    "# SVMSMOTE\n",
    "resampling_models(X_train_svmsm, y_train_svmsm)"
   ]
  },
  {
   "cell_type": "code",
   "execution_count": 21,
   "metadata": {},
   "outputs": [
    {
     "name": "stdout",
     "output_type": "stream",
     "text": [
      "best C: 0.1\n",
      "accuracy:\n",
      "0.6132688307100522\n",
      "0.6577819065313706\n",
      "------------------------------------------------------------\n",
      "confusion matrix:\n",
      "[[34167 16787]\n",
      " [22624 28330]]\n",
      "[[8546 4193]\n",
      " [ 596  659]]\n",
      "------------------------------------------------------------\n",
      "AUC-ROC:\n",
      "0.6132688307100522\n",
      "0.597976443390423\n"
     ]
    }
   ],
   "source": [
    "# RandomOverSampler\n",
    "resampling_models(X_train_ros, y_train_ros)"
   ]
  },
  {
   "cell_type": "code",
   "execution_count": 22,
   "metadata": {},
   "outputs": [
    {
     "name": "stdout",
     "output_type": "stream",
     "text": [
      "best C: 1.0\n",
      "accuracy:\n",
      "0.8872217605175086\n",
      "0.9093897384593397\n",
      "------------------------------------------------------------\n",
      "confusion matrix:\n",
      "[[39436    63]\n",
      " [ 4958    64]]\n",
      "[[12710    29]\n",
      " [ 1239    16]]\n",
      "------------------------------------------------------------\n",
      "AUC-ROC:\n",
      "0.505574474817197\n",
      "0.5052362650817562\n"
     ]
    }
   ],
   "source": [
    "# EditedNearestNeighbours\n",
    "resampling_models(X_train_enn, y_train_enn)"
   ]
  },
  {
   "cell_type": "code",
   "execution_count": 23,
   "metadata": {},
   "outputs": [
    {
     "name": "stdout",
     "output_type": "stream",
     "text": [
      "best C: 1.0\n",
      "accuracy:\n",
      "0.9073017158848221\n",
      "0.9103901672145205\n",
      "------------------------------------------------------------\n",
      "confusion matrix:\n",
      "[[49262    32]\n",
      " [ 5003    19]]\n",
      "[[12733     6]\n",
      " [ 1248     7]]\n",
      "------------------------------------------------------------\n",
      "AUC-ROC:\n",
      "0.5015670935092958\n",
      "0.5025533473297328\n"
     ]
    }
   ],
   "source": [
    "# TomekLinks\n",
    "resampling_models(X_train_tl, y_train_tl)"
   ]
  },
  {
   "cell_type": "code",
   "execution_count": 24,
   "metadata": {},
   "outputs": [
    {
     "name": "stdout",
     "output_type": "stream",
     "text": [
      "best C: 10.0\n",
      "accuracy:\n",
      "0.784647550776583\n",
      "0.37394597684722025\n",
      "------------------------------------------------------------\n",
      "confusion matrix:\n",
      "[[4140  882]\n",
      " [1281 3741]]\n",
      "[[4337 8402]\n",
      " [ 359  896]]\n",
      "------------------------------------------------------------\n",
      "AUC-ROC:\n",
      "0.784647550776583\n",
      "0.5271974039629221\n"
     ]
    }
   ],
   "source": [
    "# NearMiss\n",
    "resampling_models(X_train_nm, y_train_nm)"
   ]
  },
  {
   "cell_type": "code",
   "execution_count": 25,
   "metadata": {},
   "outputs": [
    {
     "name": "stdout",
     "output_type": "stream",
     "text": [
      "best C: 0.1\n",
      "accuracy:\n",
      "0.6149940262843488\n",
      "0.6529941403458626\n",
      "------------------------------------------------------------\n",
      "confusion matrix:\n",
      "[[3354 1668]\n",
      " [2199 2823]]\n",
      "[[8477 4262]\n",
      " [ 594  661]]\n",
      "------------------------------------------------------------\n",
      "AUC-ROC:\n",
      "0.6149940262843488\n",
      "0.5960650372839437\n"
     ]
    }
   ],
   "source": [
    "# RandomUnderSampler\n",
    "resampling_models(X_train_rus, y_train_rus)"
   ]
  },
  {
   "cell_type": "code",
   "execution_count": 26,
   "metadata": {
    "scrolled": false
   },
   "outputs": [
    {
     "name": "stdout",
     "output_type": "stream",
     "text": [
      "best C: 0.1\n",
      "accuracy:\n",
      "0.8919345608114775\n",
      "0.8520794626268401\n",
      "------------------------------------------------------------\n",
      "confusion matrix:\n",
      "[[46801  3872]\n",
      " [ 7080 43593]]\n",
      "[[11810   929]\n",
      " [ 1141   114]]\n",
      "------------------------------------------------------------\n",
      "AUC-ROC:\n",
      "0.8919345608114776\n",
      "0.5089554960157798\n"
     ]
    }
   ],
   "source": [
    "# SMOTETomek\n",
    "resampling_models(X_train_smtom, y_train_smtom)"
   ]
  },
  {
   "cell_type": "code",
   "execution_count": 42,
   "metadata": {},
   "outputs": [
    {
     "name": "stdout",
     "output_type": "stream",
     "text": [
      "best C: 0.41965517241379313\n",
      "accuracy:\n",
      "0.9100686008289267\n",
      "0.9102472488209232\n",
      "------------------------------------------------------------\n",
      "confusion matrix:\n",
      "[[50923    31]\n",
      " [ 5003    19]]\n",
      "[[12733     6]\n",
      " [ 1250     5]]\n",
      "------------------------------------------------------------\n",
      "AUC-ROC:\n",
      "0.501587480681422\n",
      "0.5017565345807289\n"
     ]
    }
   ],
   "source": [
    "# running original X_train and y_train on class_weight = 'balanced'\n",
    "logit_cv = LogisticRegressionCV(Cs = np.linspace(1e-2, 1, 30), cv = 5, class_weight = 'balanced',\n",
    "                                scoring = 'roc_auc', solver='liblinear', random_state = 108, n_jobs = -1)\n",
    "logit_cv.fit(X_train, y_train)\n",
    "\n",
    "print(f'best C: {logit_cv.C_[0]}')\n",
    "logit_best = LogisticRegression(C = logit_cv.C_[0], solver = 'liblinear', \n",
    "                                random_state = 108)\n",
    "logit_best.fit(X_train, y_train)\n",
    "\n",
    "print('accuracy:')\n",
    "print(logit_best.score(X_train, y_train))\n",
    "print(logit_best.score(X_test, y_test))\n",
    "print('--'*30)\n",
    "y_train_pred = logit_best.predict(X_train)\n",
    "y_test_pred = logit_best.predict(X_test)\n",
    "print('confusion matrix:')\n",
    "print(confusion_matrix(y_train, y_train_pred))\n",
    "print(confusion_matrix(y_test, y_test_pred))\n",
    "print('--'*30)\n",
    "print('AUC-ROC:')\n",
    "print(roc_auc_score(y_train, y_train_pred))\n",
    "print(roc_auc_score(y_test, y_test_pred))"
   ]
  },
  {
   "cell_type": "code",
   "execution_count": 45,
   "metadata": {},
   "outputs": [
    {
     "data": {
      "text/plain": [
       "{True: array([[0.61455455, 0.62661953, 0.62790883, 0.62870272, 0.62896342,\n",
       "         0.6291585 , 0.62929538, 0.62936646, 0.62944867, 0.62947269,\n",
       "         0.62952083, 0.62961066, 0.62965449, 0.62965918, 0.62965098,\n",
       "         0.62968291, 0.62966397, 0.62952864, 0.62967324, 0.62912842,\n",
       "         0.62970966, 0.62955266, 0.62955598, 0.62955852, 0.62956066,\n",
       "         0.6296916 , 0.62955578, 0.62956359, 0.62955793, 0.62955188],\n",
       "        [0.62678527, 0.64653915, 0.64906921, 0.6497816 , 0.65019062,\n",
       "         0.65024848, 0.65046721, 0.65050767, 0.65064177, 0.65067021,\n",
       "         0.65070764, 0.65074009, 0.65075103, 0.65073549, 0.65073569,\n",
       "         0.65075309, 0.65076745, 0.65074927, 0.65077009, 0.65075318,\n",
       "         0.65076843, 0.65076462, 0.6507699 , 0.65076853, 0.65077459,\n",
       "         0.65079032, 0.65078827, 0.65075934, 0.65077146, 0.65082912],\n",
       "        [0.63200143, 0.64772814, 0.64909067, 0.64981654, 0.65010515,\n",
       "         0.65028108, 0.65035809, 0.65043403, 0.65048847, 0.65061328,\n",
       "         0.65055942, 0.65049482, 0.6506468 , 0.65050196, 0.65055415,\n",
       "         0.65052795, 0.65070075, 0.65068892, 0.65046042, 0.6505042 ,\n",
       "         0.65064455, 0.65053079, 0.65053118, 0.65052864, 0.65053323,\n",
       "         0.65057037, 0.65048945, 0.65055845, 0.65055483, 0.65059217],\n",
       "        [0.62872961, 0.64194698, 0.64293772, 0.64318948, 0.64320463,\n",
       "         0.64309478, 0.64310445, 0.64307924, 0.64311755, 0.64299392,\n",
       "         0.64298404, 0.64296313, 0.64291446, 0.6429038 , 0.6428695 ,\n",
       "         0.64285054, 0.64284184, 0.64293117, 0.64291231, 0.64292208,\n",
       "         0.64290644, 0.64291436, 0.64290351, 0.64290117, 0.64289393,\n",
       "         0.64288787, 0.64288396, 0.64288211, 0.64287654, 0.642878  ],\n",
       "        [0.63776251, 0.64937638, 0.64970222, 0.64990699, 0.64936827,\n",
       "         0.64972625, 0.64963104, 0.64967117, 0.6491762 , 0.64950859,\n",
       "         0.64949326, 0.64939288, 0.64938692, 0.64936759, 0.64930236,\n",
       "         0.64930822, 0.64928859, 0.64931808, 0.64925451, 0.64921975,\n",
       "         0.64917161, 0.64917649, 0.64910589, 0.64916507, 0.64909798,\n",
       "         0.64914515, 0.64915677, 0.6490476 , 0.64912904, 0.64902358]])}"
      ]
     },
     "execution_count": 45,
     "metadata": {},
     "output_type": "execute_result"
    }
   ],
   "source": [
    "logit_cv.scores_"
   ]
  },
  {
   "cell_type": "code",
   "execution_count": 44,
   "metadata": {},
   "outputs": [
    {
     "name": "stdout",
     "output_type": "stream",
     "text": [
      "accuracy:\n",
      "0.9100507360297271\n",
      "0.9102472488209232\n",
      "------------------------------------------------------------\n",
      "confusion matrix:\n",
      "[[50922    32]\n",
      " [ 5003    19]]\n",
      "[[12733     6]\n",
      " [ 1250     5]]\n",
      "------------------------------------------------------------\n",
      "AUC-ROC:\n",
      "0.5015776679091176\n",
      "0.5017565345807289\n"
     ]
    }
   ],
   "source": [
    "logit_best = LogisticRegression(solver = 'liblinear', random_state = 108)\n",
    "logit_best.fit(X_train, y_train)\n",
    "\n",
    "print('accuracy:')\n",
    "print(logit_best.score(X_train, y_train))\n",
    "print(logit_best.score(X_test, y_test))\n",
    "print('--'*30)\n",
    "y_train_pred = logit_best.predict(X_train)\n",
    "y_test_pred = logit_best.predict(X_test)\n",
    "print('confusion matrix:')\n",
    "print(confusion_matrix(y_train, y_train_pred))\n",
    "print(confusion_matrix(y_test, y_test_pred))\n",
    "print('--'*30)\n",
    "print('AUC-ROC:')\n",
    "print(roc_auc_score(y_train, y_train_pred))\n",
    "print(roc_auc_score(y_test, y_test_pred))"
   ]
  },
  {
   "cell_type": "code",
   "execution_count": null,
   "metadata": {},
   "outputs": [],
   "source": []
  },
  {
   "cell_type": "code",
   "execution_count": 82,
   "metadata": {},
   "outputs": [],
   "source": [
    "from imblearn.ensemble import RUSBoostClassifier"
   ]
  },
  {
   "cell_type": "code",
   "execution_count": 83,
   "metadata": {
    "scrolled": true
   },
   "outputs": [
    {
     "name": "stdout",
     "output_type": "stream",
     "text": [
      "confusion matrix:\n",
      "[[36595 14359]\n",
      " [26725 24229]]\n",
      "[[9171 3568]\n",
      " [ 646  609]]\n",
      "------------------------------------------------------------\n",
      "AUC-ROC:\n",
      "0.5968520626447383\n",
      "0.6025870925591926\n"
     ]
    }
   ],
   "source": [
    "rusb = RUSBoostClassifier(learning_rate = 0.11)\n",
    "rusb.fit(X_train_ros, y_train_ros)\n",
    "y_train_pred = rusb.predict(X_train_ros)\n",
    "y_test_pred = rusb.predict(X_test)\n",
    "print('confusion matrix:')\n",
    "print(confusion_matrix(y_train_ros, y_train_pred))\n",
    "print(confusion_matrix(y_test, y_test_pred))\n",
    "print('--'*30)\n",
    "print('AUC-ROC:')\n",
    "print(roc_auc_score(y_train_ros, y_train_pred))\n",
    "print(roc_auc_score(y_test, y_test_pred))"
   ]
  },
  {
   "cell_type": "code",
   "execution_count": 85,
   "metadata": {},
   "outputs": [
    {
     "data": {
      "text/plain": [
       "RUSBoostClassifier()"
      ]
     },
     "execution_count": 85,
     "metadata": {},
     "output_type": "execute_result"
    }
   ],
   "source": [
    "RUS = RUSBoostClassifier()"
   ]
  },
  {
   "cell_type": "code",
   "execution_count": 91,
   "metadata": {},
   "outputs": [
    {
     "name": "stdout",
     "output_type": "stream",
     "text": [
      "Fitting 5 folds for each of 4 candidates, totalling 20 fits\n"
     ]
    },
    {
     "name": "stderr",
     "output_type": "stream",
     "text": [
      "[Parallel(n_jobs=-1)]: Using backend LokyBackend with 8 concurrent workers.\n",
      "[Parallel(n_jobs=-1)]: Done  20 out of  20 | elapsed:  7.1min finished\n"
     ]
    },
    {
     "name": "stdout",
     "output_type": "stream",
     "text": [
      "Wall time: 9min 1s\n"
     ]
    },
    {
     "data": {
      "text/plain": [
       "GridSearchCV(cv=5, estimator=RUSBoostClassifier(), n_jobs=-1,\n",
       "             param_grid=[{'learning_rate': [0.6, 0.8, 1.0, 1.2],\n",
       "                          'n_estimators': [80], 'random_state': [42],\n",
       "                          'sampling_strategy': ['auto']}],\n",
       "             scoring='roc_auc', verbose=1)"
      ]
     },
     "execution_count": 91,
     "metadata": {},
     "output_type": "execute_result"
    }
   ],
   "source": [
    "# GB grid search\n",
    "RUS_grid_params = [{\n",
    "    'learning_rate':[0.6,0.8,1.0,1.2],\n",
    "    'n_estimators': [80], #range(50,90,10),\n",
    "    'sampling_strategy': ['auto'],\n",
    "    'random_state':[42]\n",
    "}]\n",
    "grid_search_RUS = GridSearchCV(RUS, RUS_grid_params, scoring='roc_auc', cv=5, verbose = 1, n_jobs=-1)\n",
    "%time grid_search_RUS.fit(X_train_ros, y_train_ros)"
   ]
  },
  {
   "cell_type": "code",
   "execution_count": 92,
   "metadata": {},
   "outputs": [
    {
     "data": {
      "text/plain": [
       "{'learning_rate': 1.0,\n",
       " 'n_estimators': 80,\n",
       " 'random_state': 42,\n",
       " 'sampling_strategy': 'auto'}"
      ]
     },
     "execution_count": 92,
     "metadata": {},
     "output_type": "execute_result"
    }
   ],
   "source": [
    "grid_search_RUS.best_params_"
   ]
  },
  {
   "cell_type": "code",
   "execution_count": 93,
   "metadata": {},
   "outputs": [
    {
     "name": "stdout",
     "output_type": "stream",
     "text": [
      "confusion matrix:\n",
      "[[34092 16862]\n",
      " [22290 28664]]\n",
      "[[8529 4210]\n",
      " [ 573  682]]\n",
      "------------------------------------------------------------\n",
      "AUC-ROC:\n",
      "0.6158103387368999\n",
      "0.6064725476772556\n"
     ]
    }
   ],
   "source": [
    "y_train_pred = grid_search_RUS.best_estimator_.predict(X_train_ros)\n",
    "y_test_pred = grid_search_RUS.best_estimator_.predict(X_test)\n",
    "print('confusion matrix:')\n",
    "print(confusion_matrix(y_train_ros, y_train_pred))\n",
    "print(confusion_matrix(y_test, y_test_pred))\n",
    "print('--'*30)\n",
    "print('AUC-ROC:')\n",
    "print(roc_auc_score(y_train_ros, y_train_pred))\n",
    "print(roc_auc_score(y_test, y_test_pred))"
   ]
  },
  {
   "cell_type": "code",
   "execution_count": null,
   "metadata": {},
   "outputs": [],
   "source": []
  }
 ],
 "metadata": {
  "kernelspec": {
   "display_name": "Python 3",
   "language": "python",
   "name": "python3"
  },
  "language_info": {
   "codemirror_mode": {
    "name": "ipython",
    "version": 3
   },
   "file_extension": ".py",
   "mimetype": "text/x-python",
   "name": "python",
   "nbconvert_exporter": "python",
   "pygments_lexer": "ipython3",
   "version": "3.7.6"
  }
 },
 "nbformat": 4,
 "nbformat_minor": 4
}
