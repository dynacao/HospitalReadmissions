{
 "cells": [
  {
   "cell_type": "markdown",
   "metadata": {},
   "source": [
    "### data prepping"
   ]
  },
  {
   "cell_type": "code",
   "execution_count": 46,
   "metadata": {},
   "outputs": [],
   "source": [
    "import pandas as pd\n",
    "import numpy as np"
   ]
  },
  {
   "cell_type": "code",
   "execution_count": 47,
   "metadata": {},
   "outputs": [],
   "source": [
    "pd.set_option('display.max_columns', None)\n",
    "pd.set_option('display.max_rows', None)"
   ]
  },
  {
   "cell_type": "code",
   "execution_count": 48,
   "metadata": {},
   "outputs": [
    {
     "data": {
      "text/plain": [
       "(101766, 50)"
      ]
     },
     "execution_count": 48,
     "metadata": {},
     "output_type": "execute_result"
    }
   ],
   "source": [
    "diabetic = pd.read_csv('../../data/diabetic_data_initial.csv')\n",
    "diabetic.shape"
   ]
  },
  {
   "cell_type": "code",
   "execution_count": 49,
   "metadata": {},
   "outputs": [],
   "source": [
    "# cleaning\n",
    "diabetic_df = diabetic.replace('?', np.nan)\n",
    "\n",
    "diabetic_df = diabetic_df.sort_values('encounter_id')\n",
    "diabetic_df.drop_duplicates(subset = ['patient_nbr'], keep = 'first', inplace = True)\n",
    "\n",
    "diabetic_df = diabetic_df[~diabetic_df['discharge_disposition_id'].isin([11,13,14,19,20,21])]\n",
    "diabetic_df.drop(diabetic_df.loc[diabetic_df.gender=='Unknown/Invalid'].index, inplace=True)\n",
    "\n",
    "diabetic_df.drop(['encounter_id','patient_nbr','weight','medical_specialty','payer_code'],\\\n",
    "                 axis = 1, inplace = True)\n",
    "\n",
    "diabetic_df['admission_type_id'] = diabetic_df['admission_type_id'].astype('str')\n",
    "diabetic_df['admission_source_id'] = diabetic_df['admission_source_id'].astype('str')\n",
    "diabetic_df['discharge_disposition_id'] = diabetic_df['discharge_disposition_id'].astype('str')"
   ]
  },
  {
   "cell_type": "code",
   "execution_count": 50,
   "metadata": {
    "scrolled": false
   },
   "outputs": [
    {
     "data": {
      "text/plain": [
       "(69970, 45)"
      ]
     },
     "execution_count": 50,
     "metadata": {},
     "output_type": "execute_result"
    }
   ],
   "source": [
    "diabetic_df.shape"
   ]
  },
  {
   "cell_type": "code",
   "execution_count": 51,
   "metadata": {},
   "outputs": [],
   "source": [
    "# feature engineering\n",
    "diabetic_df['readmit_30d'] = (diabetic_df['readmitted'] == '<30')\n",
    "\n",
    "diabetic_df['age_num'] = diabetic_df['age'].replace(\n",
    "    ['[0-10)','[10-20)','[20-30)','[30-40)','[40-50)','[50-60)','[60-70)','[70-80)','[80-90)','[90-100)'],\n",
    "    [0,10,20,30,40,50,60,70,80,90])\n",
    "\n",
    "diabetic_df['diag_1'] = diabetic_df['diag_1'].str.split('.', expand = True).drop(1, axis = 1)\n",
    "diabetic_df['diag_2'] = diabetic_df['diag_2'].str.split('.', expand = True).drop(1, axis = 1)\n",
    "diabetic_df['diag_3'] = diabetic_df['diag_3'].str.split('.', expand = True).drop(1, axis = 1)\n",
    "count_1 = diabetic_df['diag_1'].value_counts()\n",
    "index_1 = count_1[count_1>=500].index.tolist()\n",
    "count_2 = diabetic_df['diag_2'].value_counts()\n",
    "index_2 = count_2[count_2>=500].index.tolist()\n",
    "count_3 = diabetic_df['diag_3'].value_counts()\n",
    "index_3 = count_3[count_3>=500].index.tolist()\n",
    "diagnoses = set(index_1 + index_2 + index_3)\n",
    "for d in diagnoses:\n",
    "    diabetic_df[d+'_diag'] = ((diabetic_df['diag_1']==d)|\n",
    "                              (diabetic_df['diag_2']==d)|\n",
    "                              (diabetic_df['diag_3']==d))\n",
    "    \n",
    "for col in ['metformin','repaglinide','glimepiride','glipizide', 'glyburide','pioglitazone',\n",
    "            'rosiglitazone','insulin']:\n",
    "    diabetic_df[col+'_used'] = np.where(diabetic_df[col]=='No', False, True)"
   ]
  },
  {
   "cell_type": "code",
   "execution_count": 52,
   "metadata": {},
   "outputs": [],
   "source": [
    "diabetic_df = diabetic_df.drop(['age',\n",
    "                                'diag_1','diag_2','diag_3',\n",
    "                                'metformin','repaglinide','nateglinide','chlorpropamide','glimepiride',\n",
    "                                'acetohexamide','glipizide','glyburide','tolbutamide','pioglitazone',\n",
    "                                'rosiglitazone','acarbose','miglitol','troglitazone','tolazamide','examide',\n",
    "                                'citoglipton','insulin','glyburide-metformin','glipizide-metformin',\n",
    "                                'glimepiride-pioglitazone','metformin-rosiglitazone','metformin-pioglitazone',\n",
    "                                'readmitted'],\n",
    "                                 axis = 1)"
   ]
  },
  {
   "cell_type": "code",
   "execution_count": 53,
   "metadata": {},
   "outputs": [
    {
     "data": {
      "text/plain": [
       "(69970, 119)"
      ]
     },
     "execution_count": 53,
     "metadata": {},
     "output_type": "execute_result"
    }
   ],
   "source": [
    "diabetic_dum = pd.get_dummies(diabetic_df, drop_first = True)\n",
    "diabetic_dum.shape"
   ]
  },
  {
   "cell_type": "code",
   "execution_count": 54,
   "metadata": {},
   "outputs": [
    {
     "data": {
      "text/plain": [
       "(69970, 94)"
      ]
     },
     "execution_count": 54,
     "metadata": {},
     "output_type": "execute_result"
    }
   ],
   "source": [
    "# dropping variables with <500 minority classes\n",
    "descr = diabetic_dum.describe().T\n",
    "under_500 = descr[descr['mean'] <= (500/len(diabetic_dum))].index.tolist()\n",
    "under_500.remove('race_Asian')\n",
    "diabetic_final = diabetic_dum.drop(under_500, axis = 1)\n",
    "diabetic_final.shape"
   ]
  },
  {
   "cell_type": "markdown",
   "metadata": {},
   "source": [
    "train test split"
   ]
  },
  {
   "cell_type": "code",
   "execution_count": 55,
   "metadata": {},
   "outputs": [],
   "source": [
    "from sklearn.model_selection import cross_val_score, cross_val_predict, GridSearchCV, train_test_split"
   ]
  },
  {
   "cell_type": "code",
   "execution_count": 56,
   "metadata": {},
   "outputs": [],
   "source": [
    "features = diabetic_final.drop(['readmit_30d'], axis = 1)\n",
    "target = diabetic_final['readmit_30d']"
   ]
  },
  {
   "cell_type": "code",
   "execution_count": 57,
   "metadata": {},
   "outputs": [],
   "source": [
    "X_train, X_test, y_train, y_test = train_test_split(features, target, test_size=0.2,stratify = target,\n",
    "                                                    random_state = 42)"
   ]
  },
  {
   "cell_type": "markdown",
   "metadata": {},
   "source": [
    "checking VIF"
   ]
  },
  {
   "cell_type": "code",
   "execution_count": 58,
   "metadata": {
    "scrolled": true
   },
   "outputs": [],
   "source": [
    "# X_vif = pd.DataFrame(X_train, dtype=float)\n",
    "\n",
    "# from statsmodels.stats.outliers_influence import variance_inflation_factor \n",
    "# vif_data = pd.DataFrame() \n",
    "# vif_data[\"feature\"] = X_vif.columns\n",
    "# vif_data[\"VIF\"] = [variance_inflation_factor(X_vif.values, i) \n",
    "#                           for i in range(len(X_vif.columns))] \n",
    "# print(vif_data)"
   ]
  },
  {
   "cell_type": "markdown",
   "metadata": {},
   "source": [
    "### model testing"
   ]
  },
  {
   "cell_type": "markdown",
   "metadata": {},
   "source": [
    "logistic regression with no regularization or CV (93 features)"
   ]
  },
  {
   "cell_type": "code",
   "execution_count": 59,
   "metadata": {},
   "outputs": [],
   "source": [
    "from sklearn.linear_model import LogisticRegression, LogisticRegressionCV, SGDClassifier\n",
    "from sklearn.model_selection import GridSearchCV\n",
    "from sklearn.metrics import confusion_matrix, roc_auc_score"
   ]
  },
  {
   "cell_type": "code",
   "execution_count": 60,
   "metadata": {},
   "outputs": [
    {
     "data": {
      "text/plain": [
       "LogisticRegression(C=10000000.0, class_weight='balanced', random_state=42,\n",
       "                   solver='liblinear')"
      ]
     },
     "execution_count": 60,
     "metadata": {},
     "output_type": "execute_result"
    }
   ],
   "source": [
    "logit = LogisticRegression(C = 1e7, solver='liblinear', random_state = 42, class_weight = 'balanced')\n",
    "logit.fit(X_train, y_train)"
   ]
  },
  {
   "cell_type": "code",
   "execution_count": 61,
   "metadata": {
    "scrolled": true
   },
   "outputs": [
    {
     "name": "stdout",
     "output_type": "stream",
     "text": [
      "accuracy:\n",
      "0.661354866371302\n",
      "0.6634271830784622\n",
      "------------------------------------------------------------\n",
      "confusion matrix:\n",
      "[[34226 16728]\n",
      " [ 2228  2794]]\n",
      "[[8621 4118]\n",
      " [ 592  663]]\n",
      "------------------------------------------------------------\n",
      "AUC-ROC:\n",
      "0.6140279703793241\n",
      "0.6025137850356953\n"
     ]
    }
   ],
   "source": [
    "print('accuracy:')\n",
    "print(logit.score(X_train, y_train))\n",
    "print(logit.score(X_test, y_test))\n",
    "print('--'*30)\n",
    "y_train_pred = logit.predict(X_train)\n",
    "y_test_pred = logit.predict(X_test)\n",
    "print('confusion matrix:')\n",
    "print(confusion_matrix(y_train, y_train_pred))\n",
    "print(confusion_matrix(y_test, y_test_pred))\n",
    "print('--'*30)\n",
    "print('AUC-ROC:')\n",
    "print(roc_auc_score(y_train, y_train_pred))\n",
    "print(roc_auc_score(y_test, y_test_pred))"
   ]
  },
  {
   "cell_type": "markdown",
   "metadata": {},
   "source": [
    "logistic regression with no regularization or CV (top 43 features from previous model)"
   ]
  },
  {
   "cell_type": "code",
   "execution_count": 62,
   "metadata": {},
   "outputs": [],
   "source": [
    "logit_coefs = pd.DataFrame({'features': X_train.columns,\n",
    "                            'coef': logit.coef_[0]})\n",
    "logit_coefs['abs_coef'] = np.abs(logit_coefs['coef'])\n",
    "logit_43 = logit_coefs.sort_values('abs_coef', ascending = False).iloc[:,0:2].head(43).features.tolist()"
   ]
  },
  {
   "cell_type": "code",
   "execution_count": 63,
   "metadata": {},
   "outputs": [],
   "source": [
    "X_train_43 = X_train[logit_43]\n",
    "X_test_43 = X_test[logit_43]"
   ]
  },
  {
   "cell_type": "code",
   "execution_count": 64,
   "metadata": {},
   "outputs": [
    {
     "name": "stdout",
     "output_type": "stream",
     "text": [
      "accuracy:\n",
      "0.6620515935400886\n",
      "0.6642132342432471\n",
      "------------------------------------------------------------\n",
      "confusion matrix:\n",
      "[[34359 16595]\n",
      " [ 2322  2700]]\n",
      "[[8647 4092]\n",
      " [ 607  648]]\n",
      "------------------------------------------------------------\n",
      "AUC-ROC:\n",
      "0.6059742479090354\n",
      "0.5975581776825504\n"
     ]
    }
   ],
   "source": [
    "logit = LogisticRegression(C = 1e7, solver='liblinear', random_state = 42, class_weight = 'balanced')\n",
    "logit.fit(X_train_43, y_train)\n",
    "\n",
    "print('accuracy:')\n",
    "print(logit.score(X_train_43, y_train))\n",
    "print(logit.score(X_test_43, y_test))\n",
    "print('--'*30)\n",
    "y_train_pred = logit.predict(X_train_43)\n",
    "y_test_pred = logit.predict(X_test_43)\n",
    "print('confusion matrix:')\n",
    "print(confusion_matrix(y_train, y_train_pred))\n",
    "print(confusion_matrix(y_test, y_test_pred))\n",
    "print('--'*30)\n",
    "print('AUC-ROC:')\n",
    "print(roc_auc_score(y_train, y_train_pred))\n",
    "print(roc_auc_score(y_test, y_test_pred))"
   ]
  },
  {
   "cell_type": "code",
   "execution_count": 65,
   "metadata": {},
   "outputs": [
    {
     "data": {
      "text/html": [
       "<div>\n",
       "<style scoped>\n",
       "    .dataframe tbody tr th:only-of-type {\n",
       "        vertical-align: middle;\n",
       "    }\n",
       "\n",
       "    .dataframe tbody tr th {\n",
       "        vertical-align: top;\n",
       "    }\n",
       "\n",
       "    .dataframe thead th {\n",
       "        text-align: right;\n",
       "    }\n",
       "</style>\n",
       "<table border=\"1\" class=\"dataframe\">\n",
       "  <thead>\n",
       "    <tr style=\"text-align: right;\">\n",
       "      <th></th>\n",
       "      <th>features</th>\n",
       "      <th>coef</th>\n",
       "    </tr>\n",
       "  </thead>\n",
       "  <tbody>\n",
       "    <tr>\n",
       "      <th>0</th>\n",
       "      <td>discharge_disposition_id_22</td>\n",
       "      <td>1.519637</td>\n",
       "    </tr>\n",
       "    <tr>\n",
       "      <th>1</th>\n",
       "      <td>discharge_disposition_id_5</td>\n",
       "      <td>1.251283</td>\n",
       "    </tr>\n",
       "    <tr>\n",
       "      <th>2</th>\n",
       "      <td>discharge_disposition_id_2</td>\n",
       "      <td>0.719786</td>\n",
       "    </tr>\n",
       "    <tr>\n",
       "      <th>4</th>\n",
       "      <td>discharge_disposition_id_3</td>\n",
       "      <td>0.683762</td>\n",
       "    </tr>\n",
       "    <tr>\n",
       "      <th>3</th>\n",
       "      <td>722_diag</td>\n",
       "      <td>-0.619348</td>\n",
       "    </tr>\n",
       "    <tr>\n",
       "      <th>6</th>\n",
       "      <td>discharge_disposition_id_4</td>\n",
       "      <td>0.577370</td>\n",
       "    </tr>\n",
       "    <tr>\n",
       "      <th>5</th>\n",
       "      <td>discharge_disposition_id_18</td>\n",
       "      <td>0.543966</td>\n",
       "    </tr>\n",
       "    <tr>\n",
       "      <th>8</th>\n",
       "      <td>786_diag</td>\n",
       "      <td>-0.475954</td>\n",
       "    </tr>\n",
       "    <tr>\n",
       "      <th>10</th>\n",
       "      <td>403_diag</td>\n",
       "      <td>0.441048</td>\n",
       "    </tr>\n",
       "    <tr>\n",
       "      <th>9</th>\n",
       "      <td>440_diag</td>\n",
       "      <td>0.426389</td>\n",
       "    </tr>\n",
       "    <tr>\n",
       "      <th>16</th>\n",
       "      <td>278_diag</td>\n",
       "      <td>-0.372828</td>\n",
       "    </tr>\n",
       "    <tr>\n",
       "      <th>12</th>\n",
       "      <td>number_inpatient</td>\n",
       "      <td>0.352661</td>\n",
       "    </tr>\n",
       "    <tr>\n",
       "      <th>17</th>\n",
       "      <td>272_diag</td>\n",
       "      <td>-0.349798</td>\n",
       "    </tr>\n",
       "    <tr>\n",
       "      <th>7</th>\n",
       "      <td>admission_source_id_5</td>\n",
       "      <td>-0.335512</td>\n",
       "    </tr>\n",
       "    <tr>\n",
       "      <th>25</th>\n",
       "      <td>discharge_disposition_id_6</td>\n",
       "      <td>0.318430</td>\n",
       "    </tr>\n",
       "  </tbody>\n",
       "</table>\n",
       "</div>"
      ],
      "text/plain": [
       "                       features      coef\n",
       "0   discharge_disposition_id_22  1.519637\n",
       "1    discharge_disposition_id_5  1.251283\n",
       "2    discharge_disposition_id_2  0.719786\n",
       "4    discharge_disposition_id_3  0.683762\n",
       "3                      722_diag -0.619348\n",
       "6    discharge_disposition_id_4  0.577370\n",
       "5   discharge_disposition_id_18  0.543966\n",
       "8                      786_diag -0.475954\n",
       "10                     403_diag  0.441048\n",
       "9                      440_diag  0.426389\n",
       "16                     278_diag -0.372828\n",
       "12             number_inpatient  0.352661\n",
       "17                     272_diag -0.349798\n",
       "7         admission_source_id_5 -0.335512\n",
       "25   discharge_disposition_id_6  0.318430"
      ]
     },
     "execution_count": 65,
     "metadata": {},
     "output_type": "execute_result"
    }
   ],
   "source": [
    "logit_coefs = pd.DataFrame({'features': X_train_43.columns,\n",
    "                            'coef': logit.coef_[0]})\n",
    "logit_coefs['abs_coef'] = np.abs(logit_coefs['coef'])\n",
    "logit_coefs.sort_values('abs_coef', ascending = False).iloc[:,0:2].head(15)"
   ]
  },
  {
   "cell_type": "markdown",
   "metadata": {},
   "source": [
    "logistic regression with regularization and CV (93 features)"
   ]
  },
  {
   "cell_type": "code",
   "execution_count": 66,
   "metadata": {},
   "outputs": [],
   "source": [
    "# standardization\n",
    "from sklearn.preprocessing import StandardScaler\n",
    "scaler = StandardScaler().fit(X_train)\n",
    "X_train_scaled = scaler.transform(X_train)\n",
    "X_test_scaled = scaler.transform(X_test)"
   ]
  },
  {
   "cell_type": "code",
   "execution_count": 67,
   "metadata": {},
   "outputs": [
    {
     "name": "stdout",
     "output_type": "stream",
     "text": [
      "Fitting 5 folds for each of 100 candidates, totalling 500 fits\n"
     ]
    },
    {
     "name": "stderr",
     "output_type": "stream",
     "text": [
      "[Parallel(n_jobs=-1)]: Using backend LokyBackend with 8 concurrent workers.\n",
      "[Parallel(n_jobs=-1)]: Done  34 tasks      | elapsed:   10.0s\n",
      "[Parallel(n_jobs=-1)]: Done 184 tasks      | elapsed:   45.1s\n",
      "[Parallel(n_jobs=-1)]: Done 434 tasks      | elapsed:  1.8min\n",
      "[Parallel(n_jobs=-1)]: Done 500 out of 500 | elapsed:  2.0min finished\n"
     ]
    },
    {
     "name": "stdout",
     "output_type": "stream",
     "text": [
      "Wall time: 2min 2s\n",
      "LogisticRegression(C=0.01030204081632653, class_weight='balanced',\n",
      "                   max_iter=1000, penalty='l1', random_state=42,\n",
      "                   solver='liblinear')\n",
      "------------------------------------------------------------\n",
      "accuracy:\n",
      "0.6644097470344433\n",
      "0.6652136629984279\n",
      "------------------------------------------------------------\n",
      "confusion matrix:\n",
      "[[34443 16511]\n",
      " [ 2274  2748]]\n",
      "[[8633 4106]\n",
      " [ 579  676]]\n",
      "------------------------------------------------------------\n",
      "AUC-ROC:\n",
      "0.6115774933035156\n",
      "0.6081640624877833\n"
     ]
    }
   ],
   "source": [
    "logit = LogisticRegression(max_iter = 1000, class_weight = 'balanced', random_state = 42)\n",
    "logit.fit(X_train_scaled, y_train)\n",
    "\n",
    "logit_grid_params = [{'C': np.linspace(1e-4,0.5,50),'penalty':['l1','l2'],'solver': ['liblinear']}]\n",
    "grid_search_logit = GridSearchCV(logit, logit_grid_params, scoring='roc_auc', cv=5, verbose = 1, n_jobs=-1)\n",
    "%time grid_search_logit.fit(X_train_scaled, y_train)\n",
    "\n",
    "print(grid_search_logit.best_estimator_)\n",
    "print('--'*30)\n",
    "print('accuracy:')\n",
    "print(grid_search_logit.best_estimator_.score(X_train_scaled, y_train))\n",
    "print(grid_search_logit.best_estimator_.score(X_test_scaled, y_test))\n",
    "print('--'*30)\n",
    "y_train_pred = grid_search_logit.best_estimator_.predict(X_train_scaled)\n",
    "y_test_pred = grid_search_logit.best_estimator_.predict(X_test_scaled)\n",
    "print('confusion matrix:')\n",
    "print(confusion_matrix(y_train, y_train_pred))\n",
    "print(confusion_matrix(y_test, y_test_pred))\n",
    "print('--'*30)\n",
    "print('AUC-ROC:')\n",
    "print(roc_auc_score(y_train, y_train_pred))\n",
    "print(roc_auc_score(y_test, y_test_pred))"
   ]
  },
  {
   "cell_type": "markdown",
   "metadata": {},
   "source": [
    "logistic regression with regularization and CV (top 43 features from previous model)"
   ]
  },
  {
   "cell_type": "code",
   "execution_count": 69,
   "metadata": {
    "scrolled": false
   },
   "outputs": [],
   "source": [
    "logit_cv_coefs = pd.DataFrame({'features': X_train.columns,'coef': grid_search_logit.best_estimator_.coef_[0]})\n",
    "logit_cv_coefs['abs_coef'] = np.abs(logit_cv_coefs['coef'])\n",
    "logit_cv_43 = logit_cv_coefs.sort_values('abs_coef', ascending = False).iloc[:,0:2].head(43).features.tolist()"
   ]
  },
  {
   "cell_type": "code",
   "execution_count": 71,
   "metadata": {},
   "outputs": [],
   "source": [
    "X_train_43 = X_train[logit_cv_43]\n",
    "X_test_43 = X_test[logit_cv_43]\n",
    "\n",
    "# standardization\n",
    "scaler = StandardScaler().fit(X_train_43)\n",
    "X_train_scaled = scaler.transform(X_train_43)\n",
    "X_test_scaled = scaler.transform(X_test_43)"
   ]
  },
  {
   "cell_type": "code",
   "execution_count": 86,
   "metadata": {
    "scrolled": false
   },
   "outputs": [
    {
     "name": "stdout",
     "output_type": "stream",
     "text": [
      "Fitting 5 folds for each of 100 candidates, totalling 500 fits\n"
     ]
    },
    {
     "name": "stderr",
     "output_type": "stream",
     "text": [
      "[Parallel(n_jobs=-1)]: Using backend LokyBackend with 8 concurrent workers.\n",
      "[Parallel(n_jobs=-1)]: Done  34 tasks      | elapsed:    2.8s\n",
      "[Parallel(n_jobs=-1)]: Done 184 tasks      | elapsed:   15.5s\n",
      "[Parallel(n_jobs=-1)]: Done 434 tasks      | elapsed:   36.5s\n",
      "[Parallel(n_jobs=-1)]: Done 500 out of 500 | elapsed:   41.8s finished\n"
     ]
    },
    {
     "name": "stdout",
     "output_type": "stream",
     "text": [
      "Wall time: 42.1 s\n",
      "{'C': 0.19272727272727275, 'penalty': 'l1', 'solver': 'liblinear'}\n",
      "------------------------------------------------------------\n",
      "accuracy:\n",
      "0.6618193511504931\n",
      "0.6619265399456911\n",
      "------------------------------------------------------------\n",
      "confusion matrix:\n",
      "[[34293 16661]\n",
      " [ 2269  2753]]\n",
      "[[8597 4142]\n",
      " [ 589  666]]\n",
      "------------------------------------------------------------\n",
      "AUC-ROC:\n",
      "0.6106033870954455\n",
      "0.6027670149920765\n"
     ]
    }
   ],
   "source": [
    "logit = LogisticRegression(max_iter = 1000, class_weight = 'balanced', random_state = 42)\n",
    "logit.fit(X_train_scaled, y_train)\n",
    "\n",
    "logit_grid_params = [{'C': np.linspace(1e-3,1,100),'penalty':['l1'],'solver': ['liblinear']}]\n",
    "grid_search_logit = GridSearchCV(logit, logit_grid_params, scoring='roc_auc', cv=5, verbose = 1, n_jobs=-1)\n",
    "%time grid_search_logit.fit(X_train_scaled, y_train)\n",
    "\n",
    "print(grid_search_logit.best_params_)\n",
    "print('--'*30)\n",
    "print('accuracy:')\n",
    "print(grid_search_logit.best_estimator_.score(X_train_scaled, y_train))\n",
    "print(grid_search_logit.best_estimator_.score(X_test_scaled, y_test))\n",
    "print('--'*30)\n",
    "y_train_pred = grid_search_logit.best_estimator_.predict(X_train_scaled)\n",
    "y_test_pred = grid_search_logit.best_estimator_.predict(X_test_scaled)\n",
    "print('confusion matrix:')\n",
    "print(confusion_matrix(y_train, y_train_pred))\n",
    "print(confusion_matrix(y_test, y_test_pred))\n",
    "print('--'*30)\n",
    "print('AUC-ROC:')\n",
    "print(roc_auc_score(y_train, y_train_pred))\n",
    "print(roc_auc_score(y_test, y_test_pred))"
   ]
  },
  {
   "cell_type": "code",
   "execution_count": 87,
   "metadata": {
    "scrolled": false
   },
   "outputs": [
    {
     "data": {
      "text/html": [
       "<div>\n",
       "<style scoped>\n",
       "    .dataframe tbody tr th:only-of-type {\n",
       "        vertical-align: middle;\n",
       "    }\n",
       "\n",
       "    .dataframe tbody tr th {\n",
       "        vertical-align: top;\n",
       "    }\n",
       "\n",
       "    .dataframe thead th {\n",
       "        text-align: right;\n",
       "    }\n",
       "</style>\n",
       "<table border=\"1\" class=\"dataframe\">\n",
       "  <thead>\n",
       "    <tr style=\"text-align: right;\">\n",
       "      <th></th>\n",
       "      <th>features</th>\n",
       "      <th>coef</th>\n",
       "    </tr>\n",
       "  </thead>\n",
       "  <tbody>\n",
       "    <tr>\n",
       "      <th>0</th>\n",
       "      <td>number_inpatient</td>\n",
       "      <td>0.202739</td>\n",
       "    </tr>\n",
       "    <tr>\n",
       "      <th>1</th>\n",
       "      <td>discharge_disposition_id_22</td>\n",
       "      <td>0.201254</td>\n",
       "    </tr>\n",
       "    <tr>\n",
       "      <th>2</th>\n",
       "      <td>discharge_disposition_id_3</td>\n",
       "      <td>0.185901</td>\n",
       "    </tr>\n",
       "    <tr>\n",
       "      <th>3</th>\n",
       "      <td>discharge_disposition_id_5</td>\n",
       "      <td>0.132137</td>\n",
       "    </tr>\n",
       "    <tr>\n",
       "      <th>5</th>\n",
       "      <td>diabetesMed_Yes</td>\n",
       "      <td>0.102001</td>\n",
       "    </tr>\n",
       "    <tr>\n",
       "      <th>4</th>\n",
       "      <td>discharge_disposition_id_2</td>\n",
       "      <td>0.098250</td>\n",
       "    </tr>\n",
       "    <tr>\n",
       "      <th>6</th>\n",
       "      <td>discharge_disposition_id_18</td>\n",
       "      <td>0.095155</td>\n",
       "    </tr>\n",
       "    <tr>\n",
       "      <th>7</th>\n",
       "      <td>786_diag</td>\n",
       "      <td>-0.090354</td>\n",
       "    </tr>\n",
       "    <tr>\n",
       "      <th>8</th>\n",
       "      <td>403_diag</td>\n",
       "      <td>0.082011</td>\n",
       "    </tr>\n",
       "    <tr>\n",
       "      <th>9</th>\n",
       "      <td>number_emergency</td>\n",
       "      <td>0.079422</td>\n",
       "    </tr>\n",
       "    <tr>\n",
       "      <th>10</th>\n",
       "      <td>discharge_disposition_id_6</td>\n",
       "      <td>0.073152</td>\n",
       "    </tr>\n",
       "    <tr>\n",
       "      <th>11</th>\n",
       "      <td>number_diagnoses</td>\n",
       "      <td>0.071927</td>\n",
       "    </tr>\n",
       "    <tr>\n",
       "      <th>12</th>\n",
       "      <td>age_num</td>\n",
       "      <td>0.063272</td>\n",
       "    </tr>\n",
       "    <tr>\n",
       "      <th>14</th>\n",
       "      <td>722_diag</td>\n",
       "      <td>-0.058058</td>\n",
       "    </tr>\n",
       "    <tr>\n",
       "      <th>15</th>\n",
       "      <td>428_diag</td>\n",
       "      <td>0.054579</td>\n",
       "    </tr>\n",
       "  </tbody>\n",
       "</table>\n",
       "</div>"
      ],
      "text/plain": [
       "                       features      coef\n",
       "0              number_inpatient  0.202739\n",
       "1   discharge_disposition_id_22  0.201254\n",
       "2    discharge_disposition_id_3  0.185901\n",
       "3    discharge_disposition_id_5  0.132137\n",
       "5               diabetesMed_Yes  0.102001\n",
       "4    discharge_disposition_id_2  0.098250\n",
       "6   discharge_disposition_id_18  0.095155\n",
       "7                      786_diag -0.090354\n",
       "8                      403_diag  0.082011\n",
       "9              number_emergency  0.079422\n",
       "10   discharge_disposition_id_6  0.073152\n",
       "11             number_diagnoses  0.071927\n",
       "12                      age_num  0.063272\n",
       "14                     722_diag -0.058058\n",
       "15                     428_diag  0.054579"
      ]
     },
     "execution_count": 87,
     "metadata": {},
     "output_type": "execute_result"
    }
   ],
   "source": [
    "logit_cv_coefs = pd.DataFrame({'feature': X_train_43.columns,'coef': grid_search_logit.best_estimator_.coef_[0]})\n",
    "logit_cv_coefs['abs_coef'] = np.abs(logit_cv_coefs['coef'])\n",
    "logit_cv_coefs.sort_values('abs_coef', ascending = False).iloc[:,0:2].head(15)"
   ]
  },
  {
   "cell_type": "code",
   "execution_count": 94,
   "metadata": {},
   "outputs": [
    {
     "data": {
      "text/plain": [
       "0     0.202739\n",
       "1     0.201254\n",
       "2     0.185901\n",
       "3     0.132137\n",
       "4     0.098250\n",
       "5     0.102001\n",
       "6     0.095155\n",
       "7    -0.090354\n",
       "8     0.082011\n",
       "9     0.079422\n",
       "10    0.073152\n",
       "11    0.071927\n",
       "12    0.063272\n",
       "13    0.050810\n",
       "14   -0.058058\n",
       "Name: coef, dtype: float64"
      ]
     },
     "execution_count": 94,
     "metadata": {},
     "output_type": "execute_result"
    }
   ],
   "source": [
    "logit_cv_coefs.coef[0:15]"
   ]
  },
  {
   "cell_type": "code",
   "execution_count": 88,
   "metadata": {},
   "outputs": [
    {
     "name": "stdout",
     "output_type": "stream",
     "text": [
      "[0.037142857142857144, 0.04789135096497498, 0.061472480343102216, 0.06714285714285714, 0.07719799857040743, 0.07719799857040743, 0.09571428571428571, 0.11007862759113653, 0.12080057183702644, 0.20214285714285715]\n",
      "[0.41416505406943654, 0.534017183588733, 0.6854548923676275, 0.7486829823562892, 0.8608038183221368, 0.8608038183221368, 1.067271485486625, 1.2274424816815654, 1.3469985675596399, 2.254013659647126]\n"
     ]
    },
    {
     "data": {
      "text/html": [
       "<div>\n",
       "<style scoped>\n",
       "    .dataframe tbody tr th:only-of-type {\n",
       "        vertical-align: middle;\n",
       "    }\n",
       "\n",
       "    .dataframe tbody tr th {\n",
       "        vertical-align: top;\n",
       "    }\n",
       "\n",
       "    .dataframe thead th {\n",
       "        text-align: right;\n",
       "    }\n",
       "</style>\n",
       "<table border=\"1\" class=\"dataframe\">\n",
       "  <thead>\n",
       "    <tr style=\"text-align: right;\">\n",
       "      <th></th>\n",
       "      <th>% Rehospitalized</th>\n",
       "      <th>Lift</th>\n",
       "    </tr>\n",
       "  </thead>\n",
       "  <tbody>\n",
       "    <tr>\n",
       "      <th>Decile 1</th>\n",
       "      <td>0.037143</td>\n",
       "      <td>0.414165</td>\n",
       "    </tr>\n",
       "    <tr>\n",
       "      <th>Decile 2</th>\n",
       "      <td>0.047891</td>\n",
       "      <td>0.534017</td>\n",
       "    </tr>\n",
       "    <tr>\n",
       "      <th>Decile 3</th>\n",
       "      <td>0.061472</td>\n",
       "      <td>0.685455</td>\n",
       "    </tr>\n",
       "    <tr>\n",
       "      <th>Decile 4</th>\n",
       "      <td>0.067143</td>\n",
       "      <td>0.748683</td>\n",
       "    </tr>\n",
       "    <tr>\n",
       "      <th>Decile 5</th>\n",
       "      <td>0.077198</td>\n",
       "      <td>0.860804</td>\n",
       "    </tr>\n",
       "    <tr>\n",
       "      <th>Decile 6</th>\n",
       "      <td>0.077198</td>\n",
       "      <td>0.860804</td>\n",
       "    </tr>\n",
       "    <tr>\n",
       "      <th>Decile 7</th>\n",
       "      <td>0.095714</td>\n",
       "      <td>1.067271</td>\n",
       "    </tr>\n",
       "    <tr>\n",
       "      <th>Decile 8</th>\n",
       "      <td>0.110079</td>\n",
       "      <td>1.227442</td>\n",
       "    </tr>\n",
       "    <tr>\n",
       "      <th>Decile 9</th>\n",
       "      <td>0.120801</td>\n",
       "      <td>1.346999</td>\n",
       "    </tr>\n",
       "    <tr>\n",
       "      <th>Decile 10</th>\n",
       "      <td>0.202143</td>\n",
       "      <td>2.254014</td>\n",
       "    </tr>\n",
       "  </tbody>\n",
       "</table>\n",
       "</div>"
      ],
      "text/plain": [
       "           % Rehospitalized      Lift\n",
       "Decile 1           0.037143  0.414165\n",
       "Decile 2           0.047891  0.534017\n",
       "Decile 3           0.061472  0.685455\n",
       "Decile 4           0.067143  0.748683\n",
       "Decile 5           0.077198  0.860804\n",
       "Decile 6           0.077198  0.860804\n",
       "Decile 7           0.095714  1.067271\n",
       "Decile 8           0.110079  1.227442\n",
       "Decile 9           0.120801  1.346999\n",
       "Decile 10          0.202143  2.254014"
      ]
     },
     "execution_count": 88,
     "metadata": {},
     "output_type": "execute_result"
    }
   ],
   "source": [
    "predicted_probs = pd.Series(grid_search_logit.best_estimator_.predict_proba(X_test_scaled)[:,1],\n",
    "                            index=X_test_43.index)\n",
    "bins = pd.qcut(predicted_probs.sort_values(),q=10,labels=range(1,11))\n",
    "results = []\n",
    "for i in range(1,11):\n",
    "    results.append(y_test[bins[bins==i].index])\n",
    "overall = y_test.sum()/len(y_test)\n",
    "print([(i.sum())/(len(i)) for i in results])\n",
    "print([(i.sum())/(len(i))/overall for i in results])\n",
    "\n",
    "tmp = pd.DataFrame([[(i.sum())/(len(i)) for i in results],[(i.sum())/(len(i))/overall for i in results]]).T\n",
    "tmp.columns = ['% Rehospitalized','Lift']\n",
    "dec = ['Decile 1','Decile 2','Decile 3','Decile 4','Decile 5','Decile 6','Decile 7','Decile 8','Decile 9','Decile 10']\n",
    "tmp.index = dec\n",
    "tmp"
   ]
  },
  {
   "cell_type": "code",
   "execution_count": 89,
   "metadata": {},
   "outputs": [
    {
     "name": "stdout",
     "output_type": "stream",
     "text": [
      "Overall rate of readmission:\n",
      "False    0.910319\n",
      "True     0.089681\n",
      "Name: readmit_30d, dtype: float64\n",
      "[52, 67, 86, 94, 108, 108, 134, 154, 169, 283]\n"
     ]
    },
    {
     "data": {
      "text/html": [
       "<div>\n",
       "<style scoped>\n",
       "    .dataframe tbody tr th:only-of-type {\n",
       "        vertical-align: middle;\n",
       "    }\n",
       "\n",
       "    .dataframe tbody tr th {\n",
       "        vertical-align: top;\n",
       "    }\n",
       "\n",
       "    .dataframe thead th {\n",
       "        text-align: right;\n",
       "    }\n",
       "</style>\n",
       "<table border=\"1\" class=\"dataframe\">\n",
       "  <thead>\n",
       "    <tr style=\"text-align: right;\">\n",
       "      <th></th>\n",
       "      <th>1</th>\n",
       "      <th>2</th>\n",
       "      <th>3</th>\n",
       "      <th>4</th>\n",
       "      <th>5</th>\n",
       "      <th>6</th>\n",
       "      <th>7</th>\n",
       "      <th>8</th>\n",
       "      <th>9</th>\n",
       "      <th>10</th>\n",
       "    </tr>\n",
       "  </thead>\n",
       "  <tbody>\n",
       "    <tr>\n",
       "      <th>index</th>\n",
       "      <td>1400</td>\n",
       "      <td>1399</td>\n",
       "      <td>1399</td>\n",
       "      <td>1400</td>\n",
       "      <td>1399</td>\n",
       "      <td>1399</td>\n",
       "      <td>1400</td>\n",
       "      <td>1399</td>\n",
       "      <td>1399</td>\n",
       "      <td>1400</td>\n",
       "    </tr>\n",
       "  </tbody>\n",
       "</table>\n",
       "</div>"
      ],
      "text/plain": [
       "0        1     2     3     4     5     6     7     8     9     10\n",
       "index  1400  1399  1399  1400  1399  1399  1400  1399  1399  1400"
      ]
     },
     "execution_count": 89,
     "metadata": {},
     "output_type": "execute_result"
    }
   ],
   "source": [
    "print(f'Overall rate of readmission:\\n{y_test.value_counts()/len(y_test)}')\n",
    "print([i.sum()for i in results])\n",
    "pd.DataFrame(bins).reset_index().groupby(0).count().T"
   ]
  },
  {
   "cell_type": "markdown",
   "metadata": {},
   "source": [
    "random forest with CV (93 features)"
   ]
  },
  {
   "cell_type": "code",
   "execution_count": 95,
   "metadata": {},
   "outputs": [],
   "source": [
    "from sklearn.ensemble import RandomForestClassifier\n",
    "RF = RandomForestClassifier(oob_score=True, class_weight = 'balanced_subsample', random_state = 42)"
   ]
  },
  {
   "cell_type": "code",
   "execution_count": 100,
   "metadata": {
    "scrolled": true
   },
   "outputs": [
    {
     "name": "stdout",
     "output_type": "stream",
     "text": [
      "Wall time: 58 s\n",
      "RandomForestClassifier(class_weight='balanced_subsample', max_depth=6,\n",
      "                       max_features='sqrt', min_samples_leaf=50,\n",
      "                       min_samples_split=300, n_estimators=600, oob_score=True,\n",
      "                       random_state=42)\n",
      "------------------------------------------------------------\n",
      "accuracy\n",
      "0.6519401171930828\n",
      "0.6498499356867229\n",
      "------------------------------------------------------------\n",
      "confusion matrix\n",
      "[[33668 17286]\n",
      " [ 2197  2825]]\n",
      "[[8404 4335]\n",
      " [ 565  690]]\n",
      "------------------------------------------------------------\n",
      "AUC-ROC\n",
      "0.6116388631865379\n",
      "0.6047536050944976\n"
     ]
    }
   ],
   "source": [
    "RF_grid_params = [{\n",
    "    'n_estimators': [600], #range(100,800,100),\n",
    "    'max_depth': [6], #[4,5,6],\n",
    "    'max_features': ['sqrt'], #['sqrt','log2'],\n",
    "    'criterion': ['gini'], #['gini','entropy'],\n",
    "    'min_samples_leaf': [50], #[40,50,60],\n",
    "    'min_samples_split': [300], #range(200,400,50),\n",
    "    'class_weight': ['balanced_subsample'],\n",
    "    'random_state': [42]}]\n",
    "grid_search_RF = GridSearchCV(RF, RF_grid_params, scoring='roc_auc', cv=5, n_jobs=-1)\n",
    "%time grid_search_RF.fit(X_train, y_train)\n",
    "\n",
    "print(grid_search_RF.best_estimator_)\n",
    "print('--'*30)\n",
    "print('accuracy')\n",
    "print(grid_search_RF.best_estimator_.score(X_train, y_train))\n",
    "print(grid_search_RF.best_estimator_.score(X_test, y_test))\n",
    "print('--'*30)\n",
    "y_train_pred = grid_search_RF.best_estimator_.predict(X_train)\n",
    "y_test_pred = grid_search_RF.best_estimator_.predict(X_test)\n",
    "print('confusion matrix')\n",
    "print(confusion_matrix(y_train, y_train_pred))\n",
    "print(confusion_matrix(y_test, y_test_pred))\n",
    "print('--'*30)\n",
    "print('AUC-ROC')\n",
    "print(roc_auc_score(y_train, y_train_pred))\n",
    "print(roc_auc_score(y_test, y_test_pred))"
   ]
  },
  {
   "cell_type": "markdown",
   "metadata": {},
   "source": [
    "random forest with CV (top 43 features from previous model)"
   ]
  },
  {
   "cell_type": "code",
   "execution_count": 101,
   "metadata": {},
   "outputs": [],
   "source": [
    "RF_coefs = pd.DataFrame({'feature':X_train.columns,\n",
    "                      'importance':grid_search_RF.best_estimator_.feature_importances_})\n",
    "RF_43 = RF_coefs.sort_values('importance',ascending = False).head(43).feature.tolist()"
   ]
  },
  {
   "cell_type": "code",
   "execution_count": 102,
   "metadata": {},
   "outputs": [],
   "source": [
    "X_train_43 = X_train[RF_43]\n",
    "X_test_43 = X_test[RF_43]"
   ]
  },
  {
   "cell_type": "code",
   "execution_count": 103,
   "metadata": {},
   "outputs": [
    {
     "name": "stdout",
     "output_type": "stream",
     "text": [
      "Wall time: 43.2 s\n",
      "RandomForestClassifier(class_weight='balanced_subsample', criterion='entropy',\n",
      "                       max_depth=6, max_features='sqrt', min_samples_leaf=50,\n",
      "                       min_samples_split=300, n_estimators=300, oob_score=True,\n",
      "                       random_state=42)\n",
      "------------------------------------------------------------\n",
      "accuracy\n",
      "0.6550843218522224\n",
      "0.6529941403458626\n",
      "------------------------------------------------------------\n",
      "confusion matrix\n",
      "[[33860 17094]\n",
      " [ 2213  2809]]\n",
      "[[8456 4283]\n",
      " [ 573  682]]\n",
      "------------------------------------------------------------\n",
      "AUC-ROC\n",
      "0.611929924628686\n",
      "0.6036073306272516\n"
     ]
    }
   ],
   "source": [
    "RF_grid_params = [{\n",
    "    'n_estimators': [300], #range(100,800,100),\n",
    "    'max_depth': [6], #[4,5,6],\n",
    "    'max_features': ['sqrt'], #['sqrt','log2'],\n",
    "    'criterion': ['gini','entropy'], #['gini','entropy'],\n",
    "    'min_samples_leaf': [50], #[40,50,60],\n",
    "    'min_samples_split': [300], #range(200,400,50),\n",
    "    'class_weight': ['balanced_subsample'],\n",
    "    'random_state': [42]}]\n",
    "grid_search_RF = GridSearchCV(RF, RF_grid_params, scoring='roc_auc', cv=5, n_jobs=-1)\n",
    "%time grid_search_RF.fit(X_train_43, y_train)\n",
    "\n",
    "print(grid_search_RF.best_estimator_)\n",
    "print('--'*30)\n",
    "print('accuracy')\n",
    "print(grid_search_RF.best_estimator_.score(X_train_43, y_train))\n",
    "print(grid_search_RF.best_estimator_.score(X_test_43, y_test))\n",
    "print('--'*30)\n",
    "y_train_pred = grid_search_RF.best_estimator_.predict(X_train_43)\n",
    "y_test_pred = grid_search_RF.best_estimator_.predict(X_test_43)\n",
    "print('confusion matrix')\n",
    "print(confusion_matrix(y_train, y_train_pred))\n",
    "print(confusion_matrix(y_test, y_test_pred))\n",
    "print('--'*30)\n",
    "print('AUC-ROC')\n",
    "print(roc_auc_score(y_train, y_train_pred))\n",
    "print(roc_auc_score(y_test, y_test_pred))"
   ]
  },
  {
   "cell_type": "code",
   "execution_count": 104,
   "metadata": {},
   "outputs": [
    {
     "data": {
      "text/html": [
       "<div>\n",
       "<style scoped>\n",
       "    .dataframe tbody tr th:only-of-type {\n",
       "        vertical-align: middle;\n",
       "    }\n",
       "\n",
       "    .dataframe tbody tr th {\n",
       "        vertical-align: top;\n",
       "    }\n",
       "\n",
       "    .dataframe thead th {\n",
       "        text-align: right;\n",
       "    }\n",
       "</style>\n",
       "<table border=\"1\" class=\"dataframe\">\n",
       "  <thead>\n",
       "    <tr style=\"text-align: right;\">\n",
       "      <th></th>\n",
       "      <th>feature</th>\n",
       "      <th>importance</th>\n",
       "    </tr>\n",
       "  </thead>\n",
       "  <tbody>\n",
       "    <tr>\n",
       "      <th>0</th>\n",
       "      <td>number_inpatient</td>\n",
       "      <td>0.194918</td>\n",
       "    </tr>\n",
       "    <tr>\n",
       "      <th>1</th>\n",
       "      <td>discharge_disposition_id_22</td>\n",
       "      <td>0.134458</td>\n",
       "    </tr>\n",
       "    <tr>\n",
       "      <th>3</th>\n",
       "      <td>time_in_hospital</td>\n",
       "      <td>0.100960</td>\n",
       "    </tr>\n",
       "    <tr>\n",
       "      <th>2</th>\n",
       "      <td>discharge_disposition_id_3</td>\n",
       "      <td>0.084984</td>\n",
       "    </tr>\n",
       "    <tr>\n",
       "      <th>4</th>\n",
       "      <td>age_num</td>\n",
       "      <td>0.072847</td>\n",
       "    </tr>\n",
       "    <tr>\n",
       "      <th>6</th>\n",
       "      <td>number_diagnoses</td>\n",
       "      <td>0.051148</td>\n",
       "    </tr>\n",
       "    <tr>\n",
       "      <th>5</th>\n",
       "      <td>num_medications</td>\n",
       "      <td>0.048522</td>\n",
       "    </tr>\n",
       "    <tr>\n",
       "      <th>7</th>\n",
       "      <td>num_lab_procedures</td>\n",
       "      <td>0.034522</td>\n",
       "    </tr>\n",
       "    <tr>\n",
       "      <th>8</th>\n",
       "      <td>discharge_disposition_id_5</td>\n",
       "      <td>0.034134</td>\n",
       "    </tr>\n",
       "    <tr>\n",
       "      <th>9</th>\n",
       "      <td>786_diag</td>\n",
       "      <td>0.024871</td>\n",
       "    </tr>\n",
       "    <tr>\n",
       "      <th>11</th>\n",
       "      <td>number_emergency</td>\n",
       "      <td>0.022759</td>\n",
       "    </tr>\n",
       "    <tr>\n",
       "      <th>10</th>\n",
       "      <td>434_diag</td>\n",
       "      <td>0.021440</td>\n",
       "    </tr>\n",
       "    <tr>\n",
       "      <th>12</th>\n",
       "      <td>403_diag</td>\n",
       "      <td>0.017334</td>\n",
       "    </tr>\n",
       "    <tr>\n",
       "      <th>14</th>\n",
       "      <td>diabetesMed_Yes</td>\n",
       "      <td>0.014945</td>\n",
       "    </tr>\n",
       "    <tr>\n",
       "      <th>15</th>\n",
       "      <td>428_diag</td>\n",
       "      <td>0.013805</td>\n",
       "    </tr>\n",
       "  </tbody>\n",
       "</table>\n",
       "</div>"
      ],
      "text/plain": [
       "                        feature  importance\n",
       "0              number_inpatient    0.194918\n",
       "1   discharge_disposition_id_22    0.134458\n",
       "3              time_in_hospital    0.100960\n",
       "2    discharge_disposition_id_3    0.084984\n",
       "4                       age_num    0.072847\n",
       "6              number_diagnoses    0.051148\n",
       "5               num_medications    0.048522\n",
       "7            num_lab_procedures    0.034522\n",
       "8    discharge_disposition_id_5    0.034134\n",
       "9                      786_diag    0.024871\n",
       "11             number_emergency    0.022759\n",
       "10                     434_diag    0.021440\n",
       "12                     403_diag    0.017334\n",
       "14              diabetesMed_Yes    0.014945\n",
       "15                     428_diag    0.013805"
      ]
     },
     "execution_count": 104,
     "metadata": {},
     "output_type": "execute_result"
    }
   ],
   "source": [
    "RF_coefs = pd.DataFrame({'feature':X_train_43.columns,\n",
    "                         'importance':grid_search_RF.best_estimator_.feature_importances_})\n",
    "RF_coefs.sort_values('importance',ascending = False).head(15)"
   ]
  },
  {
   "cell_type": "code",
   "execution_count": 109,
   "metadata": {},
   "outputs": [
    {
     "data": {
      "text/plain": [
       "0     0.194918\n",
       "1     0.134458\n",
       "2     0.084984\n",
       "3     0.100960\n",
       "4     0.072847\n",
       "5     0.048522\n",
       "6     0.051148\n",
       "7     0.034522\n",
       "8     0.034134\n",
       "9     0.024871\n",
       "10    0.021440\n",
       "11    0.022759\n",
       "12    0.017334\n",
       "13    0.011777\n",
       "14    0.014945\n",
       "Name: importance, dtype: float64"
      ]
     },
     "execution_count": 109,
     "metadata": {},
     "output_type": "execute_result"
    }
   ],
   "source": [
    "RF_coefs.importance[0:15]"
   ]
  },
  {
   "cell_type": "code",
   "execution_count": 105,
   "metadata": {},
   "outputs": [
    {
     "name": "stdout",
     "output_type": "stream",
     "text": [
      "[0.04214285714285714, 0.05003573981415296, 0.06647605432451752, 0.06857142857142857, 0.062187276626161546, 0.08005718370264475, 0.08857142857142856, 0.10793423874195854, 0.12651894210150108, 0.2042857142857143]\n",
      "[0.4699180421172453, 0.5579284007643479, 0.7412477324440623, 0.764612407512806, 0.6934252980928324, 0.8926854412229567, 0.9876243597040409, 1.2035312645059504, 1.4107618133612798, 2.2779077973819013]\n"
     ]
    },
    {
     "data": {
      "text/html": [
       "<div>\n",
       "<style scoped>\n",
       "    .dataframe tbody tr th:only-of-type {\n",
       "        vertical-align: middle;\n",
       "    }\n",
       "\n",
       "    .dataframe tbody tr th {\n",
       "        vertical-align: top;\n",
       "    }\n",
       "\n",
       "    .dataframe thead th {\n",
       "        text-align: right;\n",
       "    }\n",
       "</style>\n",
       "<table border=\"1\" class=\"dataframe\">\n",
       "  <thead>\n",
       "    <tr style=\"text-align: right;\">\n",
       "      <th></th>\n",
       "      <th>% Rehospitalized</th>\n",
       "      <th>Lift</th>\n",
       "    </tr>\n",
       "  </thead>\n",
       "  <tbody>\n",
       "    <tr>\n",
       "      <th>Decile 1</th>\n",
       "      <td>0.042143</td>\n",
       "      <td>0.469918</td>\n",
       "    </tr>\n",
       "    <tr>\n",
       "      <th>Decile 2</th>\n",
       "      <td>0.050036</td>\n",
       "      <td>0.557928</td>\n",
       "    </tr>\n",
       "    <tr>\n",
       "      <th>Decile 3</th>\n",
       "      <td>0.066476</td>\n",
       "      <td>0.741248</td>\n",
       "    </tr>\n",
       "    <tr>\n",
       "      <th>Decile 4</th>\n",
       "      <td>0.068571</td>\n",
       "      <td>0.764612</td>\n",
       "    </tr>\n",
       "    <tr>\n",
       "      <th>Decile 5</th>\n",
       "      <td>0.062187</td>\n",
       "      <td>0.693425</td>\n",
       "    </tr>\n",
       "    <tr>\n",
       "      <th>Decile 6</th>\n",
       "      <td>0.080057</td>\n",
       "      <td>0.892685</td>\n",
       "    </tr>\n",
       "    <tr>\n",
       "      <th>Decile 7</th>\n",
       "      <td>0.088571</td>\n",
       "      <td>0.987624</td>\n",
       "    </tr>\n",
       "    <tr>\n",
       "      <th>Decile 8</th>\n",
       "      <td>0.107934</td>\n",
       "      <td>1.203531</td>\n",
       "    </tr>\n",
       "    <tr>\n",
       "      <th>Decile 9</th>\n",
       "      <td>0.126519</td>\n",
       "      <td>1.410762</td>\n",
       "    </tr>\n",
       "    <tr>\n",
       "      <th>Decile 10</th>\n",
       "      <td>0.204286</td>\n",
       "      <td>2.277908</td>\n",
       "    </tr>\n",
       "  </tbody>\n",
       "</table>\n",
       "</div>"
      ],
      "text/plain": [
       "           % Rehospitalized      Lift\n",
       "Decile 1           0.042143  0.469918\n",
       "Decile 2           0.050036  0.557928\n",
       "Decile 3           0.066476  0.741248\n",
       "Decile 4           0.068571  0.764612\n",
       "Decile 5           0.062187  0.693425\n",
       "Decile 6           0.080057  0.892685\n",
       "Decile 7           0.088571  0.987624\n",
       "Decile 8           0.107934  1.203531\n",
       "Decile 9           0.126519  1.410762\n",
       "Decile 10          0.204286  2.277908"
      ]
     },
     "execution_count": 105,
     "metadata": {},
     "output_type": "execute_result"
    }
   ],
   "source": [
    "predicted_probs = pd.Series(grid_search_RF.best_estimator_.predict_proba(X_test_43)[:,1],\n",
    "                            index=X_test_43.index)\n",
    "bins = pd.qcut(predicted_probs.sort_values(),q=10,labels=range(1,11))\n",
    "results = []\n",
    "for i in range(1,11):\n",
    "    results.append(y_test[bins[bins==i].index])\n",
    "overall = y_test.sum()/len(y_test)\n",
    "print([(i.sum())/(len(i)) for i in results])\n",
    "print([(i.sum())/(len(i))/overall for i in results])\n",
    "\n",
    "tmp = pd.DataFrame([[(i.sum())/(len(i)) for i in results],[(i.sum())/(len(i))/overall for i in results]]).T\n",
    "tmp.columns = ['% Rehospitalized','Lift']\n",
    "dec = ['Decile 1','Decile 2','Decile 3','Decile 4','Decile 5','Decile 6','Decile 7','Decile 8','Decile 9','Decile 10']\n",
    "tmp.index = dec\n",
    "tmp"
   ]
  },
  {
   "cell_type": "code",
   "execution_count": 106,
   "metadata": {
    "scrolled": true
   },
   "outputs": [
    {
     "name": "stdout",
     "output_type": "stream",
     "text": [
      "Overall rate of readmission:\n",
      "False    0.910319\n",
      "True     0.089681\n",
      "Name: readmit_30d, dtype: float64\n",
      "[59, 70, 93, 96, 87, 112, 124, 151, 177, 286]\n"
     ]
    },
    {
     "data": {
      "text/html": [
       "<div>\n",
       "<style scoped>\n",
       "    .dataframe tbody tr th:only-of-type {\n",
       "        vertical-align: middle;\n",
       "    }\n",
       "\n",
       "    .dataframe tbody tr th {\n",
       "        vertical-align: top;\n",
       "    }\n",
       "\n",
       "    .dataframe thead th {\n",
       "        text-align: right;\n",
       "    }\n",
       "</style>\n",
       "<table border=\"1\" class=\"dataframe\">\n",
       "  <thead>\n",
       "    <tr style=\"text-align: right;\">\n",
       "      <th></th>\n",
       "      <th>1</th>\n",
       "      <th>2</th>\n",
       "      <th>3</th>\n",
       "      <th>4</th>\n",
       "      <th>5</th>\n",
       "      <th>6</th>\n",
       "      <th>7</th>\n",
       "      <th>8</th>\n",
       "      <th>9</th>\n",
       "      <th>10</th>\n",
       "    </tr>\n",
       "  </thead>\n",
       "  <tbody>\n",
       "    <tr>\n",
       "      <th>index</th>\n",
       "      <td>1400</td>\n",
       "      <td>1399</td>\n",
       "      <td>1399</td>\n",
       "      <td>1400</td>\n",
       "      <td>1399</td>\n",
       "      <td>1399</td>\n",
       "      <td>1400</td>\n",
       "      <td>1399</td>\n",
       "      <td>1399</td>\n",
       "      <td>1400</td>\n",
       "    </tr>\n",
       "  </tbody>\n",
       "</table>\n",
       "</div>"
      ],
      "text/plain": [
       "0        1     2     3     4     5     6     7     8     9     10\n",
       "index  1400  1399  1399  1400  1399  1399  1400  1399  1399  1400"
      ]
     },
     "execution_count": 106,
     "metadata": {},
     "output_type": "execute_result"
    }
   ],
   "source": [
    "print(f'Overall rate of readmission:\\n{y_test.value_counts()/len(y_test)}')\n",
    "print([i.sum()for i in results])\n",
    "pd.DataFrame(bins).reset_index().groupby(0).count().T"
   ]
  },
  {
   "cell_type": "code",
   "execution_count": 110,
   "metadata": {},
   "outputs": [
    {
     "data": {
      "text/plain": [
       "False    12739\n",
       "True      1255\n",
       "Name: readmit_30d, dtype: int64"
      ]
     },
     "execution_count": 110,
     "metadata": {},
     "output_type": "execute_result"
    }
   ],
   "source": [
    "y_test.value_counts()"
   ]
  },
  {
   "cell_type": "markdown",
   "metadata": {},
   "source": [
    "gradient boosting with CV (93 features)"
   ]
  },
  {
   "cell_type": "code",
   "execution_count": 37,
   "metadata": {},
   "outputs": [
    {
     "name": "stdout",
     "output_type": "stream",
     "text": [
      "(101908, 93)\n"
     ]
    },
    {
     "data": {
      "text/plain": [
       "True     50954\n",
       "False    50954\n",
       "Name: readmit_30d, dtype: int64"
      ]
     },
     "execution_count": 37,
     "metadata": {},
     "output_type": "execute_result"
    }
   ],
   "source": [
    "# resampling\n",
    "from imblearn.over_sampling import RandomOverSampler\n",
    "ros = RandomOverSampler(random_state = 42)\n",
    "X_train, y_train = ros.fit_sample(X_train, y_train)\n",
    "print(X_train.shape)\n",
    "y_train.value_counts()"
   ]
  },
  {
   "cell_type": "code",
   "execution_count": 38,
   "metadata": {},
   "outputs": [],
   "source": [
    "from sklearn.ensemble import GradientBoostingClassifier\n",
    "GB = GradientBoostingClassifier(random_state = 42)"
   ]
  },
  {
   "cell_type": "code",
   "execution_count": 39,
   "metadata": {},
   "outputs": [
    {
     "name": "stdout",
     "output_type": "stream",
     "text": [
      "Fitting 5 folds for each of 1 candidates, totalling 5 fits\n"
     ]
    },
    {
     "name": "stderr",
     "output_type": "stream",
     "text": [
      "[Parallel(n_jobs=-1)]: Using backend LokyBackend with 8 concurrent workers.\n",
      "[Parallel(n_jobs=-1)]: Done   2 out of   5 | elapsed:  2.1min remaining:  3.2min\n",
      "[Parallel(n_jobs=-1)]: Done   5 out of   5 | elapsed:  2.1min finished\n"
     ]
    },
    {
     "name": "stdout",
     "output_type": "stream",
     "text": [
      "Wall time: 3min 44s\n",
      "GradientBoostingClassifier(learning_rate=1, max_depth=4, min_samples_leaf=50,\n",
      "                           min_samples_split=300, n_estimators=300,\n",
      "                           random_state=42, subsample=0.8)\n",
      "------------------------------------------------------------\n",
      "accuracy:\n",
      "0.8317011422066962\n",
      "0.723024153208518\n",
      "confusion matrices:\n",
      "[[40894 10060]\n",
      " [ 7091 43863]]\n",
      "[[9680 3059]\n",
      " [ 817  438]]\n",
      "------------------------------------------------------------\n",
      "AUC-ROC:\n",
      "0.8317011422066962\n",
      "0.5544376227721189\n"
     ]
    }
   ],
   "source": [
    "GB_grid_params = [{\n",
    "    'learning_rate': [1], #[0.8,0,9,1.0,1.1,1.2],\n",
    "    'n_estimators': [300], #range(100,800,100),\n",
    "    'max_depth': [4],\n",
    "    'subsample': [0.8], #np.linspace(0.6,0.9,10),\n",
    "#     'max_features':['sqrt','log2'],\n",
    "#     'criterion': ['mse','friedman_mse','mae'],\n",
    "    'min_samples_leaf': [50], #range(50,80,5),\n",
    "    'min_samples_split': [300], #[400,500,600,700,800],\n",
    "    'random_state':[42]\n",
    "}]\n",
    "grid_search_GB = GridSearchCV(GB, GB_grid_params, scoring='roc_auc', cv=5, verbose = 1, n_jobs=-1)\n",
    "%time grid_search_GB.fit(X_train, y_train)\n",
    "\n",
    "print(grid_search_GB.best_estimator_)\n",
    "print('--'*30)\n",
    "y_train_pred = grid_search_GB.best_estimator_.predict(X_train)\n",
    "y_test_pred = grid_search_GB.best_estimator_.predict(X_test)\n",
    "print('accuracy:')\n",
    "print(grid_search_GB.best_estimator_.score(X_train, y_train))\n",
    "print(grid_search_GB.best_estimator_.score(X_test, y_test))\n",
    "print('confusion matrices:')\n",
    "print(confusion_matrix(y_train, y_train_pred))\n",
    "print(confusion_matrix(y_test, y_test_pred))\n",
    "print('--'*30)\n",
    "print('AUC-ROC:')\n",
    "print(roc_auc_score(y_train, y_train_pred))\n",
    "print(roc_auc_score(y_test, y_test_pred))"
   ]
  },
  {
   "cell_type": "markdown",
   "metadata": {},
   "source": [
    "gradient boosting with CV (top 43 features from previous model)"
   ]
  },
  {
   "cell_type": "code",
   "execution_count": 40,
   "metadata": {},
   "outputs": [],
   "source": [
    "GB_coefs = pd.DataFrame({'feature':X_train.columns,\n",
    "                      'importance':grid_search_GB.best_estimator_.feature_importances_})\n",
    "GB_43 = RF_coefs.sort_values('importance',ascending = False).head(43).feature.tolist()"
   ]
  },
  {
   "cell_type": "code",
   "execution_count": 41,
   "metadata": {},
   "outputs": [],
   "source": [
    "X_train_43 = X_train[GB_43]\n",
    "X_test_43 = X_test[GB_43]"
   ]
  },
  {
   "cell_type": "code",
   "execution_count": 42,
   "metadata": {},
   "outputs": [
    {
     "name": "stdout",
     "output_type": "stream",
     "text": [
      "Fitting 5 folds for each of 1 candidates, totalling 5 fits\n"
     ]
    },
    {
     "name": "stderr",
     "output_type": "stream",
     "text": [
      "[Parallel(n_jobs=-1)]: Using backend LokyBackend with 8 concurrent workers.\n",
      "[Parallel(n_jobs=-1)]: Done   2 out of   5 | elapsed:   58.5s remaining:  1.5min\n",
      "[Parallel(n_jobs=-1)]: Done   5 out of   5 | elapsed:   58.9s finished\n"
     ]
    },
    {
     "name": "stdout",
     "output_type": "stream",
     "text": [
      "Wall time: 1min 33s\n",
      "GradientBoostingClassifier(max_depth=6, max_features='sqrt',\n",
      "                           min_samples_leaf=50, min_samples_split=500,\n",
      "                           n_estimators=600, random_state=42, subsample=0.8)\n",
      "------------------------------------------------------------\n",
      "accuracy:\n",
      "0.7749146288809514\n",
      "0.7190224381877948\n",
      "confusion matrices:\n",
      "[[39561 11393]\n",
      " [11545 39409]]\n",
      "[[9537 3202]\n",
      " [ 730  525]]\n",
      "------------------------------------------------------------\n",
      "AUC-ROC:\n",
      "0.7749146288809515\n",
      "0.583486291899675\n"
     ]
    }
   ],
   "source": [
    "GB_grid_params = [{\n",
    "#     'learning_rate': [0.8,0,9,1.0,1.1,1.2],\n",
    "    'n_estimators': [600], #range(100,800,100),\n",
    "    'max_depth': [6],\n",
    "    'subsample': [0.8], #np.linspace(0.6,0.9,10),\n",
    "    'max_features':['sqrt'],\n",
    "#     'criterion': ['mse','friedman_mse','mae'],\n",
    "    'min_samples_leaf': [50], #range(50,80,5),\n",
    "    'min_samples_split': [500], #[400,500,600,700,800],\n",
    "    'random_state':[42]\n",
    "}]\n",
    "grid_search_GB = GridSearchCV(GB, GB_grid_params, scoring='roc_auc', cv=5, verbose = 1, n_jobs=-1)\n",
    "%time grid_search_GB.fit(X_train_43, y_train)\n",
    "\n",
    "print(grid_search_GB.best_estimator_)\n",
    "print('--'*30)\n",
    "y_train_pred = grid_search_GB.best_estimator_.predict(X_train_43)\n",
    "y_test_pred = grid_search_GB.best_estimator_.predict(X_test_43)\n",
    "print('accuracy:')\n",
    "print(grid_search_GB.best_estimator_.score(X_train_43, y_train))\n",
    "print(grid_search_GB.best_estimator_.score(X_test_43, y_test))\n",
    "print('confusion matrices:')\n",
    "print(confusion_matrix(y_train, y_train_pred))\n",
    "print(confusion_matrix(y_test, y_test_pred))\n",
    "print('--'*30)\n",
    "print('AUC-ROC:')\n",
    "print(roc_auc_score(y_train, y_train_pred))\n",
    "print(roc_auc_score(y_test, y_test_pred))"
   ]
  },
  {
   "cell_type": "code",
   "execution_count": 45,
   "metadata": {},
   "outputs": [
    {
     "data": {
      "text/html": [
       "<div>\n",
       "<style scoped>\n",
       "    .dataframe tbody tr th:only-of-type {\n",
       "        vertical-align: middle;\n",
       "    }\n",
       "\n",
       "    .dataframe tbody tr th {\n",
       "        vertical-align: top;\n",
       "    }\n",
       "\n",
       "    .dataframe thead th {\n",
       "        text-align: right;\n",
       "    }\n",
       "</style>\n",
       "<table border=\"1\" class=\"dataframe\">\n",
       "  <thead>\n",
       "    <tr style=\"text-align: right;\">\n",
       "      <th></th>\n",
       "      <th>feature</th>\n",
       "      <th>importance</th>\n",
       "    </tr>\n",
       "  </thead>\n",
       "  <tbody>\n",
       "    <tr>\n",
       "      <th>7</th>\n",
       "      <td>num_lab_procedures</td>\n",
       "      <td>0.125331</td>\n",
       "    </tr>\n",
       "    <tr>\n",
       "      <th>6</th>\n",
       "      <td>num_medications</td>\n",
       "      <td>0.105178</td>\n",
       "    </tr>\n",
       "    <tr>\n",
       "      <th>2</th>\n",
       "      <td>time_in_hospital</td>\n",
       "      <td>0.071680</td>\n",
       "    </tr>\n",
       "    <tr>\n",
       "      <th>0</th>\n",
       "      <td>number_inpatient</td>\n",
       "      <td>0.062906</td>\n",
       "    </tr>\n",
       "    <tr>\n",
       "      <th>4</th>\n",
       "      <td>age_num</td>\n",
       "      <td>0.061850</td>\n",
       "    </tr>\n",
       "    <tr>\n",
       "      <th>5</th>\n",
       "      <td>number_diagnoses</td>\n",
       "      <td>0.054292</td>\n",
       "    </tr>\n",
       "    <tr>\n",
       "      <th>17</th>\n",
       "      <td>num_procedures</td>\n",
       "      <td>0.044664</td>\n",
       "    </tr>\n",
       "    <tr>\n",
       "      <th>1</th>\n",
       "      <td>discharge_disposition_id_22</td>\n",
       "      <td>0.038652</td>\n",
       "    </tr>\n",
       "    <tr>\n",
       "      <th>21</th>\n",
       "      <td>number_outpatient</td>\n",
       "      <td>0.031803</td>\n",
       "    </tr>\n",
       "    <tr>\n",
       "      <th>3</th>\n",
       "      <td>discharge_disposition_id_3</td>\n",
       "      <td>0.030096</td>\n",
       "    </tr>\n",
       "    <tr>\n",
       "      <th>9</th>\n",
       "      <td>number_emergency</td>\n",
       "      <td>0.022027</td>\n",
       "    </tr>\n",
       "    <tr>\n",
       "      <th>28</th>\n",
       "      <td>admission_source_id_7</td>\n",
       "      <td>0.017317</td>\n",
       "    </tr>\n",
       "    <tr>\n",
       "      <th>13</th>\n",
       "      <td>428_diag</td>\n",
       "      <td>0.016890</td>\n",
       "    </tr>\n",
       "    <tr>\n",
       "      <th>8</th>\n",
       "      <td>discharge_disposition_id_5</td>\n",
       "      <td>0.016568</td>\n",
       "    </tr>\n",
       "    <tr>\n",
       "      <th>32</th>\n",
       "      <td>race_Caucasian</td>\n",
       "      <td>0.016274</td>\n",
       "    </tr>\n",
       "  </tbody>\n",
       "</table>\n",
       "</div>"
      ],
      "text/plain": [
       "                        feature  importance\n",
       "7            num_lab_procedures    0.125331\n",
       "6               num_medications    0.105178\n",
       "2              time_in_hospital    0.071680\n",
       "0              number_inpatient    0.062906\n",
       "4                       age_num    0.061850\n",
       "5              number_diagnoses    0.054292\n",
       "17               num_procedures    0.044664\n",
       "1   discharge_disposition_id_22    0.038652\n",
       "21            number_outpatient    0.031803\n",
       "3    discharge_disposition_id_3    0.030096\n",
       "9              number_emergency    0.022027\n",
       "28        admission_source_id_7    0.017317\n",
       "13                     428_diag    0.016890\n",
       "8    discharge_disposition_id_5    0.016568\n",
       "32               race_Caucasian    0.016274"
      ]
     },
     "execution_count": 45,
     "metadata": {},
     "output_type": "execute_result"
    }
   ],
   "source": [
    "GB_coefs = pd.DataFrame({'feature':X_train_43.columns,\n",
    "                      'importance':grid_search_GB.best_estimator_.feature_importances_})\n",
    "GB_coefs.sort_values('importance', ascending = False).head(15)"
   ]
  },
  {
   "cell_type": "code",
   "execution_count": null,
   "metadata": {},
   "outputs": [],
   "source": []
  }
 ],
 "metadata": {
  "kernelspec": {
   "display_name": "Python 3",
   "language": "python",
   "name": "python3"
  },
  "language_info": {
   "codemirror_mode": {
    "name": "ipython",
    "version": 3
   },
   "file_extension": ".py",
   "mimetype": "text/x-python",
   "name": "python",
   "nbconvert_exporter": "python",
   "pygments_lexer": "ipython3",
   "version": "3.7.6"
  }
 },
 "nbformat": 4,
 "nbformat_minor": 4
}
